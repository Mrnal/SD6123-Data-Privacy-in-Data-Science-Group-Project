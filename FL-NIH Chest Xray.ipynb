{
  "nbformat": 4,
  "nbformat_minor": 0,
  "metadata": {
    "colab": {
      "provenance": [],
      "gpuType": "T4",
      "collapsed_sections": [
        "ny5N25GK5ugS",
        "Q9wQvw8kKuMS",
        "iDs3b9gE2hIM",
        "xgHp94xmKwoX",
        "_XsOGrUHGF2D",
        "jR8fxEdFnaKb"
      ]
    },
    "kernelspec": {
      "name": "python3",
      "display_name": "Python 3"
    },
    "language_info": {
      "name": "python"
    },
    "accelerator": "GPU"
  },
  "cells": [
    {
      "cell_type": "markdown",
      "source": [
        "# Privacy sensitive dataset - Description\n",
        "NIH Chest X-ray Sample dataset with ~5000 images randomly sampled from the main dataset.\n",
        "\n",
        "Link to dataset :\n",
        "https://www.kaggle.com/datasets/nih-chest-xrays/sample"
      ],
      "metadata": {
        "id": "GauA6AW2qus6"
      }
    },
    {
      "cell_type": "markdown",
      "source": [
        "## Imports"
      ],
      "metadata": {
        "id": "9YQUJO_-xMAE"
      }
    },
    {
      "cell_type": "code",
      "source": [
        "!pip install -q 'flwr[simulation]' 'flwr-datasets[vision]'"
      ],
      "metadata": {
        "id": "MHQZRgl4vp8h"
      },
      "execution_count": 1,
      "outputs": []
    },
    {
      "cell_type": "code",
      "source": [
        "#Importing the required libraries\n",
        "import os\n",
        "import pandas as pd\n",
        "import numpy as np\n",
        "import seaborn as sns\n",
        "import zipfile\n",
        "from collections import OrderedDict\n",
        "from typing import List, Tuple\n",
        "import matplotlib.pyplot as plt\n",
        "from sklearn.preprocessing import StandardScaler, LabelEncoder\n",
        "import torch\n",
        "import torch.nn as nn\n",
        "import torch.nn.functional as F\n",
        "import torchvision.transforms as transforms\n",
        "from datasets.utils.logging import disable_progress_bar\n",
        "from torch.utils.data import DataLoader\n",
        "import flwr\n",
        "from flwr.client import Client, ClientApp, NumPyClient\n",
        "from flwr.common import Metrics, Context\n",
        "from flwr.server import ServerApp, ServerConfig, ServerAppComponents\n",
        "from flwr.server.strategy import FedAvg, FedProx, FedAdam\n",
        "from flwr.simulation import run_simulation, start_simulation\n",
        "from flwr.server.strategy import DifferentialPrivacyClientSideFixedClipping\n",
        "from flwr.client.mod import fixedclipping_mod\n",
        "\n",
        "import time\n",
        "from sklearn.metrics import precision_score, recall_score, f1_score\n",
        "import copy\n",
        "from flwr.common import ndarray_to_bytes, bytes_to_ndarray, Parameters\n",
        "\n",
        "DEVICE = \"cuda\" if torch.cuda.is_available() else \"cpu\"\n",
        "print(f\"Training on {DEVICE}\")\n",
        "print(f\"Flower {flwr.__version__} / PyTorch {torch.__version__}\")\n",
        "disable_progress_bar()"
      ],
      "metadata": {
        "id": "u1TBDG9IDAMQ",
        "colab": {
          "base_uri": "https://localhost:8080/"
        },
        "outputId": "e87fc963-49db-4cbe-e9e2-66c98ed26421"
      },
      "execution_count": 1,
      "outputs": [
        {
          "output_type": "stream",
          "name": "stdout",
          "text": [
            "Training on cuda\n",
            "Flower 1.18.0 / PyTorch 2.6.0+cu124\n"
          ]
        }
      ]
    },
    {
      "cell_type": "code",
      "source": [
        "!pip install -q opacus"
      ],
      "metadata": {
        "id": "8WjcsxFg0i2B",
        "colab": {
          "base_uri": "https://localhost:8080/"
        },
        "outputId": "27df2d51-e4ab-40f6-99da-094cab793a6c"
      },
      "execution_count": 3,
      "outputs": [
        {
          "output_type": "stream",
          "name": "stdout",
          "text": [
            "\u001b[31mERROR: pip's dependency resolver does not currently take into account all the packages that are installed. This behaviour is the source of the following dependency conflicts.\n",
            "thinc 8.3.6 requires numpy<3.0.0,>=2.0.0, but you have numpy 1.26.4 which is incompatible.\n",
            "ydf 0.11.0 requires protobuf<6.0.0,>=5.29.1, but you have protobuf 4.25.7 which is incompatible.\u001b[0m\u001b[31m\n",
            "\u001b[0m"
          ]
        }
      ]
    },
    {
      "cell_type": "markdown",
      "source": [
        "Due to the large size of the dataset, the API key from https://www.kaggle.com/datasets/nih-chest-xrays/sample is downloaded and uploaded to Google Colab"
      ],
      "metadata": {
        "id": "8MMytUClrQ8y"
      }
    },
    {
      "cell_type": "code",
      "source": [
        "from google.colab import files\n",
        "files.upload()"
      ],
      "metadata": {
        "id": "NfXKRZ0wwrDN",
        "colab": {
          "base_uri": "https://localhost:8080/",
          "height": 90
        },
        "outputId": "d7404ba9-110e-4ea8-9020-d315aa26e538"
      },
      "execution_count": 2,
      "outputs": [
        {
          "output_type": "display_data",
          "data": {
            "text/plain": [
              "<IPython.core.display.HTML object>"
            ],
            "text/html": [
              "\n",
              "     <input type=\"file\" id=\"files-fa1fd949-80e1-4235-a405-5455026e7898\" name=\"files[]\" multiple disabled\n",
              "        style=\"border:none\" />\n",
              "     <output id=\"result-fa1fd949-80e1-4235-a405-5455026e7898\">\n",
              "      Upload widget is only available when the cell has been executed in the\n",
              "      current browser session. Please rerun this cell to enable.\n",
              "      </output>\n",
              "      <script>// Copyright 2017 Google LLC\n",
              "//\n",
              "// Licensed under the Apache License, Version 2.0 (the \"License\");\n",
              "// you may not use this file except in compliance with the License.\n",
              "// You may obtain a copy of the License at\n",
              "//\n",
              "//      http://www.apache.org/licenses/LICENSE-2.0\n",
              "//\n",
              "// Unless required by applicable law or agreed to in writing, software\n",
              "// distributed under the License is distributed on an \"AS IS\" BASIS,\n",
              "// WITHOUT WARRANTIES OR CONDITIONS OF ANY KIND, either express or implied.\n",
              "// See the License for the specific language governing permissions and\n",
              "// limitations under the License.\n",
              "\n",
              "/**\n",
              " * @fileoverview Helpers for google.colab Python module.\n",
              " */\n",
              "(function(scope) {\n",
              "function span(text, styleAttributes = {}) {\n",
              "  const element = document.createElement('span');\n",
              "  element.textContent = text;\n",
              "  for (const key of Object.keys(styleAttributes)) {\n",
              "    element.style[key] = styleAttributes[key];\n",
              "  }\n",
              "  return element;\n",
              "}\n",
              "\n",
              "// Max number of bytes which will be uploaded at a time.\n",
              "const MAX_PAYLOAD_SIZE = 100 * 1024;\n",
              "\n",
              "function _uploadFiles(inputId, outputId) {\n",
              "  const steps = uploadFilesStep(inputId, outputId);\n",
              "  const outputElement = document.getElementById(outputId);\n",
              "  // Cache steps on the outputElement to make it available for the next call\n",
              "  // to uploadFilesContinue from Python.\n",
              "  outputElement.steps = steps;\n",
              "\n",
              "  return _uploadFilesContinue(outputId);\n",
              "}\n",
              "\n",
              "// This is roughly an async generator (not supported in the browser yet),\n",
              "// where there are multiple asynchronous steps and the Python side is going\n",
              "// to poll for completion of each step.\n",
              "// This uses a Promise to block the python side on completion of each step,\n",
              "// then passes the result of the previous step as the input to the next step.\n",
              "function _uploadFilesContinue(outputId) {\n",
              "  const outputElement = document.getElementById(outputId);\n",
              "  const steps = outputElement.steps;\n",
              "\n",
              "  const next = steps.next(outputElement.lastPromiseValue);\n",
              "  return Promise.resolve(next.value.promise).then((value) => {\n",
              "    // Cache the last promise value to make it available to the next\n",
              "    // step of the generator.\n",
              "    outputElement.lastPromiseValue = value;\n",
              "    return next.value.response;\n",
              "  });\n",
              "}\n",
              "\n",
              "/**\n",
              " * Generator function which is called between each async step of the upload\n",
              " * process.\n",
              " * @param {string} inputId Element ID of the input file picker element.\n",
              " * @param {string} outputId Element ID of the output display.\n",
              " * @return {!Iterable<!Object>} Iterable of next steps.\n",
              " */\n",
              "function* uploadFilesStep(inputId, outputId) {\n",
              "  const inputElement = document.getElementById(inputId);\n",
              "  inputElement.disabled = false;\n",
              "\n",
              "  const outputElement = document.getElementById(outputId);\n",
              "  outputElement.innerHTML = '';\n",
              "\n",
              "  const pickedPromise = new Promise((resolve) => {\n",
              "    inputElement.addEventListener('change', (e) => {\n",
              "      resolve(e.target.files);\n",
              "    });\n",
              "  });\n",
              "\n",
              "  const cancel = document.createElement('button');\n",
              "  inputElement.parentElement.appendChild(cancel);\n",
              "  cancel.textContent = 'Cancel upload';\n",
              "  const cancelPromise = new Promise((resolve) => {\n",
              "    cancel.onclick = () => {\n",
              "      resolve(null);\n",
              "    };\n",
              "  });\n",
              "\n",
              "  // Wait for the user to pick the files.\n",
              "  const files = yield {\n",
              "    promise: Promise.race([pickedPromise, cancelPromise]),\n",
              "    response: {\n",
              "      action: 'starting',\n",
              "    }\n",
              "  };\n",
              "\n",
              "  cancel.remove();\n",
              "\n",
              "  // Disable the input element since further picks are not allowed.\n",
              "  inputElement.disabled = true;\n",
              "\n",
              "  if (!files) {\n",
              "    return {\n",
              "      response: {\n",
              "        action: 'complete',\n",
              "      }\n",
              "    };\n",
              "  }\n",
              "\n",
              "  for (const file of files) {\n",
              "    const li = document.createElement('li');\n",
              "    li.append(span(file.name, {fontWeight: 'bold'}));\n",
              "    li.append(span(\n",
              "        `(${file.type || 'n/a'}) - ${file.size} bytes, ` +\n",
              "        `last modified: ${\n",
              "            file.lastModifiedDate ? file.lastModifiedDate.toLocaleDateString() :\n",
              "                                    'n/a'} - `));\n",
              "    const percent = span('0% done');\n",
              "    li.appendChild(percent);\n",
              "\n",
              "    outputElement.appendChild(li);\n",
              "\n",
              "    const fileDataPromise = new Promise((resolve) => {\n",
              "      const reader = new FileReader();\n",
              "      reader.onload = (e) => {\n",
              "        resolve(e.target.result);\n",
              "      };\n",
              "      reader.readAsArrayBuffer(file);\n",
              "    });\n",
              "    // Wait for the data to be ready.\n",
              "    let fileData = yield {\n",
              "      promise: fileDataPromise,\n",
              "      response: {\n",
              "        action: 'continue',\n",
              "      }\n",
              "    };\n",
              "\n",
              "    // Use a chunked sending to avoid message size limits. See b/62115660.\n",
              "    let position = 0;\n",
              "    do {\n",
              "      const length = Math.min(fileData.byteLength - position, MAX_PAYLOAD_SIZE);\n",
              "      const chunk = new Uint8Array(fileData, position, length);\n",
              "      position += length;\n",
              "\n",
              "      const base64 = btoa(String.fromCharCode.apply(null, chunk));\n",
              "      yield {\n",
              "        response: {\n",
              "          action: 'append',\n",
              "          file: file.name,\n",
              "          data: base64,\n",
              "        },\n",
              "      };\n",
              "\n",
              "      let percentDone = fileData.byteLength === 0 ?\n",
              "          100 :\n",
              "          Math.round((position / fileData.byteLength) * 100);\n",
              "      percent.textContent = `${percentDone}% done`;\n",
              "\n",
              "    } while (position < fileData.byteLength);\n",
              "  }\n",
              "\n",
              "  // All done.\n",
              "  yield {\n",
              "    response: {\n",
              "      action: 'complete',\n",
              "    }\n",
              "  };\n",
              "}\n",
              "\n",
              "scope.google = scope.google || {};\n",
              "scope.google.colab = scope.google.colab || {};\n",
              "scope.google.colab._files = {\n",
              "  _uploadFiles,\n",
              "  _uploadFilesContinue,\n",
              "};\n",
              "})(self);\n",
              "</script> "
            ]
          },
          "metadata": {}
        },
        {
          "output_type": "stream",
          "name": "stdout",
          "text": [
            "Saving kaggle.json to kaggle (3).json\n"
          ]
        },
        {
          "output_type": "execute_result",
          "data": {
            "text/plain": [
              "{'kaggle (3).json': b'{\"username\":\"mrnalikamohanraja\",\"key\":\"5acf814f1036c9fbde03f088f279f820\"}'}"
            ]
          },
          "metadata": {},
          "execution_count": 2
        }
      ]
    },
    {
      "cell_type": "code",
      "source": [
        "!mkdir -p ~/.kaggle\n",
        "!cp kaggle.json ~/.kaggle/\n",
        "!chmod 600 ~/.kaggle/kaggle.json"
      ],
      "metadata": {
        "id": "pjT7PdaDwrfT"
      },
      "execution_count": 3,
      "outputs": []
    },
    {
      "cell_type": "code",
      "source": [
        "!kaggle datasets download -d nih-chest-xrays/sample"
      ],
      "metadata": {
        "colab": {
          "base_uri": "https://localhost:8080/"
        },
        "id": "isT9f03lwrdD",
        "outputId": "9161f209-06bf-42e0-db85-c4232adabc5c"
      },
      "execution_count": 6,
      "outputs": [
        {
          "output_type": "stream",
          "name": "stdout",
          "text": [
            "Dataset URL: https://www.kaggle.com/datasets/nih-chest-xrays/sample\n",
            "License(s): CC0-1.0\n",
            "User cancelled operation\n"
          ]
        }
      ]
    },
    {
      "cell_type": "code",
      "source": [
        "with zipfile.ZipFile(\"sample.zip\", 'r') as zip_ref:\n",
        "    zip_ref.extractall(\"nih_chest_xray_sample\")"
      ],
      "metadata": {
        "id": "49_VlM9fwu-j"
      },
      "execution_count": 4,
      "outputs": []
    },
    {
      "cell_type": "code",
      "source": [
        "# List some files\n",
        "os.listdir(\"nih_chest_xray_sample\")"
      ],
      "metadata": {
        "id": "NIfKLHLNxA_E",
        "colab": {
          "base_uri": "https://localhost:8080/"
        },
        "outputId": "d563ac68-9185-4a4c-dc58-a629bdbcae72"
      },
      "execution_count": 5,
      "outputs": [
        {
          "output_type": "execute_result",
          "data": {
            "text/plain": [
              "['sample_labels.csv', 'sample']"
            ]
          },
          "metadata": {},
          "execution_count": 5
        }
      ]
    },
    {
      "cell_type": "code",
      "source": [
        "os.listdir('nih_chest_xray_sample/sample')\n"
      ],
      "metadata": {
        "id": "TVdNh0q_xA9M",
        "colab": {
          "base_uri": "https://localhost:8080/"
        },
        "outputId": "07112d8b-4e49-4e75-9fbc-ecdb8c73874c"
      },
      "execution_count": 7,
      "outputs": [
        {
          "output_type": "execute_result",
          "data": {
            "text/plain": [
              "['sample_labels.csv', 'sample', 'images']"
            ]
          },
          "metadata": {},
          "execution_count": 7
        }
      ]
    },
    {
      "cell_type": "markdown",
      "source": [
        "## Data Loading and Preprocessing"
      ],
      "metadata": {
        "id": "9QILX8m0JvKo"
      }
    },
    {
      "cell_type": "code",
      "source": [
        "# Set base directory in Colab\n",
        "BASE_DIR = 'nih_chest_xray_sample'\n",
        "\n",
        "# Load the CSV file\n",
        "csv_path = os.path.join(BASE_DIR, 'sample_labels.csv')\n",
        "df = pd.read_csv(csv_path)\n",
        "\n",
        "print(df.shape)\n",
        "df.info()"
      ],
      "metadata": {
        "colab": {
          "base_uri": "https://localhost:8080/"
        },
        "id": "7uIezHNnxA4T",
        "outputId": "420c9f69-ae2e-4235-c987-69d19731a96e"
      },
      "execution_count": 8,
      "outputs": [
        {
          "output_type": "stream",
          "name": "stdout",
          "text": [
            "(5606, 11)\n",
            "<class 'pandas.core.frame.DataFrame'>\n",
            "RangeIndex: 5606 entries, 0 to 5605\n",
            "Data columns (total 11 columns):\n",
            " #   Column                       Non-Null Count  Dtype  \n",
            "---  ------                       --------------  -----  \n",
            " 0   Image Index                  5606 non-null   object \n",
            " 1   Finding Labels               5606 non-null   object \n",
            " 2   Follow-up #                  5606 non-null   int64  \n",
            " 3   Patient ID                   5606 non-null   int64  \n",
            " 4   Patient Age                  5606 non-null   object \n",
            " 5   Patient Gender               5606 non-null   object \n",
            " 6   View Position                5606 non-null   object \n",
            " 7   OriginalImageWidth           5606 non-null   int64  \n",
            " 8   OriginalImageHeight          5606 non-null   int64  \n",
            " 9   OriginalImagePixelSpacing_x  5606 non-null   float64\n",
            " 10  OriginalImagePixelSpacing_y  5606 non-null   float64\n",
            "dtypes: float64(2), int64(4), object(5)\n",
            "memory usage: 481.9+ KB\n"
          ]
        }
      ]
    },
    {
      "cell_type": "code",
      "source": [
        "# Add full file path to each image\n",
        "df['file_path'] = df['Image Index'].apply(lambda x: os.path.join('nih_chest_xray_sample/sample/images', x))"
      ],
      "metadata": {
        "id": "mzQlYElJsef7"
      },
      "execution_count": 9,
      "outputs": []
    },
    {
      "cell_type": "code",
      "source": [
        "#Converting the categorical columns to numerical to analyse the correlation\n",
        "\n",
        "# Function to process 'Patient Age'\n",
        "def process_age(age):\n",
        "    numeric_age = ''.join(filter(str.isdigit, age))\n",
        "    if 'M' in age:\n",
        "        return int(numeric_age) / 12  # Convert months to years\n",
        "    elif 'D' in age:\n",
        "        return int(numeric_age) / 365  # Convert days to years\n",
        "    return int(numeric_age)\n",
        "\n",
        "df['Patient Age'] = df['Patient Age'].apply(process_age)\n",
        "df['Patient Age'] = df['Patient Age'].astype(int)"
      ],
      "metadata": {
        "id": "XS9_46e7tKNA"
      },
      "execution_count": 10,
      "outputs": []
    },
    {
      "cell_type": "code",
      "source": [
        "df['Patient Age'] = pd.to_numeric(df['Patient Age'], errors='coerce')\n",
        "df['Patient Gender'] = df['Patient Gender'].map({'M': 1, 'F': 0})\n",
        "df['View Position'] = LabelEncoder().fit_transform(df['View Position'])"
      ],
      "metadata": {
        "id": "NufARXZzttTq"
      },
      "execution_count": 11,
      "outputs": []
    },
    {
      "cell_type": "code",
      "source": [
        "pathology_list = ['Cardiomegaly','Emphysema','Effusion','Hernia','Nodule','Pneumothorax','Atelectasis','Pleural_Thickening','Mass','Edema','Consolidation','Infiltration','Fibrosis','Pneumonia']\n",
        "\n",
        "for pathology in pathology_list :\n",
        "    df[pathology] = df['Finding Labels'].apply(lambda x: 1 if pathology in x else 0)\n",
        "\n",
        "df['No Findings'] = df['Finding Labels'].apply(lambda x: 1 if 'No Finding' in x else 0)"
      ],
      "metadata": {
        "id": "V8L8eqj3utFi"
      },
      "execution_count": 12,
      "outputs": []
    },
    {
      "cell_type": "code",
      "source": [
        "df.info()"
      ],
      "metadata": {
        "colab": {
          "base_uri": "https://localhost:8080/"
        },
        "id": "rYObXrqKtggR",
        "outputId": "c16041ee-1618-4673-cefc-c90f551ce699"
      },
      "execution_count": 13,
      "outputs": [
        {
          "output_type": "stream",
          "name": "stdout",
          "text": [
            "<class 'pandas.core.frame.DataFrame'>\n",
            "RangeIndex: 5606 entries, 0 to 5605\n",
            "Data columns (total 27 columns):\n",
            " #   Column                       Non-Null Count  Dtype  \n",
            "---  ------                       --------------  -----  \n",
            " 0   Image Index                  5606 non-null   object \n",
            " 1   Finding Labels               5606 non-null   object \n",
            " 2   Follow-up #                  5606 non-null   int64  \n",
            " 3   Patient ID                   5606 non-null   int64  \n",
            " 4   Patient Age                  5606 non-null   int64  \n",
            " 5   Patient Gender               5606 non-null   int64  \n",
            " 6   View Position                5606 non-null   int64  \n",
            " 7   OriginalImageWidth           5606 non-null   int64  \n",
            " 8   OriginalImageHeight          5606 non-null   int64  \n",
            " 9   OriginalImagePixelSpacing_x  5606 non-null   float64\n",
            " 10  OriginalImagePixelSpacing_y  5606 non-null   float64\n",
            " 11  file_path                    5606 non-null   object \n",
            " 12  Cardiomegaly                 5606 non-null   int64  \n",
            " 13  Emphysema                    5606 non-null   int64  \n",
            " 14  Effusion                     5606 non-null   int64  \n",
            " 15  Hernia                       5606 non-null   int64  \n",
            " 16  Nodule                       5606 non-null   int64  \n",
            " 17  Pneumothorax                 5606 non-null   int64  \n",
            " 18  Atelectasis                  5606 non-null   int64  \n",
            " 19  Pleural_Thickening           5606 non-null   int64  \n",
            " 20  Mass                         5606 non-null   int64  \n",
            " 21  Edema                        5606 non-null   int64  \n",
            " 22  Consolidation                5606 non-null   int64  \n",
            " 23  Infiltration                 5606 non-null   int64  \n",
            " 24  Fibrosis                     5606 non-null   int64  \n",
            " 25  Pneumonia                    5606 non-null   int64  \n",
            " 26  No Findings                  5606 non-null   int64  \n",
            "dtypes: float64(2), int64(22), object(3)\n",
            "memory usage: 1.2+ MB\n"
          ]
        }
      ]
    },
    {
      "cell_type": "code",
      "source": [
        "dataframe = df[['Follow-up #','Patient ID', 'Patient Age', 'Patient Gender','View Position','OriginalImageWidth', 'OriginalImageHeight','OriginalImagePixelSpacing_x','OriginalImagePixelSpacing_y','No Findings']]\n",
        "corr_matrix = dataframe.corr()\n",
        "plt.figure(figsize=(10, 8))\n",
        "sns.heatmap(corr_matrix, annot=True, cmap='coolwarm', fmt=\".2f\")\n",
        "plt.title(\"Correlation Matrix\")\n",
        "plt.tight_layout()\n",
        "plt.show()"
      ],
      "metadata": {
        "colab": {
          "base_uri": "https://localhost:8080/",
          "height": 807
        },
        "id": "Wea3Z0-QuH8S",
        "outputId": "af87d37a-a6dc-43c3-bb4e-900e512491a6"
      },
      "execution_count": 16,
      "outputs": [
        {
          "output_type": "display_data",
          "data": {
            "text/plain": [
              "<Figure size 1000x800 with 2 Axes>"
            ],
            "image/png": "[encoded data removed]"
          },
          "metadata": {}
        }
      ]
    },
    {
      "cell_type": "markdown",
      "source": [
        "Can be seen that the 'No Findings' column does not have much dependency on the other columns"
      ],
      "metadata": {
        "id": "miS7yhF7v7Hk"
      }
    },
    {
      "cell_type": "markdown",
      "source": [
        "### Splitting data into Train and Test sets"
      ],
      "metadata": {
        "id": "UMt6LEL8J97q"
      }
    },
    {
      "cell_type": "code",
      "source": [
        "from random import shuffle\n",
        "\n",
        "path = \"/content/nih_chest_xray_sample/sample/sample/images\"\n",
        "\n",
        "train_df = df.iloc[:int(len(df) * 0.8)]\n",
        "test_df = df.iloc[int(len(df) * 0.8):]\n",
        "\n",
        "test_df.reset_index(inplace=True)\n",
        "test_df.drop(columns=[\"index\"], inplace=True)\n",
        "\n",
        "train_paths = train_df[\"file_path\"].tolist()\n",
        "test_paths = test_df[\"file_path\"].tolist()\n",
        "\n",
        "print(\"Train Paths: \", len(train_paths))\n",
        "print(\"Test Paths: \", len(test_paths))"
      ],
      "metadata": {
        "colab": {
          "base_uri": "https://localhost:8080/"
        },
        "id": "WtBaVqmLymv9",
        "outputId": "fe2af398-42d5-49c8-8e97-c247daa25bbe"
      },
      "execution_count": 14,
      "outputs": [
        {
          "output_type": "stream",
          "name": "stdout",
          "text": [
            "Train Paths:  4484\n",
            "Test Paths:  1122\n"
          ]
        },
        {
          "output_type": "stream",
          "name": "stderr",
          "text": [
            "<ipython-input-14-75796174286e>:9: SettingWithCopyWarning: \n",
            "A value is trying to be set on a copy of a slice from a DataFrame\n",
            "\n",
            "See the caveats in the documentation: https://pandas.pydata.org/pandas-docs/stable/user_guide/indexing.html#returning-a-view-versus-a-copy\n",
            "  test_df.drop(columns=[\"index\"], inplace=True)\n"
          ]
        }
      ]
    },
    {
      "cell_type": "code",
      "source": [
        "import shutil\n",
        "\n",
        "destination_dir1 = \"./nih_images/train/\"\n",
        "destination_dir2 = \"./nih_images/test/\"\n",
        "\n",
        "for train_path in train_paths:\n",
        "  try:\n",
        "      # Ensure the destination directory exists\n",
        "      os.makedirs(destination_dir1, exist_ok=True)\n",
        "\n",
        "      # Copy the file\n",
        "      shutil.copy(train_path, destination_dir1)\n",
        "  except FileNotFoundError:\n",
        "        print(f\"Error: Source file not found: {train_path}\")\n",
        "  except Exception as e:\n",
        "      print(f\"An error occurred: {e}\")\n",
        "print(f\"Image copied successfully to {destination_dir1}\")\n",
        "\n",
        "for test_path in test_paths:\n",
        "  try:\n",
        "      # Ensure the destination directory exists\n",
        "      os.makedirs(destination_dir2, exist_ok=True)\n",
        "\n",
        "      # Copy the file\n",
        "      shutil.copy(test_path, destination_dir2)\n",
        "  except FileNotFoundError:\n",
        "        print(f\"Error: Source file not found: {test_path}\")\n",
        "  except Exception as e:\n",
        "      print(f\"An error occurred: {e}\")\n",
        "print(f\"Image copied successfully to {destination_dir2}\")"
      ],
      "metadata": {
        "colab": {
          "base_uri": "https://localhost:8080/"
        },
        "id": "eZNHtrHA4Mbm",
        "outputId": "18307d6b-9a85-4aff-c3e7-6b54673abcd1"
      },
      "execution_count": 15,
      "outputs": [
        {
          "output_type": "stream",
          "name": "stdout",
          "text": [
            "Image copied successfully to ./nih_images/train/\n",
            "Image copied successfully to ./nih_images/test/\n"
          ]
        }
      ]
    },
    {
      "cell_type": "code",
      "source": [
        "from torch.utils.data import Dataset, DataLoader, random_split\n",
        "from PIL import Image\n",
        "\n",
        "import numpy as np\n",
        "\n",
        "class CXRDataset(Dataset):\n",
        "    def __init__(self, data, img_dir, transform=None):\n",
        "        self.data = data\n",
        "        self.img_dir = img_dir\n",
        "        self.transform = transform\n",
        "\n",
        "    def __len__(self):\n",
        "        return len(self.data)\n",
        "\n",
        "    def __getitem__(self, idx):\n",
        "        img_file = self.img_dir + self.data.iloc[:,0][idx]\n",
        "        img = Image.open(img_file).convert('RGB')\n",
        "        label = np.array(self.data.iloc[:,-1].iloc[idx])\n",
        "\n",
        "        if self.transform:\n",
        "            img = self.transform(img)\n",
        "\n",
        "        return img, label"
      ],
      "metadata": {
        "id": "h3qza0Wp6fDx"
      },
      "execution_count": 16,
      "outputs": []
    },
    {
      "cell_type": "markdown",
      "source": [
        "### Loading image data to the datasets"
      ],
      "metadata": {
        "id": "Dsa96YARJpwK"
      }
    },
    {
      "cell_type": "code",
      "source": [
        "from torchvision import datasets, transforms\n",
        "\n",
        "import torch\n",
        "\n",
        "BATCH_SIZE = 32\n",
        "NUM_CLIENTS = 5\n",
        "\n",
        "def load_datasets(partition_id):\n",
        "    transform = transforms.Compose([\n",
        "      transforms.Resize((224, 224)),\n",
        "      transforms.ToTensor(),\n",
        "      transforms.Normalize(mean=[0.485, 0.456, 0.406], std=[0.229, 0.224, 0.225])\n",
        "    ])\n",
        "\n",
        "    trainset = CXRDataset(train_df, \"./nih_images/train/\", transform=transform)\n",
        "    testset = CXRDataset(test_df, \"./nih_images/test/\", transform=transform)\n",
        "\n",
        "    partition_size = len(trainset) // NUM_CLIENTS\n",
        "    diff = len(trainset) - partition_size * NUM_CLIENTS\n",
        "\n",
        "    if diff  == 0:\n",
        "      lengths = [partition_size] * NUM_CLIENTS\n",
        "    else:\n",
        "      lengths = [partition_size] * (NUM_CLIENTS - 1)\n",
        "      lengths.append(partition_size + diff)\n",
        "\n",
        "    datasets = random_split(trainset, lengths, torch.Generator().manual_seed(42))\n",
        "\n",
        "    trainloader = []\n",
        "    valloader = []\n",
        "\n",
        "    for ds in datasets:\n",
        "      val_len = len(ds) // 10\n",
        "      train_len = len(ds) - val_len\n",
        "      lens = [train_len, val_len]\n",
        "\n",
        "      ds_train, ds_val =  random_split(ds, lens, torch.Generator().manual_seed(42))\n",
        "      trainloader.append(DataLoader(ds_train, batch_size=BATCH_SIZE, shuffle=True))\n",
        "      valloader.append(DataLoader(ds_val, batch_size=BATCH_SIZE))\n",
        "    testloader = DataLoader(testset, batch_size=BATCH_SIZE)\n",
        "\n",
        "    if partition_id == -1: # for whole dataset (no clients - centralized model)\n",
        "      trainloader = DataLoader(trainset, batch_size=BATCH_SIZE, shuffle=True)\n",
        "      testloader = DataLoader(testset, batch_size=BATCH_SIZE)\n",
        "\n",
        "      return trainloader, testloader\n",
        "\n",
        "    return trainloader[partition_id], valloader[partition_id], testloader"
      ],
      "metadata": {
        "id": "yoJhwm_7yBo6"
      },
      "execution_count": 17,
      "outputs": []
    },
    {
      "cell_type": "markdown",
      "source": [
        "## CNN Model"
      ],
      "metadata": {
        "id": "kckJwe3lKBZE"
      }
    },
    {
      "cell_type": "code",
      "source": [
        "import torch\n",
        "import torch.nn as nn\n",
        "import torch.nn.functional as F\n",
        "\n",
        "class NetNIH(nn.Module):\n",
        "    def __init__(self, num_classes=1):  # num_classes = 1 for binary\n",
        "        super(NetNIH, self).__init__()\n",
        "        self.conv1 = nn.Conv2d(3, 32, kernel_size=3, padding=1)\n",
        "        self.relu1 = nn.LeakyReLU(0.01)\n",
        "        self.pool1 = nn.MaxPool2d(kernel_size=2, stride=2)\n",
        "        self.conv2 = nn.Conv2d(32, 64, kernel_size=3, padding=1)\n",
        "        self.relu2 = nn.LeakyReLU(0.01)\n",
        "        self.pool2 = nn.MaxPool2d(kernel_size=2, stride=2)\n",
        "        self.conv3 = nn.Conv2d(64, 128, kernel_size=3, padding=1)\n",
        "        self.relu3 = nn.LeakyReLU(0.01)\n",
        "        self.pool3 = nn.MaxPool2d(kernel_size=2, stride=2)\n",
        "        self.conv4 = nn.Conv2d(128, 256, kernel_size=3, padding=1)\n",
        "        self.relu4 = nn.LeakyReLU(0.01)\n",
        "        self.pool4 = nn.MaxPool2d(kernel_size=2, stride=2)\n",
        "        # Calculate the flattened size based on the number of filters and the final feature map size\n",
        "        # For a 224x224 input, after 4 pooling layers (each reducing size by 2), the feature map size is 224/16 = 14 hence stop\n",
        "        self.fc1 = nn.Linear(256 * 14 * 14, 512)\n",
        "        self.relu5 = nn.LeakyReLU(0.01)\n",
        "        self.dropout1 = nn.Dropout(0.5)\n",
        "        self.fc2 = nn.Linear(512, 128)\n",
        "        self.relu6 = nn.LeakyReLU(0.01)\n",
        "        self.dropout2 = nn.Dropout(0.5)\n",
        "        self.fc_out = nn.Linear(128, num_classes)\n",
        "        self.sigmoid = nn.Sigmoid() if num_classes == 1 else nn.Identity()\n",
        "\n",
        "    def forward(self, x: torch.Tensor) -> torch.Tensor:\n",
        "        x = self.pool1(self.relu1(self.conv1(x)))\n",
        "        x = self.pool2(self.relu2(self.conv2(x)))\n",
        "        x = self.pool3(self.relu3(self.conv3(x)))\n",
        "        x = self.pool4(self.relu4(self.conv4(x)))\n",
        "        x = x.view(-1, 256 * 14 * 14)\n",
        "        x = self.dropout1(self.relu5(self.fc1(x)))\n",
        "        x = self.dropout2(self.relu6(self.fc2(x)))\n",
        "        x = self.fc_out(x)\n",
        "        x = self.sigmoid(x)\n",
        "        return x"
      ],
      "metadata": {
        "id": "PlFQz01u8Qxy"
      },
      "execution_count": 18,
      "outputs": []
    },
    {
      "cell_type": "code",
      "source": [
        "def get_gpu_memory_usage():\n",
        "    #Returns GPU memory usage in MB if CUDA is available, otherwise returns None\n",
        "    if torch.cuda.is_available():\n",
        "        allocated = torch.cuda.memory_allocated(0) / (1024 * 1024)\n",
        "        reserved = torch.cuda.memory_reserved(0) / (1024 * 1024)\n",
        "        return f\"Allocated: {allocated:.2f} MB, Reserved: {reserved:.2f} MB\"\n",
        "    return \"CUDA not available\""
      ],
      "metadata": {
        "id": "3JFpX6AI8mNB"
      },
      "execution_count": 19,
      "outputs": []
    },
    {
      "cell_type": "code",
      "execution_count": 20,
      "metadata": {
        "id": "NO59s5twscSx"
      },
      "outputs": [],
      "source": [
        "# Defining train and test functions\n",
        "def train(net, trainloader, epochs, strategy=None, global_params=None, config=None):\n",
        "    criterion = torch.nn.BCELoss()\n",
        "    optimizer = torch.optim.Adam(net.parameters(), lr=0.001)\n",
        "\n",
        "    net.train()\n",
        "    total_train_start_time = time.time()\n",
        "\n",
        "    for epoch in range(epochs):\n",
        "        epoch_start_time = time.time()\n",
        "        correct, total, epoch_loss = 0, 0, 0.0\n",
        "        all_labels = []\n",
        "        all_predictions = []\n",
        "\n",
        "        for images, labels in trainloader:\n",
        "            images, labels = images.to(DEVICE), labels.to(DEVICE).float().unsqueeze(1)\n",
        "            optimizer.zero_grad()\n",
        "            outputs = net(images)\n",
        "\n",
        "            loss = criterion(outputs, labels)\n",
        "            if strategy == \"fed_prox\":\n",
        "              proximal_term = 0.0\n",
        "              for local_weights, global_weights in zip(net.parameters(), global_params):\n",
        "                  proximal_term += (local_weights - global_weights).norm(2)\n",
        "              loss += (config[\"proximal_mu\"] / 2) * proximal_term\n",
        "\n",
        "            loss.backward()\n",
        "            optimizer.step()\n",
        "\n",
        "            epoch_loss += loss.item() * images.size(0)\n",
        "            total += labels.size(0)\n",
        "            predicted = (outputs.data > 0.45).float()\n",
        "            correct += (predicted == labels).sum().item()\n",
        "\n",
        "            all_labels.extend(labels.cpu().numpy().flatten().tolist())\n",
        "            all_predictions.extend(predicted.cpu().numpy().flatten().tolist())\n",
        "\n",
        "        epoch_loss /= len(trainloader.dataset)\n",
        "        epoch_acc = correct / total\n",
        "\n",
        "        # Calculate precision, recall, and F1-score\n",
        "        precision = precision_score(all_labels, all_predictions, zero_division=1)\n",
        "        recall = recall_score(all_labels, all_predictions)\n",
        "        f1 = f1_score(all_labels, all_predictions)\n",
        "\n",
        "        epoch_end_time = time.time()\n",
        "        epoch_time = epoch_end_time - epoch_start_time\n",
        "        print(f\"Epoch: {epoch+1}/{epochs}, train loss {epoch_loss:.4f}, accuracy {epoch_acc:.4f}, precision {precision:.4f}, recall {recall:.4f}, f1-score {f1:.4f}, epoch time: {epoch_time:.4f} s, GPU Memory: {get_gpu_memory_usage()}\")\n",
        "\n",
        "    total_train_end_time = time.time()\n",
        "    total_training_time = total_train_end_time - total_train_start_time\n",
        "    print(f\"Total Training Time: {total_training_time:.4f} seconds\")\n",
        "\n",
        "def test(net, valloader):\n",
        "    criterion = torch.nn.BCELoss()\n",
        "    correct, total, loss = 0, 0, 0.0\n",
        "    all_labels = []\n",
        "    all_predictions = []\n",
        "    net.eval()\n",
        "    with torch.no_grad():\n",
        "        for images, labels in valloader:\n",
        "            images, labels = images.to(DEVICE), labels.to(DEVICE).float().unsqueeze(1)\n",
        "            outputs = net(images)\n",
        "            loss += criterion(outputs, labels).item() * images.size(0)\n",
        "            predicted = (outputs.data > 0.5).float()\n",
        "            total += labels.size(0)\n",
        "            correct += (predicted == labels).sum().item()\n",
        "            all_labels.extend(labels.cpu().numpy().flatten().tolist())\n",
        "            all_predictions.extend(predicted.cpu().numpy().flatten().tolist())\n",
        "\n",
        "    accuracy = correct / total\n",
        "    precision = precision_score(all_labels, all_predictions,zero_division=1)\n",
        "    recall = recall_score(all_labels, all_predictions)\n",
        "    f1 = f1_score(all_labels, all_predictions)\n",
        "    return loss / len(valloader.dataset), accuracy, precision, recall, f1"
      ]
    },
    {
      "cell_type": "markdown",
      "source": [
        "# Centralized Learning Model"
      ],
      "metadata": {
        "id": "ny5N25GK5ugS"
      }
    },
    {
      "cell_type": "code",
      "source": [
        "trainloader, testloader = load_datasets(partition_id=-1)\n",
        "net = NetNIH().to(DEVICE)\n",
        "\n",
        "print(\"Using Device:\", DEVICE)\n",
        "\n",
        "train(net, trainloader, 10)"
      ],
      "metadata": {
        "id": "Wn2-ovSfgvDD",
        "colab": {
          "base_uri": "https://localhost:8080/"
        },
        "outputId": "6628f76e-f3e0-4cfa-bb17-8cc1f192b2d6"
      },
      "execution_count": null,
      "outputs": [
        {
          "output_type": "stream",
          "name": "stdout",
          "text": [
            "Using Device: cuda\n",
            "Epoch: 1/10, train loss 0.6816, accuracy 0.5698, precision 0.5669, recall 0.9146, f1-score 0.7000, epoch time: 122.0616 s, GPU Memory: Allocated: 417.63 MB, Reserved: 2132.00 MB\n",
            "Epoch: 2/10, train loss 0.6696, accuracy 0.5868, precision 0.5840, recall 0.8581, f1-score 0.6950, epoch time: 104.8816 s, GPU Memory: Allocated: 417.63 MB, Reserved: 2132.00 MB\n",
            "Epoch: 3/10, train loss 0.6600, accuracy 0.5986, precision 0.5950, recall 0.8402, f1-score 0.6967, epoch time: 104.0252 s, GPU Memory: Allocated: 417.63 MB, Reserved: 2132.00 MB\n",
            "Epoch: 4/10, train loss 0.6598, accuracy 0.5972, precision 0.5953, recall 0.8301, f1-score 0.6934, epoch time: 103.3503 s, GPU Memory: Allocated: 417.63 MB, Reserved: 2132.00 MB\n",
            "Epoch: 5/10, train loss 0.6604, accuracy 0.6030, precision 0.5960, recall 0.8577, f1-score 0.7033, epoch time: 115.8446 s, GPU Memory: Allocated: 417.63 MB, Reserved: 2132.00 MB\n",
            "Epoch: 6/10, train loss 0.6548, accuracy 0.6166, precision 0.6104, recall 0.8329, f1-score 0.7045, epoch time: 116.4678 s, GPU Memory: Allocated: 417.63 MB, Reserved: 2132.00 MB\n",
            "Epoch: 7/10, train loss 0.6532, accuracy 0.6204, precision 0.6134, recall 0.8333, f1-score 0.7067, epoch time: 129.4782 s, GPU Memory: Allocated: 417.63 MB, Reserved: 2132.00 MB\n",
            "Epoch: 8/10, train loss 0.6514, accuracy 0.6180, precision 0.6114, recall 0.8333, f1-score 0.7053, epoch time: 131.4352 s, GPU Memory: Allocated: 417.63 MB, Reserved: 2132.00 MB\n",
            "Epoch: 9/10, train loss 0.6538, accuracy 0.6222, precision 0.6145, recall 0.8354, f1-score 0.7081, epoch time: 124.3759 s, GPU Memory: Allocated: 417.63 MB, Reserved: 2132.00 MB\n",
            "Epoch: 10/10, train loss 0.6492, accuracy 0.6256, precision 0.6183, recall 0.8297, f1-score 0.7086, epoch time: 108.1100 s, GPU Memory: Allocated: 417.63 MB, Reserved: 2132.00 MB\n",
            "Total Training Time: 1160.0358 seconds\n"
          ]
        }
      ]
    },
    {
      "cell_type": "code",
      "source": [
        "loss, accuracy, precision, recall, f1 = test(net, testloader)\n",
        "print(f\"Test loss {loss}, accuracy {accuracy}, precision {precision}, recall {recall}, f1 {f1}\")"
      ],
      "metadata": {
        "id": "YIUGpukPMJMP",
        "colab": {
          "base_uri": "https://localhost:8080/"
        },
        "outputId": "72b747a4-6654-428c-d474-f8cbc5210f9f"
      },
      "execution_count": null,
      "outputs": [
        {
          "output_type": "stream",
          "name": "stdout",
          "text": [
            "Test loss 0.639896470488924, accuracy 0.6452762923351159, precision 0.6703296703296703, recall 0.6267123287671232, f1 0.647787610619469\n"
          ]
        }
      ]
    },
    {
      "cell_type": "code",
      "source": [
        "#Computing the communication overhead\n",
        "def estimate_centralized_data_size(data_dir):\n",
        "    \"\"\"Estimates the total size of a dataset directory in bytes.\"\"\"\n",
        "    total_size = 0\n",
        "    for dirpath, dirnames, filenames in os.walk(data_dir):\n",
        "        for f in filenames:\n",
        "            fp = os.path.join(dirpath, f)\n",
        "            try:\n",
        "                total_size += os.path.getsize(fp)\n",
        "            except OSError as e:\n",
        "                print(f\"Error accessing file: {fp} - {e}\")\n",
        "    return total_size\n",
        "\n",
        "train_data_directory = './nih_images/train'\n",
        "centralized_communication_bytes = estimate_centralized_data_size(train_data_directory)\n",
        "centralized_communication_mb = centralized_communication_bytes / (1024 * 1024)\n",
        "print(f\"Estimated communication overhead for centralized learning: {centralized_communication_mb:.2f} MB\")"
      ],
      "metadata": {
        "colab": {
          "base_uri": "https://localhost:8080/"
        },
        "id": "uV1rKf_qCljZ",
        "outputId": "80a84814-4a08-4b27-b1c4-fc3240fdf7f4"
      },
      "execution_count": null,
      "outputs": [
        {
          "output_type": "stream",
          "name": "stdout",
          "text": [
            "Estimated communication overhead for centralized learning: 1703.86 MB\n"
          ]
        }
      ]
    },
    {
      "cell_type": "markdown",
      "source": [
        "# Decentalized Learning Models\n",
        " 1. FedAvg\n",
        " 2. FedProx and\n",
        " 3. FedAdams"
      ],
      "metadata": {
        "id": "CaYaB3htJRzH"
      }
    },
    {
      "cell_type": "code",
      "source": [
        "from sklearn.metrics import roc_auc_score\n",
        "import torch\n",
        "import numpy as np\n",
        "\n",
        "def run_membership_inference_attack(model, train_loader, test_loader):\n",
        "    \"\"\"Evaluate privacy risk using a simple Membership Inference Attack (MIA).\n",
        "\n",
        "    Args:\n",
        "        model (torch.nn.Module): The trained global model.\n",
        "        train_loader (DataLoader): Loader for member (training) data.\n",
        "        test_loader (DataLoader): Loader for non-member (testing) data.\n",
        "\n",
        "    Returns:\n",
        "        float: AUC score indicating attack success (higher = worse privacy).\n",
        "    \"\"\"\n",
        "    model.eval()\n",
        "    train_confidences, test_confidences = [], []\n",
        "\n",
        "    with torch.no_grad():\n",
        "        # Collect confidence scores from the train set (members)\n",
        "        for x_img, y in train_loader:\n",
        "            x_img = x_img.to(DEVICE)\n",
        "            output = model(x_img)\n",
        "            confidence = torch.sigmoid(output).squeeze().cpu().numpy()\n",
        "            train_confidences.extend(confidence)\n",
        "\n",
        "        # Collect confidence scores from the test set (non-members)\n",
        "        for x_img, y in test_loader:\n",
        "            x_img = x_img.to(DEVICE)\n",
        "            output = model(x_img)\n",
        "            confidence = torch.sigmoid(output).squeeze().cpu().numpy()\n",
        "            test_confidences.extend(confidence)\n",
        "\n",
        "    # Labels: 1 = member, 0 = non-member\n",
        "    labels = [1] * len(train_confidences) + [0] * len(test_confidences)\n",
        "    scores = list(train_confidences) + list(test_confidences)\n",
        "\n",
        "    # Compute MIA AUC\n",
        "    auc = roc_auc_score(labels, scores)\n",
        "    print(f\"[Privacy Risk] Membership Inference Attack AUC: {auc:.4f}\")\n",
        "\n",
        "    return auc\n",
        "\n",
        "def load_weights_into_model(model, npz_path):\n",
        "    # Load the saved weights\n",
        "    loaded = np.load(npz_path)\n",
        "    param_list = [loaded[key] for key in loaded.files]\n",
        "\n",
        "    # Convert to proper state_dict\n",
        "    params_dict = zip(model.state_dict().keys(), param_list)\n",
        "    new_state_dict = {k: torch.tensor(v) for k, v in params_dict}\n",
        "\n",
        "    model.load_state_dict(new_state_dict, strict=True)\n",
        "    print(f\"Loaded weights from {npz_path} into model successfully.\")\n",
        "    return model"
      ],
      "metadata": {
        "id": "YK42IpEjKSvJ"
      },
      "execution_count": 21,
      "outputs": []
    },
    {
      "cell_type": "markdown",
      "source": [
        "## 1. FedAvg"
      ],
      "metadata": {
        "id": "Q9wQvw8kKuMS"
      }
    },
    {
      "cell_type": "code",
      "source": [
        "#Functions to get parameters and set parameters\n",
        "def set_parameters(net, parameters: List[np.ndarray]):\n",
        "    params_dict = zip(net.state_dict().keys(), parameters)\n",
        "    state_dict = OrderedDict({k: torch.Tensor(v) for k, v in params_dict})\n",
        "    net.load_state_dict(state_dict, strict=True)\n",
        "\n",
        "def get_parameters(net) -> List[np.ndarray]:\n",
        "    return [val.cpu().numpy() for _, val in net.state_dict().items()]"
      ],
      "metadata": {
        "id": "notIvoK_Om31"
      },
      "execution_count": null,
      "outputs": []
    },
    {
      "cell_type": "code",
      "source": [
        "#Define Client class for FedAvg\n",
        "class FAClient(NumPyClient):\n",
        "    def __init__(self, net, trainloader, valloader):\n",
        "        self.net = net\n",
        "        self.trainloader = trainloader\n",
        "        self.valloader = valloader\n",
        "\n",
        "    def get_parameters(self, config):\n",
        "        return get_parameters(self.net)\n",
        "\n",
        "    def fit(self, parameters, config):\n",
        "        set_parameters(self.net, parameters)\n",
        "        fit_start_time = time.time()\n",
        "        train(self.net, self.trainloader, epochs=2) # train here.\n",
        "        fit_end_time = time.time()\n",
        "        fit_duration = fit_end_time - fit_start_time\n",
        "        print(f\"Client fit in {fit_duration:.2f} seconds.\")\n",
        "        return get_parameters(self.net), len(self.trainloader), {}\n",
        "\n",
        "    def evaluate(self, parameters, config):\n",
        "        set_parameters(self.net, parameters)\n",
        "        eval_start_time = time.time()\n",
        "        loss, accuracy, precision, recall, f1  = test(self.net, self.valloader)\n",
        "        eval_end_time = time.time()\n",
        "        eval_duration = eval_end_time - eval_start_time\n",
        "        print(f\"Client eval in {eval_duration:.2f} seconds.\")\n",
        "        print(f\"precision {precision}, recall {recall}, f1 {f1}\")\n",
        "        return float(loss), len(self.valloader), {\"accuracy\": float(accuracy)}"
      ],
      "metadata": {
        "id": "AzFZfZCDOm1x"
      },
      "execution_count": null,
      "outputs": []
    },
    {
      "cell_type": "code",
      "source": [
        "#Create a Flower client representing a single organization\n",
        "def client_fn(context: Context) -> Client:\n",
        "    net = NetNIH().to(DEVICE)\n",
        "    partition_id = context.node_config[\"partition-id\"]\n",
        "    trainloader, valloader, _ = load_datasets(partition_id=partition_id)\n",
        "    return FAClient(net, trainloader, valloader).to_client()\n",
        "\n",
        "FAclient = ClientApp(client_fn=client_fn)"
      ],
      "metadata": {
        "id": "EaqUxaycOq70"
      },
      "execution_count": null,
      "outputs": []
    },
    {
      "cell_type": "code",
      "source": [
        "def weighted_average(metrics: List[Tuple[int, Metrics]]) -> Metrics:\n",
        "    accuracies = [num_examples * m[\"accuracy\"] for num_examples, m in metrics]\n",
        "    examples = [num_examples for num_examples, _ in metrics]\n",
        "\n",
        "    return {\"accuracy\": sum(accuracies) / sum(examples)}"
      ],
      "metadata": {
        "id": "JAN-XkNHOxJl"
      },
      "execution_count": null,
      "outputs": []
    },
    {
      "cell_type": "code",
      "source": [
        "#Saves the final model and retrieves model parameters\n",
        "class SaveModelStrategy(flwr.server.strategy.FedAvg):\n",
        "    def aggregate_fit(\n",
        "        self,\n",
        "        server_round,\n",
        "        results,\n",
        "        failures,\n",
        "    ):\n",
        "\n",
        "        # Call aggregate_fit from base class (FedAvg) to aggregate parameters and metrics\n",
        "        aggregated_parameters, aggregated_metrics = super().aggregate_fit(\n",
        "            server_round, results, failures\n",
        "        )\n",
        "\n",
        "        if aggregated_parameters is not None:\n",
        "            aggregated_ndarrays: list[np.ndarray] = flwr.common.parameters_to_ndarrays(\n",
        "                aggregated_parameters\n",
        "            )\n",
        "\n",
        "            print(f\"FedAvg - Saving round {server_round} aggregated_ndarrays...\")\n",
        "            np.savez(f\"FedAvg - round-{server_round}-weights.npz\", *aggregated_ndarrays)\n",
        "\n",
        "        return aggregated_parameters, aggregated_metrics\n",
        "\n",
        "\n",
        "# Create strategy and pass into ServerApp\n",
        "def server_fn(context):\n",
        "    FAstrategy = SaveModelStrategy(\n",
        "        fraction_fit=1.0,  # Sample 100% of available clients for training\n",
        "        fraction_evaluate=1.0,  # Sample 100% of available clients for evaluation\n",
        "        min_fit_clients=5,  # Never sample less than 5 clients for training\n",
        "        min_evaluate_clients=5,  # Never sample less than 5 clients for evaluation\n",
        "        min_available_clients=5,  # Wait until all 5 clients are available\n",
        "        evaluate_metrics_aggregation_fn=weighted_average, # metric aggregation function\n",
        "    )\n",
        "    config = ServerConfig(num_rounds=5)\n",
        "    return ServerAppComponents(strategy=FAstrategy, config=config)\n",
        "\n",
        "\n",
        "FAserver = ServerApp(server_fn=server_fn)"
      ],
      "metadata": {
        "id": "wxdnHIHkX5LC"
      },
      "execution_count": null,
      "outputs": []
    },
    {
      "cell_type": "code",
      "source": [
        "backend_config = {\"client_resources\": {\"num_cpus\": 1, \"num_gpus\": 0.0}}\n",
        "if DEVICE == \"cuda\":\n",
        "    backend_config = {\"client_resources\": {\"num_cpus\": 1, \"num_gpus\": 1.0}}"
      ],
      "metadata": {
        "id": "detyK9nUQLGi"
      },
      "execution_count": null,
      "outputs": []
    },
    {
      "cell_type": "code",
      "source": [
        "# Run FL simulation\n",
        "run_simulation(\n",
        "    server_app=FAserver,\n",
        "    client_app=FAclient,\n",
        "    num_supernodes=NUM_CLIENTS,\n",
        "    backend_config=backend_config,\n",
        ")"
      ],
      "metadata": {
        "id": "U2F6yuvhQM7O",
        "colab": {
          "base_uri": "https://localhost:8080/"
        },
        "outputId": "53512baa-58cb-45ef-c1af-4761b7ee2760",
        "collapsed": true
      },
      "execution_count": null,
      "outputs": [
        {
          "output_type": "stream",
          "name": "stderr",
          "text": [
            "DEBUG:flwr:Asyncio event loop already running.\n",
            "\u001b[92mINFO \u001b[0m:      Starting Flower ServerApp, config: num_rounds=5, no round_timeout\n",
            "\u001b[92mINFO \u001b[0m:      \n",
            "\u001b[92mINFO \u001b[0m:      [INIT]\n",
            "\u001b[92mINFO \u001b[0m:      Requesting initial parameters from one random client\n",
            "\u001b[36m(pid=4505)\u001b[0m 2025-04-25 18:11:28.996588: E external/local_xla/xla/stream_executor/cuda/cuda_fft.cc:477] Unable to register cuFFT factory: Attempting to register factory for plugin cuFFT when one has already been registered\n",
            "\u001b[36m(pid=4505)\u001b[0m WARNING: All log messages before absl::InitializeLog() is called are written to STDERR\n",
            "\u001b[36m(pid=4505)\u001b[0m E0000 00:00:1745604689.028449    4505 cuda_dnn.cc:8310] Unable to register cuDNN factory: Attempting to register factory for plugin cuDNN when one has already been registered\n",
            "\u001b[36m(pid=4505)\u001b[0m E0000 00:00:1745604689.038271    4505 cuda_blas.cc:1418] Unable to register cuBLAS factory: Attempting to register factory for plugin cuBLAS when one has already been registered\n",
            "\u001b[92mINFO \u001b[0m:      Received initial parameters from one random client\n",
            "\u001b[92mINFO \u001b[0m:      Starting evaluation of initial global parameters\n",
            "\u001b[92mINFO \u001b[0m:      Evaluation returned no results (`None`)\n",
            "\u001b[92mINFO \u001b[0m:      \n",
            "\u001b[92mINFO \u001b[0m:      [ROUND 1]\n",
            "\u001b[92mINFO \u001b[0m:      configure_fit: strategy sampled 5 clients (out of 5)\n"
          ]
        },
        {
          "output_type": "stream",
          "name": "stdout",
          "text": [
            "\u001b[36m(ClientAppActor pid=4505)\u001b[0m Epoch: 1/2, train loss 0.7103, accuracy 0.5713, precision 0.5722, recall 0.9495, f1-score 0.7140, epoch time: 21.6298 s, GPU Memory: Allocated: 419.46 MB, Reserved: 2130.00 MB\n",
            "\u001b[36m(ClientAppActor pid=4505)\u001b[0m Epoch: 2/2, train loss 0.6871, accuracy 0.5613, precision 0.5627, recall 0.9956, f1-score 0.7190, epoch time: 19.9284 s, GPU Memory: Allocated: 419.46 MB, Reserved: 2130.00 MB\n",
            "\u001b[36m(ClientAppActor pid=4505)\u001b[0m Total Training Time: 41.5589 seconds\n",
            "\u001b[36m(ClientAppActor pid=4505)\u001b[0m Client fit in 41.56 seconds.\n",
            "\u001b[36m(ClientAppActor pid=4505)\u001b[0m Epoch: 1/2, train loss 0.7030, accuracy 0.5390, precision 0.5481, recall 0.9553, f1-score 0.6966, epoch time: 19.4051 s, GPU Memory: Allocated: 419.42 MB, Reserved: 2130.00 MB\n",
            "\u001b[36m(ClientAppActor pid=4505)\u001b[0m Epoch: 2/2, train loss 0.6878, accuracy 0.5539, precision 0.5539, recall 1.0000, f1-score 0.7129, epoch time: 19.7759 s, GPU Memory: Allocated: 419.42 MB, Reserved: 2130.00 MB\n",
            "\u001b[36m(ClientAppActor pid=4505)\u001b[0m Total Training Time: 39.1817 seconds\n",
            "\u001b[36m(ClientAppActor pid=4505)\u001b[0m Client fit in 39.18 seconds.\n",
            "\u001b[36m(ClientAppActor pid=4505)\u001b[0m Epoch: 1/2, train loss 0.7005, accuracy 0.5217, precision 0.5327, recall 0.8845, f1-score 0.6649, epoch time: 19.5242 s, GPU Memory: Allocated: 419.42 MB, Reserved: 2130.00 MB\n",
            "\u001b[36m(ClientAppActor pid=4505)\u001b[0m Epoch: 2/2, train loss 0.6911, accuracy 0.5366, precision 0.5366, recall 1.0000, f1-score 0.6984, epoch time: 19.8464 s, GPU Memory: Allocated: 419.42 MB, Reserved: 2130.00 MB\n",
            "\u001b[36m(ClientAppActor pid=4505)\u001b[0m Total Training Time: 39.3713 seconds\n",
            "\u001b[36m(ClientAppActor pid=4505)\u001b[0m Client fit in 39.37 seconds.\n",
            "\u001b[36m(ClientAppActor pid=4505)\u001b[0m Epoch: 1/2, train loss 0.6935, accuracy 0.5390, precision 0.5421, recall 0.8935, f1-score 0.6748, epoch time: 19.5054 s, GPU Memory: Allocated: 419.42 MB, Reserved: 2130.00 MB\n",
            "\u001b[36m(ClientAppActor pid=4505)\u001b[0m Epoch: 2/2, train loss 0.6814, accuracy 0.5762, precision 0.5668, recall 0.8843, f1-score 0.6908, epoch time: 20.0081 s, GPU Memory: Allocated: 419.42 MB, Reserved: 2130.00 MB\n",
            "\u001b[36m(ClientAppActor pid=4505)\u001b[0m Total Training Time: 39.5142 seconds\n",
            "\u001b[36m(ClientAppActor pid=4505)\u001b[0m Client fit in 39.51 seconds.\n",
            "\u001b[36m(ClientAppActor pid=4505)\u001b[0m Epoch: 1/2, train loss 0.6909, accuracy 0.5556, precision 0.5580, recall 0.9442, f1-score 0.7015, epoch time: 19.4451 s, GPU Memory: Allocated: 420.94 MB, Reserved: 2130.00 MB\n",
            "\u001b[36m(ClientAppActor pid=4505)\u001b[0m Epoch: 2/2, train loss 0.6921, accuracy 0.5531, precision 0.5531, recall 1.0000, f1-score 0.7122, epoch time: 19.9522 s, GPU Memory: Allocated: 420.94 MB, Reserved: 2130.00 MB\n",
            "\u001b[36m(ClientAppActor pid=4505)\u001b[0m Total Training Time: 39.3982 seconds\n",
            "\u001b[36m(ClientAppActor pid=4505)\u001b[0m Client fit in 39.40 seconds.\n"
          ]
        },
        {
          "output_type": "stream",
          "name": "stderr",
          "text": [
            "\u001b[92mINFO \u001b[0m:      aggregate_fit: received 5 results and 0 failures\n",
            "\u001b[93mWARNING \u001b[0m:   No fit_metrics_aggregation_fn provided\n",
            "\u001b[92mINFO \u001b[0m:      configure_evaluate: strategy sampled 5 clients (out of 5)\n"
          ]
        },
        {
          "output_type": "stream",
          "name": "stdout",
          "text": [
            "FedAvg - Saving round 1 aggregated_ndarrays...\n",
            "\u001b[36m(ClientAppActor pid=4505)\u001b[0m Client eval in 5.19 seconds.\n",
            "\u001b[36m(ClientAppActor pid=4505)\u001b[0m precision 1.0, recall 0.0, f1 0.0\n",
            "\u001b[36m(ClientAppActor pid=4505)\u001b[0m Client eval in 2.28 seconds.\n",
            "\u001b[36m(ClientAppActor pid=4505)\u001b[0m precision 1.0, recall 0.0, f1 0.0\n",
            "\u001b[36m(ClientAppActor pid=4505)\u001b[0m Client eval in 3.37 seconds.\n",
            "\u001b[36m(ClientAppActor pid=4505)\u001b[0m precision 1.0, recall 0.0, f1 0.0\n",
            "\u001b[36m(ClientAppActor pid=4505)\u001b[0m Client eval in 2.98 seconds.\n",
            "\u001b[36m(ClientAppActor pid=4505)\u001b[0m precision 1.0, recall 0.0, f1 0.0\n"
          ]
        },
        {
          "output_type": "stream",
          "name": "stderr",
          "text": [
            "\u001b[92mINFO \u001b[0m:      aggregate_evaluate: received 5 results and 0 failures\n",
            "\u001b[92mINFO \u001b[0m:      \n",
            "\u001b[92mINFO \u001b[0m:      [ROUND 2]\n",
            "\u001b[92mINFO \u001b[0m:      configure_fit: strategy sampled 5 clients (out of 5)\n"
          ]
        },
        {
          "output_type": "stream",
          "name": "stdout",
          "text": [
            "\u001b[36m(ClientAppActor pid=4505)\u001b[0m Client eval in 3.97 seconds.\n",
            "\u001b[36m(ClientAppActor pid=4505)\u001b[0m precision 1.0, recall 0.0, f1 0.0\n",
            "\u001b[36m(ClientAppActor pid=4505)\u001b[0m Epoch: 1/2, train loss 0.6936, accuracy 0.5601, precision 0.5646, recall 0.9604, f1-score 0.7111, epoch time: 18.9288 s, GPU Memory: Allocated: 419.42 MB, Reserved: 2130.00 MB\n",
            "\u001b[36m(ClientAppActor pid=4505)\u001b[0m Epoch: 2/2, train loss 0.6933, accuracy 0.5564, precision 0.5629, recall 0.9538, f1-score 0.7080, epoch time: 19.7888 s, GPU Memory: Allocated: 419.42 MB, Reserved: 2130.00 MB\n",
            "\u001b[36m(ClientAppActor pid=4505)\u001b[0m Total Training Time: 38.7183 seconds\n",
            "\u001b[36m(ClientAppActor pid=4505)\u001b[0m Client fit in 38.72 seconds.\n",
            "\u001b[36m(ClientAppActor pid=4505)\u001b[0m Epoch: 1/2, train loss 0.6924, accuracy 0.5527, precision 0.5535, recall 0.9955, f1-score 0.7114, epoch time: 18.7785 s, GPU Memory: Allocated: 419.42 MB, Reserved: 2130.00 MB\n",
            "\u001b[36m(ClientAppActor pid=4505)\u001b[0m Epoch: 2/2, train loss 0.6803, accuracy 0.5613, precision 0.5586, recall 0.9911, f1-score 0.7145, epoch time: 19.7181 s, GPU Memory: Allocated: 419.42 MB, Reserved: 2130.00 MB\n",
            "\u001b[36m(ClientAppActor pid=4505)\u001b[0m Total Training Time: 38.4974 seconds\n",
            "\u001b[36m(ClientAppActor pid=4505)\u001b[0m Client fit in 38.50 seconds.\n",
            "\u001b[36m(ClientAppActor pid=4505)\u001b[0m Epoch: 1/2, train loss 0.6867, accuracy 0.5428, precision 0.5441, recall 0.9122, f1-score 0.6816, epoch time: 18.9372 s, GPU Memory: Allocated: 419.42 MB, Reserved: 2130.00 MB\n",
            "\u001b[36m(ClientAppActor pid=4505)\u001b[0m Epoch: 2/2, train loss 0.6792, accuracy 0.5428, precision 0.5457, recall 0.8822, f1-score 0.6743, epoch time: 19.9545 s, GPU Memory: Allocated: 419.42 MB, Reserved: 2130.00 MB\n",
            "\u001b[36m(ClientAppActor pid=4505)\u001b[0m Total Training Time: 38.8926 seconds\n",
            "\u001b[36m(ClientAppActor pid=4505)\u001b[0m Client fit in 38.89 seconds.\n",
            "\u001b[36m(ClientAppActor pid=4505)\u001b[0m Epoch: 1/2, train loss 0.6853, accuracy 0.5428, precision 0.5426, recall 0.9282, f1-score 0.6849, epoch time: 18.8301 s, GPU Memory: Allocated: 419.42 MB, Reserved: 2130.00 MB\n",
            "\u001b[36m(ClientAppActor pid=4505)\u001b[0m Epoch: 2/2, train loss 0.6834, accuracy 0.5688, precision 0.5618, recall 0.8843, f1-score 0.6871, epoch time: 20.8877 s, GPU Memory: Allocated: 419.42 MB, Reserved: 2130.00 MB\n",
            "\u001b[36m(ClientAppActor pid=4505)\u001b[0m Total Training Time: 39.7186 seconds\n",
            "\u001b[36m(ClientAppActor pid=4505)\u001b[0m Client fit in 39.72 seconds.\n",
            "\u001b[36m(ClientAppActor pid=4505)\u001b[0m Epoch: 1/2, train loss 0.6897, accuracy 0.5531, precision 0.5531, recall 1.0000, f1-score 0.7122, epoch time: 18.9959 s, GPU Memory: Allocated: 420.94 MB, Reserved: 2130.00 MB\n",
            "\u001b[36m(ClientAppActor pid=4505)\u001b[0m Epoch: 2/2, train loss 0.6924, accuracy 0.5469, precision 0.5541, recall 0.9263, f1-score 0.6934, epoch time: 19.8077 s, GPU Memory: Allocated: 420.94 MB, Reserved: 2130.00 MB\n",
            "\u001b[36m(ClientAppActor pid=4505)\u001b[0m Total Training Time: 38.8044 seconds\n",
            "\u001b[36m(ClientAppActor pid=4505)\u001b[0m Client fit in 38.80 seconds.\n"
          ]
        },
        {
          "output_type": "stream",
          "name": "stderr",
          "text": [
            "\u001b[92mINFO \u001b[0m:      aggregate_fit: received 5 results and 0 failures\n"
          ]
        },
        {
          "output_type": "stream",
          "name": "stdout",
          "text": [
            "FedAvg - Saving round 2 aggregated_ndarrays...\n"
          ]
        },
        {
          "output_type": "stream",
          "name": "stderr",
          "text": [
            "\u001b[92mINFO \u001b[0m:      configure_evaluate: strategy sampled 5 clients (out of 5)\n"
          ]
        },
        {
          "output_type": "stream",
          "name": "stdout",
          "text": [
            "\u001b[36m(ClientAppActor pid=4505)\u001b[0m Client eval in 1.93 seconds.\n",
            "\u001b[36m(ClientAppActor pid=4505)\u001b[0m precision 0.6067415730337079, recall 1.0, f1 0.7552447552447552\n",
            "\u001b[36m(ClientAppActor pid=4505)\u001b[0m Client eval in 1.88 seconds.\n",
            "\u001b[36m(ClientAppActor pid=4505)\u001b[0m precision 0.5617977528089888, recall 1.0, f1 0.7194244604316546\n",
            "\u001b[36m(ClientAppActor pid=4505)\u001b[0m Client eval in 2.53 seconds.\n",
            "\u001b[36m(ClientAppActor pid=4505)\u001b[0m precision 0.5280898876404494, recall 1.0, f1 0.6911764705882353\n",
            "\u001b[36m(ClientAppActor pid=4505)\u001b[0m Client eval in 1.91 seconds.\n",
            "\u001b[36m(ClientAppActor pid=4505)\u001b[0m precision 0.550561797752809, recall 1.0, f1 0.7101449275362319\n"
          ]
        },
        {
          "output_type": "stream",
          "name": "stderr",
          "text": [
            "\u001b[92mINFO \u001b[0m:      aggregate_evaluate: received 5 results and 0 failures\n",
            "\u001b[92mINFO \u001b[0m:      \n",
            "\u001b[92mINFO \u001b[0m:      [ROUND 3]\n",
            "\u001b[92mINFO \u001b[0m:      configure_fit: strategy sampled 5 clients (out of 5)\n"
          ]
        },
        {
          "output_type": "stream",
          "name": "stdout",
          "text": [
            "\u001b[36m(ClientAppActor pid=4505)\u001b[0m Client eval in 1.85 seconds.\n",
            "\u001b[36m(ClientAppActor pid=4505)\u001b[0m precision 0.5, recall 1.0, f1 0.6666666666666666\n",
            "\u001b[36m(ClientAppActor pid=4505)\u001b[0m Epoch: 1/2, train loss 0.6782, accuracy 0.5849, precision 0.5817, recall 0.9385, f1-score 0.7183, epoch time: 19.0222 s, GPU Memory: Allocated: 419.42 MB, Reserved: 2130.00 MB\n",
            "\u001b[36m(ClientAppActor pid=4505)\u001b[0m Epoch: 2/2, train loss 0.6789, accuracy 0.5960, precision 0.5961, recall 0.8791, f1-score 0.7105, epoch time: 19.8048 s, GPU Memory: Allocated: 419.42 MB, Reserved: 2130.00 MB\n",
            "\u001b[36m(ClientAppActor pid=4505)\u001b[0m Total Training Time: 38.8280 seconds\n",
            "\u001b[36m(ClientAppActor pid=4505)\u001b[0m Client fit in 38.83 seconds.\n",
            "\u001b[36m(ClientAppActor pid=4505)\u001b[0m Epoch: 1/2, train loss 0.7038, accuracy 0.5502, precision 0.5572, recall 0.9150, f1-score 0.6926, epoch time: 18.9900 s, GPU Memory: Allocated: 419.42 MB, Reserved: 2130.00 MB\n",
            "\u001b[36m(ClientAppActor pid=4505)\u001b[0m Epoch: 2/2, train loss 0.6758, accuracy 0.5551, precision 0.5580, recall 0.9463, f1-score 0.7021, epoch time: 19.5834 s, GPU Memory: Allocated: 419.42 MB, Reserved: 2130.00 MB\n",
            "\u001b[36m(ClientAppActor pid=4505)\u001b[0m Total Training Time: 38.5743 seconds\n",
            "\u001b[36m(ClientAppActor pid=4505)\u001b[0m Client fit in 38.57 seconds.\n",
            "\u001b[36m(ClientAppActor pid=4505)\u001b[0m Epoch: 1/2, train loss 0.6856, accuracy 0.5527, precision 0.5525, recall 0.8753, f1-score 0.6774, epoch time: 19.1793 s, GPU Memory: Allocated: 419.42 MB, Reserved: 2130.00 MB\n",
            "\u001b[36m(ClientAppActor pid=4505)\u001b[0m Epoch: 2/2, train loss 0.6783, accuracy 0.5713, precision 0.5666, recall 0.8545, f1-score 0.6814, epoch time: 19.5107 s, GPU Memory: Allocated: 419.42 MB, Reserved: 2130.00 MB\n",
            "\u001b[36m(ClientAppActor pid=4505)\u001b[0m Total Training Time: 38.6910 seconds\n",
            "\u001b[36m(ClientAppActor pid=4505)\u001b[0m Client fit in 38.69 seconds.\n",
            "\u001b[36m(ClientAppActor pid=4505)\u001b[0m Epoch: 1/2, train loss 0.6745, accuracy 0.5564, precision 0.5549, recall 0.8657, f1-score 0.6763, epoch time: 19.2139 s, GPU Memory: Allocated: 419.42 MB, Reserved: 2130.00 MB\n",
            "\u001b[36m(ClientAppActor pid=4505)\u001b[0m Epoch: 2/2, train loss 0.6628, accuracy 0.6270, precision 0.6135, recall 0.8194, f1-score 0.7017, epoch time: 19.4185 s, GPU Memory: Allocated: 419.42 MB, Reserved: 2130.00 MB\n",
            "\u001b[36m(ClientAppActor pid=4505)\u001b[0m Total Training Time: 38.6333 seconds\n",
            "\u001b[36m(ClientAppActor pid=4505)\u001b[0m Client fit in 38.63 seconds.\n",
            "\u001b[36m(ClientAppActor pid=4505)\u001b[0m Epoch: 1/2, train loss 0.6865, accuracy 0.5630, precision 0.5607, recall 0.9688, f1-score 0.7103, epoch time: 19.2812 s, GPU Memory: Allocated: 420.94 MB, Reserved: 2130.00 MB\n",
            "\u001b[36m(ClientAppActor pid=4505)\u001b[0m Epoch: 2/2, train loss 0.6759, accuracy 0.5519, precision 0.5540, recall 0.9732, f1-score 0.7061, epoch time: 19.2498 s, GPU Memory: Allocated: 420.94 MB, Reserved: 2130.00 MB\n",
            "\u001b[36m(ClientAppActor pid=4505)\u001b[0m Total Training Time: 38.5319 seconds\n",
            "\u001b[36m(ClientAppActor pid=4505)\u001b[0m Client fit in 38.53 seconds.\n"
          ]
        },
        {
          "output_type": "stream",
          "name": "stderr",
          "text": [
            "\u001b[92mINFO \u001b[0m:      aggregate_fit: received 5 results and 0 failures\n"
          ]
        },
        {
          "output_type": "stream",
          "name": "stdout",
          "text": [
            "FedAvg - Saving round 3 aggregated_ndarrays...\n"
          ]
        },
        {
          "output_type": "stream",
          "name": "stderr",
          "text": [
            "\u001b[92mINFO \u001b[0m:      configure_evaluate: strategy sampled 5 clients (out of 5)\n"
          ]
        },
        {
          "output_type": "stream",
          "name": "stdout",
          "text": [
            "\u001b[36m(ClientAppActor pid=4505)\u001b[0m Client eval in 1.87 seconds.\n",
            "\u001b[36m(ClientAppActor pid=4505)\u001b[0m precision 0.6219512195121951, recall 0.9444444444444444, f1 0.75\n",
            "\u001b[36m(ClientAppActor pid=4505)\u001b[0m Client eval in 2.24 seconds.\n",
            "\u001b[36m(ClientAppActor pid=4505)\u001b[0m precision 0.5657894736842105, recall 0.86, f1 0.6825396825396826\n",
            "\u001b[36m(ClientAppActor pid=4505)\u001b[0m Client eval in 2.27 seconds.\n",
            "\u001b[36m(ClientAppActor pid=4505)\u001b[0m precision 0.5789473684210527, recall 0.9361702127659575, f1 0.7154471544715447\n",
            "\u001b[36m(ClientAppActor pid=4505)\u001b[0m Client eval in 1.81 seconds.\n",
            "\u001b[36m(ClientAppActor pid=4505)\u001b[0m precision 0.6052631578947368, recall 0.9387755102040817, f1 0.736\n"
          ]
        },
        {
          "output_type": "stream",
          "name": "stderr",
          "text": [
            "\u001b[92mINFO \u001b[0m:      aggregate_evaluate: received 5 results and 0 failures\n",
            "\u001b[92mINFO \u001b[0m:      \n",
            "\u001b[92mINFO \u001b[0m:      [ROUND 4]\n",
            "\u001b[92mINFO \u001b[0m:      configure_fit: strategy sampled 5 clients (out of 5)\n"
          ]
        },
        {
          "output_type": "stream",
          "name": "stdout",
          "text": [
            "\u001b[36m(ClientAppActor pid=4505)\u001b[0m Client eval in 1.85 seconds.\n",
            "\u001b[36m(ClientAppActor pid=4505)\u001b[0m precision 0.5584415584415584, recall 0.9555555555555556, f1 0.7049180327868853\n",
            "\u001b[36m(ClientAppActor pid=4505)\u001b[0m Epoch: 1/2, train loss 0.6702, accuracy 0.5787, precision 0.5782, recall 0.9341, f1-score 0.7143, epoch time: 19.7804 s, GPU Memory: Allocated: 419.42 MB, Reserved: 2130.00 MB\n",
            "\u001b[36m(ClientAppActor pid=4505)\u001b[0m Epoch: 2/2, train loss 0.6574, accuracy 0.6283, precision 0.6224, recall 0.8659, f1-score 0.7243, epoch time: 18.8517 s, GPU Memory: Allocated: 419.42 MB, Reserved: 2130.00 MB\n",
            "\u001b[36m(ClientAppActor pid=4505)\u001b[0m Total Training Time: 38.6330 seconds\n",
            "\u001b[36m(ClientAppActor pid=4505)\u001b[0m Client fit in 38.63 seconds.\n",
            "\u001b[36m(ClientAppActor pid=4505)\u001b[0m Epoch: 1/2, train loss 0.6873, accuracy 0.5576, precision 0.5565, recall 0.9911, f1-score 0.7128, epoch time: 23.3627 s, GPU Memory: Allocated: 419.42 MB, Reserved: 2130.00 MB\n",
            "\u001b[36m(ClientAppActor pid=4505)\u001b[0m Epoch: 2/2, train loss 0.6719, accuracy 0.5849, precision 0.5862, recall 0.8523, f1-score 0.6946, epoch time: 18.8801 s, GPU Memory: Allocated: 419.42 MB, Reserved: 2130.00 MB\n",
            "\u001b[36m(ClientAppActor pid=4505)\u001b[0m Total Training Time: 42.2436 seconds\n",
            "\u001b[36m(ClientAppActor pid=4505)\u001b[0m Client fit in 42.24 seconds.\n",
            "\u001b[36m(ClientAppActor pid=4505)\u001b[0m Epoch: 1/2, train loss 0.6838, accuracy 0.5551, precision 0.5527, recall 0.8961, f1-score 0.6837, epoch time: 19.7779 s, GPU Memory: Allocated: 419.42 MB, Reserved: 2130.00 MB\n",
            "\u001b[36m(ClientAppActor pid=4505)\u001b[0m Epoch: 2/2, train loss 0.6692, accuracy 0.6109, precision 0.6080, recall 0.7737, f1-score 0.6809, epoch time: 18.8269 s, GPU Memory: Allocated: 419.42 MB, Reserved: 2130.00 MB\n",
            "\u001b[36m(ClientAppActor pid=4505)\u001b[0m Total Training Time: 38.6057 seconds\n",
            "\u001b[36m(ClientAppActor pid=4505)\u001b[0m Client fit in 38.61 seconds.\n",
            "\u001b[36m(ClientAppActor pid=4505)\u001b[0m Epoch: 1/2, train loss 0.6763, accuracy 0.5836, precision 0.5725, recall 0.8773, f1-score 0.6929, epoch time: 25.0038 s, GPU Memory: Allocated: 419.42 MB, Reserved: 2130.00 MB\n",
            "\u001b[36m(ClientAppActor pid=4505)\u001b[0m Epoch: 2/2, train loss 0.6712, accuracy 0.5886, precision 0.5769, recall 0.8681, f1-score 0.6932, epoch time: 19.8733 s, GPU Memory: Allocated: 419.42 MB, Reserved: 2130.00 MB\n",
            "\u001b[36m(ClientAppActor pid=4505)\u001b[0m Total Training Time: 44.8778 seconds\n",
            "\u001b[36m(ClientAppActor pid=4505)\u001b[0m Client fit in 44.88 seconds.\n",
            "\u001b[36m(ClientAppActor pid=4505)\u001b[0m Epoch: 1/2, train loss 0.6752, accuracy 0.5815, precision 0.5758, recall 0.9241, f1-score 0.7095, epoch time: 18.9200 s, GPU Memory: Allocated: 420.94 MB, Reserved: 2130.00 MB\n",
            "\u001b[36m(ClientAppActor pid=4505)\u001b[0m Epoch: 2/2, train loss 0.6778, accuracy 0.5728, precision 0.5704, recall 0.9219, f1-score 0.7048, epoch time: 19.8350 s, GPU Memory: Allocated: 420.94 MB, Reserved: 2130.00 MB\n",
            "\u001b[36m(ClientAppActor pid=4505)\u001b[0m Total Training Time: 38.7559 seconds\n",
            "\u001b[36m(ClientAppActor pid=4505)\u001b[0m Client fit in 38.76 seconds.\n"
          ]
        },
        {
          "output_type": "stream",
          "name": "stderr",
          "text": [
            "\u001b[92mINFO \u001b[0m:      aggregate_fit: received 5 results and 0 failures\n"
          ]
        },
        {
          "output_type": "stream",
          "name": "stdout",
          "text": [
            "FedAvg - Saving round 4 aggregated_ndarrays...\n"
          ]
        },
        {
          "output_type": "stream",
          "name": "stderr",
          "text": [
            "\u001b[92mINFO \u001b[0m:      configure_evaluate: strategy sampled 5 clients (out of 5)\n"
          ]
        },
        {
          "output_type": "stream",
          "name": "stdout",
          "text": [
            "\u001b[36m(ClientAppActor pid=4505)\u001b[0m Client eval in 3.32 seconds.\n",
            "\u001b[36m(ClientAppActor pid=4505)\u001b[0m precision 0.7192982456140351, recall 0.7592592592592593, f1 0.7387387387387387\n",
            "\u001b[36m(ClientAppActor pid=4505)\u001b[0m Client eval in 2.22 seconds.\n",
            "\u001b[36m(ClientAppActor pid=4505)\u001b[0m precision 0.5862068965517241, recall 0.68, f1 0.6296296296296297\n",
            "\u001b[36m(ClientAppActor pid=4505)\u001b[0m Client eval in 2.16 seconds.\n",
            "\u001b[36m(ClientAppActor pid=4505)\u001b[0m precision 0.6666666666666666, recall 0.851063829787234, f1 0.7476635514018691\n",
            "\u001b[36m(ClientAppActor pid=4505)\u001b[0m Client eval in 1.80 seconds.\n",
            "\u001b[36m(ClientAppActor pid=4505)\u001b[0m precision 0.6666666666666666, recall 0.7346938775510204, f1 0.6990291262135923\n"
          ]
        },
        {
          "output_type": "stream",
          "name": "stderr",
          "text": [
            "\u001b[92mINFO \u001b[0m:      aggregate_evaluate: received 5 results and 0 failures\n",
            "\u001b[92mINFO \u001b[0m:      \n",
            "\u001b[92mINFO \u001b[0m:      [ROUND 5]\n",
            "\u001b[92mINFO \u001b[0m:      configure_fit: strategy sampled 5 clients (out of 5)\n"
          ]
        },
        {
          "output_type": "stream",
          "name": "stdout",
          "text": [
            "\u001b[36m(ClientAppActor pid=4505)\u001b[0m Client eval in 1.88 seconds.\n",
            "\u001b[36m(ClientAppActor pid=4505)\u001b[0m precision 0.6724137931034483, recall 0.8666666666666667, f1 0.7572815533980582\n",
            "\u001b[36m(ClientAppActor pid=4505)\u001b[0m Epoch: 1/2, train loss 0.6643, accuracy 0.6022, precision 0.5952, recall 0.9209, f1-score 0.7230, epoch time: 22.5686 s, GPU Memory: Allocated: 419.42 MB, Reserved: 2130.00 MB\n",
            "\u001b[36m(ClientAppActor pid=4505)\u001b[0m Epoch: 2/2, train loss 0.6615, accuracy 0.6146, precision 0.6111, recall 0.8703, f1-score 0.7180, epoch time: 28.3002 s, GPU Memory: Allocated: 419.42 MB, Reserved: 2130.00 MB\n",
            "\u001b[36m(ClientAppActor pid=4505)\u001b[0m Total Training Time: 50.8697 seconds\n",
            "\u001b[36m(ClientAppActor pid=4505)\u001b[0m Client fit in 50.87 seconds.\n",
            "\u001b[36m(ClientAppActor pid=4505)\u001b[0m Epoch: 1/2, train loss 0.6695, accuracy 0.5774, precision 0.5786, recall 0.8725, f1-score 0.6958, epoch time: 21.8223 s, GPU Memory: Allocated: 419.42 MB, Reserved: 2130.00 MB\n",
            "\u001b[36m(ClientAppActor pid=4505)\u001b[0m Epoch: 2/2, train loss 0.6639, accuracy 0.5923, precision 0.5952, recall 0.8255, f1-score 0.6917, epoch time: 21.1695 s, GPU Memory: Allocated: 419.42 MB, Reserved: 2130.00 MB\n",
            "\u001b[36m(ClientAppActor pid=4505)\u001b[0m Total Training Time: 42.9927 seconds\n",
            "\u001b[36m(ClientAppActor pid=4505)\u001b[0m Client fit in 42.99 seconds.\n",
            "\u001b[36m(ClientAppActor pid=4505)\u001b[0m Epoch: 1/2, train loss 0.6771, accuracy 0.5675, precision 0.5640, recall 0.8545, f1-score 0.6795, epoch time: 21.2740 s, GPU Memory: Allocated: 419.42 MB, Reserved: 2130.00 MB\n",
            "\u001b[36m(ClientAppActor pid=4505)\u001b[0m Epoch: 2/2, train loss 0.6642, accuracy 0.6196, precision 0.6180, recall 0.7621, f1-score 0.6825, epoch time: 20.3188 s, GPU Memory: Allocated: 419.42 MB, Reserved: 2130.00 MB\n",
            "\u001b[36m(ClientAppActor pid=4505)\u001b[0m Total Training Time: 41.5937 seconds\n",
            "\u001b[36m(ClientAppActor pid=4505)\u001b[0m Client fit in 41.59 seconds.\n",
            "\u001b[36m(ClientAppActor pid=4505)\u001b[0m Epoch: 1/2, train loss 0.6485, accuracy 0.6159, precision 0.6027, recall 0.8287, f1-score 0.6979, epoch time: 19.9670 s, GPU Memory: Allocated: 419.42 MB, Reserved: 2130.00 MB\n",
            "\u001b[36m(ClientAppActor pid=4505)\u001b[0m Epoch: 2/2, train loss 0.6392, accuracy 0.6332, precision 0.6189, recall 0.8194, f1-score 0.7052, epoch time: 19.9489 s, GPU Memory: Allocated: 419.42 MB, Reserved: 2130.00 MB\n",
            "\u001b[36m(ClientAppActor pid=4505)\u001b[0m Total Training Time: 39.9167 seconds\n",
            "\u001b[36m(ClientAppActor pid=4505)\u001b[0m Client fit in 39.92 seconds.\n",
            "\u001b[36m(ClientAppActor pid=4505)\u001b[0m Epoch: 1/2, train loss 0.6738, accuracy 0.5852, precision 0.5809, recall 0.8973, f1-score 0.7053, epoch time: 18.9390 s, GPU Memory: Allocated: 420.94 MB, Reserved: 2130.00 MB\n",
            "\u001b[36m(ClientAppActor pid=4505)\u001b[0m Epoch: 2/2, train loss 0.6850, accuracy 0.5667, precision 0.5716, recall 0.8638, f1-score 0.6880, epoch time: 21.2790 s, GPU Memory: Allocated: 420.94 MB, Reserved: 2130.00 MB\n",
            "\u001b[36m(ClientAppActor pid=4505)\u001b[0m Total Training Time: 40.2188 seconds\n",
            "\u001b[36m(ClientAppActor pid=4505)\u001b[0m Client fit in 40.22 seconds.\n"
          ]
        },
        {
          "output_type": "stream",
          "name": "stderr",
          "text": [
            "\u001b[92mINFO \u001b[0m:      aggregate_fit: received 5 results and 0 failures\n"
          ]
        },
        {
          "output_type": "stream",
          "name": "stdout",
          "text": [
            "FedAvg - Saving round 5 aggregated_ndarrays...\n"
          ]
        },
        {
          "output_type": "stream",
          "name": "stderr",
          "text": [
            "\u001b[92mINFO \u001b[0m:      configure_evaluate: strategy sampled 5 clients (out of 5)\n"
          ]
        },
        {
          "output_type": "stream",
          "name": "stdout",
          "text": [
            "\u001b[36m(ClientAppActor pid=4505)\u001b[0m Client eval in 1.91 seconds.\n",
            "\u001b[36m(ClientAppActor pid=4505)\u001b[0m precision 0.75, recall 0.7222222222222222, f1 0.7358490566037735\n",
            "\u001b[36m(ClientAppActor pid=4505)\u001b[0m Client eval in 1.84 seconds.\n",
            "\u001b[36m(ClientAppActor pid=4505)\u001b[0m precision 0.6, recall 0.66, f1 0.6285714285714286\n",
            "\u001b[36m(ClientAppActor pid=4505)\u001b[0m Client eval in 1.97 seconds.\n",
            "\u001b[36m(ClientAppActor pid=4505)\u001b[0m precision 0.6842105263157895, recall 0.8297872340425532, f1 0.75\n",
            "\u001b[36m(ClientAppActor pid=4505)\u001b[0m Client eval in 2.45 seconds.\n",
            "\u001b[36m(ClientAppActor pid=4505)\u001b[0m precision 0.6491228070175439, recall 0.7551020408163265, f1 0.6981132075471698\n"
          ]
        },
        {
          "output_type": "stream",
          "name": "stderr",
          "text": [
            "\u001b[92mINFO \u001b[0m:      aggregate_evaluate: received 5 results and 0 failures\n",
            "\u001b[92mINFO \u001b[0m:      \n",
            "\u001b[92mINFO \u001b[0m:      [SUMMARY]\n",
            "\u001b[92mINFO \u001b[0m:      Run finished 5 round(s) in 1109.76s\n",
            "\u001b[92mINFO \u001b[0m:      \tHistory (loss, distributed):\n",
            "\u001b[92mINFO \u001b[0m:      \t\tround 1: 0.6933144755458713\n",
            "\u001b[92mINFO \u001b[0m:      \t\tround 2: 0.6898562476876078\n",
            "\u001b[92mINFO \u001b[0m:      \t\tround 3: 0.683060664041212\n",
            "\u001b[92mINFO \u001b[0m:      \t\tround 4: 0.6696814134028668\n",
            "\u001b[92mINFO \u001b[0m:      \t\tround 5: 0.6572235459245547\n",
            "\u001b[92mINFO \u001b[0m:      \tHistory (metrics, distributed, evaluate):\n",
            "\u001b[92mINFO \u001b[0m:      \t{'accuracy': [(1, 0.45056179775280897),\n",
            "\u001b[92mINFO \u001b[0m:      \t              (2, 0.5494382022471911),\n",
            "\u001b[92mINFO \u001b[0m:      \t              (3, 0.6008988764044944),\n",
            "\u001b[92mINFO \u001b[0m:      \t              (4, 0.6590511860174783),\n",
            "\u001b[92mINFO \u001b[0m:      \t              (5, 0.6613233458177278)]}\n",
            "\u001b[92mINFO \u001b[0m:      \n"
          ]
        },
        {
          "output_type": "stream",
          "name": "stdout",
          "text": [
            "\u001b[36m(ClientAppActor pid=4505)\u001b[0m Client eval in 1.87 seconds.\n",
            "\u001b[36m(ClientAppActor pid=4505)\u001b[0m precision 0.6610169491525424, recall 0.8666666666666667, f1 0.75\n"
          ]
        }
      ]
    },
    {
      "cell_type": "code",
      "source": [
        "#Estimates the size of a PyTorch model in bytes\n",
        "def estimate_model_size(model):\n",
        "    param_size = 0\n",
        "    for param in model.parameters():\n",
        "        param_size += param.numel() * param.element_size()\n",
        "    buffer_size = 0\n",
        "    for buffer in model.buffers():\n",
        "        buffer_size += buffer.numel() * buffer.element_size()\n",
        "    return param_size + buffer_size\n",
        "\n",
        "binary_model = NetNIH().to(DEVICE)\n",
        "model_size_bytes = estimate_model_size(binary_model)\n",
        "model_size_mb = model_size_bytes / (1024 * 1024)\n",
        "num_rounds = 5\n",
        "num_clients = NUM_CLIENTS\n",
        "\n",
        "uplink_per_round_bytes = num_clients * model_size_bytes\n",
        "downlink_per_round_bytes = num_clients * model_size_bytes\n",
        "total_uplink_bytes = num_rounds * uplink_per_round_bytes\n",
        "total_downlink_bytes = num_rounds * downlink_per_round_bytes\n",
        "total_communication_bytes = total_uplink_bytes + total_downlink_bytes\n",
        "\n",
        "uplink_mb = total_uplink_bytes / (1024 * 1024)\n",
        "downlink_mb = total_downlink_bytes / (1024 * 1024)\n",
        "total_mb = total_communication_bytes / (1024 * 1024)\n",
        "\n",
        "print(\"\\n--- Federated Learning Communication Overhead Estimation ---\")\n",
        "print(f\"Estimated model size: {model_size_mb:.2f} MB\")\n",
        "print(f\"Number of clients: {num_clients}\")\n",
        "print(f\"Number of rounds: {num_rounds}\")\n",
        "print(f\"Estimated uplink communication (total): {uplink_mb:.2f} MB\")\n",
        "print(f\"Estimated downlink communication (total): {downlink_mb:.2f} MB\")\n",
        "print(f\"Estimated total communication: {total_mb:.2f} MB\")"
      ],
      "metadata": {
        "colab": {
          "base_uri": "https://localhost:8080/"
        },
        "id": "B8ZKV_yxE8vY",
        "outputId": "c173af74-fad3-4a45-881c-65fd72e32d7e"
      },
      "execution_count": null,
      "outputs": [
        {
          "output_type": "stream",
          "name": "stdout",
          "text": [
            "\n",
            "--- Federated Learning Communication Overhead Estimation ---\n",
            "Estimated model size: 99.73 MB\n",
            "Number of clients: 5\n",
            "Number of rounds: 5\n",
            "Estimated uplink communication (total): 2493.37 MB\n",
            "Estimated downlink communication (total): 2493.37 MB\n",
            "Estimated total communication: 4986.73 MB\n"
          ]
        }
      ]
    },
    {
      "cell_type": "code",
      "source": [
        "from torch.utils.data import DataLoader\n",
        "from torchvision import transforms\n",
        "\n",
        "transform = transforms.Compose([\n",
        "    transforms.Resize((224, 224)),\n",
        "    transforms.ToTensor(),\n",
        "    transforms.Normalize(mean=[0.485, 0.456, 0.406], std=[0.229, 0.224, 0.225])\n",
        "])\n",
        "\n",
        "# Create the full centralized train dataset\n",
        "central_trainset = CXRDataset(train_df, \"./nih_images/train/\", transform=transform)\n",
        "\n",
        "# Create the full test dataset\n",
        "central_testset = CXRDataset(test_df, \"./nih_images/test/\", transform=transform)\n",
        "\n",
        "# Now, DataLoaders\n",
        "central_train_loader = DataLoader(central_trainset, batch_size=BATCH_SIZE, shuffle=False)\n",
        "test_loader = DataLoader(central_testset, batch_size=BATCH_SIZE, shuffle=False)\n",
        "\n",
        "# Step 1: Rebuild model\n",
        "global_model = NetNIH().to(DEVICE)\n",
        "\n",
        "# Step 2: Load saved weights\n",
        "global_model = load_weights_into_model(global_model, \"/content/FedAvg - round-5-weights.npz\")\n",
        "\n",
        "# Step 3: Run MIA\n",
        "mia_auc = run_membership_inference_attack(global_model, central_train_loader, test_loader)\n",
        "print(f\"Membership Inference Attack AUC: {mia_auc:.4f}\")"
      ],
      "metadata": {
        "colab": {
          "base_uri": "https://localhost:8080/"
        },
        "id": "XFd4O04CKP_a",
        "outputId": "fdae2669-7cec-4c10-c1b0-30ddd10b935f"
      },
      "execution_count": null,
      "outputs": [
        {
          "output_type": "stream",
          "name": "stdout",
          "text": [
            "Loaded weights from /content/FedAvg - round-5-weights.npz into model successfully.\n",
            "[Privacy Risk] Membership Inference Attack AUC: 0.5190\n",
            "Membership Inference Attack AUC: 0.5190\n"
          ]
        }
      ]
    },
    {
      "cell_type": "markdown",
      "source": [
        "## 1. FedAvg-DP"
      ],
      "metadata": {
        "id": "iDs3b9gE2hIM"
      }
    },
    {
      "cell_type": "code",
      "source": [
        "#Functions to get parameters and set parameters\n",
        "def set_parameters(net, parameters: List[np.ndarray]):\n",
        "    params_dict = zip(net.state_dict().keys(), parameters)\n",
        "    state_dict = OrderedDict({k: torch.Tensor(v) for k, v in params_dict})\n",
        "    net.load_state_dict(state_dict, strict=True)\n",
        "\n",
        "def get_parameters(net) -> List[np.ndarray]:\n",
        "    return [val.cpu().numpy() for _, val in net.state_dict().items()]"
      ],
      "metadata": {
        "id": "nebxG34L2hIP"
      },
      "execution_count": 25,
      "outputs": []
    },
    {
      "cell_type": "code",
      "source": [
        "#Define Client class for FedAvg\n",
        "class FAClient(NumPyClient):\n",
        "    def __init__(self, net, trainloader, valloader):\n",
        "        self.net = net\n",
        "        self.trainloader = trainloader\n",
        "        self.valloader = valloader\n",
        "\n",
        "    def get_parameters(self, config):\n",
        "        return get_parameters(self.net)\n",
        "\n",
        "    def fit(self, parameters, config):\n",
        "        set_parameters(self.net, parameters)\n",
        "        fit_start_time = time.time()\n",
        "        train(self.net, self.trainloader, epochs=2) # train here.\n",
        "        fit_end_time = time.time()\n",
        "        fit_duration = fit_end_time - fit_start_time\n",
        "        print(f\"Client fit in {fit_duration:.2f} seconds.\")\n",
        "        return get_parameters(self.net), len(self.trainloader), {}\n",
        "\n",
        "    def evaluate(self, parameters, config):\n",
        "        set_parameters(self.net, parameters)\n",
        "        eval_start_time = time.time()\n",
        "        loss, accuracy, precision, recall, f1  = test(self.net, self.valloader)\n",
        "        eval_end_time = time.time()\n",
        "        eval_duration = eval_end_time - eval_start_time\n",
        "        print(f\"Client eval in {eval_duration:.2f} seconds.\")\n",
        "        print(f\"precision {precision}, recall {recall}, f1 {f1}\")\n",
        "        return float(loss), len(self.valloader), {\"accuracy\": float(accuracy)}"
      ],
      "metadata": {
        "id": "OY6VcJoe2hIP"
      },
      "execution_count": 26,
      "outputs": []
    },
    {
      "cell_type": "code",
      "source": [
        "#Create a Flower client representing a single organization\n",
        "def client_fn(context: Context) -> Client:\n",
        "    net = NetNIH().to(DEVICE)\n",
        "    partition_id = context.node_config[\"partition-id\"]\n",
        "    trainloader, valloader, _ = load_datasets(partition_id=partition_id)\n",
        "    return FAClient(net, trainloader, valloader).to_client()\n",
        "\n",
        "FAclient = ClientApp(client_fn=client_fn, mods=[fixedclipping_mod])"
      ],
      "metadata": {
        "id": "EY2zqmdA2hIP"
      },
      "execution_count": 27,
      "outputs": []
    },
    {
      "cell_type": "code",
      "source": [
        "def weighted_average(metrics: List[Tuple[int, Metrics]]) -> Metrics:\n",
        "    accuracies = [num_examples * m[\"accuracy\"] for num_examples, m in metrics]\n",
        "    examples = [num_examples for num_examples, _ in metrics]\n",
        "\n",
        "    return {\"accuracy\": sum(accuracies) / sum(examples)}"
      ],
      "metadata": {
        "id": "5B59--fq2hIP"
      },
      "execution_count": 28,
      "outputs": []
    },
    {
      "cell_type": "code",
      "source": [
        "#Saves the final model and retrieves model parameters\n",
        "class SaveModelStrategy(flwr.server.strategy.FedAvg):\n",
        "    def aggregate_fit(\n",
        "        self,\n",
        "        server_round,\n",
        "        results,\n",
        "        failures,\n",
        "    ):\n",
        "\n",
        "        # Call aggregate_fit from base class (FedAvg) to aggregate parameters and metrics\n",
        "        aggregated_parameters, aggregated_metrics = super().aggregate_fit(\n",
        "            server_round, results, failures\n",
        "        )\n",
        "\n",
        "        if aggregated_parameters is not None:\n",
        "            aggregated_ndarrays: list[np.ndarray] = flwr.common.parameters_to_ndarrays(\n",
        "                aggregated_parameters\n",
        "            )\n",
        "\n",
        "            print(f\"FedAvg-DP - Saving round {server_round} aggregated_ndarrays...\")\n",
        "            np.savez(f\"FedAvg-DP - round-{server_round}-weights.npz\", *aggregated_ndarrays)\n",
        "\n",
        "        return aggregated_parameters, aggregated_metrics\n",
        "\n",
        "\n",
        "# Create strategy and pass into ServerApp\n",
        "def server_fn(context):\n",
        "    FAstrategy = SaveModelStrategy(\n",
        "        fraction_fit=1.0,  # Sample 100% of available clients for training\n",
        "        fraction_evaluate=1.0,  # Sample 100% of available clients for evaluation\n",
        "        min_fit_clients=5,  # Never sample less than 5 clients for training\n",
        "        min_evaluate_clients=5,  # Never sample less than 5 clients for evaluation\n",
        "        min_available_clients=5,  # Wait until all 5 clients are available\n",
        "        evaluate_metrics_aggregation_fn=weighted_average, # metric aggregation function\n",
        "    )\n",
        "\n",
        "    # === Wrap in client-side DP fixed clipping ===\n",
        "    dp_strategy = DifferentialPrivacyClientSideFixedClipping(\n",
        "        FAstrategy,\n",
        "        noise_multiplier=1.0,    # σ (tune as needed)\n",
        "        clipping_norm=1.0,       # C (tune as needed)\n",
        "        num_sampled_clients=5,   # number of clients per round\n",
        "    )\n",
        "    config = ServerConfig(num_rounds=5)\n",
        "    return ServerAppComponents(strategy=dp_strategy, config=config)\n",
        "\n",
        "\n",
        "FAserver = ServerApp(server_fn=server_fn)"
      ],
      "metadata": {
        "id": "KVkhHyI82hIP"
      },
      "execution_count": 38,
      "outputs": []
    },
    {
      "cell_type": "code",
      "source": [
        "backend_config = {\"client_resources\": {\"num_cpus\": 1, \"num_gpus\": 0.0}}\n",
        "if DEVICE == \"cuda\":\n",
        "    backend_config = {\"client_resources\": {\"num_cpus\": 1, \"num_gpus\": 1.0}}"
      ],
      "metadata": {
        "id": "CYGvXTul2hIP"
      },
      "execution_count": 39,
      "outputs": []
    },
    {
      "cell_type": "code",
      "source": [
        "# Run FL simulation\n",
        "run_simulation(\n",
        "    server_app=FAserver,\n",
        "    client_app=FAclient,\n",
        "    num_supernodes=NUM_CLIENTS,\n",
        "    backend_config=backend_config,\n",
        ")"
      ],
      "metadata": {
        "colab": {
          "base_uri": "https://localhost:8080/"
        },
        "outputId": "8f01131e-e4c9-4338-c765-807599365e02",
        "collapsed": true,
        "id": "WEYXeyer2hIQ"
      },
      "execution_count": 40,
      "outputs": [
        {
          "output_type": "stream",
          "name": "stderr",
          "text": [
            "\u001b[92mINFO \u001b[0m:      Starting Flower ServerApp, config: num_rounds=5, no round_timeout\n",
            "\u001b[92mINFO \u001b[0m:      \n",
            "\u001b[92mINFO \u001b[0m:      [INIT]\n",
            "\u001b[92mINFO \u001b[0m:      Requesting initial parameters from one random client\n",
            "\u001b[36m(pid=31363)\u001b[0m 2025-04-26 02:52:35.805172: E external/local_xla/xla/stream_executor/cuda/cuda_fft.cc:477] Unable to register cuFFT factory: Attempting to register factory for plugin cuFFT when one has already been registered\n",
            "\u001b[36m(pid=31363)\u001b[0m WARNING: All log messages before absl::InitializeLog() is called are written to STDERR\n",
            "\u001b[36m(pid=31363)\u001b[0m E0000 00:00:1745635955.907488   31363 cuda_dnn.cc:8310] Unable to register cuDNN factory: Attempting to register factory for plugin cuDNN when one has already been registered\n",
            "\u001b[36m(pid=31363)\u001b[0m E0000 00:00:1745635955.917692   31363 cuda_blas.cc:1418] Unable to register cuBLAS factory: Attempting to register factory for plugin cuBLAS when one has already been registered\n",
            "\u001b[92mINFO \u001b[0m:      Received initial parameters from one random client\n",
            "\u001b[92mINFO \u001b[0m:      Starting evaluation of initial global parameters\n",
            "\u001b[92mINFO \u001b[0m:      Evaluation returned no results (`None`)\n",
            "\u001b[92mINFO \u001b[0m:      \n",
            "\u001b[92mINFO \u001b[0m:      [ROUND 1]\n",
            "\u001b[92mINFO \u001b[0m:      configure_fit: strategy sampled 5 clients (out of 5)\n"
          ]
        },
        {
          "output_type": "stream",
          "name": "stdout",
          "text": [
            "\u001b[36m(ClientAppActor pid=31363)\u001b[0m Epoch: 1/2, train loss 0.7041, accuracy 0.5465, precision 0.5574, recall 0.9495, f1-score 0.7024, epoch time: 21.4641 s, GPU Memory: Allocated: 419.46 MB, Reserved: 2130.00 MB\n",
            "\u001b[36m(ClientAppActor pid=31363)\u001b[0m Epoch: 2/2, train loss 0.6805, accuracy 0.5626, precision 0.5634, recall 0.9956, f1-score 0.7196, epoch time: 20.2843 s, GPU Memory: Allocated: 419.46 MB, Reserved: 2130.00 MB\n",
            "\u001b[36m(ClientAppActor pid=31363)\u001b[0m Total Training Time: 41.7493 seconds\n",
            "\u001b[36m(ClientAppActor pid=31363)\u001b[0m Client fit in 41.75 seconds.\n"
          ]
        },
        {
          "output_type": "stream",
          "name": "stderr",
          "text": [
            "\u001b[36m(ClientAppActor pid=31363)\u001b[0m \u001b[92mINFO \u001b[0m:      fixedclipping_mod: parameters are clipped by value: 1.0000.\n"
          ]
        },
        {
          "output_type": "stream",
          "name": "stdout",
          "text": [
            "\u001b[36m(ClientAppActor pid=31363)\u001b[0m Epoch: 1/2, train loss 0.7064, accuracy 0.5415, precision 0.5501, recall 0.9463, f1-score 0.6957, epoch time: 21.3251 s, GPU Memory: Allocated: 419.42 MB, Reserved: 2130.00 MB\n",
            "\u001b[36m(ClientAppActor pid=31363)\u001b[0m Epoch: 2/2, train loss 0.6947, accuracy 0.5551, precision 0.5550, recall 0.9933, f1-score 0.7121, epoch time: 20.0432 s, GPU Memory: Allocated: 419.42 MB, Reserved: 2130.00 MB\n",
            "\u001b[36m(ClientAppActor pid=31363)\u001b[0m Total Training Time: 41.3713 seconds\n",
            "\u001b[36m(ClientAppActor pid=31363)\u001b[0m Client fit in 41.37 seconds.\n"
          ]
        },
        {
          "output_type": "stream",
          "name": "stderr",
          "text": [
            "\u001b[36m(ClientAppActor pid=31363)\u001b[0m \u001b[92mINFO \u001b[0m:      fixedclipping_mod: parameters are clipped by value: 1.0000.\n"
          ]
        },
        {
          "output_type": "stream",
          "name": "stdout",
          "text": [
            "\u001b[36m(ClientAppActor pid=31363)\u001b[0m Epoch: 1/2, train loss 0.7775, accuracy 0.5328, precision 0.5380, recall 0.9145, f1-score 0.6775, epoch time: 22.4340 s, GPU Memory: Allocated: 419.42 MB, Reserved: 2130.00 MB\n",
            "\u001b[36m(ClientAppActor pid=31363)\u001b[0m Epoch: 2/2, train loss 0.6850, accuracy 0.5353, precision 0.5364, recall 0.9861, f1-score 0.6949, epoch time: 19.0320 s, GPU Memory: Allocated: 419.42 MB, Reserved: 2130.00 MB\n",
            "\u001b[36m(ClientAppActor pid=31363)\u001b[0m Total Training Time: 41.4670 seconds\n",
            "\u001b[36m(ClientAppActor pid=31363)\u001b[0m Client fit in 41.47 seconds.\n"
          ]
        },
        {
          "output_type": "stream",
          "name": "stderr",
          "text": [
            "\u001b[36m(ClientAppActor pid=31363)\u001b[0m \u001b[92mINFO \u001b[0m:      fixedclipping_mod: parameters are clipped by value: 1.0000.\n"
          ]
        },
        {
          "output_type": "stream",
          "name": "stdout",
          "text": [
            "\u001b[36m(ClientAppActor pid=31363)\u001b[0m Epoch: 1/2, train loss 0.6921, accuracy 0.5638, precision 0.5602, recall 0.8611, f1-score 0.6788, epoch time: 20.8957 s, GPU Memory: Allocated: 419.42 MB, Reserved: 2130.00 MB\n",
            "\u001b[36m(ClientAppActor pid=31363)\u001b[0m Epoch: 2/2, train loss 0.6740, accuracy 0.5874, precision 0.5855, recall 0.7847, f1-score 0.6706, epoch time: 18.8571 s, GPU Memory: Allocated: 419.42 MB, Reserved: 2130.00 MB\n",
            "\u001b[36m(ClientAppActor pid=31363)\u001b[0m Total Training Time: 39.7535 seconds\n",
            "\u001b[36m(ClientAppActor pid=31363)\u001b[0m Client fit in 39.75 seconds.\n"
          ]
        },
        {
          "output_type": "stream",
          "name": "stderr",
          "text": [
            "\u001b[36m(ClientAppActor pid=31363)\u001b[0m \u001b[92mINFO \u001b[0m:      fixedclipping_mod: parameters are clipped by value: 1.0000.\n"
          ]
        },
        {
          "output_type": "stream",
          "name": "stdout",
          "text": [
            "\u001b[36m(ClientAppActor pid=31363)\u001b[0m Epoch: 1/2, train loss 0.7022, accuracy 0.5519, precision 0.5544, recall 0.9665, f1-score 0.7046, epoch time: 20.7383 s, GPU Memory: Allocated: 420.94 MB, Reserved: 2130.00 MB\n",
            "\u001b[36m(ClientAppActor pid=31363)\u001b[0m Epoch: 2/2, train loss 0.6870, accuracy 0.5506, precision 0.5534, recall 0.9710, f1-score 0.7050, epoch time: 18.9481 s, GPU Memory: Allocated: 420.94 MB, Reserved: 2130.00 MB\n",
            "\u001b[36m(ClientAppActor pid=31363)\u001b[0m Total Training Time: 39.6872 seconds\n",
            "\u001b[36m(ClientAppActor pid=31363)\u001b[0m Client fit in 39.69 seconds.\n"
          ]
        },
        {
          "output_type": "stream",
          "name": "stderr",
          "text": [
            "\u001b[36m(ClientAppActor pid=31363)\u001b[0m \u001b[92mINFO \u001b[0m:      fixedclipping_mod: parameters are clipped by value: 1.0000.\n",
            "\u001b[92mINFO \u001b[0m:      aggregate_fit: received 5 results and 0 failures\n",
            "\u001b[93mWARNING \u001b[0m:   No fit_metrics_aggregation_fn provided\n"
          ]
        },
        {
          "output_type": "stream",
          "name": "stdout",
          "text": [
            "FedAvg-DP - Saving round 1 aggregated_ndarrays...\n"
          ]
        },
        {
          "output_type": "stream",
          "name": "stderr",
          "text": [
            "\u001b[92mINFO \u001b[0m:      aggregate_fit: central DP noise with 0.2000 stdev added\n",
            "\u001b[92mINFO \u001b[0m:      configure_evaluate: strategy sampled 5 clients (out of 5)\n"
          ]
        },
        {
          "output_type": "stream",
          "name": "stdout",
          "text": [
            "\u001b[36m(ClientAppActor pid=31363)\u001b[0m Client eval in 1.92 seconds.\n",
            "\u001b[36m(ClientAppActor pid=31363)\u001b[0m precision 0.6231884057971014, recall 0.7962962962962963, f1 0.6991869918699187\n",
            "\u001b[36m(ClientAppActor pid=31363)\u001b[0m Client eval in 1.90 seconds.\n",
            "\u001b[36m(ClientAppActor pid=31363)\u001b[0m precision 0.5416666666666666, recall 0.78, f1 0.639344262295082\n",
            "\u001b[36m(ClientAppActor pid=31363)\u001b[0m Client eval in 1.93 seconds.\n",
            "\u001b[36m(ClientAppActor pid=31363)\u001b[0m precision 0.5205479452054794, recall 0.8085106382978723, f1 0.6333333333333333\n",
            "\u001b[36m(ClientAppActor pid=31363)\u001b[0m Client eval in 1.91 seconds.\n",
            "\u001b[36m(ClientAppActor pid=31363)\u001b[0m precision 0.5974025974025974, recall 0.9387755102040817, f1 0.7301587301587301\n"
          ]
        },
        {
          "output_type": "stream",
          "name": "stderr",
          "text": [
            "\u001b[92mINFO \u001b[0m:      aggregate_evaluate: received 5 results and 0 failures\n",
            "\u001b[92mINFO \u001b[0m:      \n",
            "\u001b[92mINFO \u001b[0m:      [ROUND 2]\n",
            "\u001b[92mINFO \u001b[0m:      configure_fit: strategy sampled 5 clients (out of 5)\n"
          ]
        },
        {
          "output_type": "stream",
          "name": "stdout",
          "text": [
            "\u001b[36m(ClientAppActor pid=31363)\u001b[0m Client eval in 2.73 seconds.\n",
            "\u001b[36m(ClientAppActor pid=31363)\u001b[0m precision 0.49295774647887325, recall 0.7777777777777778, f1 0.603448275862069\n",
            "\u001b[36m(ClientAppActor pid=31363)\u001b[0m Epoch: 1/2, train loss 50.1232, accuracy 0.4981, precision 0.5749, recall 0.4220, f1-score 0.4867, epoch time: 18.8921 s, GPU Memory: Allocated: 419.42 MB, Reserved: 2130.00 MB\n",
            "\u001b[36m(ClientAppActor pid=31363)\u001b[0m Epoch: 2/2, train loss 54.8947, accuracy 0.4511, precision 0.5667, recall 0.1121, f1-score 0.1872, epoch time: 20.0266 s, GPU Memory: Allocated: 419.42 MB, Reserved: 2130.00 MB\n",
            "\u001b[36m(ClientAppActor pid=31363)\u001b[0m Total Training Time: 38.9194 seconds\n",
            "\u001b[36m(ClientAppActor pid=31363)\u001b[0m Client fit in 38.92 seconds.\n"
          ]
        },
        {
          "output_type": "stream",
          "name": "stderr",
          "text": [
            "\u001b[36m(ClientAppActor pid=31363)\u001b[0m \u001b[92mINFO \u001b[0m:      fixedclipping_mod: parameters are clipped by value: 1.0000.\n"
          ]
        },
        {
          "output_type": "stream",
          "name": "stdout",
          "text": [
            "\u001b[36m(ClientAppActor pid=31363)\u001b[0m Epoch: 1/2, train loss 47.7725, accuracy 0.5217, precision 0.5639, recall 0.6018, f1-score 0.5823, epoch time: 18.8193 s, GPU Memory: Allocated: 419.42 MB, Reserved: 2130.00 MB\n",
            "\u001b[36m(ClientAppActor pid=31363)\u001b[0m Epoch: 2/2, train loss 47.3358, accuracy 0.5266, precision 0.5476, recall 0.8367, f1-score 0.6619, epoch time: 19.7997 s, GPU Memory: Allocated: 419.42 MB, Reserved: 2130.00 MB\n",
            "\u001b[36m(ClientAppActor pid=31363)\u001b[0m Total Training Time: 38.6197 seconds\n",
            "\u001b[36m(ClientAppActor pid=31363)\u001b[0m Client fit in 38.62 seconds.\n"
          ]
        },
        {
          "output_type": "stream",
          "name": "stderr",
          "text": [
            "\u001b[36m(ClientAppActor pid=31363)\u001b[0m \u001b[92mINFO \u001b[0m:      fixedclipping_mod: parameters are clipped by value: 1.0000.\n"
          ]
        },
        {
          "output_type": "stream",
          "name": "stdout",
          "text": [
            "\u001b[36m(ClientAppActor pid=31363)\u001b[0m Epoch: 1/2, train loss 46.5923, accuracy 0.5341, precision 0.5610, recall 0.6051, f1-score 0.5822, epoch time: 18.8520 s, GPU Memory: Allocated: 419.42 MB, Reserved: 2130.00 MB\n",
            "\u001b[36m(ClientAppActor pid=31363)\u001b[0m Epoch: 2/2, train loss 51.0533, accuracy 0.4895, precision 0.5238, recall 0.5335, f1-score 0.5286, epoch time: 19.8162 s, GPU Memory: Allocated: 419.42 MB, Reserved: 2130.00 MB\n",
            "\u001b[36m(ClientAppActor pid=31363)\u001b[0m Total Training Time: 38.6689 seconds\n",
            "\u001b[36m(ClientAppActor pid=31363)\u001b[0m Client fit in 38.67 seconds.\n"
          ]
        },
        {
          "output_type": "stream",
          "name": "stderr",
          "text": [
            "\u001b[36m(ClientAppActor pid=31363)\u001b[0m \u001b[92mINFO \u001b[0m:      fixedclipping_mod: parameters are clipped by value: 1.0000.\n"
          ]
        },
        {
          "output_type": "stream",
          "name": "stdout",
          "text": [
            "\u001b[36m(ClientAppActor pid=31363)\u001b[0m Epoch: 1/2, train loss 49.0706, accuracy 0.5093, precision 0.5435, recall 0.5208, f1-score 0.5319, epoch time: 18.8310 s, GPU Memory: Allocated: 419.42 MB, Reserved: 2130.00 MB\n",
            "\u001b[36m(ClientAppActor pid=31363)\u001b[0m Epoch: 2/2, train loss 52.1685, accuracy 0.4783, precision 0.5364, recall 0.1875, f1-score 0.2779, epoch time: 19.7507 s, GPU Memory: Allocated: 419.42 MB, Reserved: 2130.00 MB\n",
            "\u001b[36m(ClientAppActor pid=31363)\u001b[0m Total Training Time: 38.5825 seconds\n",
            "\u001b[36m(ClientAppActor pid=31363)\u001b[0m Client fit in 38.58 seconds.\n"
          ]
        },
        {
          "output_type": "stream",
          "name": "stderr",
          "text": [
            "\u001b[36m(ClientAppActor pid=31363)\u001b[0m \u001b[92mINFO \u001b[0m:      fixedclipping_mod: parameters are clipped by value: 1.0000.\n"
          ]
        },
        {
          "output_type": "stream",
          "name": "stdout",
          "text": [
            "\u001b[36m(ClientAppActor pid=31363)\u001b[0m Epoch: 1/2, train loss 51.4822, accuracy 0.4852, precision 0.5838, recall 0.2411, f1-score 0.3412, epoch time: 18.7841 s, GPU Memory: Allocated: 420.94 MB, Reserved: 2130.00 MB\n",
            "\u001b[36m(ClientAppActor pid=31363)\u001b[0m Epoch: 2/2, train loss 54.4444, accuracy 0.4556, precision 0.5455, recall 0.0938, f1-score 0.1600, epoch time: 19.7332 s, GPU Memory: Allocated: 420.94 MB, Reserved: 2130.00 MB\n",
            "\u001b[36m(ClientAppActor pid=31363)\u001b[0m Total Training Time: 38.5183 seconds\n",
            "\u001b[36m(ClientAppActor pid=31363)\u001b[0m Client fit in 38.52 seconds.\n"
          ]
        },
        {
          "output_type": "stream",
          "name": "stderr",
          "text": [
            "\u001b[36m(ClientAppActor pid=31363)\u001b[0m \u001b[92mINFO \u001b[0m:      fixedclipping_mod: parameters are clipped by value: 1.0000.\n",
            "\u001b[92mINFO \u001b[0m:      aggregate_fit: received 5 results and 0 failures\n"
          ]
        },
        {
          "output_type": "stream",
          "name": "stdout",
          "text": [
            "FedAvg-DP - Saving round 2 aggregated_ndarrays...\n"
          ]
        },
        {
          "output_type": "stream",
          "name": "stderr",
          "text": [
            "\u001b[92mINFO \u001b[0m:      aggregate_fit: central DP noise with 0.2000 stdev added\n",
            "\u001b[92mINFO \u001b[0m:      configure_evaluate: strategy sampled 5 clients (out of 5)\n"
          ]
        },
        {
          "output_type": "stream",
          "name": "stdout",
          "text": [
            "\u001b[36m(ClientAppActor pid=31363)\u001b[0m Client eval in 1.82 seconds.\n",
            "\u001b[36m(ClientAppActor pid=31363)\u001b[0m precision 0.6067415730337079, recall 1.0, f1 0.7552447552447552\n",
            "\u001b[36m(ClientAppActor pid=31363)\u001b[0m Client eval in 1.84 seconds.\n",
            "\u001b[36m(ClientAppActor pid=31363)\u001b[0m precision 0.5568181818181818, recall 0.98, f1 0.7101449275362319\n",
            "\u001b[36m(ClientAppActor pid=31363)\u001b[0m Client eval in 2.60 seconds.\n",
            "\u001b[36m(ClientAppActor pid=31363)\u001b[0m precision 0.5287356321839081, recall 0.9787234042553191, f1 0.6865671641791045\n",
            "\u001b[36m(ClientAppActor pid=31363)\u001b[0m Client eval in 1.86 seconds.\n",
            "\u001b[36m(ClientAppActor pid=31363)\u001b[0m precision 0.5454545454545454, recall 0.9795918367346939, f1 0.7007299270072993\n"
          ]
        },
        {
          "output_type": "stream",
          "name": "stderr",
          "text": [
            "\u001b[92mINFO \u001b[0m:      aggregate_evaluate: received 5 results and 0 failures\n",
            "\u001b[92mINFO \u001b[0m:      \n",
            "\u001b[92mINFO \u001b[0m:      [ROUND 3]\n",
            "\u001b[92mINFO \u001b[0m:      configure_fit: strategy sampled 5 clients (out of 5)\n"
          ]
        },
        {
          "output_type": "stream",
          "name": "stdout",
          "text": [
            "\u001b[36m(ClientAppActor pid=31363)\u001b[0m Client eval in 1.86 seconds.\n",
            "\u001b[36m(ClientAppActor pid=31363)\u001b[0m precision 0.5, recall 0.9777777777777777, f1 0.6616541353383458\n",
            "\u001b[36m(ClientAppActor pid=31363)\u001b[0m Epoch: 1/2, train loss 46.4684, accuracy 0.5353, precision 0.5738, recall 0.6835, f1-score 0.6239, epoch time: 19.0023 s, GPU Memory: Allocated: 419.42 MB, Reserved: 2130.00 MB\n",
            "\u001b[36m(ClientAppActor pid=31363)\u001b[0m Epoch: 2/2, train loss 47.0880, accuracy 0.5291, precision 0.5712, recall 0.6615, f1-score 0.6130, epoch time: 19.6633 s, GPU Memory: Allocated: 419.42 MB, Reserved: 2130.00 MB\n",
            "\u001b[36m(ClientAppActor pid=31363)\u001b[0m Total Training Time: 38.6664 seconds\n",
            "\u001b[36m(ClientAppActor pid=31363)\u001b[0m Client fit in 38.67 seconds.\n"
          ]
        },
        {
          "output_type": "stream",
          "name": "stderr",
          "text": [
            "\u001b[91mERROR \u001b[0m:     An exception was raised when processing a message by RayBackend\n",
            "\u001b[91mERROR \u001b[0m:     \u001b[36mray::ClientAppActor.run()\u001b[39m (pid=31363, ip=172.28.0.12, actor_id=7627faab50fef30fe0bdb71f01000000, repr=<flwr.simulation.ray_transport.ray_actor.ClientAppActor object at 0x79ab9631d9d0>)\n",
            "                  ^^^^^^^^^^^^^^^^^^^^^^^^^^^^^^^^^^^^^\n",
            "  File \"/usr/local/lib/python3.11/dist-packages/flwr/client/client_app.py\", line 144, in __call__\n",
            "    return self._call(message, context)\n",
            "           ^^^^^^^^^^^^^^^^^^^^^^^^^^^^\n",
            "  File \"/usr/local/lib/python3.11/dist-packages/flwr/client/mod/utils.py\", line 27, in new_ffn\n",
            "    return _mod(message, context, _ffn)\n",
            "           ^^^^^^^^^^^^^^^^^^^^^^^^^^^^\n",
            "  File \"/usr/local/lib/python3.11/dist-packages/flwr/client/mod/centraldp_mods.py\", line 79, in fixedclipping_mod\n",
            "    compute_clip_model_update(\n",
            "  File \"/usr/local/lib/python3.11/dist-packages/flwr/common/differential_privacy.py\", line 74, in compute_clip_model_update\n",
            "    clip_inputs_inplace(model_update, clipping_norm)\n",
            "  File \"/usr/local/lib/python3.11/dist-packages/flwr/common/differential_privacy.py\", line 52, in clip_inputs_inplace\n",
            "    scaling_factor = min(1, clipping_norm / input_norm)\n",
            "                            ~~~~~~~~~~~~~~^~~~~~~~~~~~\n",
            "ZeroDivisionError: float division by zero\n",
            "\n",
            "The above exception was the direct cause of the following exception:\n",
            "\n",
            "\u001b[36mray::ClientAppActor.run()\u001b[39m (pid=31363, ip=172.28.0.12, actor_id=7627faab50fef30fe0bdb71f01000000, repr=<flwr.simulation.ray_transport.ray_actor.ClientAppActor object at 0x79ab9631d9d0>)\n",
            "           ^^^^^^^^^^^^^^^^^^^^^^^^^^^^^^^^^^^^\n",
            "           ^^^^^^^^^^^^^^^^^^^^^^^^^^^^^^^\n",
            "  File \"/usr/local/lib/python3.11/dist-packages/flwr/simulation/ray_transport/ray_actor.py\", line 64, in run\n",
            "    raise ClientAppException(str(ex)) from ex\n",
            "flwr.client.client_app.ClientAppException: \n",
            "Exception ClientAppException occurred. Message: float division by zero\n",
            "\u001b[91mERROR \u001b[0m:     Traceback (most recent call last):\n",
            "  File \"/usr/local/lib/python3.11/dist-packages/flwr/server/superlink/fleet/vce/vce_api.py\", line 111, in worker\n",
            "    out_mssg, updated_context = backend.process_message(message, context)\n",
            "                                ^^^^^^^^^^^^^^^^^^^^^^^^^^^^^^^^^^^^^^^^^\n",
            "  File \"/usr/local/lib/python3.11/dist-packages/flwr/server/superlink/fleet/vce/backend/raybackend.py\", line 187, in process_message\n",
            "    raise ex\n",
            "  File \"/usr/local/lib/python3.11/dist-packages/flwr/server/superlink/fleet/vce/backend/raybackend.py\", line 175, in process_message\n",
            "    ) = self.pool.fetch_result_and_return_actor_to_pool(future)\n",
            "        ^^^^^^^^^^^^^^^^^^^^^^^^^^^^^^^^^^^^^^^^^^^^^^^^^^^^^^^\n",
            "  File \"/usr/local/lib/python3.11/dist-packages/flwr/simulation/ray_transport/ray_actor.py\", line 480, in fetch_result_and_return_actor_to_pool\n",
            "    _, out_mssg, updated_context = ray.get(future)\n",
            "                                   ^^^^^^^^^^^^^^^\n",
            "  File \"/usr/local/lib/python3.11/dist-packages/ray/_private/auto_init_hook.py\", line 21, in auto_init_wrapper\n",
            "    return fn(*args, **kwargs)\n",
            "           ^^^^^^^^^^^^^^^^^^^\n",
            "  File \"/usr/local/lib/python3.11/dist-packages/ray/_private/client_mode_hook.py\", line 103, in wrapper\n",
            "    return func(*args, **kwargs)\n",
            "           ^^^^^^^^^^^^^^^^^^^^^\n",
            "  File \"/usr/local/lib/python3.11/dist-packages/ray/_private/worker.py\", line 2639, in get\n",
            "    values, debugger_breakpoint = worker.get_objects(object_refs, timeout=timeout)\n",
            "                                  ^^^^^^^^^^^^^^^^^^^^^^^^^^^^^^^^^^^^^^^^^^^^^^^^\n",
            "  File \"/usr/local/lib/python3.11/dist-packages/ray/_private/worker.py\", line 864, in get_objects\n",
            "    raise value.as_instanceof_cause()\n",
            "ray.exceptions.RayTaskError(ClientAppException): \u001b[36mray::ClientAppActor.run()\u001b[39m (pid=31363, ip=172.28.0.12, actor_id=7627faab50fef30fe0bdb71f01000000, repr=<flwr.simulation.ray_transport.ray_actor.ClientAppActor object at 0x79ab9631d9d0>)\n",
            "                  ^^^^^^^^^^^^^^^^^^^^^^^^^^^^^^^^^^^^^\n",
            "  File \"/usr/local/lib/python3.11/dist-packages/flwr/client/client_app.py\", line 144, in __call__\n",
            "    return self._call(message, context)\n",
            "           ^^^^^^^^^^^^^^^^^^^^^^^^^^^^\n",
            "  File \"/usr/local/lib/python3.11/dist-packages/flwr/client/mod/utils.py\", line 27, in new_ffn\n",
            "    return _mod(message, context, _ffn)\n",
            "           ^^^^^^^^^^^^^^^^^^^^^^^^^^^^\n",
            "  File \"/usr/local/lib/python3.11/dist-packages/flwr/client/mod/centraldp_mods.py\", line 79, in fixedclipping_mod\n",
            "    compute_clip_model_update(\n",
            "  File \"/usr/local/lib/python3.11/dist-packages/flwr/common/differential_privacy.py\", line 74, in compute_clip_model_update\n",
            "    clip_inputs_inplace(model_update, clipping_norm)\n",
            "  File \"/usr/local/lib/python3.11/dist-packages/flwr/common/differential_privacy.py\", line 52, in clip_inputs_inplace\n",
            "    scaling_factor = min(1, clipping_norm / input_norm)\n",
            "                            ~~~~~~~~~~~~~~^~~~~~~~~~~~\n",
            "ZeroDivisionError: float division by zero\n",
            "\n",
            "The above exception was the direct cause of the following exception:\n",
            "\n",
            "\u001b[36mray::ClientAppActor.run()\u001b[39m (pid=31363, ip=172.28.0.12, actor_id=7627faab50fef30fe0bdb71f01000000, repr=<flwr.simulation.ray_transport.ray_actor.ClientAppActor object at 0x79ab9631d9d0>)\n",
            "           ^^^^^^^^^^^^^^^^^^^^^^^^^^^^^^^^^^^^\n",
            "           ^^^^^^^^^^^^^^^^^^^^^^^^^^^^^^^\n",
            "  File \"/usr/local/lib/python3.11/dist-packages/flwr/simulation/ray_transport/ray_actor.py\", line 64, in run\n",
            "    raise ClientAppException(str(ex)) from ex\n",
            "flwr.client.client_app.ClientAppException: \n",
            "Exception ClientAppException occurred. Message: float division by zero\n",
            "\n"
          ]
        },
        {
          "output_type": "stream",
          "name": "stdout",
          "text": [
            "\u001b[36m(ClientAppActor pid=31363)\u001b[0m Epoch: 1/2, train loss 47.4597, accuracy 0.5254, precision 0.5599, recall 0.6689, f1-score 0.6096, epoch time: 18.7892 s, GPU Memory: Allocated: 419.42 MB, Reserved: 2130.00 MB\n",
            "\u001b[36m(ClientAppActor pid=31363)\u001b[0m Epoch: 2/2, train loss 49.0706, accuracy 0.5093, precision 0.5471, recall 0.6622, f1-score 0.5992, epoch time: 19.7505 s, GPU Memory: Allocated: 419.42 MB, Reserved: 2130.00 MB\n",
            "\u001b[36m(ClientAppActor pid=31363)\u001b[0m Total Training Time: 38.5406 seconds\n",
            "\u001b[36m(ClientAppActor pid=31363)\u001b[0m Client fit in 38.54 seconds.\n"
          ]
        },
        {
          "output_type": "stream",
          "name": "stderr",
          "text": [
            "\u001b[91mERROR \u001b[0m:     An exception was raised when processing a message by RayBackend\n",
            "\u001b[91mERROR \u001b[0m:     \u001b[36mray::ClientAppActor.run()\u001b[39m (pid=31363, ip=172.28.0.12, actor_id=7627faab50fef30fe0bdb71f01000000, repr=<flwr.simulation.ray_transport.ray_actor.ClientAppActor object at 0x79ab9631d9d0>)\n",
            "                  ^^^^^^^^^^^^^^^^^^^^^^^^^^^^^^^^^^^^^\n",
            "  File \"/usr/local/lib/python3.11/dist-packages/flwr/client/client_app.py\", line 144, in __call__\n",
            "    return self._call(message, context)\n",
            "           ^^^^^^^^^^^^^^^^^^^^^^^^^^^^\n",
            "  File \"/usr/local/lib/python3.11/dist-packages/flwr/client/mod/utils.py\", line 27, in new_ffn\n",
            "    return _mod(message, context, _ffn)\n",
            "           ^^^^^^^^^^^^^^^^^^^^^^^^^^^^\n",
            "  File \"/usr/local/lib/python3.11/dist-packages/flwr/client/mod/centraldp_mods.py\", line 79, in fixedclipping_mod\n",
            "    compute_clip_model_update(\n",
            "  File \"/usr/local/lib/python3.11/dist-packages/flwr/common/differential_privacy.py\", line 74, in compute_clip_model_update\n",
            "    clip_inputs_inplace(model_update, clipping_norm)\n",
            "  File \"/usr/local/lib/python3.11/dist-packages/flwr/common/differential_privacy.py\", line 52, in clip_inputs_inplace\n",
            "    scaling_factor = min(1, clipping_norm / input_norm)\n",
            "                            ~~~~~~~~~~~~~~^~~~~~~~~~~~\n",
            "ZeroDivisionError: float division by zero\n",
            "\n",
            "The above exception was the direct cause of the following exception:\n",
            "\n",
            "\u001b[36mray::ClientAppActor.run()\u001b[39m (pid=31363, ip=172.28.0.12, actor_id=7627faab50fef30fe0bdb71f01000000, repr=<flwr.simulation.ray_transport.ray_actor.ClientAppActor object at 0x79ab9631d9d0>)\n",
            "           ^^^^^^^^^^^^^^^^^^^^^^^^^^^^^^^^^^^^\n",
            "           ^^^^^^^^^^^^^^^^^^^^^^^^^^^^^^^\n",
            "  File \"/usr/local/lib/python3.11/dist-packages/flwr/simulation/ray_transport/ray_actor.py\", line 64, in run\n",
            "    raise ClientAppException(str(ex)) from ex\n",
            "flwr.client.client_app.ClientAppException: \n",
            "Exception ClientAppException occurred. Message: float division by zero\n",
            "\u001b[91mERROR \u001b[0m:     Traceback (most recent call last):\n",
            "  File \"/usr/local/lib/python3.11/dist-packages/flwr/server/superlink/fleet/vce/vce_api.py\", line 111, in worker\n",
            "    out_mssg, updated_context = backend.process_message(message, context)\n",
            "                                ^^^^^^^^^^^^^^^^^^^^^^^^^^^^^^^^^^^^^^^^^\n",
            "  File \"/usr/local/lib/python3.11/dist-packages/flwr/server/superlink/fleet/vce/backend/raybackend.py\", line 187, in process_message\n",
            "    raise ex\n",
            "  File \"/usr/local/lib/python3.11/dist-packages/flwr/server/superlink/fleet/vce/backend/raybackend.py\", line 175, in process_message\n",
            "    ) = self.pool.fetch_result_and_return_actor_to_pool(future)\n",
            "        ^^^^^^^^^^^^^^^^^^^^^^^^^^^^^^^^^^^^^^^^^^^^^^^^^^^^^^^\n",
            "  File \"/usr/local/lib/python3.11/dist-packages/flwr/simulation/ray_transport/ray_actor.py\", line 480, in fetch_result_and_return_actor_to_pool\n",
            "    _, out_mssg, updated_context = ray.get(future)\n",
            "                                   ^^^^^^^^^^^^^^^\n",
            "  File \"/usr/local/lib/python3.11/dist-packages/ray/_private/auto_init_hook.py\", line 21, in auto_init_wrapper\n",
            "    return fn(*args, **kwargs)\n",
            "           ^^^^^^^^^^^^^^^^^^^\n",
            "  File \"/usr/local/lib/python3.11/dist-packages/ray/_private/client_mode_hook.py\", line 103, in wrapper\n",
            "    return func(*args, **kwargs)\n",
            "           ^^^^^^^^^^^^^^^^^^^^^\n",
            "  File \"/usr/local/lib/python3.11/dist-packages/ray/_private/worker.py\", line 2639, in get\n",
            "    values, debugger_breakpoint = worker.get_objects(object_refs, timeout=timeout)\n",
            "                                  ^^^^^^^^^^^^^^^^^^^^^^^^^^^^^^^^^^^^^^^^^^^^^^^^\n",
            "  File \"/usr/local/lib/python3.11/dist-packages/ray/_private/worker.py\", line 864, in get_objects\n",
            "    raise value.as_instanceof_cause()\n",
            "ray.exceptions.RayTaskError(ClientAppException): \u001b[36mray::ClientAppActor.run()\u001b[39m (pid=31363, ip=172.28.0.12, actor_id=7627faab50fef30fe0bdb71f01000000, repr=<flwr.simulation.ray_transport.ray_actor.ClientAppActor object at 0x79ab9631d9d0>)\n",
            "                  ^^^^^^^^^^^^^^^^^^^^^^^^^^^^^^^^^^^^^\n",
            "  File \"/usr/local/lib/python3.11/dist-packages/flwr/client/client_app.py\", line 144, in __call__\n",
            "    return self._call(message, context)\n",
            "           ^^^^^^^^^^^^^^^^^^^^^^^^^^^^\n",
            "  File \"/usr/local/lib/python3.11/dist-packages/flwr/client/mod/utils.py\", line 27, in new_ffn\n",
            "    return _mod(message, context, _ffn)\n",
            "           ^^^^^^^^^^^^^^^^^^^^^^^^^^^^\n",
            "  File \"/usr/local/lib/python3.11/dist-packages/flwr/client/mod/centraldp_mods.py\", line 79, in fixedclipping_mod\n",
            "    compute_clip_model_update(\n",
            "  File \"/usr/local/lib/python3.11/dist-packages/flwr/common/differential_privacy.py\", line 74, in compute_clip_model_update\n",
            "    clip_inputs_inplace(model_update, clipping_norm)\n",
            "  File \"/usr/local/lib/python3.11/dist-packages/flwr/common/differential_privacy.py\", line 52, in clip_inputs_inplace\n",
            "    scaling_factor = min(1, clipping_norm / input_norm)\n",
            "                            ~~~~~~~~~~~~~~^~~~~~~~~~~~\n",
            "ZeroDivisionError: float division by zero\n",
            "\n",
            "The above exception was the direct cause of the following exception:\n",
            "\n",
            "\u001b[36mray::ClientAppActor.run()\u001b[39m (pid=31363, ip=172.28.0.12, actor_id=7627faab50fef30fe0bdb71f01000000, repr=<flwr.simulation.ray_transport.ray_actor.ClientAppActor object at 0x79ab9631d9d0>)\n",
            "           ^^^^^^^^^^^^^^^^^^^^^^^^^^^^^^^^^^^^\n",
            "           ^^^^^^^^^^^^^^^^^^^^^^^^^^^^^^^\n",
            "  File \"/usr/local/lib/python3.11/dist-packages/flwr/simulation/ray_transport/ray_actor.py\", line 64, in run\n",
            "    raise ClientAppException(str(ex)) from ex\n",
            "flwr.client.client_app.ClientAppException: \n",
            "Exception ClientAppException occurred. Message: float division by zero\n",
            "\n"
          ]
        },
        {
          "output_type": "stream",
          "name": "stdout",
          "text": [
            "\u001b[36m(ClientAppActor pid=31363)\u001b[0m Epoch: 1/2, train loss 47.9554, accuracy 0.5204, precision 0.5434, recall 0.6651, f1-score 0.5981, epoch time: 18.8320 s, GPU Memory: Allocated: 419.42 MB, Reserved: 2130.00 MB\n"
          ]
        },
        {
          "output_type": "stream",
          "name": "stderr",
          "text": [
            "\u001b[91mERROR \u001b[0m:     An exception was raised when processing a message by RayBackend\n",
            "\u001b[91mERROR \u001b[0m:     \u001b[36mray::ClientAppActor.run()\u001b[39m (pid=31363, ip=172.28.0.12, actor_id=7627faab50fef30fe0bdb71f01000000, repr=<flwr.simulation.ray_transport.ray_actor.ClientAppActor object at 0x79ab9631d9d0>)\n",
            "                  ^^^^^^^^^^^^^^^^^^^^^^^^^^^^^^^^^^^^^\n",
            "  File \"/usr/local/lib/python3.11/dist-packages/flwr/client/client_app.py\", line 144, in __call__\n",
            "    return self._call(message, context)\n",
            "           ^^^^^^^^^^^^^^^^^^^^^^^^^^^^\n",
            "  File \"/usr/local/lib/python3.11/dist-packages/flwr/client/mod/utils.py\", line 27, in new_ffn\n",
            "    return _mod(message, context, _ffn)\n",
            "           ^^^^^^^^^^^^^^^^^^^^^^^^^^^^\n",
            "  File \"/usr/local/lib/python3.11/dist-packages/flwr/client/mod/centraldp_mods.py\", line 79, in fixedclipping_mod\n",
            "    compute_clip_model_update(\n",
            "  File \"/usr/local/lib/python3.11/dist-packages/flwr/common/differential_privacy.py\", line 74, in compute_clip_model_update\n",
            "    clip_inputs_inplace(model_update, clipping_norm)\n",
            "  File \"/usr/local/lib/python3.11/dist-packages/flwr/common/differential_privacy.py\", line 52, in clip_inputs_inplace\n",
            "    scaling_factor = min(1, clipping_norm / input_norm)\n",
            "                            ~~~~~~~~~~~~~~^~~~~~~~~~~~\n",
            "ZeroDivisionError: float division by zero\n",
            "\n",
            "The above exception was the direct cause of the following exception:\n",
            "\n",
            "\u001b[36mray::ClientAppActor.run()\u001b[39m (pid=31363, ip=172.28.0.12, actor_id=7627faab50fef30fe0bdb71f01000000, repr=<flwr.simulation.ray_transport.ray_actor.ClientAppActor object at 0x79ab9631d9d0>)\n",
            "           ^^^^^^^^^^^^^^^^^^^^^^^^^^^^^^^^^^^^\n",
            "           ^^^^^^^^^^^^^^^^^^^^^^^^^^^^^^^\n",
            "  File \"/usr/local/lib/python3.11/dist-packages/flwr/simulation/ray_transport/ray_actor.py\", line 64, in run\n",
            "    raise ClientAppException(str(ex)) from ex\n",
            "flwr.client.client_app.ClientAppException: \n",
            "Exception ClientAppException occurred. Message: float division by zero\n",
            "\u001b[91mERROR \u001b[0m:     Traceback (most recent call last):\n",
            "  File \"/usr/local/lib/python3.11/dist-packages/flwr/server/superlink/fleet/vce/vce_api.py\", line 111, in worker\n",
            "    out_mssg, updated_context = backend.process_message(message, context)\n",
            "                                ^^^^^^^^^^^^^^^^^^^^^^^^^^^^^^^^^^^^^^^^^\n",
            "  File \"/usr/local/lib/python3.11/dist-packages/flwr/server/superlink/fleet/vce/backend/raybackend.py\", line 187, in process_message\n",
            "    raise ex\n",
            "  File \"/usr/local/lib/python3.11/dist-packages/flwr/server/superlink/fleet/vce/backend/raybackend.py\", line 175, in process_message\n",
            "    ) = self.pool.fetch_result_and_return_actor_to_pool(future)\n",
            "        ^^^^^^^^^^^^^^^^^^^^^^^^^^^^^^^^^^^^^^^^^^^^^^^^^^^^^^^\n",
            "  File \"/usr/local/lib/python3.11/dist-packages/flwr/simulation/ray_transport/ray_actor.py\", line 480, in fetch_result_and_return_actor_to_pool\n",
            "    _, out_mssg, updated_context = ray.get(future)\n",
            "                                   ^^^^^^^^^^^^^^^\n",
            "  File \"/usr/local/lib/python3.11/dist-packages/ray/_private/auto_init_hook.py\", line 21, in auto_init_wrapper\n",
            "    return fn(*args, **kwargs)\n",
            "           ^^^^^^^^^^^^^^^^^^^\n",
            "  File \"/usr/local/lib/python3.11/dist-packages/ray/_private/client_mode_hook.py\", line 103, in wrapper\n",
            "    return func(*args, **kwargs)\n",
            "           ^^^^^^^^^^^^^^^^^^^^^\n",
            "  File \"/usr/local/lib/python3.11/dist-packages/ray/_private/worker.py\", line 2639, in get\n",
            "    values, debugger_breakpoint = worker.get_objects(object_refs, timeout=timeout)\n",
            "                                  ^^^^^^^^^^^^^^^^^^^^^^^^^^^^^^^^^^^^^^^^^^^^^^^^\n",
            "  File \"/usr/local/lib/python3.11/dist-packages/ray/_private/worker.py\", line 864, in get_objects\n",
            "    raise value.as_instanceof_cause()\n",
            "ray.exceptions.RayTaskError(ClientAppException): \u001b[36mray::ClientAppActor.run()\u001b[39m (pid=31363, ip=172.28.0.12, actor_id=7627faab50fef30fe0bdb71f01000000, repr=<flwr.simulation.ray_transport.ray_actor.ClientAppActor object at 0x79ab9631d9d0>)\n",
            "                  ^^^^^^^^^^^^^^^^^^^^^^^^^^^^^^^^^^^^^\n",
            "  File \"/usr/local/lib/python3.11/dist-packages/flwr/client/client_app.py\", line 144, in __call__\n",
            "    return self._call(message, context)\n",
            "           ^^^^^^^^^^^^^^^^^^^^^^^^^^^^\n",
            "  File \"/usr/local/lib/python3.11/dist-packages/flwr/client/mod/utils.py\", line 27, in new_ffn\n",
            "    return _mod(message, context, _ffn)\n",
            "           ^^^^^^^^^^^^^^^^^^^^^^^^^^^^\n",
            "  File \"/usr/local/lib/python3.11/dist-packages/flwr/client/mod/centraldp_mods.py\", line 79, in fixedclipping_mod\n",
            "    compute_clip_model_update(\n",
            "  File \"/usr/local/lib/python3.11/dist-packages/flwr/common/differential_privacy.py\", line 74, in compute_clip_model_update\n",
            "    clip_inputs_inplace(model_update, clipping_norm)\n",
            "  File \"/usr/local/lib/python3.11/dist-packages/flwr/common/differential_privacy.py\", line 52, in clip_inputs_inplace\n",
            "    scaling_factor = min(1, clipping_norm / input_norm)\n",
            "                            ~~~~~~~~~~~~~~^~~~~~~~~~~~\n",
            "ZeroDivisionError: float division by zero\n",
            "\n",
            "The above exception was the direct cause of the following exception:\n",
            "\n",
            "\u001b[36mray::ClientAppActor.run()\u001b[39m (pid=31363, ip=172.28.0.12, actor_id=7627faab50fef30fe0bdb71f01000000, repr=<flwr.simulation.ray_transport.ray_actor.ClientAppActor object at 0x79ab9631d9d0>)\n",
            "           ^^^^^^^^^^^^^^^^^^^^^^^^^^^^^^^^^^^^\n",
            "           ^^^^^^^^^^^^^^^^^^^^^^^^^^^^^^^\n",
            "  File \"/usr/local/lib/python3.11/dist-packages/flwr/simulation/ray_transport/ray_actor.py\", line 64, in run\n",
            "    raise ClientAppException(str(ex)) from ex\n",
            "flwr.client.client_app.ClientAppException: \n",
            "Exception ClientAppException occurred. Message: float division by zero\n",
            "\n"
          ]
        },
        {
          "output_type": "stream",
          "name": "stdout",
          "text": [
            "\u001b[36m(ClientAppActor pid=31363)\u001b[0m Epoch: 2/2, train loss 45.9727, accuracy 0.5403, precision 0.5572, recall 0.6975, f1-score 0.6195, epoch time: 19.6945 s, GPU Memory: Allocated: 419.42 MB, Reserved: 2130.00 MB\n",
            "\u001b[36m(ClientAppActor pid=31363)\u001b[0m Total Training Time: 38.5273 seconds\n",
            "\u001b[36m(ClientAppActor pid=31363)\u001b[0m Client fit in 38.53 seconds.\n",
            "\u001b[36m(ClientAppActor pid=31363)\u001b[0m Epoch: 1/2, train loss 49.0706, accuracy 0.5093, precision 0.5332, recall 0.6690, f1-score 0.5934, epoch time: 18.8410 s, GPU Memory: Allocated: 419.42 MB, Reserved: 2130.00 MB\n",
            "\u001b[36m(ClientAppActor pid=31363)\u001b[0m Epoch: 2/2, train loss 47.4597, accuracy 0.5254, precision 0.5468, recall 0.6620, f1-score 0.5990, epoch time: 19.7901 s, GPU Memory: Allocated: 419.42 MB, Reserved: 2130.00 MB\n",
            "\u001b[36m(ClientAppActor pid=31363)\u001b[0m Total Training Time: 38.6319 seconds\n",
            "\u001b[36m(ClientAppActor pid=31363)\u001b[0m Client fit in 38.63 seconds.\n"
          ]
        },
        {
          "output_type": "stream",
          "name": "stderr",
          "text": [
            "\u001b[91mERROR \u001b[0m:     An exception was raised when processing a message by RayBackend\n",
            "\u001b[91mERROR \u001b[0m:     \u001b[36mray::ClientAppActor.run()\u001b[39m (pid=31363, ip=172.28.0.12, actor_id=7627faab50fef30fe0bdb71f01000000, repr=<flwr.simulation.ray_transport.ray_actor.ClientAppActor object at 0x79ab9631d9d0>)\n",
            "                  ^^^^^^^^^^^^^^^^^^^^^^^^^^^^^^^^^^^^^\n",
            "  File \"/usr/local/lib/python3.11/dist-packages/flwr/client/client_app.py\", line 144, in __call__\n",
            "    return self._call(message, context)\n",
            "           ^^^^^^^^^^^^^^^^^^^^^^^^^^^^\n",
            "  File \"/usr/local/lib/python3.11/dist-packages/flwr/client/mod/utils.py\", line 27, in new_ffn\n",
            "    return _mod(message, context, _ffn)\n",
            "           ^^^^^^^^^^^^^^^^^^^^^^^^^^^^\n",
            "  File \"/usr/local/lib/python3.11/dist-packages/flwr/client/mod/centraldp_mods.py\", line 79, in fixedclipping_mod\n",
            "    compute_clip_model_update(\n",
            "  File \"/usr/local/lib/python3.11/dist-packages/flwr/common/differential_privacy.py\", line 74, in compute_clip_model_update\n",
            "    clip_inputs_inplace(model_update, clipping_norm)\n",
            "  File \"/usr/local/lib/python3.11/dist-packages/flwr/common/differential_privacy.py\", line 52, in clip_inputs_inplace\n",
            "    scaling_factor = min(1, clipping_norm / input_norm)\n",
            "                            ~~~~~~~~~~~~~~^~~~~~~~~~~~\n",
            "ZeroDivisionError: float division by zero\n",
            "\n",
            "The above exception was the direct cause of the following exception:\n",
            "\n",
            "\u001b[36mray::ClientAppActor.run()\u001b[39m (pid=31363, ip=172.28.0.12, actor_id=7627faab50fef30fe0bdb71f01000000, repr=<flwr.simulation.ray_transport.ray_actor.ClientAppActor object at 0x79ab9631d9d0>)\n",
            "           ^^^^^^^^^^^^^^^^^^^^^^^^^^^^^^^^^^^^\n",
            "           ^^^^^^^^^^^^^^^^^^^^^^^^^^^^^^^\n",
            "  File \"/usr/local/lib/python3.11/dist-packages/flwr/simulation/ray_transport/ray_actor.py\", line 64, in run\n",
            "    raise ClientAppException(str(ex)) from ex\n",
            "flwr.client.client_app.ClientAppException: \n",
            "Exception ClientAppException occurred. Message: float division by zero\n",
            "\u001b[91mERROR \u001b[0m:     Traceback (most recent call last):\n",
            "  File \"/usr/local/lib/python3.11/dist-packages/flwr/server/superlink/fleet/vce/vce_api.py\", line 111, in worker\n",
            "    out_mssg, updated_context = backend.process_message(message, context)\n",
            "                                ^^^^^^^^^^^^^^^^^^^^^^^^^^^^^^^^^^^^^^^^^\n",
            "  File \"/usr/local/lib/python3.11/dist-packages/flwr/server/superlink/fleet/vce/backend/raybackend.py\", line 187, in process_message\n",
            "    raise ex\n",
            "  File \"/usr/local/lib/python3.11/dist-packages/flwr/server/superlink/fleet/vce/backend/raybackend.py\", line 175, in process_message\n",
            "    ) = self.pool.fetch_result_and_return_actor_to_pool(future)\n",
            "        ^^^^^^^^^^^^^^^^^^^^^^^^^^^^^^^^^^^^^^^^^^^^^^^^^^^^^^^\n",
            "  File \"/usr/local/lib/python3.11/dist-packages/flwr/simulation/ray_transport/ray_actor.py\", line 480, in fetch_result_and_return_actor_to_pool\n",
            "    _, out_mssg, updated_context = ray.get(future)\n",
            "                                   ^^^^^^^^^^^^^^^\n",
            "  File \"/usr/local/lib/python3.11/dist-packages/ray/_private/auto_init_hook.py\", line 21, in auto_init_wrapper\n",
            "    return fn(*args, **kwargs)\n",
            "           ^^^^^^^^^^^^^^^^^^^\n",
            "  File \"/usr/local/lib/python3.11/dist-packages/ray/_private/client_mode_hook.py\", line 103, in wrapper\n",
            "    return func(*args, **kwargs)\n",
            "           ^^^^^^^^^^^^^^^^^^^^^\n",
            "  File \"/usr/local/lib/python3.11/dist-packages/ray/_private/worker.py\", line 2639, in get\n",
            "    values, debugger_breakpoint = worker.get_objects(object_refs, timeout=timeout)\n",
            "                                  ^^^^^^^^^^^^^^^^^^^^^^^^^^^^^^^^^^^^^^^^^^^^^^^^\n",
            "  File \"/usr/local/lib/python3.11/dist-packages/ray/_private/worker.py\", line 864, in get_objects\n",
            "    raise value.as_instanceof_cause()\n",
            "ray.exceptions.RayTaskError(ClientAppException): \u001b[36mray::ClientAppActor.run()\u001b[39m (pid=31363, ip=172.28.0.12, actor_id=7627faab50fef30fe0bdb71f01000000, repr=<flwr.simulation.ray_transport.ray_actor.ClientAppActor object at 0x79ab9631d9d0>)\n",
            "                  ^^^^^^^^^^^^^^^^^^^^^^^^^^^^^^^^^^^^^\n",
            "  File \"/usr/local/lib/python3.11/dist-packages/flwr/client/client_app.py\", line 144, in __call__\n",
            "    return self._call(message, context)\n",
            "           ^^^^^^^^^^^^^^^^^^^^^^^^^^^^\n",
            "  File \"/usr/local/lib/python3.11/dist-packages/flwr/client/mod/utils.py\", line 27, in new_ffn\n",
            "    return _mod(message, context, _ffn)\n",
            "           ^^^^^^^^^^^^^^^^^^^^^^^^^^^^\n",
            "  File \"/usr/local/lib/python3.11/dist-packages/flwr/client/mod/centraldp_mods.py\", line 79, in fixedclipping_mod\n",
            "    compute_clip_model_update(\n",
            "  File \"/usr/local/lib/python3.11/dist-packages/flwr/common/differential_privacy.py\", line 74, in compute_clip_model_update\n",
            "    clip_inputs_inplace(model_update, clipping_norm)\n",
            "  File \"/usr/local/lib/python3.11/dist-packages/flwr/common/differential_privacy.py\", line 52, in clip_inputs_inplace\n",
            "    scaling_factor = min(1, clipping_norm / input_norm)\n",
            "                            ~~~~~~~~~~~~~~^~~~~~~~~~~~\n",
            "ZeroDivisionError: float division by zero\n",
            "\n",
            "The above exception was the direct cause of the following exception:\n",
            "\n",
            "\u001b[36mray::ClientAppActor.run()\u001b[39m (pid=31363, ip=172.28.0.12, actor_id=7627faab50fef30fe0bdb71f01000000, repr=<flwr.simulation.ray_transport.ray_actor.ClientAppActor object at 0x79ab9631d9d0>)\n",
            "           ^^^^^^^^^^^^^^^^^^^^^^^^^^^^^^^^^^^^\n",
            "           ^^^^^^^^^^^^^^^^^^^^^^^^^^^^^^^\n",
            "  File \"/usr/local/lib/python3.11/dist-packages/flwr/simulation/ray_transport/ray_actor.py\", line 64, in run\n",
            "    raise ClientAppException(str(ex)) from ex\n",
            "flwr.client.client_app.ClientAppException: \n",
            "Exception ClientAppException occurred. Message: float division by zero\n",
            "\n"
          ]
        },
        {
          "output_type": "stream",
          "name": "stdout",
          "text": [
            "\u001b[36m(ClientAppActor pid=31363)\u001b[0m Epoch: 1/2, train loss 49.0123, accuracy 0.5099, precision 0.5466, recall 0.6674, f1-score 0.6010, epoch time: 19.7512 s, GPU Memory: Allocated: 420.94 MB, Reserved: 2130.00 MB\n",
            "\u001b[36m(ClientAppActor pid=31363)\u001b[0m Epoch: 2/2, train loss 44.8148, accuracy 0.5519, precision 0.5758, recall 0.7210, f1-score 0.6402, epoch time: 20.0136 s, GPU Memory: Allocated: 420.94 MB, Reserved: 2130.00 MB\n",
            "\u001b[36m(ClientAppActor pid=31363)\u001b[0m Total Training Time: 39.7672 seconds\n",
            "\u001b[36m(ClientAppActor pid=31363)\u001b[0m Client fit in 39.77 seconds.\n"
          ]
        },
        {
          "output_type": "stream",
          "name": "stderr",
          "text": [
            "\u001b[91mERROR \u001b[0m:     An exception was raised when processing a message by RayBackend\n",
            "\u001b[91mERROR \u001b[0m:     \u001b[36mray::ClientAppActor.run()\u001b[39m (pid=31363, ip=172.28.0.12, actor_id=7627faab50fef30fe0bdb71f01000000, repr=<flwr.simulation.ray_transport.ray_actor.ClientAppActor object at 0x79ab9631d9d0>)\n",
            "                  ^^^^^^^^^^^^^^^^^^^^^^^^^^^^^^^^^^^^^\n",
            "  File \"/usr/local/lib/python3.11/dist-packages/flwr/client/client_app.py\", line 144, in __call__\n",
            "    return self._call(message, context)\n",
            "           ^^^^^^^^^^^^^^^^^^^^^^^^^^^^\n",
            "  File \"/usr/local/lib/python3.11/dist-packages/flwr/client/mod/utils.py\", line 27, in new_ffn\n",
            "    return _mod(message, context, _ffn)\n",
            "           ^^^^^^^^^^^^^^^^^^^^^^^^^^^^\n",
            "  File \"/usr/local/lib/python3.11/dist-packages/flwr/client/mod/centraldp_mods.py\", line 79, in fixedclipping_mod\n",
            "    compute_clip_model_update(\n",
            "  File \"/usr/local/lib/python3.11/dist-packages/flwr/common/differential_privacy.py\", line 74, in compute_clip_model_update\n",
            "    clip_inputs_inplace(model_update, clipping_norm)\n",
            "  File \"/usr/local/lib/python3.11/dist-packages/flwr/common/differential_privacy.py\", line 52, in clip_inputs_inplace\n",
            "    scaling_factor = min(1, clipping_norm / input_norm)\n",
            "                            ~~~~~~~~~~~~~~^~~~~~~~~~~~\n",
            "ZeroDivisionError: float division by zero\n",
            "\n",
            "The above exception was the direct cause of the following exception:\n",
            "\n",
            "\u001b[36mray::ClientAppActor.run()\u001b[39m (pid=31363, ip=172.28.0.12, actor_id=7627faab50fef30fe0bdb71f01000000, repr=<flwr.simulation.ray_transport.ray_actor.ClientAppActor object at 0x79ab9631d9d0>)\n",
            "           ^^^^^^^^^^^^^^^^^^^^^^^^^^^^^^^^^^^^\n",
            "           ^^^^^^^^^^^^^^^^^^^^^^^^^^^^^^^\n",
            "  File \"/usr/local/lib/python3.11/dist-packages/flwr/simulation/ray_transport/ray_actor.py\", line 64, in run\n",
            "    raise ClientAppException(str(ex)) from ex\n",
            "flwr.client.client_app.ClientAppException: \n",
            "Exception ClientAppException occurred. Message: float division by zero\n",
            "\u001b[91mERROR \u001b[0m:     Traceback (most recent call last):\n",
            "  File \"/usr/local/lib/python3.11/dist-packages/flwr/server/superlink/fleet/vce/vce_api.py\", line 111, in worker\n",
            "    out_mssg, updated_context = backend.process_message(message, context)\n",
            "                                ^^^^^^^^^^^^^^^^^^^^^^^^^^^^^^^^^^^^^^^^^\n",
            "  File \"/usr/local/lib/python3.11/dist-packages/flwr/server/superlink/fleet/vce/backend/raybackend.py\", line 187, in process_message\n",
            "    raise ex\n",
            "  File \"/usr/local/lib/python3.11/dist-packages/flwr/server/superlink/fleet/vce/backend/raybackend.py\", line 175, in process_message\n",
            "    ) = self.pool.fetch_result_and_return_actor_to_pool(future)\n",
            "        ^^^^^^^^^^^^^^^^^^^^^^^^^^^^^^^^^^^^^^^^^^^^^^^^^^^^^^^\n",
            "  File \"/usr/local/lib/python3.11/dist-packages/flwr/simulation/ray_transport/ray_actor.py\", line 480, in fetch_result_and_return_actor_to_pool\n",
            "    _, out_mssg, updated_context = ray.get(future)\n",
            "                                   ^^^^^^^^^^^^^^^\n",
            "  File \"/usr/local/lib/python3.11/dist-packages/ray/_private/auto_init_hook.py\", line 21, in auto_init_wrapper\n",
            "    return fn(*args, **kwargs)\n",
            "           ^^^^^^^^^^^^^^^^^^^\n",
            "  File \"/usr/local/lib/python3.11/dist-packages/ray/_private/client_mode_hook.py\", line 103, in wrapper\n",
            "    return func(*args, **kwargs)\n",
            "           ^^^^^^^^^^^^^^^^^^^^^\n",
            "  File \"/usr/local/lib/python3.11/dist-packages/ray/_private/worker.py\", line 2639, in get\n",
            "    values, debugger_breakpoint = worker.get_objects(object_refs, timeout=timeout)\n",
            "                                  ^^^^^^^^^^^^^^^^^^^^^^^^^^^^^^^^^^^^^^^^^^^^^^^^\n",
            "  File \"/usr/local/lib/python3.11/dist-packages/ray/_private/worker.py\", line 864, in get_objects\n",
            "    raise value.as_instanceof_cause()\n",
            "ray.exceptions.RayTaskError(ClientAppException): \u001b[36mray::ClientAppActor.run()\u001b[39m (pid=31363, ip=172.28.0.12, actor_id=7627faab50fef30fe0bdb71f01000000, repr=<flwr.simulation.ray_transport.ray_actor.ClientAppActor object at 0x79ab9631d9d0>)\n",
            "                  ^^^^^^^^^^^^^^^^^^^^^^^^^^^^^^^^^^^^^\n",
            "  File \"/usr/local/lib/python3.11/dist-packages/flwr/client/client_app.py\", line 144, in __call__\n",
            "    return self._call(message, context)\n",
            "           ^^^^^^^^^^^^^^^^^^^^^^^^^^^^\n",
            "  File \"/usr/local/lib/python3.11/dist-packages/flwr/client/mod/utils.py\", line 27, in new_ffn\n",
            "    return _mod(message, context, _ffn)\n",
            "           ^^^^^^^^^^^^^^^^^^^^^^^^^^^^\n",
            "  File \"/usr/local/lib/python3.11/dist-packages/flwr/client/mod/centraldp_mods.py\", line 79, in fixedclipping_mod\n",
            "    compute_clip_model_update(\n",
            "  File \"/usr/local/lib/python3.11/dist-packages/flwr/common/differential_privacy.py\", line 74, in compute_clip_model_update\n",
            "    clip_inputs_inplace(model_update, clipping_norm)\n",
            "  File \"/usr/local/lib/python3.11/dist-packages/flwr/common/differential_privacy.py\", line 52, in clip_inputs_inplace\n",
            "    scaling_factor = min(1, clipping_norm / input_norm)\n",
            "                            ~~~~~~~~~~~~~~^~~~~~~~~~~~\n",
            "ZeroDivisionError: float division by zero\n",
            "\n",
            "The above exception was the direct cause of the following exception:\n",
            "\n",
            "\u001b[36mray::ClientAppActor.run()\u001b[39m (pid=31363, ip=172.28.0.12, actor_id=7627faab50fef30fe0bdb71f01000000, repr=<flwr.simulation.ray_transport.ray_actor.ClientAppActor object at 0x79ab9631d9d0>)\n",
            "           ^^^^^^^^^^^^^^^^^^^^^^^^^^^^^^^^^^^^\n",
            "           ^^^^^^^^^^^^^^^^^^^^^^^^^^^^^^^\n",
            "  File \"/usr/local/lib/python3.11/dist-packages/flwr/simulation/ray_transport/ray_actor.py\", line 64, in run\n",
            "    raise ClientAppException(str(ex)) from ex\n",
            "flwr.client.client_app.ClientAppException: \n",
            "Exception ClientAppException occurred. Message: float division by zero\n",
            "\n",
            "\u001b[92mINFO \u001b[0m:      aggregate_fit: received 0 results and 5 failures\n",
            "\u001b[92mINFO \u001b[0m:      configure_evaluate: strategy sampled 5 clients (out of 5)\n"
          ]
        },
        {
          "output_type": "stream",
          "name": "stdout",
          "text": [
            "\u001b[36m(ClientAppActor pid=31363)\u001b[0m Client eval in 1.92 seconds.\n",
            "\u001b[36m(ClientAppActor pid=31363)\u001b[0m precision 0.6067415730337079, recall 1.0, f1 0.7552447552447552\n",
            "\u001b[36m(ClientAppActor pid=31363)\u001b[0m Client eval in 1.87 seconds.\n",
            "\u001b[36m(ClientAppActor pid=31363)\u001b[0m precision 0.5568181818181818, recall 0.98, f1 0.7101449275362319\n",
            "\u001b[36m(ClientAppActor pid=31363)\u001b[0m Client eval in 2.89 seconds.\n",
            "\u001b[36m(ClientAppActor pid=31363)\u001b[0m precision 0.5287356321839081, recall 0.9787234042553191, f1 0.6865671641791045\n",
            "\u001b[36m(ClientAppActor pid=31363)\u001b[0m Client eval in 1.86 seconds.\n",
            "\u001b[36m(ClientAppActor pid=31363)\u001b[0m precision 0.5454545454545454, recall 0.9795918367346939, f1 0.7007299270072993\n"
          ]
        },
        {
          "output_type": "stream",
          "name": "stderr",
          "text": [
            "\u001b[92mINFO \u001b[0m:      aggregate_evaluate: received 5 results and 0 failures\n",
            "\u001b[92mINFO \u001b[0m:      \n",
            "\u001b[92mINFO \u001b[0m:      [ROUND 4]\n",
            "\u001b[92mINFO \u001b[0m:      configure_fit: strategy sampled 5 clients (out of 5)\n"
          ]
        },
        {
          "output_type": "stream",
          "name": "stdout",
          "text": [
            "\u001b[36m(ClientAppActor pid=31363)\u001b[0m Client eval in 1.95 seconds.\n",
            "\u001b[36m(ClientAppActor pid=31363)\u001b[0m precision 0.5, recall 0.9777777777777777, f1 0.6616541353383458\n",
            "\u001b[36m(ClientAppActor pid=31363)\u001b[0m Epoch: 1/2, train loss 46.3445, accuracy 0.5366, precision 0.5732, recall 0.6967, f1-score 0.6290, epoch time: 19.8977 s, GPU Memory: Allocated: 419.42 MB, Reserved: 2130.00 MB\n",
            "\u001b[36m(ClientAppActor pid=31363)\u001b[0m Epoch: 2/2, train loss 48.9467, accuracy 0.5105, precision 0.5556, recall 0.6593, f1-score 0.6030, epoch time: 19.2919 s, GPU Memory: Allocated: 419.42 MB, Reserved: 2130.00 MB\n",
            "\u001b[36m(ClientAppActor pid=31363)\u001b[0m Total Training Time: 39.1906 seconds\n",
            "\u001b[36m(ClientAppActor pid=31363)\u001b[0m Client fit in 39.19 seconds.\n"
          ]
        },
        {
          "output_type": "stream",
          "name": "stderr",
          "text": [
            "\u001b[91mERROR \u001b[0m:     An exception was raised when processing a message by RayBackend\n",
            "\u001b[91mERROR \u001b[0m:     \u001b[36mray::ClientAppActor.run()\u001b[39m (pid=31363, ip=172.28.0.12, actor_id=7627faab50fef30fe0bdb71f01000000, repr=<flwr.simulation.ray_transport.ray_actor.ClientAppActor object at 0x79ab9631d9d0>)\n",
            "                  ^^^^^^^^^^^^^^^^^^^^^^^^^^^^^^^^^^^^^\n",
            "  File \"/usr/local/lib/python3.11/dist-packages/flwr/client/client_app.py\", line 144, in __call__\n",
            "    return self._call(message, context)\n",
            "           ^^^^^^^^^^^^^^^^^^^^^^^^^^^^\n",
            "  File \"/usr/local/lib/python3.11/dist-packages/flwr/client/mod/utils.py\", line 27, in new_ffn\n",
            "    return _mod(message, context, _ffn)\n",
            "           ^^^^^^^^^^^^^^^^^^^^^^^^^^^^\n",
            "  File \"/usr/local/lib/python3.11/dist-packages/flwr/client/mod/centraldp_mods.py\", line 79, in fixedclipping_mod\n",
            "    compute_clip_model_update(\n",
            "  File \"/usr/local/lib/python3.11/dist-packages/flwr/common/differential_privacy.py\", line 74, in compute_clip_model_update\n",
            "    clip_inputs_inplace(model_update, clipping_norm)\n",
            "  File \"/usr/local/lib/python3.11/dist-packages/flwr/common/differential_privacy.py\", line 52, in clip_inputs_inplace\n",
            "    scaling_factor = min(1, clipping_norm / input_norm)\n",
            "                            ~~~~~~~~~~~~~~^~~~~~~~~~~~\n",
            "ZeroDivisionError: float division by zero\n",
            "\n",
            "The above exception was the direct cause of the following exception:\n",
            "\n",
            "\u001b[36mray::ClientAppActor.run()\u001b[39m (pid=31363, ip=172.28.0.12, actor_id=7627faab50fef30fe0bdb71f01000000, repr=<flwr.simulation.ray_transport.ray_actor.ClientAppActor object at 0x79ab9631d9d0>)\n",
            "           ^^^^^^^^^^^^^^^^^^^^^^^^^^^^^^^^^^^^\n",
            "           ^^^^^^^^^^^^^^^^^^^^^^^^^^^^^^^\n",
            "  File \"/usr/local/lib/python3.11/dist-packages/flwr/simulation/ray_transport/ray_actor.py\", line 64, in run\n",
            "    raise ClientAppException(str(ex)) from ex\n",
            "flwr.client.client_app.ClientAppException: \n",
            "Exception ClientAppException occurred. Message: float division by zero\n",
            "\u001b[91mERROR \u001b[0m:     Traceback (most recent call last):\n",
            "  File \"/usr/local/lib/python3.11/dist-packages/flwr/server/superlink/fleet/vce/vce_api.py\", line 111, in worker\n",
            "    out_mssg, updated_context = backend.process_message(message, context)\n",
            "                                ^^^^^^^^^^^^^^^^^^^^^^^^^^^^^^^^^^^^^^^^^\n",
            "  File \"/usr/local/lib/python3.11/dist-packages/flwr/server/superlink/fleet/vce/backend/raybackend.py\", line 187, in process_message\n",
            "    raise ex\n",
            "  File \"/usr/local/lib/python3.11/dist-packages/flwr/server/superlink/fleet/vce/backend/raybackend.py\", line 175, in process_message\n",
            "    ) = self.pool.fetch_result_and_return_actor_to_pool(future)\n",
            "        ^^^^^^^^^^^^^^^^^^^^^^^^^^^^^^^^^^^^^^^^^^^^^^^^^^^^^^^\n",
            "  File \"/usr/local/lib/python3.11/dist-packages/flwr/simulation/ray_transport/ray_actor.py\", line 480, in fetch_result_and_return_actor_to_pool\n",
            "    _, out_mssg, updated_context = ray.get(future)\n",
            "                                   ^^^^^^^^^^^^^^^\n",
            "  File \"/usr/local/lib/python3.11/dist-packages/ray/_private/auto_init_hook.py\", line 21, in auto_init_wrapper\n",
            "    return fn(*args, **kwargs)\n",
            "           ^^^^^^^^^^^^^^^^^^^\n",
            "  File \"/usr/local/lib/python3.11/dist-packages/ray/_private/client_mode_hook.py\", line 103, in wrapper\n",
            "    return func(*args, **kwargs)\n",
            "           ^^^^^^^^^^^^^^^^^^^^^\n",
            "  File \"/usr/local/lib/python3.11/dist-packages/ray/_private/worker.py\", line 2639, in get\n",
            "    values, debugger_breakpoint = worker.get_objects(object_refs, timeout=timeout)\n",
            "                                  ^^^^^^^^^^^^^^^^^^^^^^^^^^^^^^^^^^^^^^^^^^^^^^^^\n",
            "  File \"/usr/local/lib/python3.11/dist-packages/ray/_private/worker.py\", line 864, in get_objects\n",
            "    raise value.as_instanceof_cause()\n",
            "ray.exceptions.RayTaskError(ClientAppException): \u001b[36mray::ClientAppActor.run()\u001b[39m (pid=31363, ip=172.28.0.12, actor_id=7627faab50fef30fe0bdb71f01000000, repr=<flwr.simulation.ray_transport.ray_actor.ClientAppActor object at 0x79ab9631d9d0>)\n",
            "                  ^^^^^^^^^^^^^^^^^^^^^^^^^^^^^^^^^^^^^\n",
            "  File \"/usr/local/lib/python3.11/dist-packages/flwr/client/client_app.py\", line 144, in __call__\n",
            "    return self._call(message, context)\n",
            "           ^^^^^^^^^^^^^^^^^^^^^^^^^^^^\n",
            "  File \"/usr/local/lib/python3.11/dist-packages/flwr/client/mod/utils.py\", line 27, in new_ffn\n",
            "    return _mod(message, context, _ffn)\n",
            "           ^^^^^^^^^^^^^^^^^^^^^^^^^^^^\n",
            "  File \"/usr/local/lib/python3.11/dist-packages/flwr/client/mod/centraldp_mods.py\", line 79, in fixedclipping_mod\n",
            "    compute_clip_model_update(\n",
            "  File \"/usr/local/lib/python3.11/dist-packages/flwr/common/differential_privacy.py\", line 74, in compute_clip_model_update\n",
            "    clip_inputs_inplace(model_update, clipping_norm)\n",
            "  File \"/usr/local/lib/python3.11/dist-packages/flwr/common/differential_privacy.py\", line 52, in clip_inputs_inplace\n",
            "    scaling_factor = min(1, clipping_norm / input_norm)\n",
            "                            ~~~~~~~~~~~~~~^~~~~~~~~~~~\n",
            "ZeroDivisionError: float division by zero\n",
            "\n",
            "The above exception was the direct cause of the following exception:\n",
            "\n",
            "\u001b[36mray::ClientAppActor.run()\u001b[39m (pid=31363, ip=172.28.0.12, actor_id=7627faab50fef30fe0bdb71f01000000, repr=<flwr.simulation.ray_transport.ray_actor.ClientAppActor object at 0x79ab9631d9d0>)\n",
            "           ^^^^^^^^^^^^^^^^^^^^^^^^^^^^^^^^^^^^\n",
            "           ^^^^^^^^^^^^^^^^^^^^^^^^^^^^^^^\n",
            "  File \"/usr/local/lib/python3.11/dist-packages/flwr/simulation/ray_transport/ray_actor.py\", line 64, in run\n",
            "    raise ClientAppException(str(ex)) from ex\n",
            "flwr.client.client_app.ClientAppException: \n",
            "Exception ClientAppException occurred. Message: float division by zero\n",
            "\n"
          ]
        },
        {
          "output_type": "stream",
          "name": "stdout",
          "text": [
            "\u001b[36m(ClientAppActor pid=31363)\u001b[0m Epoch: 1/2, train loss 46.3445, accuracy 0.5366, precision 0.5680, recall 0.6823, f1-score 0.6199, epoch time: 19.4453 s, GPU Memory: Allocated: 419.42 MB, Reserved: 2130.00 MB\n",
            "\u001b[36m(ClientAppActor pid=31363)\u001b[0m Epoch: 2/2, train loss 47.8315, accuracy 0.5217, precision 0.5574, recall 0.6622, f1-score 0.6053, epoch time: 19.2947 s, GPU Memory: Allocated: 419.42 MB, Reserved: 2130.00 MB\n",
            "\u001b[36m(ClientAppActor pid=31363)\u001b[0m Total Training Time: 38.7410 seconds\n",
            "\u001b[36m(ClientAppActor pid=31363)\u001b[0m Client fit in 38.74 seconds.\n"
          ]
        },
        {
          "output_type": "stream",
          "name": "stderr",
          "text": [
            "\u001b[91mERROR \u001b[0m:     An exception was raised when processing a message by RayBackend\n",
            "\u001b[91mERROR \u001b[0m:     \u001b[36mray::ClientAppActor.run()\u001b[39m (pid=31363, ip=172.28.0.12, actor_id=7627faab50fef30fe0bdb71f01000000, repr=<flwr.simulation.ray_transport.ray_actor.ClientAppActor object at 0x79ab9631d9d0>)\n",
            "                  ^^^^^^^^^^^^^^^^^^^^^^^^^^^^^^^^^^^^^\n",
            "  File \"/usr/local/lib/python3.11/dist-packages/flwr/client/client_app.py\", line 144, in __call__\n",
            "    return self._call(message, context)\n",
            "           ^^^^^^^^^^^^^^^^^^^^^^^^^^^^\n",
            "  File \"/usr/local/lib/python3.11/dist-packages/flwr/client/mod/utils.py\", line 27, in new_ffn\n",
            "    return _mod(message, context, _ffn)\n",
            "           ^^^^^^^^^^^^^^^^^^^^^^^^^^^^\n",
            "  File \"/usr/local/lib/python3.11/dist-packages/flwr/client/mod/centraldp_mods.py\", line 79, in fixedclipping_mod\n",
            "    compute_clip_model_update(\n",
            "  File \"/usr/local/lib/python3.11/dist-packages/flwr/common/differential_privacy.py\", line 74, in compute_clip_model_update\n",
            "    clip_inputs_inplace(model_update, clipping_norm)\n",
            "  File \"/usr/local/lib/python3.11/dist-packages/flwr/common/differential_privacy.py\", line 52, in clip_inputs_inplace\n",
            "    scaling_factor = min(1, clipping_norm / input_norm)\n",
            "                            ~~~~~~~~~~~~~~^~~~~~~~~~~~\n",
            "ZeroDivisionError: float division by zero\n",
            "\n",
            "The above exception was the direct cause of the following exception:\n",
            "\n",
            "\u001b[36mray::ClientAppActor.run()\u001b[39m (pid=31363, ip=172.28.0.12, actor_id=7627faab50fef30fe0bdb71f01000000, repr=<flwr.simulation.ray_transport.ray_actor.ClientAppActor object at 0x79ab9631d9d0>)\n",
            "           ^^^^^^^^^^^^^^^^^^^^^^^^^^^^^^^^^^^^\n",
            "           ^^^^^^^^^^^^^^^^^^^^^^^^^^^^^^^\n",
            "  File \"/usr/local/lib/python3.11/dist-packages/flwr/simulation/ray_transport/ray_actor.py\", line 64, in run\n",
            "    raise ClientAppException(str(ex)) from ex\n",
            "flwr.client.client_app.ClientAppException: \n",
            "Exception ClientAppException occurred. Message: float division by zero\n",
            "\u001b[91mERROR \u001b[0m:     Traceback (most recent call last):\n",
            "  File \"/usr/local/lib/python3.11/dist-packages/flwr/server/superlink/fleet/vce/vce_api.py\", line 111, in worker\n",
            "    out_mssg, updated_context = backend.process_message(message, context)\n",
            "                                ^^^^^^^^^^^^^^^^^^^^^^^^^^^^^^^^^^^^^^^^^\n",
            "  File \"/usr/local/lib/python3.11/dist-packages/flwr/server/superlink/fleet/vce/backend/raybackend.py\", line 187, in process_message\n",
            "    raise ex\n",
            "  File \"/usr/local/lib/python3.11/dist-packages/flwr/server/superlink/fleet/vce/backend/raybackend.py\", line 175, in process_message\n",
            "    ) = self.pool.fetch_result_and_return_actor_to_pool(future)\n",
            "        ^^^^^^^^^^^^^^^^^^^^^^^^^^^^^^^^^^^^^^^^^^^^^^^^^^^^^^^\n",
            "  File \"/usr/local/lib/python3.11/dist-packages/flwr/simulation/ray_transport/ray_actor.py\", line 480, in fetch_result_and_return_actor_to_pool\n",
            "    _, out_mssg, updated_context = ray.get(future)\n",
            "                                   ^^^^^^^^^^^^^^^\n",
            "  File \"/usr/local/lib/python3.11/dist-packages/ray/_private/auto_init_hook.py\", line 21, in auto_init_wrapper\n",
            "    return fn(*args, **kwargs)\n",
            "           ^^^^^^^^^^^^^^^^^^^\n",
            "  File \"/usr/local/lib/python3.11/dist-packages/ray/_private/client_mode_hook.py\", line 103, in wrapper\n",
            "    return func(*args, **kwargs)\n",
            "           ^^^^^^^^^^^^^^^^^^^^^\n",
            "  File \"/usr/local/lib/python3.11/dist-packages/ray/_private/worker.py\", line 2639, in get\n",
            "    values, debugger_breakpoint = worker.get_objects(object_refs, timeout=timeout)\n",
            "                                  ^^^^^^^^^^^^^^^^^^^^^^^^^^^^^^^^^^^^^^^^^^^^^^^^\n",
            "  File \"/usr/local/lib/python3.11/dist-packages/ray/_private/worker.py\", line 864, in get_objects\n",
            "    raise value.as_instanceof_cause()\n",
            "ray.exceptions.RayTaskError(ClientAppException): \u001b[36mray::ClientAppActor.run()\u001b[39m (pid=31363, ip=172.28.0.12, actor_id=7627faab50fef30fe0bdb71f01000000, repr=<flwr.simulation.ray_transport.ray_actor.ClientAppActor object at 0x79ab9631d9d0>)\n",
            "                  ^^^^^^^^^^^^^^^^^^^^^^^^^^^^^^^^^^^^^\n",
            "  File \"/usr/local/lib/python3.11/dist-packages/flwr/client/client_app.py\", line 144, in __call__\n",
            "    return self._call(message, context)\n",
            "           ^^^^^^^^^^^^^^^^^^^^^^^^^^^^\n",
            "  File \"/usr/local/lib/python3.11/dist-packages/flwr/client/mod/utils.py\", line 27, in new_ffn\n",
            "    return _mod(message, context, _ffn)\n",
            "           ^^^^^^^^^^^^^^^^^^^^^^^^^^^^\n",
            "  File \"/usr/local/lib/python3.11/dist-packages/flwr/client/mod/centraldp_mods.py\", line 79, in fixedclipping_mod\n",
            "    compute_clip_model_update(\n",
            "  File \"/usr/local/lib/python3.11/dist-packages/flwr/common/differential_privacy.py\", line 74, in compute_clip_model_update\n",
            "    clip_inputs_inplace(model_update, clipping_norm)\n",
            "  File \"/usr/local/lib/python3.11/dist-packages/flwr/common/differential_privacy.py\", line 52, in clip_inputs_inplace\n",
            "    scaling_factor = min(1, clipping_norm / input_norm)\n",
            "                            ~~~~~~~~~~~~~~^~~~~~~~~~~~\n",
            "ZeroDivisionError: float division by zero\n",
            "\n",
            "The above exception was the direct cause of the following exception:\n",
            "\n",
            "\u001b[36mray::ClientAppActor.run()\u001b[39m (pid=31363, ip=172.28.0.12, actor_id=7627faab50fef30fe0bdb71f01000000, repr=<flwr.simulation.ray_transport.ray_actor.ClientAppActor object at 0x79ab9631d9d0>)\n",
            "           ^^^^^^^^^^^^^^^^^^^^^^^^^^^^^^^^^^^^\n",
            "           ^^^^^^^^^^^^^^^^^^^^^^^^^^^^^^^\n",
            "  File \"/usr/local/lib/python3.11/dist-packages/flwr/simulation/ray_transport/ray_actor.py\", line 64, in run\n",
            "    raise ClientAppException(str(ex)) from ex\n",
            "flwr.client.client_app.ClientAppException: \n",
            "Exception ClientAppException occurred. Message: float division by zero\n",
            "\n"
          ]
        },
        {
          "output_type": "stream",
          "name": "stdout",
          "text": [
            "\u001b[36m(ClientAppActor pid=31363)\u001b[0m Epoch: 1/2, train loss 46.4684, accuracy 0.5353, precision 0.5569, recall 0.6559, f1-score 0.6023, epoch time: 19.5469 s, GPU Memory: Allocated: 419.42 MB, Reserved: 2130.00 MB\n"
          ]
        },
        {
          "output_type": "stream",
          "name": "stderr",
          "text": [
            "\u001b[91mERROR \u001b[0m:     An exception was raised when processing a message by RayBackend\n",
            "\u001b[91mERROR \u001b[0m:     \u001b[36mray::ClientAppActor.run()\u001b[39m (pid=31363, ip=172.28.0.12, actor_id=7627faab50fef30fe0bdb71f01000000, repr=<flwr.simulation.ray_transport.ray_actor.ClientAppActor object at 0x79ab9631d9d0>)\n",
            "                  ^^^^^^^^^^^^^^^^^^^^^^^^^^^^^^^^^^^^^\n",
            "  File \"/usr/local/lib/python3.11/dist-packages/flwr/client/client_app.py\", line 144, in __call__\n",
            "    return self._call(message, context)\n",
            "           ^^^^^^^^^^^^^^^^^^^^^^^^^^^^\n",
            "  File \"/usr/local/lib/python3.11/dist-packages/flwr/client/mod/utils.py\", line 27, in new_ffn\n",
            "    return _mod(message, context, _ffn)\n",
            "           ^^^^^^^^^^^^^^^^^^^^^^^^^^^^\n",
            "  File \"/usr/local/lib/python3.11/dist-packages/flwr/client/mod/centraldp_mods.py\", line 79, in fixedclipping_mod\n",
            "    compute_clip_model_update(\n",
            "  File \"/usr/local/lib/python3.11/dist-packages/flwr/common/differential_privacy.py\", line 74, in compute_clip_model_update\n",
            "    clip_inputs_inplace(model_update, clipping_norm)\n",
            "  File \"/usr/local/lib/python3.11/dist-packages/flwr/common/differential_privacy.py\", line 52, in clip_inputs_inplace\n",
            "    scaling_factor = min(1, clipping_norm / input_norm)\n",
            "                            ~~~~~~~~~~~~~~^~~~~~~~~~~~\n",
            "ZeroDivisionError: float division by zero\n",
            "\n",
            "The above exception was the direct cause of the following exception:\n",
            "\n",
            "\u001b[36mray::ClientAppActor.run()\u001b[39m (pid=31363, ip=172.28.0.12, actor_id=7627faab50fef30fe0bdb71f01000000, repr=<flwr.simulation.ray_transport.ray_actor.ClientAppActor object at 0x79ab9631d9d0>)\n",
            "           ^^^^^^^^^^^^^^^^^^^^^^^^^^^^^^^^^^^^\n",
            "           ^^^^^^^^^^^^^^^^^^^^^^^^^^^^^^^\n",
            "  File \"/usr/local/lib/python3.11/dist-packages/flwr/simulation/ray_transport/ray_actor.py\", line 64, in run\n",
            "    raise ClientAppException(str(ex)) from ex\n",
            "flwr.client.client_app.ClientAppException: \n",
            "Exception ClientAppException occurred. Message: float division by zero\n",
            "\u001b[91mERROR \u001b[0m:     Traceback (most recent call last):\n",
            "  File \"/usr/local/lib/python3.11/dist-packages/flwr/server/superlink/fleet/vce/vce_api.py\", line 111, in worker\n",
            "    out_mssg, updated_context = backend.process_message(message, context)\n",
            "                                ^^^^^^^^^^^^^^^^^^^^^^^^^^^^^^^^^^^^^^^^^\n",
            "  File \"/usr/local/lib/python3.11/dist-packages/flwr/server/superlink/fleet/vce/backend/raybackend.py\", line 187, in process_message\n",
            "    raise ex\n",
            "  File \"/usr/local/lib/python3.11/dist-packages/flwr/server/superlink/fleet/vce/backend/raybackend.py\", line 175, in process_message\n",
            "    ) = self.pool.fetch_result_and_return_actor_to_pool(future)\n",
            "        ^^^^^^^^^^^^^^^^^^^^^^^^^^^^^^^^^^^^^^^^^^^^^^^^^^^^^^^\n",
            "  File \"/usr/local/lib/python3.11/dist-packages/flwr/simulation/ray_transport/ray_actor.py\", line 480, in fetch_result_and_return_actor_to_pool\n",
            "    _, out_mssg, updated_context = ray.get(future)\n",
            "                                   ^^^^^^^^^^^^^^^\n",
            "  File \"/usr/local/lib/python3.11/dist-packages/ray/_private/auto_init_hook.py\", line 21, in auto_init_wrapper\n",
            "    return fn(*args, **kwargs)\n",
            "           ^^^^^^^^^^^^^^^^^^^\n",
            "  File \"/usr/local/lib/python3.11/dist-packages/ray/_private/client_mode_hook.py\", line 103, in wrapper\n",
            "    return func(*args, **kwargs)\n",
            "           ^^^^^^^^^^^^^^^^^^^^^\n",
            "  File \"/usr/local/lib/python3.11/dist-packages/ray/_private/worker.py\", line 2639, in get\n",
            "    values, debugger_breakpoint = worker.get_objects(object_refs, timeout=timeout)\n",
            "                                  ^^^^^^^^^^^^^^^^^^^^^^^^^^^^^^^^^^^^^^^^^^^^^^^^\n",
            "  File \"/usr/local/lib/python3.11/dist-packages/ray/_private/worker.py\", line 864, in get_objects\n",
            "    raise value.as_instanceof_cause()\n",
            "ray.exceptions.RayTaskError(ClientAppException): \u001b[36mray::ClientAppActor.run()\u001b[39m (pid=31363, ip=172.28.0.12, actor_id=7627faab50fef30fe0bdb71f01000000, repr=<flwr.simulation.ray_transport.ray_actor.ClientAppActor object at 0x79ab9631d9d0>)\n",
            "                  ^^^^^^^^^^^^^^^^^^^^^^^^^^^^^^^^^^^^^\n",
            "  File \"/usr/local/lib/python3.11/dist-packages/flwr/client/client_app.py\", line 144, in __call__\n",
            "    return self._call(message, context)\n",
            "           ^^^^^^^^^^^^^^^^^^^^^^^^^^^^\n",
            "  File \"/usr/local/lib/python3.11/dist-packages/flwr/client/mod/utils.py\", line 27, in new_ffn\n",
            "    return _mod(message, context, _ffn)\n",
            "           ^^^^^^^^^^^^^^^^^^^^^^^^^^^^\n",
            "  File \"/usr/local/lib/python3.11/dist-packages/flwr/client/mod/centraldp_mods.py\", line 79, in fixedclipping_mod\n",
            "    compute_clip_model_update(\n",
            "  File \"/usr/local/lib/python3.11/dist-packages/flwr/common/differential_privacy.py\", line 74, in compute_clip_model_update\n",
            "    clip_inputs_inplace(model_update, clipping_norm)\n",
            "  File \"/usr/local/lib/python3.11/dist-packages/flwr/common/differential_privacy.py\", line 52, in clip_inputs_inplace\n",
            "    scaling_factor = min(1, clipping_norm / input_norm)\n",
            "                            ~~~~~~~~~~~~~~^~~~~~~~~~~~\n",
            "ZeroDivisionError: float division by zero\n",
            "\n",
            "The above exception was the direct cause of the following exception:\n",
            "\n",
            "\u001b[36mray::ClientAppActor.run()\u001b[39m (pid=31363, ip=172.28.0.12, actor_id=7627faab50fef30fe0bdb71f01000000, repr=<flwr.simulation.ray_transport.ray_actor.ClientAppActor object at 0x79ab9631d9d0>)\n",
            "           ^^^^^^^^^^^^^^^^^^^^^^^^^^^^^^^^^^^^\n",
            "           ^^^^^^^^^^^^^^^^^^^^^^^^^^^^^^^\n",
            "  File \"/usr/local/lib/python3.11/dist-packages/flwr/simulation/ray_transport/ray_actor.py\", line 64, in run\n",
            "    raise ClientAppException(str(ex)) from ex\n",
            "flwr.client.client_app.ClientAppException: \n",
            "Exception ClientAppException occurred. Message: float division by zero\n",
            "\n"
          ]
        },
        {
          "output_type": "stream",
          "name": "stdout",
          "text": [
            "\u001b[36m(ClientAppActor pid=31363)\u001b[0m Epoch: 2/2, train loss 47.4597, accuracy 0.5254, precision 0.5463, recall 0.6813, f1-score 0.6064, epoch time: 19.2028 s, GPU Memory: Allocated: 419.42 MB, Reserved: 2130.00 MB\n",
            "\u001b[36m(ClientAppActor pid=31363)\u001b[0m Total Training Time: 38.7505 seconds\n",
            "\u001b[36m(ClientAppActor pid=31363)\u001b[0m Client fit in 38.75 seconds.\n",
            "\u001b[36m(ClientAppActor pid=31363)\u001b[0m Epoch: 1/2, train loss 48.6989, accuracy 0.5130, precision 0.5353, recall 0.6852, f1-score 0.6010, epoch time: 19.4468 s, GPU Memory: Allocated: 419.42 MB, Reserved: 2130.00 MB\n",
            "\u001b[36m(ClientAppActor pid=31363)\u001b[0m Epoch: 2/2, train loss 48.3271, accuracy 0.5167, precision 0.5378, recall 0.6921, f1-score 0.6053, epoch time: 19.1894 s, GPU Memory: Allocated: 419.42 MB, Reserved: 2130.00 MB\n",
            "\u001b[36m(ClientAppActor pid=31363)\u001b[0m Total Training Time: 38.6371 seconds\n",
            "\u001b[36m(ClientAppActor pid=31363)\u001b[0m Client fit in 38.64 seconds.\n"
          ]
        },
        {
          "output_type": "stream",
          "name": "stderr",
          "text": [
            "\u001b[91mERROR \u001b[0m:     An exception was raised when processing a message by RayBackend\n",
            "\u001b[91mERROR \u001b[0m:     \u001b[36mray::ClientAppActor.run()\u001b[39m (pid=31363, ip=172.28.0.12, actor_id=7627faab50fef30fe0bdb71f01000000, repr=<flwr.simulation.ray_transport.ray_actor.ClientAppActor object at 0x79ab9631d9d0>)\n",
            "                  ^^^^^^^^^^^^^^^^^^^^^^^^^^^^^^^^^^^^^\n",
            "  File \"/usr/local/lib/python3.11/dist-packages/flwr/client/client_app.py\", line 144, in __call__\n",
            "    return self._call(message, context)\n",
            "           ^^^^^^^^^^^^^^^^^^^^^^^^^^^^\n",
            "  File \"/usr/local/lib/python3.11/dist-packages/flwr/client/mod/utils.py\", line 27, in new_ffn\n",
            "    return _mod(message, context, _ffn)\n",
            "           ^^^^^^^^^^^^^^^^^^^^^^^^^^^^\n",
            "  File \"/usr/local/lib/python3.11/dist-packages/flwr/client/mod/centraldp_mods.py\", line 79, in fixedclipping_mod\n",
            "    compute_clip_model_update(\n",
            "  File \"/usr/local/lib/python3.11/dist-packages/flwr/common/differential_privacy.py\", line 74, in compute_clip_model_update\n",
            "    clip_inputs_inplace(model_update, clipping_norm)\n",
            "  File \"/usr/local/lib/python3.11/dist-packages/flwr/common/differential_privacy.py\", line 52, in clip_inputs_inplace\n",
            "    scaling_factor = min(1, clipping_norm / input_norm)\n",
            "                            ~~~~~~~~~~~~~~^~~~~~~~~~~~\n",
            "ZeroDivisionError: float division by zero\n",
            "\n",
            "The above exception was the direct cause of the following exception:\n",
            "\n",
            "\u001b[36mray::ClientAppActor.run()\u001b[39m (pid=31363, ip=172.28.0.12, actor_id=7627faab50fef30fe0bdb71f01000000, repr=<flwr.simulation.ray_transport.ray_actor.ClientAppActor object at 0x79ab9631d9d0>)\n",
            "           ^^^^^^^^^^^^^^^^^^^^^^^^^^^^^^^^^^^^\n",
            "           ^^^^^^^^^^^^^^^^^^^^^^^^^^^^^^^\n",
            "  File \"/usr/local/lib/python3.11/dist-packages/flwr/simulation/ray_transport/ray_actor.py\", line 64, in run\n",
            "    raise ClientAppException(str(ex)) from ex\n",
            "flwr.client.client_app.ClientAppException: \n",
            "Exception ClientAppException occurred. Message: float division by zero\n",
            "\u001b[91mERROR \u001b[0m:     Traceback (most recent call last):\n",
            "  File \"/usr/local/lib/python3.11/dist-packages/flwr/server/superlink/fleet/vce/vce_api.py\", line 111, in worker\n",
            "    out_mssg, updated_context = backend.process_message(message, context)\n",
            "                                ^^^^^^^^^^^^^^^^^^^^^^^^^^^^^^^^^^^^^^^^^\n",
            "  File \"/usr/local/lib/python3.11/dist-packages/flwr/server/superlink/fleet/vce/backend/raybackend.py\", line 187, in process_message\n",
            "    raise ex\n",
            "  File \"/usr/local/lib/python3.11/dist-packages/flwr/server/superlink/fleet/vce/backend/raybackend.py\", line 175, in process_message\n",
            "    ) = self.pool.fetch_result_and_return_actor_to_pool(future)\n",
            "        ^^^^^^^^^^^^^^^^^^^^^^^^^^^^^^^^^^^^^^^^^^^^^^^^^^^^^^^\n",
            "  File \"/usr/local/lib/python3.11/dist-packages/flwr/simulation/ray_transport/ray_actor.py\", line 480, in fetch_result_and_return_actor_to_pool\n",
            "    _, out_mssg, updated_context = ray.get(future)\n",
            "                                   ^^^^^^^^^^^^^^^\n",
            "  File \"/usr/local/lib/python3.11/dist-packages/ray/_private/auto_init_hook.py\", line 21, in auto_init_wrapper\n",
            "    return fn(*args, **kwargs)\n",
            "           ^^^^^^^^^^^^^^^^^^^\n",
            "  File \"/usr/local/lib/python3.11/dist-packages/ray/_private/client_mode_hook.py\", line 103, in wrapper\n",
            "    return func(*args, **kwargs)\n",
            "           ^^^^^^^^^^^^^^^^^^^^^\n",
            "  File \"/usr/local/lib/python3.11/dist-packages/ray/_private/worker.py\", line 2639, in get\n",
            "    values, debugger_breakpoint = worker.get_objects(object_refs, timeout=timeout)\n",
            "                                  ^^^^^^^^^^^^^^^^^^^^^^^^^^^^^^^^^^^^^^^^^^^^^^^^\n",
            "  File \"/usr/local/lib/python3.11/dist-packages/ray/_private/worker.py\", line 864, in get_objects\n",
            "    raise value.as_instanceof_cause()\n",
            "ray.exceptions.RayTaskError(ClientAppException): \u001b[36mray::ClientAppActor.run()\u001b[39m (pid=31363, ip=172.28.0.12, actor_id=7627faab50fef30fe0bdb71f01000000, repr=<flwr.simulation.ray_transport.ray_actor.ClientAppActor object at 0x79ab9631d9d0>)\n",
            "                  ^^^^^^^^^^^^^^^^^^^^^^^^^^^^^^^^^^^^^\n",
            "  File \"/usr/local/lib/python3.11/dist-packages/flwr/client/client_app.py\", line 144, in __call__\n",
            "    return self._call(message, context)\n",
            "           ^^^^^^^^^^^^^^^^^^^^^^^^^^^^\n",
            "  File \"/usr/local/lib/python3.11/dist-packages/flwr/client/mod/utils.py\", line 27, in new_ffn\n",
            "    return _mod(message, context, _ffn)\n",
            "           ^^^^^^^^^^^^^^^^^^^^^^^^^^^^\n",
            "  File \"/usr/local/lib/python3.11/dist-packages/flwr/client/mod/centraldp_mods.py\", line 79, in fixedclipping_mod\n",
            "    compute_clip_model_update(\n",
            "  File \"/usr/local/lib/python3.11/dist-packages/flwr/common/differential_privacy.py\", line 74, in compute_clip_model_update\n",
            "    clip_inputs_inplace(model_update, clipping_norm)\n",
            "  File \"/usr/local/lib/python3.11/dist-packages/flwr/common/differential_privacy.py\", line 52, in clip_inputs_inplace\n",
            "    scaling_factor = min(1, clipping_norm / input_norm)\n",
            "                            ~~~~~~~~~~~~~~^~~~~~~~~~~~\n",
            "ZeroDivisionError: float division by zero\n",
            "\n",
            "The above exception was the direct cause of the following exception:\n",
            "\n",
            "\u001b[36mray::ClientAppActor.run()\u001b[39m (pid=31363, ip=172.28.0.12, actor_id=7627faab50fef30fe0bdb71f01000000, repr=<flwr.simulation.ray_transport.ray_actor.ClientAppActor object at 0x79ab9631d9d0>)\n",
            "           ^^^^^^^^^^^^^^^^^^^^^^^^^^^^^^^^^^^^\n",
            "           ^^^^^^^^^^^^^^^^^^^^^^^^^^^^^^^\n",
            "  File \"/usr/local/lib/python3.11/dist-packages/flwr/simulation/ray_transport/ray_actor.py\", line 64, in run\n",
            "    raise ClientAppException(str(ex)) from ex\n",
            "flwr.client.client_app.ClientAppException: \n",
            "Exception ClientAppException occurred. Message: float division by zero\n",
            "\n"
          ]
        },
        {
          "output_type": "stream",
          "name": "stdout",
          "text": [
            "\u001b[36m(ClientAppActor pid=31363)\u001b[0m Epoch: 1/2, train loss 49.2593, accuracy 0.5074, precision 0.5453, recall 0.6585, f1-score 0.5966, epoch time: 19.4070 s, GPU Memory: Allocated: 420.94 MB, Reserved: 2130.00 MB\n",
            "\u001b[36m(ClientAppActor pid=31363)\u001b[0m Epoch: 2/2, train loss 49.7575, accuracy 0.5012, precision 0.5470, recall 0.5714, f1-score 0.5590, epoch time: 19.4336 s, GPU Memory: Allocated: 420.94 MB, Reserved: 2130.00 MB\n",
            "\u001b[36m(ClientAppActor pid=31363)\u001b[0m Total Training Time: 38.8415 seconds\n",
            "\u001b[36m(ClientAppActor pid=31363)\u001b[0m Client fit in 38.84 seconds.\n"
          ]
        },
        {
          "output_type": "stream",
          "name": "stderr",
          "text": [
            "\u001b[36m(ClientAppActor pid=31363)\u001b[0m \u001b[92mINFO \u001b[0m:      fixedclipping_mod: parameters are clipped by value: 1.0000.\n",
            "\u001b[92mINFO \u001b[0m:      aggregate_fit: received 1 results and 4 failures\n",
            "\u001b[92mINFO \u001b[0m:      configure_evaluate: strategy sampled 5 clients (out of 5)\n"
          ]
        },
        {
          "output_type": "stream",
          "name": "stdout",
          "text": [
            "\u001b[36m(ClientAppActor pid=31363)\u001b[0m Client eval in 1.82 seconds.\n",
            "\u001b[36m(ClientAppActor pid=31363)\u001b[0m precision 0.6067415730337079, recall 1.0, f1 0.7552447552447552\n",
            "\u001b[36m(ClientAppActor pid=31363)\u001b[0m Client eval in 2.04 seconds.\n",
            "\u001b[36m(ClientAppActor pid=31363)\u001b[0m precision 0.5568181818181818, recall 0.98, f1 0.7101449275362319\n",
            "\u001b[36m(ClientAppActor pid=31363)\u001b[0m Client eval in 2.41 seconds.\n",
            "\u001b[36m(ClientAppActor pid=31363)\u001b[0m precision 0.5287356321839081, recall 0.9787234042553191, f1 0.6865671641791045\n",
            "\u001b[36m(ClientAppActor pid=31363)\u001b[0m Client eval in 1.82 seconds.\n",
            "\u001b[36m(ClientAppActor pid=31363)\u001b[0m precision 0.5454545454545454, recall 0.9795918367346939, f1 0.7007299270072993\n"
          ]
        },
        {
          "output_type": "stream",
          "name": "stderr",
          "text": [
            "\u001b[92mINFO \u001b[0m:      aggregate_evaluate: received 5 results and 0 failures\n",
            "\u001b[92mINFO \u001b[0m:      \n",
            "\u001b[92mINFO \u001b[0m:      [ROUND 5]\n",
            "\u001b[92mINFO \u001b[0m:      configure_fit: strategy sampled 5 clients (out of 5)\n"
          ]
        },
        {
          "output_type": "stream",
          "name": "stdout",
          "text": [
            "\u001b[36m(ClientAppActor pid=31363)\u001b[0m Client eval in 1.83 seconds.\n",
            "\u001b[36m(ClientAppActor pid=31363)\u001b[0m precision 0.5, recall 0.9777777777777777, f1 0.6616541353383458\n",
            "\u001b[36m(ClientAppActor pid=31363)\u001b[0m Epoch: 1/2, train loss 43.8662, accuracy 0.5613, precision 0.5947, recall 0.6967, f1-score 0.6417, epoch time: 19.8648 s, GPU Memory: Allocated: 419.42 MB, Reserved: 2130.00 MB\n",
            "\u001b[36m(ClientAppActor pid=31363)\u001b[0m Epoch: 2/2, train loss 46.2206, accuracy 0.5378, precision 0.5756, recall 0.6857, f1-score 0.6259, epoch time: 19.0433 s, GPU Memory: Allocated: 419.42 MB, Reserved: 2130.00 MB\n",
            "\u001b[36m(ClientAppActor pid=31363)\u001b[0m Total Training Time: 38.9090 seconds\n",
            "\u001b[36m(ClientAppActor pid=31363)\u001b[0m Client fit in 38.91 seconds.\n"
          ]
        },
        {
          "output_type": "stream",
          "name": "stderr",
          "text": [
            "\u001b[91mERROR \u001b[0m:     An exception was raised when processing a message by RayBackend\n",
            "\u001b[91mERROR \u001b[0m:     \u001b[36mray::ClientAppActor.run()\u001b[39m (pid=31363, ip=172.28.0.12, actor_id=7627faab50fef30fe0bdb71f01000000, repr=<flwr.simulation.ray_transport.ray_actor.ClientAppActor object at 0x79ab9631d9d0>)\n",
            "                  ^^^^^^^^^^^^^^^^^^^^^^^^^^^^^^^^^^^^^\n",
            "  File \"/usr/local/lib/python3.11/dist-packages/flwr/client/client_app.py\", line 144, in __call__\n",
            "    return self._call(message, context)\n",
            "           ^^^^^^^^^^^^^^^^^^^^^^^^^^^^\n",
            "  File \"/usr/local/lib/python3.11/dist-packages/flwr/client/mod/utils.py\", line 27, in new_ffn\n",
            "    return _mod(message, context, _ffn)\n",
            "           ^^^^^^^^^^^^^^^^^^^^^^^^^^^^\n",
            "  File \"/usr/local/lib/python3.11/dist-packages/flwr/client/mod/centraldp_mods.py\", line 79, in fixedclipping_mod\n",
            "    compute_clip_model_update(\n",
            "  File \"/usr/local/lib/python3.11/dist-packages/flwr/common/differential_privacy.py\", line 74, in compute_clip_model_update\n",
            "    clip_inputs_inplace(model_update, clipping_norm)\n",
            "  File \"/usr/local/lib/python3.11/dist-packages/flwr/common/differential_privacy.py\", line 52, in clip_inputs_inplace\n",
            "    scaling_factor = min(1, clipping_norm / input_norm)\n",
            "                            ~~~~~~~~~~~~~~^~~~~~~~~~~~\n",
            "ZeroDivisionError: float division by zero\n",
            "\n",
            "The above exception was the direct cause of the following exception:\n",
            "\n",
            "\u001b[36mray::ClientAppActor.run()\u001b[39m (pid=31363, ip=172.28.0.12, actor_id=7627faab50fef30fe0bdb71f01000000, repr=<flwr.simulation.ray_transport.ray_actor.ClientAppActor object at 0x79ab9631d9d0>)\n",
            "           ^^^^^^^^^^^^^^^^^^^^^^^^^^^^^^^^^^^^\n",
            "           ^^^^^^^^^^^^^^^^^^^^^^^^^^^^^^^\n",
            "  File \"/usr/local/lib/python3.11/dist-packages/flwr/simulation/ray_transport/ray_actor.py\", line 64, in run\n",
            "    raise ClientAppException(str(ex)) from ex\n",
            "flwr.client.client_app.ClientAppException: \n",
            "Exception ClientAppException occurred. Message: float division by zero\n",
            "\u001b[91mERROR \u001b[0m:     Traceback (most recent call last):\n",
            "  File \"/usr/local/lib/python3.11/dist-packages/flwr/server/superlink/fleet/vce/vce_api.py\", line 111, in worker\n",
            "    out_mssg, updated_context = backend.process_message(message, context)\n",
            "                                ^^^^^^^^^^^^^^^^^^^^^^^^^^^^^^^^^^^^^^^^^\n",
            "  File \"/usr/local/lib/python3.11/dist-packages/flwr/server/superlink/fleet/vce/backend/raybackend.py\", line 187, in process_message\n",
            "    raise ex\n",
            "  File \"/usr/local/lib/python3.11/dist-packages/flwr/server/superlink/fleet/vce/backend/raybackend.py\", line 175, in process_message\n",
            "    ) = self.pool.fetch_result_and_return_actor_to_pool(future)\n",
            "        ^^^^^^^^^^^^^^^^^^^^^^^^^^^^^^^^^^^^^^^^^^^^^^^^^^^^^^^\n",
            "  File \"/usr/local/lib/python3.11/dist-packages/flwr/simulation/ray_transport/ray_actor.py\", line 480, in fetch_result_and_return_actor_to_pool\n",
            "    _, out_mssg, updated_context = ray.get(future)\n",
            "                                   ^^^^^^^^^^^^^^^\n",
            "  File \"/usr/local/lib/python3.11/dist-packages/ray/_private/auto_init_hook.py\", line 21, in auto_init_wrapper\n",
            "    return fn(*args, **kwargs)\n",
            "           ^^^^^^^^^^^^^^^^^^^\n",
            "  File \"/usr/local/lib/python3.11/dist-packages/ray/_private/client_mode_hook.py\", line 103, in wrapper\n",
            "    return func(*args, **kwargs)\n",
            "           ^^^^^^^^^^^^^^^^^^^^^\n",
            "  File \"/usr/local/lib/python3.11/dist-packages/ray/_private/worker.py\", line 2639, in get\n",
            "    values, debugger_breakpoint = worker.get_objects(object_refs, timeout=timeout)\n",
            "                                  ^^^^^^^^^^^^^^^^^^^^^^^^^^^^^^^^^^^^^^^^^^^^^^^^\n",
            "  File \"/usr/local/lib/python3.11/dist-packages/ray/_private/worker.py\", line 864, in get_objects\n",
            "    raise value.as_instanceof_cause()\n",
            "ray.exceptions.RayTaskError(ClientAppException): \u001b[36mray::ClientAppActor.run()\u001b[39m (pid=31363, ip=172.28.0.12, actor_id=7627faab50fef30fe0bdb71f01000000, repr=<flwr.simulation.ray_transport.ray_actor.ClientAppActor object at 0x79ab9631d9d0>)\n",
            "                  ^^^^^^^^^^^^^^^^^^^^^^^^^^^^^^^^^^^^^\n",
            "  File \"/usr/local/lib/python3.11/dist-packages/flwr/client/client_app.py\", line 144, in __call__\n",
            "    return self._call(message, context)\n",
            "           ^^^^^^^^^^^^^^^^^^^^^^^^^^^^\n",
            "  File \"/usr/local/lib/python3.11/dist-packages/flwr/client/mod/utils.py\", line 27, in new_ffn\n",
            "    return _mod(message, context, _ffn)\n",
            "           ^^^^^^^^^^^^^^^^^^^^^^^^^^^^\n",
            "  File \"/usr/local/lib/python3.11/dist-packages/flwr/client/mod/centraldp_mods.py\", line 79, in fixedclipping_mod\n",
            "    compute_clip_model_update(\n",
            "  File \"/usr/local/lib/python3.11/dist-packages/flwr/common/differential_privacy.py\", line 74, in compute_clip_model_update\n",
            "    clip_inputs_inplace(model_update, clipping_norm)\n",
            "  File \"/usr/local/lib/python3.11/dist-packages/flwr/common/differential_privacy.py\", line 52, in clip_inputs_inplace\n",
            "    scaling_factor = min(1, clipping_norm / input_norm)\n",
            "                            ~~~~~~~~~~~~~~^~~~~~~~~~~~\n",
            "ZeroDivisionError: float division by zero\n",
            "\n",
            "The above exception was the direct cause of the following exception:\n",
            "\n",
            "\u001b[36mray::ClientAppActor.run()\u001b[39m (pid=31363, ip=172.28.0.12, actor_id=7627faab50fef30fe0bdb71f01000000, repr=<flwr.simulation.ray_transport.ray_actor.ClientAppActor object at 0x79ab9631d9d0>)\n",
            "           ^^^^^^^^^^^^^^^^^^^^^^^^^^^^^^^^^^^^\n",
            "           ^^^^^^^^^^^^^^^^^^^^^^^^^^^^^^^\n",
            "  File \"/usr/local/lib/python3.11/dist-packages/flwr/simulation/ray_transport/ray_actor.py\", line 64, in run\n",
            "    raise ClientAppException(str(ex)) from ex\n",
            "flwr.client.client_app.ClientAppException: \n",
            "Exception ClientAppException occurred. Message: float division by zero\n",
            "\n"
          ]
        },
        {
          "output_type": "stream",
          "name": "stdout",
          "text": [
            "\u001b[36m(ClientAppActor pid=31363)\u001b[0m Epoch: 1/2, train loss 46.7162, accuracy 0.5328, precision 0.5681, recall 0.6532, f1-score 0.6077, epoch time: 19.7606 s, GPU Memory: Allocated: 419.42 MB, Reserved: 2130.00 MB\n",
            "\u001b[36m(ClientAppActor pid=31363)\u001b[0m Epoch: 2/2, train loss 48.0114, accuracy 0.5192, precision 0.5539, recall 0.6779, f1-score 0.6097, epoch time: 18.8452 s, GPU Memory: Allocated: 419.42 MB, Reserved: 2130.00 MB\n",
            "\u001b[36m(ClientAppActor pid=31363)\u001b[0m Total Training Time: 38.6069 seconds\n",
            "\u001b[36m(ClientAppActor pid=31363)\u001b[0m Client fit in 38.61 seconds.\n"
          ]
        },
        {
          "output_type": "stream",
          "name": "stderr",
          "text": [
            "\u001b[36m(ClientAppActor pid=31363)\u001b[0m \u001b[92mINFO \u001b[0m:      fixedclipping_mod: parameters are clipped by value: 1.0000.\n"
          ]
        },
        {
          "output_type": "stream",
          "name": "stdout",
          "text": [
            "\u001b[36m(ClientAppActor pid=31363)\u001b[0m Epoch: 1/2, train loss 49.1945, accuracy 0.5081, precision 0.5330, recall 0.6721, f1-score 0.5945, epoch time: 19.8112 s, GPU Memory: Allocated: 419.42 MB, Reserved: 2130.00 MB\n",
            "\u001b[36m(ClientAppActor pid=31363)\u001b[0m Epoch: 2/2, train loss 48.8228, accuracy 0.5118, precision 0.5367, recall 0.6582, f1-score 0.5913, epoch time: 18.9924 s, GPU Memory: Allocated: 419.42 MB, Reserved: 2130.00 MB\n",
            "\u001b[36m(ClientAppActor pid=31363)\u001b[0m Total Training Time: 38.8044 seconds\n",
            "\u001b[36m(ClientAppActor pid=31363)\u001b[0m Client fit in 38.80 seconds.\n"
          ]
        },
        {
          "output_type": "stream",
          "name": "stderr",
          "text": [
            "\u001b[91mERROR \u001b[0m:     An exception was raised when processing a message by RayBackend\n",
            "\u001b[91mERROR \u001b[0m:     \u001b[36mray::ClientAppActor.run()\u001b[39m (pid=31363, ip=172.28.0.12, actor_id=7627faab50fef30fe0bdb71f01000000, repr=<flwr.simulation.ray_transport.ray_actor.ClientAppActor object at 0x79ab9631d9d0>)\n",
            "                  ^^^^^^^^^^^^^^^^^^^^^^^^^^^^^^^^^^^^^\n",
            "  File \"/usr/local/lib/python3.11/dist-packages/flwr/client/client_app.py\", line 144, in __call__\n",
            "    return self._call(message, context)\n",
            "           ^^^^^^^^^^^^^^^^^^^^^^^^^^^^\n",
            "  File \"/usr/local/lib/python3.11/dist-packages/flwr/client/mod/utils.py\", line 27, in new_ffn\n",
            "    return _mod(message, context, _ffn)\n",
            "           ^^^^^^^^^^^^^^^^^^^^^^^^^^^^\n",
            "  File \"/usr/local/lib/python3.11/dist-packages/flwr/client/mod/centraldp_mods.py\", line 79, in fixedclipping_mod\n",
            "    compute_clip_model_update(\n",
            "  File \"/usr/local/lib/python3.11/dist-packages/flwr/common/differential_privacy.py\", line 74, in compute_clip_model_update\n",
            "    clip_inputs_inplace(model_update, clipping_norm)\n",
            "  File \"/usr/local/lib/python3.11/dist-packages/flwr/common/differential_privacy.py\", line 52, in clip_inputs_inplace\n",
            "    scaling_factor = min(1, clipping_norm / input_norm)\n",
            "                            ~~~~~~~~~~~~~~^~~~~~~~~~~~\n",
            "ZeroDivisionError: float division by zero\n",
            "\n",
            "The above exception was the direct cause of the following exception:\n",
            "\n",
            "\u001b[36mray::ClientAppActor.run()\u001b[39m (pid=31363, ip=172.28.0.12, actor_id=7627faab50fef30fe0bdb71f01000000, repr=<flwr.simulation.ray_transport.ray_actor.ClientAppActor object at 0x79ab9631d9d0>)\n",
            "           ^^^^^^^^^^^^^^^^^^^^^^^^^^^^^^^^^^^^\n",
            "           ^^^^^^^^^^^^^^^^^^^^^^^^^^^^^^^\n",
            "  File \"/usr/local/lib/python3.11/dist-packages/flwr/simulation/ray_transport/ray_actor.py\", line 64, in run\n",
            "    raise ClientAppException(str(ex)) from ex\n",
            "flwr.client.client_app.ClientAppException: \n",
            "Exception ClientAppException occurred. Message: float division by zero\n",
            "\u001b[91mERROR \u001b[0m:     Traceback (most recent call last):\n",
            "  File \"/usr/local/lib/python3.11/dist-packages/flwr/server/superlink/fleet/vce/vce_api.py\", line 111, in worker\n",
            "    out_mssg, updated_context = backend.process_message(message, context)\n",
            "                                ^^^^^^^^^^^^^^^^^^^^^^^^^^^^^^^^^^^^^^^^^\n",
            "  File \"/usr/local/lib/python3.11/dist-packages/flwr/server/superlink/fleet/vce/backend/raybackend.py\", line 187, in process_message\n",
            "    raise ex\n",
            "  File \"/usr/local/lib/python3.11/dist-packages/flwr/server/superlink/fleet/vce/backend/raybackend.py\", line 175, in process_message\n",
            "    ) = self.pool.fetch_result_and_return_actor_to_pool(future)\n",
            "        ^^^^^^^^^^^^^^^^^^^^^^^^^^^^^^^^^^^^^^^^^^^^^^^^^^^^^^^\n",
            "  File \"/usr/local/lib/python3.11/dist-packages/flwr/simulation/ray_transport/ray_actor.py\", line 480, in fetch_result_and_return_actor_to_pool\n",
            "    _, out_mssg, updated_context = ray.get(future)\n",
            "                                   ^^^^^^^^^^^^^^^\n",
            "  File \"/usr/local/lib/python3.11/dist-packages/ray/_private/auto_init_hook.py\", line 21, in auto_init_wrapper\n",
            "    return fn(*args, **kwargs)\n",
            "           ^^^^^^^^^^^^^^^^^^^\n",
            "  File \"/usr/local/lib/python3.11/dist-packages/ray/_private/client_mode_hook.py\", line 103, in wrapper\n",
            "    return func(*args, **kwargs)\n",
            "           ^^^^^^^^^^^^^^^^^^^^^\n",
            "  File \"/usr/local/lib/python3.11/dist-packages/ray/_private/worker.py\", line 2639, in get\n",
            "    values, debugger_breakpoint = worker.get_objects(object_refs, timeout=timeout)\n",
            "                                  ^^^^^^^^^^^^^^^^^^^^^^^^^^^^^^^^^^^^^^^^^^^^^^^^\n",
            "  File \"/usr/local/lib/python3.11/dist-packages/ray/_private/worker.py\", line 864, in get_objects\n",
            "    raise value.as_instanceof_cause()\n",
            "ray.exceptions.RayTaskError(ClientAppException): \u001b[36mray::ClientAppActor.run()\u001b[39m (pid=31363, ip=172.28.0.12, actor_id=7627faab50fef30fe0bdb71f01000000, repr=<flwr.simulation.ray_transport.ray_actor.ClientAppActor object at 0x79ab9631d9d0>)\n",
            "                  ^^^^^^^^^^^^^^^^^^^^^^^^^^^^^^^^^^^^^\n",
            "  File \"/usr/local/lib/python3.11/dist-packages/flwr/client/client_app.py\", line 144, in __call__\n",
            "    return self._call(message, context)\n",
            "           ^^^^^^^^^^^^^^^^^^^^^^^^^^^^\n",
            "  File \"/usr/local/lib/python3.11/dist-packages/flwr/client/mod/utils.py\", line 27, in new_ffn\n",
            "    return _mod(message, context, _ffn)\n",
            "           ^^^^^^^^^^^^^^^^^^^^^^^^^^^^\n",
            "  File \"/usr/local/lib/python3.11/dist-packages/flwr/client/mod/centraldp_mods.py\", line 79, in fixedclipping_mod\n",
            "    compute_clip_model_update(\n",
            "  File \"/usr/local/lib/python3.11/dist-packages/flwr/common/differential_privacy.py\", line 74, in compute_clip_model_update\n",
            "    clip_inputs_inplace(model_update, clipping_norm)\n",
            "  File \"/usr/local/lib/python3.11/dist-packages/flwr/common/differential_privacy.py\", line 52, in clip_inputs_inplace\n",
            "    scaling_factor = min(1, clipping_norm / input_norm)\n",
            "                            ~~~~~~~~~~~~~~^~~~~~~~~~~~\n",
            "ZeroDivisionError: float division by zero\n",
            "\n",
            "The above exception was the direct cause of the following exception:\n",
            "\n",
            "\u001b[36mray::ClientAppActor.run()\u001b[39m (pid=31363, ip=172.28.0.12, actor_id=7627faab50fef30fe0bdb71f01000000, repr=<flwr.simulation.ray_transport.ray_actor.ClientAppActor object at 0x79ab9631d9d0>)\n",
            "           ^^^^^^^^^^^^^^^^^^^^^^^^^^^^^^^^^^^^\n",
            "           ^^^^^^^^^^^^^^^^^^^^^^^^^^^^^^^\n",
            "  File \"/usr/local/lib/python3.11/dist-packages/flwr/simulation/ray_transport/ray_actor.py\", line 64, in run\n",
            "    raise ClientAppException(str(ex)) from ex\n",
            "flwr.client.client_app.ClientAppException: \n",
            "Exception ClientAppException occurred. Message: float division by zero\n",
            "\n"
          ]
        },
        {
          "output_type": "stream",
          "name": "stdout",
          "text": [
            "\u001b[36m(ClientAppActor pid=31363)\u001b[0m Epoch: 1/2, train loss 48.8228, accuracy 0.5118, precision 0.5347, recall 0.6782, f1-score 0.5980, epoch time: 20.0900 s, GPU Memory: Allocated: 419.42 MB, Reserved: 2130.00 MB\n"
          ]
        },
        {
          "output_type": "stream",
          "name": "stderr",
          "text": [
            "\u001b[91mERROR \u001b[0m:     An exception was raised when processing a message by RayBackend\n",
            "\u001b[91mERROR \u001b[0m:     \u001b[36mray::ClientAppActor.run()\u001b[39m (pid=31363, ip=172.28.0.12, actor_id=7627faab50fef30fe0bdb71f01000000, repr=<flwr.simulation.ray_transport.ray_actor.ClientAppActor object at 0x79ab9631d9d0>)\n",
            "                  ^^^^^^^^^^^^^^^^^^^^^^^^^^^^^^^^^^^^^\n",
            "  File \"/usr/local/lib/python3.11/dist-packages/flwr/client/client_app.py\", line 144, in __call__\n",
            "    return self._call(message, context)\n",
            "           ^^^^^^^^^^^^^^^^^^^^^^^^^^^^\n",
            "  File \"/usr/local/lib/python3.11/dist-packages/flwr/client/mod/utils.py\", line 27, in new_ffn\n",
            "    return _mod(message, context, _ffn)\n",
            "           ^^^^^^^^^^^^^^^^^^^^^^^^^^^^\n",
            "  File \"/usr/local/lib/python3.11/dist-packages/flwr/client/mod/centraldp_mods.py\", line 79, in fixedclipping_mod\n",
            "    compute_clip_model_update(\n",
            "  File \"/usr/local/lib/python3.11/dist-packages/flwr/common/differential_privacy.py\", line 74, in compute_clip_model_update\n",
            "    clip_inputs_inplace(model_update, clipping_norm)\n",
            "  File \"/usr/local/lib/python3.11/dist-packages/flwr/common/differential_privacy.py\", line 52, in clip_inputs_inplace\n",
            "    scaling_factor = min(1, clipping_norm / input_norm)\n",
            "                            ~~~~~~~~~~~~~~^~~~~~~~~~~~\n",
            "ZeroDivisionError: float division by zero\n",
            "\n",
            "The above exception was the direct cause of the following exception:\n",
            "\n",
            "\u001b[36mray::ClientAppActor.run()\u001b[39m (pid=31363, ip=172.28.0.12, actor_id=7627faab50fef30fe0bdb71f01000000, repr=<flwr.simulation.ray_transport.ray_actor.ClientAppActor object at 0x79ab9631d9d0>)\n",
            "           ^^^^^^^^^^^^^^^^^^^^^^^^^^^^^^^^^^^^\n",
            "           ^^^^^^^^^^^^^^^^^^^^^^^^^^^^^^^\n",
            "  File \"/usr/local/lib/python3.11/dist-packages/flwr/simulation/ray_transport/ray_actor.py\", line 64, in run\n",
            "    raise ClientAppException(str(ex)) from ex\n",
            "flwr.client.client_app.ClientAppException: \n",
            "Exception ClientAppException occurred. Message: float division by zero\n",
            "\u001b[91mERROR \u001b[0m:     Traceback (most recent call last):\n",
            "  File \"/usr/local/lib/python3.11/dist-packages/flwr/server/superlink/fleet/vce/vce_api.py\", line 111, in worker\n",
            "    out_mssg, updated_context = backend.process_message(message, context)\n",
            "                                ^^^^^^^^^^^^^^^^^^^^^^^^^^^^^^^^^^^^^^^^^\n",
            "  File \"/usr/local/lib/python3.11/dist-packages/flwr/server/superlink/fleet/vce/backend/raybackend.py\", line 187, in process_message\n",
            "    raise ex\n",
            "  File \"/usr/local/lib/python3.11/dist-packages/flwr/server/superlink/fleet/vce/backend/raybackend.py\", line 175, in process_message\n",
            "    ) = self.pool.fetch_result_and_return_actor_to_pool(future)\n",
            "        ^^^^^^^^^^^^^^^^^^^^^^^^^^^^^^^^^^^^^^^^^^^^^^^^^^^^^^^\n",
            "  File \"/usr/local/lib/python3.11/dist-packages/flwr/simulation/ray_transport/ray_actor.py\", line 480, in fetch_result_and_return_actor_to_pool\n",
            "    _, out_mssg, updated_context = ray.get(future)\n",
            "                                   ^^^^^^^^^^^^^^^\n",
            "  File \"/usr/local/lib/python3.11/dist-packages/ray/_private/auto_init_hook.py\", line 21, in auto_init_wrapper\n",
            "    return fn(*args, **kwargs)\n",
            "           ^^^^^^^^^^^^^^^^^^^\n",
            "  File \"/usr/local/lib/python3.11/dist-packages/ray/_private/client_mode_hook.py\", line 103, in wrapper\n",
            "    return func(*args, **kwargs)\n",
            "           ^^^^^^^^^^^^^^^^^^^^^\n",
            "  File \"/usr/local/lib/python3.11/dist-packages/ray/_private/worker.py\", line 2639, in get\n",
            "    values, debugger_breakpoint = worker.get_objects(object_refs, timeout=timeout)\n",
            "                                  ^^^^^^^^^^^^^^^^^^^^^^^^^^^^^^^^^^^^^^^^^^^^^^^^\n",
            "  File \"/usr/local/lib/python3.11/dist-packages/ray/_private/worker.py\", line 864, in get_objects\n",
            "    raise value.as_instanceof_cause()\n",
            "ray.exceptions.RayTaskError(ClientAppException): \u001b[36mray::ClientAppActor.run()\u001b[39m (pid=31363, ip=172.28.0.12, actor_id=7627faab50fef30fe0bdb71f01000000, repr=<flwr.simulation.ray_transport.ray_actor.ClientAppActor object at 0x79ab9631d9d0>)\n",
            "                  ^^^^^^^^^^^^^^^^^^^^^^^^^^^^^^^^^^^^^\n",
            "  File \"/usr/local/lib/python3.11/dist-packages/flwr/client/client_app.py\", line 144, in __call__\n",
            "    return self._call(message, context)\n",
            "           ^^^^^^^^^^^^^^^^^^^^^^^^^^^^\n",
            "  File \"/usr/local/lib/python3.11/dist-packages/flwr/client/mod/utils.py\", line 27, in new_ffn\n",
            "    return _mod(message, context, _ffn)\n",
            "           ^^^^^^^^^^^^^^^^^^^^^^^^^^^^\n",
            "  File \"/usr/local/lib/python3.11/dist-packages/flwr/client/mod/centraldp_mods.py\", line 79, in fixedclipping_mod\n",
            "    compute_clip_model_update(\n",
            "  File \"/usr/local/lib/python3.11/dist-packages/flwr/common/differential_privacy.py\", line 74, in compute_clip_model_update\n",
            "    clip_inputs_inplace(model_update, clipping_norm)\n",
            "  File \"/usr/local/lib/python3.11/dist-packages/flwr/common/differential_privacy.py\", line 52, in clip_inputs_inplace\n",
            "    scaling_factor = min(1, clipping_norm / input_norm)\n",
            "                            ~~~~~~~~~~~~~~^~~~~~~~~~~~\n",
            "ZeroDivisionError: float division by zero\n",
            "\n",
            "The above exception was the direct cause of the following exception:\n",
            "\n",
            "\u001b[36mray::ClientAppActor.run()\u001b[39m (pid=31363, ip=172.28.0.12, actor_id=7627faab50fef30fe0bdb71f01000000, repr=<flwr.simulation.ray_transport.ray_actor.ClientAppActor object at 0x79ab9631d9d0>)\n",
            "           ^^^^^^^^^^^^^^^^^^^^^^^^^^^^^^^^^^^^\n",
            "           ^^^^^^^^^^^^^^^^^^^^^^^^^^^^^^^\n",
            "  File \"/usr/local/lib/python3.11/dist-packages/flwr/simulation/ray_transport/ray_actor.py\", line 64, in run\n",
            "    raise ClientAppException(str(ex)) from ex\n",
            "flwr.client.client_app.ClientAppException: \n",
            "Exception ClientAppException occurred. Message: float division by zero\n",
            "\n"
          ]
        },
        {
          "output_type": "stream",
          "name": "stdout",
          "text": [
            "\u001b[36m(ClientAppActor pid=31363)\u001b[0m Epoch: 2/2, train loss 45.7249, accuracy 0.5428, precision 0.5595, recall 0.6852, f1-score 0.6160, epoch time: 19.2173 s, GPU Memory: Allocated: 419.42 MB, Reserved: 2130.00 MB\n",
            "\u001b[36m(ClientAppActor pid=31363)\u001b[0m Total Training Time: 39.3081 seconds\n",
            "\u001b[36m(ClientAppActor pid=31363)\u001b[0m Client fit in 39.31 seconds.\n",
            "\u001b[36m(ClientAppActor pid=31363)\u001b[0m Epoch: 1/2, train loss 49.0123, accuracy 0.5099, precision 0.5468, recall 0.6652, f1-score 0.6002, epoch time: 20.7364 s, GPU Memory: Allocated: 420.94 MB, Reserved: 2130.00 MB\n",
            "\u001b[36m(ClientAppActor pid=31363)\u001b[0m Epoch: 2/2, train loss 48.0247, accuracy 0.5198, precision 0.5558, recall 0.6562, f1-score 0.6018, epoch time: 19.2456 s, GPU Memory: Allocated: 420.94 MB, Reserved: 2130.00 MB\n",
            "\u001b[36m(ClientAppActor pid=31363)\u001b[0m Total Training Time: 39.9829 seconds\n",
            "\u001b[36m(ClientAppActor pid=31363)\u001b[0m Client fit in 39.98 seconds.\n"
          ]
        },
        {
          "output_type": "stream",
          "name": "stderr",
          "text": [
            "\u001b[91mERROR \u001b[0m:     An exception was raised when processing a message by RayBackend\n",
            "\u001b[91mERROR \u001b[0m:     \u001b[36mray::ClientAppActor.run()\u001b[39m (pid=31363, ip=172.28.0.12, actor_id=7627faab50fef30fe0bdb71f01000000, repr=<flwr.simulation.ray_transport.ray_actor.ClientAppActor object at 0x79ab9631d9d0>)\n",
            "                  ^^^^^^^^^^^^^^^^^^^^^^^^^^^^^^^^^^^^^\n",
            "  File \"/usr/local/lib/python3.11/dist-packages/flwr/client/client_app.py\", line 144, in __call__\n",
            "    return self._call(message, context)\n",
            "           ^^^^^^^^^^^^^^^^^^^^^^^^^^^^\n",
            "  File \"/usr/local/lib/python3.11/dist-packages/flwr/client/mod/utils.py\", line 27, in new_ffn\n",
            "    return _mod(message, context, _ffn)\n",
            "           ^^^^^^^^^^^^^^^^^^^^^^^^^^^^\n",
            "  File \"/usr/local/lib/python3.11/dist-packages/flwr/client/mod/centraldp_mods.py\", line 79, in fixedclipping_mod\n",
            "    compute_clip_model_update(\n",
            "  File \"/usr/local/lib/python3.11/dist-packages/flwr/common/differential_privacy.py\", line 74, in compute_clip_model_update\n",
            "    clip_inputs_inplace(model_update, clipping_norm)\n",
            "  File \"/usr/local/lib/python3.11/dist-packages/flwr/common/differential_privacy.py\", line 52, in clip_inputs_inplace\n",
            "    scaling_factor = min(1, clipping_norm / input_norm)\n",
            "                            ~~~~~~~~~~~~~~^~~~~~~~~~~~\n",
            "ZeroDivisionError: float division by zero\n",
            "\n",
            "The above exception was the direct cause of the following exception:\n",
            "\n",
            "\u001b[36mray::ClientAppActor.run()\u001b[39m (pid=31363, ip=172.28.0.12, actor_id=7627faab50fef30fe0bdb71f01000000, repr=<flwr.simulation.ray_transport.ray_actor.ClientAppActor object at 0x79ab9631d9d0>)\n",
            "           ^^^^^^^^^^^^^^^^^^^^^^^^^^^^^^^^^^^^\n",
            "           ^^^^^^^^^^^^^^^^^^^^^^^^^^^^^^^\n",
            "  File \"/usr/local/lib/python3.11/dist-packages/flwr/simulation/ray_transport/ray_actor.py\", line 64, in run\n",
            "    raise ClientAppException(str(ex)) from ex\n",
            "flwr.client.client_app.ClientAppException: \n",
            "Exception ClientAppException occurred. Message: float division by zero\n",
            "\u001b[91mERROR \u001b[0m:     Traceback (most recent call last):\n",
            "  File \"/usr/local/lib/python3.11/dist-packages/flwr/server/superlink/fleet/vce/vce_api.py\", line 111, in worker\n",
            "    out_mssg, updated_context = backend.process_message(message, context)\n",
            "                                ^^^^^^^^^^^^^^^^^^^^^^^^^^^^^^^^^^^^^^^^^\n",
            "  File \"/usr/local/lib/python3.11/dist-packages/flwr/server/superlink/fleet/vce/backend/raybackend.py\", line 187, in process_message\n",
            "    raise ex\n",
            "  File \"/usr/local/lib/python3.11/dist-packages/flwr/server/superlink/fleet/vce/backend/raybackend.py\", line 175, in process_message\n",
            "    ) = self.pool.fetch_result_and_return_actor_to_pool(future)\n",
            "        ^^^^^^^^^^^^^^^^^^^^^^^^^^^^^^^^^^^^^^^^^^^^^^^^^^^^^^^\n",
            "  File \"/usr/local/lib/python3.11/dist-packages/flwr/simulation/ray_transport/ray_actor.py\", line 480, in fetch_result_and_return_actor_to_pool\n",
            "    _, out_mssg, updated_context = ray.get(future)\n",
            "                                   ^^^^^^^^^^^^^^^\n",
            "  File \"/usr/local/lib/python3.11/dist-packages/ray/_private/auto_init_hook.py\", line 21, in auto_init_wrapper\n",
            "    return fn(*args, **kwargs)\n",
            "           ^^^^^^^^^^^^^^^^^^^\n",
            "  File \"/usr/local/lib/python3.11/dist-packages/ray/_private/client_mode_hook.py\", line 103, in wrapper\n",
            "    return func(*args, **kwargs)\n",
            "           ^^^^^^^^^^^^^^^^^^^^^\n",
            "  File \"/usr/local/lib/python3.11/dist-packages/ray/_private/worker.py\", line 2639, in get\n",
            "    values, debugger_breakpoint = worker.get_objects(object_refs, timeout=timeout)\n",
            "                                  ^^^^^^^^^^^^^^^^^^^^^^^^^^^^^^^^^^^^^^^^^^^^^^^^\n",
            "  File \"/usr/local/lib/python3.11/dist-packages/ray/_private/worker.py\", line 864, in get_objects\n",
            "    raise value.as_instanceof_cause()\n",
            "ray.exceptions.RayTaskError(ClientAppException): \u001b[36mray::ClientAppActor.run()\u001b[39m (pid=31363, ip=172.28.0.12, actor_id=7627faab50fef30fe0bdb71f01000000, repr=<flwr.simulation.ray_transport.ray_actor.ClientAppActor object at 0x79ab9631d9d0>)\n",
            "                  ^^^^^^^^^^^^^^^^^^^^^^^^^^^^^^^^^^^^^\n",
            "  File \"/usr/local/lib/python3.11/dist-packages/flwr/client/client_app.py\", line 144, in __call__\n",
            "    return self._call(message, context)\n",
            "           ^^^^^^^^^^^^^^^^^^^^^^^^^^^^\n",
            "  File \"/usr/local/lib/python3.11/dist-packages/flwr/client/mod/utils.py\", line 27, in new_ffn\n",
            "    return _mod(message, context, _ffn)\n",
            "           ^^^^^^^^^^^^^^^^^^^^^^^^^^^^\n",
            "  File \"/usr/local/lib/python3.11/dist-packages/flwr/client/mod/centraldp_mods.py\", line 79, in fixedclipping_mod\n",
            "    compute_clip_model_update(\n",
            "  File \"/usr/local/lib/python3.11/dist-packages/flwr/common/differential_privacy.py\", line 74, in compute_clip_model_update\n",
            "    clip_inputs_inplace(model_update, clipping_norm)\n",
            "  File \"/usr/local/lib/python3.11/dist-packages/flwr/common/differential_privacy.py\", line 52, in clip_inputs_inplace\n",
            "    scaling_factor = min(1, clipping_norm / input_norm)\n",
            "                            ~~~~~~~~~~~~~~^~~~~~~~~~~~\n",
            "ZeroDivisionError: float division by zero\n",
            "\n",
            "The above exception was the direct cause of the following exception:\n",
            "\n",
            "\u001b[36mray::ClientAppActor.run()\u001b[39m (pid=31363, ip=172.28.0.12, actor_id=7627faab50fef30fe0bdb71f01000000, repr=<flwr.simulation.ray_transport.ray_actor.ClientAppActor object at 0x79ab9631d9d0>)\n",
            "           ^^^^^^^^^^^^^^^^^^^^^^^^^^^^^^^^^^^^\n",
            "           ^^^^^^^^^^^^^^^^^^^^^^^^^^^^^^^\n",
            "  File \"/usr/local/lib/python3.11/dist-packages/flwr/simulation/ray_transport/ray_actor.py\", line 64, in run\n",
            "    raise ClientAppException(str(ex)) from ex\n",
            "flwr.client.client_app.ClientAppException: \n",
            "Exception ClientAppException occurred. Message: float division by zero\n",
            "\n",
            "\u001b[92mINFO \u001b[0m:      aggregate_fit: received 1 results and 4 failures\n",
            "\u001b[92mINFO \u001b[0m:      configure_evaluate: strategy sampled 5 clients (out of 5)\n"
          ]
        },
        {
          "output_type": "stream",
          "name": "stdout",
          "text": [
            "\u001b[36m(ClientAppActor pid=31363)\u001b[0m Client eval in 1.95 seconds.\n",
            "\u001b[36m(ClientAppActor pid=31363)\u001b[0m precision 0.6067415730337079, recall 1.0, f1 0.7552447552447552\n",
            "\u001b[36m(ClientAppActor pid=31363)\u001b[0m Client eval in 2.67 seconds.\n",
            "\u001b[36m(ClientAppActor pid=31363)\u001b[0m precision 0.5568181818181818, recall 0.98, f1 0.7101449275362319\n",
            "\u001b[36m(ClientAppActor pid=31363)\u001b[0m Client eval in 1.88 seconds.\n",
            "\u001b[36m(ClientAppActor pid=31363)\u001b[0m precision 0.5287356321839081, recall 0.9787234042553191, f1 0.6865671641791045\n",
            "\u001b[36m(ClientAppActor pid=31363)\u001b[0m Client eval in 1.84 seconds.\n",
            "\u001b[36m(ClientAppActor pid=31363)\u001b[0m precision 0.5454545454545454, recall 0.9795918367346939, f1 0.7007299270072993\n"
          ]
        },
        {
          "output_type": "stream",
          "name": "stderr",
          "text": [
            "\u001b[92mINFO \u001b[0m:      aggregate_evaluate: received 5 results and 0 failures\n",
            "\u001b[92mINFO \u001b[0m:      \n",
            "\u001b[92mINFO \u001b[0m:      [SUMMARY]\n",
            "\u001b[92mINFO \u001b[0m:      Run finished 5 round(s) in 1078.58s\n",
            "\u001b[92mINFO \u001b[0m:      \tHistory (loss, distributed):\n",
            "\u001b[92mINFO \u001b[0m:      \t\tround 1: 45.34014712387257\n",
            "\u001b[92mINFO \u001b[0m:      \t\tround 2: 45.5056180114365\n",
            "\u001b[92mINFO \u001b[0m:      \t\tround 3: 45.50561801143652\n",
            "\u001b[92mINFO \u001b[0m:      \t\tround 4: 45.5056180114365\n",
            "\u001b[92mINFO \u001b[0m:      \t\tround 5: 45.5056180114365\n",
            "\u001b[92mINFO \u001b[0m:      \tHistory (metrics, distributed, evaluate):\n",
            "\u001b[92mINFO \u001b[0m:      \t{'accuracy': [(1, 0.5404744069912609),\n",
            "\u001b[92mINFO \u001b[0m:      \t              (2, 0.544943820224719),\n",
            "\u001b[92mINFO \u001b[0m:      \t              (3, 0.5449438202247191),\n",
            "\u001b[92mINFO \u001b[0m:      \t              (4, 0.5449438202247191),\n",
            "\u001b[92mINFO \u001b[0m:      \t              (5, 0.5449438202247191)]}\n",
            "\u001b[92mINFO \u001b[0m:      \n"
          ]
        },
        {
          "output_type": "stream",
          "name": "stdout",
          "text": [
            "\u001b[36m(ClientAppActor pid=31363)\u001b[0m Client eval in 1.92 seconds.\n",
            "\u001b[36m(ClientAppActor pid=31363)\u001b[0m precision 0.5, recall 0.9777777777777777, f1 0.6616541353383458\n"
          ]
        }
      ]
    },
    {
      "cell_type": "code",
      "source": [
        "#Estimates the size of a PyTorch model in bytes\n",
        "def estimate_model_size(model):\n",
        "    param_size = 0\n",
        "    for param in model.parameters():\n",
        "        param_size += param.numel() * param.element_size()\n",
        "    buffer_size = 0\n",
        "    for buffer in model.buffers():\n",
        "        buffer_size += buffer.numel() * buffer.element_size()\n",
        "    return param_size + buffer_size\n",
        "\n",
        "binary_model = NetNIH().to(DEVICE)\n",
        "model_size_bytes = estimate_model_size(binary_model)\n",
        "model_size_mb = model_size_bytes / (1024 * 1024)\n",
        "num_rounds = 5\n",
        "num_clients = NUM_CLIENTS\n",
        "\n",
        "uplink_per_round_bytes = num_clients * model_size_bytes\n",
        "downlink_per_round_bytes = num_clients * model_size_bytes\n",
        "total_uplink_bytes = num_rounds * uplink_per_round_bytes\n",
        "total_downlink_bytes = num_rounds * downlink_per_round_bytes\n",
        "total_communication_bytes = total_uplink_bytes + total_downlink_bytes\n",
        "\n",
        "uplink_mb = total_uplink_bytes / (1024 * 1024)\n",
        "downlink_mb = total_downlink_bytes / (1024 * 1024)\n",
        "total_mb = total_communication_bytes / (1024 * 1024)\n",
        "\n",
        "print(\"\\n--- Federated Learning Communication Overhead Estimation ---\")\n",
        "print(f\"Estimated model size: {model_size_mb:.2f} MB\")\n",
        "print(f\"Number of clients: {num_clients}\")\n",
        "print(f\"Number of rounds: {num_rounds}\")\n",
        "print(f\"Estimated uplink communication (total): {uplink_mb:.2f} MB\")\n",
        "print(f\"Estimated downlink communication (total): {downlink_mb:.2f} MB\")\n",
        "print(f\"Estimated total communication: {total_mb:.2f} MB\")"
      ],
      "metadata": {
        "colab": {
          "base_uri": "https://localhost:8080/"
        },
        "outputId": "d1613140-542e-44f2-9bf0-98e3087ebb07",
        "id": "nkSOddr02hIQ"
      },
      "execution_count": 41,
      "outputs": [
        {
          "output_type": "stream",
          "name": "stdout",
          "text": [
            "\n",
            "--- Federated Learning Communication Overhead Estimation ---\n",
            "Estimated model size: 99.73 MB\n",
            "Number of clients: 5\n",
            "Number of rounds: 5\n",
            "Estimated uplink communication (total): 2493.37 MB\n",
            "Estimated downlink communication (total): 2493.37 MB\n",
            "Estimated total communication: 4986.73 MB\n"
          ]
        }
      ]
    },
    {
      "cell_type": "code",
      "source": [
        "from torch.utils.data import DataLoader\n",
        "from torchvision import transforms\n",
        "\n",
        "transform = transforms.Compose([\n",
        "    transforms.Resize((224, 224)),\n",
        "    transforms.ToTensor(),\n",
        "    transforms.Normalize(mean=[0.485, 0.456, 0.406], std=[0.229, 0.224, 0.225])\n",
        "])\n",
        "\n",
        "# Create the full centralized train dataset\n",
        "central_trainset = CXRDataset(train_df, \"./nih_images/train/\", transform=transform)\n",
        "\n",
        "# Create the full test dataset\n",
        "central_testset = CXRDataset(test_df, \"./nih_images/test/\", transform=transform)\n",
        "\n",
        "# Now, DataLoaders\n",
        "central_train_loader = DataLoader(central_trainset, batch_size=BATCH_SIZE, shuffle=False)\n",
        "test_loader = DataLoader(central_testset, batch_size=BATCH_SIZE, shuffle=False)\n",
        "\n",
        "# Step 1: Rebuild model\n",
        "global_model = NetNIH().to(DEVICE)\n",
        "\n",
        "# Step 2: Load saved weights\n",
        "global_model = load_weights_into_model(global_model, \"/content/FedAvg-DP - round-2-weights.npz\") # model failed from round 2 onwards, load the most final one\n",
        "\n",
        "# Step 3: Run MIA\n",
        "mia_auc = run_membership_inference_attack(global_model, central_train_loader, test_loader)\n",
        "print(f\"Membership Inference Attack AUC: {mia_auc:.4f}\")"
      ],
      "metadata": {
        "colab": {
          "base_uri": "https://localhost:8080/"
        },
        "outputId": "f9f6be47-c07e-46f1-fe3b-74f58aba2eb9",
        "id": "QxR4gXZF2hIQ"
      },
      "execution_count": 42,
      "outputs": [
        {
          "output_type": "stream",
          "name": "stdout",
          "text": [
            "Loaded weights from /content/FedAvg-DP - round-2-weights.npz into model successfully.\n",
            "[Privacy Risk] Membership Inference Attack AUC: 0.5029\n",
            "Membership Inference Attack AUC: 0.5029\n"
          ]
        }
      ]
    },
    {
      "cell_type": "markdown",
      "source": [
        "## 2. FedProx"
      ],
      "metadata": {
        "id": "xgHp94xmKwoX"
      }
    },
    {
      "cell_type": "code",
      "source": [
        "#Functions to get parameters and set parameters\n",
        "def set_parameters(net, parameters: List[np.ndarray]):\n",
        "    params_dict = zip(net.state_dict().keys(), parameters)\n",
        "    state_dict = OrderedDict({k: torch.Tensor(v) for k, v in params_dict})\n",
        "    net.load_state_dict(state_dict, strict=True)\n",
        "\n",
        "def get_parameters(net) -> List[np.ndarray]:\n",
        "    return [val.cpu().numpy() for _, val in net.state_dict().items()]"
      ],
      "metadata": {
        "id": "umcDkeFZOy1z"
      },
      "execution_count": null,
      "outputs": []
    },
    {
      "cell_type": "code",
      "source": [
        "#Define Client class for FedProx\n",
        "class FPClient(NumPyClient):\n",
        "    def __init__(self, net, trainloader, valloader):\n",
        "        self.net = net\n",
        "        self.trainloader = trainloader\n",
        "        self.valloader = valloader\n",
        "        self.global_params = None\n",
        "\n",
        "    def get_parameters(self, config):\n",
        "        return get_parameters(self.net)\n",
        "\n",
        "    def fit(self, parameters, config):\n",
        "        set_parameters(self.net, parameters)\n",
        "        self.global_params = copy.deepcopy(self.net).parameters()\n",
        "        fit_start_time = time.time()\n",
        "        train(self.net, self.trainloader, epochs=2, strategy=\"fed_prox\", global_params=self.global_params, config=config)\n",
        "        fit_end_time = time.time()\n",
        "        fit_duration = fit_end_time - fit_start_time\n",
        "        print(f\"Client fit in {fit_duration:.2f} seconds.\")\n",
        "        return get_parameters(self.net), len(self.trainloader), {}\n",
        "\n",
        "    def evaluate(self, parameters, config):\n",
        "        set_parameters(self.net, parameters)\n",
        "        eval_start_time = time.time()\n",
        "        loss, accuracy, precision, recall, f1  = test(self.net, self.valloader)\n",
        "        eval_end_time = time.time()\n",
        "        eval_duration = eval_end_time - eval_start_time\n",
        "        print(f\"Client eval in {eval_duration:.2f} seconds.\")\n",
        "        print(f\"precision {precision}, recall {recall}, f1 {f1}\")\n",
        "        return float(loss), len(self.valloader), {\"accuracy\": float(accuracy)}"
      ],
      "metadata": {
        "id": "UCM941oUOyz4"
      },
      "execution_count": null,
      "outputs": []
    },
    {
      "cell_type": "code",
      "source": [
        "#Create a Flower client representing a single organization\n",
        "def client_fn(context: Context) -> Client:\n",
        "    net = NetNIH().to(DEVICE)\n",
        "    partition_id = context.node_config[\"partition-id\"]\n",
        "    trainloader, valloader, _ = load_datasets(partition_id=partition_id)\n",
        "    return FPClient(net, trainloader, valloader).to_client()\n",
        "\n",
        "\n",
        "FPclient = ClientApp(client_fn=client_fn)"
      ],
      "metadata": {
        "id": "XVEmMxSQOyxo"
      },
      "execution_count": null,
      "outputs": []
    },
    {
      "cell_type": "code",
      "source": [
        "def weighted_average(metrics: List[Tuple[int, Metrics]]) -> Metrics:\n",
        "    accuracies = [num_examples * m[\"accuracy\"] for num_examples, m in metrics]\n",
        "    examples = [num_examples for num_examples, _ in metrics]\n",
        "\n",
        "    return {\"accuracy\": sum(accuracies) / sum(examples)}"
      ],
      "metadata": {
        "id": "W4W4WJj9Oyvi"
      },
      "execution_count": null,
      "outputs": []
    },
    {
      "cell_type": "code",
      "source": [
        "#Saves the final model and retrieves model parameters\n",
        "class SaveModelStrategy(flwr.server.strategy.FedProx):\n",
        "    def aggregate_fit(\n",
        "        self,\n",
        "        server_round,\n",
        "        results,\n",
        "        failures,\n",
        "    ):\n",
        "\n",
        "        # Call aggregate_fit from base class (FedProx) to aggregate parameters and metrics\n",
        "        aggregated_parameters, aggregated_metrics = super().aggregate_fit(\n",
        "            server_round, results, failures\n",
        "        )\n",
        "\n",
        "        if aggregated_parameters is not None:\n",
        "            aggregated_ndarrays: list[np.ndarray] = flwr.common.parameters_to_ndarrays(\n",
        "                aggregated_parameters\n",
        "            )\n",
        "\n",
        "            print(f\"FedProx - Saving round {server_round} aggregated_ndarrays...\")\n",
        "            np.savez(f\"FedProx - round-{server_round}-weights.npz\", *aggregated_ndarrays)\n",
        "\n",
        "        return aggregated_parameters, aggregated_metrics\n",
        "\n",
        "\n",
        "# Create strategy and pass into ServerApp\n",
        "def server_fn(context):\n",
        "    FPstrategy = SaveModelStrategy(\n",
        "        fraction_fit=1.0,  # Sample 100% of available clients for training\n",
        "        fraction_evaluate=1.0,  # Sample 50% of available clients for evaluation\n",
        "        min_fit_clients=5,  # Never sample less than 5 clients for training\n",
        "        min_evaluate_clients=5,  # Never sample less than 5 clients for evaluation\n",
        "        min_available_clients=5,  # Wait until all 5 clients are available\n",
        "        evaluate_metrics_aggregation_fn=weighted_average, # metric aggregation function\n",
        "        proximal_mu=0.3,\n",
        "    )\n",
        "    config = ServerConfig(num_rounds=5)\n",
        "    return ServerAppComponents(strategy=FPstrategy, config=config)\n",
        "\n",
        "\n",
        "FPserver = ServerApp(server_fn=server_fn)"
      ],
      "metadata": {
        "id": "j0EFmEbPcYjb"
      },
      "execution_count": null,
      "outputs": []
    },
    {
      "cell_type": "code",
      "source": [
        "backend_config = {\"client_resources\": {\"num_cpus\": 1, \"num_gpus\": 0.0}}\n",
        "if DEVICE == \"cuda\":\n",
        "    backend_config = {\"client_resources\": {\"num_cpus\": 1, \"num_gpus\": 1.0}}"
      ],
      "metadata": {
        "id": "ggVI7LSe8dG2"
      },
      "execution_count": null,
      "outputs": []
    },
    {
      "cell_type": "code",
      "source": [
        "# Run FL simulation\n",
        "run_simulation(\n",
        "    server_app=FPserver,\n",
        "    client_app=FPclient,\n",
        "    num_supernodes=NUM_CLIENTS,\n",
        "    backend_config=backend_config,\n",
        ")"
      ],
      "metadata": {
        "id": "kDCq3IJw8dEr",
        "colab": {
          "base_uri": "https://localhost:8080/"
        },
        "outputId": "cca844d0-36b1-4c69-9dcb-7911e373b966"
      },
      "execution_count": null,
      "outputs": [
        {
          "output_type": "stream",
          "name": "stderr",
          "text": [
            "DEBUG:flwr:Asyncio event loop already running.\n",
            "\u001b[92mINFO \u001b[0m:      Starting Flower ServerApp, config: num_rounds=5, no round_timeout\n",
            "\u001b[92mINFO \u001b[0m:      \n",
            "\u001b[92mINFO \u001b[0m:      [INIT]\n",
            "\u001b[92mINFO \u001b[0m:      Requesting initial parameters from one random client\n",
            "\u001b[36m(pid=4609)\u001b[0m 2025-04-26 01:15:02.768746: E external/local_xla/xla/stream_executor/cuda/cuda_fft.cc:477] Unable to register cuFFT factory: Attempting to register factory for plugin cuFFT when one has already been registered\n",
            "\u001b[36m(pid=4609)\u001b[0m WARNING: All log messages before absl::InitializeLog() is called are written to STDERR\n",
            "\u001b[36m(pid=4609)\u001b[0m E0000 00:00:1745630102.791569    4609 cuda_dnn.cc:8310] Unable to register cuDNN factory: Attempting to register factory for plugin cuDNN when one has already been registered\n",
            "\u001b[36m(pid=4609)\u001b[0m E0000 00:00:1745630102.798052    4609 cuda_blas.cc:1418] Unable to register cuBLAS factory: Attempting to register factory for plugin cuBLAS when one has already been registered\n",
            "\u001b[92mINFO \u001b[0m:      Received initial parameters from one random client\n",
            "\u001b[92mINFO \u001b[0m:      Starting evaluation of initial global parameters\n",
            "\u001b[92mINFO \u001b[0m:      Evaluation returned no results (`None`)\n",
            "\u001b[92mINFO \u001b[0m:      \n",
            "\u001b[92mINFO \u001b[0m:      [ROUND 1]\n",
            "\u001b[92mINFO \u001b[0m:      configure_fit: strategy sampled 5 clients (out of 5)\n"
          ]
        },
        {
          "output_type": "stream",
          "name": "stdout",
          "text": [
            "\u001b[36m(ClientAppActor pid=4609)\u001b[0m Epoch: 1/2, train loss 0.6948, accuracy 0.5527, precision 0.5599, recall 0.9648, f1-score 0.7086, epoch time: 23.2829 s, GPU Memory: Allocated: 420.12 MB, Reserved: 2076.00 MB\n",
            "\u001b[36m(ClientAppActor pid=4609)\u001b[0m Epoch: 2/2, train loss 0.6785, accuracy 0.5923, precision 0.5847, recall 0.9560, f1-score 0.7256, epoch time: 20.0687 s, GPU Memory: Allocated: 420.12 MB, Reserved: 2076.00 MB\n",
            "\u001b[36m(ClientAppActor pid=4609)\u001b[0m Total Training Time: 43.3524 seconds\n",
            "\u001b[36m(ClientAppActor pid=4609)\u001b[0m Client fit in 43.35 seconds.\n",
            "\u001b[36m(ClientAppActor pid=4609)\u001b[0m Epoch: 1/2, train loss 0.7034, accuracy 0.5489, precision 0.5521, recall 0.9843, f1-score 0.7074, epoch time: 19.4945 s, GPU Memory: Allocated: 420.12 MB, Reserved: 2076.00 MB\n",
            "\u001b[36m(ClientAppActor pid=4609)\u001b[0m Epoch: 2/2, train loss 0.6860, accuracy 0.5539, precision 0.5539, recall 1.0000, f1-score 0.7129, epoch time: 20.0117 s, GPU Memory: Allocated: 420.12 MB, Reserved: 2076.00 MB\n",
            "\u001b[36m(ClientAppActor pid=4609)\u001b[0m Total Training Time: 39.5070 seconds\n",
            "\u001b[36m(ClientAppActor pid=4609)\u001b[0m Client fit in 39.51 seconds.\n",
            "\u001b[36m(ClientAppActor pid=4609)\u001b[0m Epoch: 1/2, train loss 0.6977, accuracy 0.5254, precision 0.5321, recall 0.9561, f1-score 0.6837, epoch time: 19.7898 s, GPU Memory: Allocated: 420.12 MB, Reserved: 2076.00 MB\n",
            "\u001b[36m(ClientAppActor pid=4609)\u001b[0m Epoch: 2/2, train loss 0.7062, accuracy 0.5477, precision 0.5506, recall 0.8545, f1-score 0.6697, epoch time: 19.8090 s, GPU Memory: Allocated: 420.12 MB, Reserved: 2076.00 MB\n",
            "\u001b[36m(ClientAppActor pid=4609)\u001b[0m Total Training Time: 39.5997 seconds\n",
            "\u001b[36m(ClientAppActor pid=4609)\u001b[0m Client fit in 39.60 seconds.\n",
            "\u001b[36m(ClientAppActor pid=4609)\u001b[0m Epoch: 1/2, train loss 0.6967, accuracy 0.5242, precision 0.5308, recall 0.9560, f1-score 0.6826, epoch time: 20.2208 s, GPU Memory: Allocated: 420.12 MB, Reserved: 2076.00 MB\n",
            "\u001b[36m(ClientAppActor pid=4609)\u001b[0m Epoch: 2/2, train loss 0.6922, accuracy 0.5341, precision 0.5395, recall 0.8843, f1-score 0.6702, epoch time: 19.2648 s, GPU Memory: Allocated: 420.12 MB, Reserved: 2076.00 MB\n",
            "\u001b[36m(ClientAppActor pid=4609)\u001b[0m Total Training Time: 39.4865 seconds\n",
            "\u001b[36m(ClientAppActor pid=4609)\u001b[0m Client fit in 39.49 seconds.\n",
            "\u001b[36m(ClientAppActor pid=4609)\u001b[0m Epoch: 1/2, train loss 0.6918, accuracy 0.5519, precision 0.5548, recall 0.9598, f1-score 0.7032, epoch time: 20.5015 s, GPU Memory: Allocated: 422.00 MB, Reserved: 2076.00 MB\n",
            "\u001b[36m(ClientAppActor pid=4609)\u001b[0m Epoch: 2/2, train loss 0.6921, accuracy 0.5531, precision 0.5532, recall 0.9978, f1-score 0.7118, epoch time: 19.0373 s, GPU Memory: Allocated: 422.00 MB, Reserved: 2076.00 MB\n",
            "\u001b[36m(ClientAppActor pid=4609)\u001b[0m Total Training Time: 39.5395 seconds\n",
            "\u001b[36m(ClientAppActor pid=4609)\u001b[0m Client fit in 39.54 seconds.\n"
          ]
        },
        {
          "output_type": "stream",
          "name": "stderr",
          "text": [
            "\u001b[92mINFO \u001b[0m:      aggregate_fit: received 5 results and 0 failures\n",
            "\u001b[93mWARNING \u001b[0m:   No fit_metrics_aggregation_fn provided\n",
            "\u001b[92mINFO \u001b[0m:      configure_evaluate: strategy sampled 5 clients (out of 5)\n"
          ]
        },
        {
          "output_type": "stream",
          "name": "stdout",
          "text": [
            "FedProx - Saving round 1 aggregated_ndarrays...\n",
            "\u001b[36m(ClientAppActor pid=4609)\u001b[0m Client eval in 2.08 seconds.\n",
            "\u001b[36m(ClientAppActor pid=4609)\u001b[0m precision 0.6067415730337079, recall 1.0, f1 0.7552447552447552\n",
            "\u001b[36m(ClientAppActor pid=4609)\u001b[0m Client eval in 2.58 seconds.\n",
            "\u001b[36m(ClientAppActor pid=4609)\u001b[0m precision 0.5617977528089888, recall 1.0, f1 0.7194244604316546\n",
            "\u001b[36m(ClientAppActor pid=4609)\u001b[0m Client eval in 1.93 seconds.\n",
            "\u001b[36m(ClientAppActor pid=4609)\u001b[0m precision 0.5280898876404494, recall 1.0, f1 0.6911764705882353\n",
            "\u001b[36m(ClientAppActor pid=4609)\u001b[0m Client eval in 1.88 seconds.\n",
            "\u001b[36m(ClientAppActor pid=4609)\u001b[0m precision 0.550561797752809, recall 1.0, f1 0.7101449275362319\n"
          ]
        },
        {
          "output_type": "stream",
          "name": "stderr",
          "text": [
            "\u001b[92mINFO \u001b[0m:      aggregate_evaluate: received 5 results and 0 failures\n",
            "\u001b[92mINFO \u001b[0m:      \n",
            "\u001b[92mINFO \u001b[0m:      [ROUND 2]\n",
            "\u001b[92mINFO \u001b[0m:      configure_fit: strategy sampled 5 clients (out of 5)\n"
          ]
        },
        {
          "output_type": "stream",
          "name": "stdout",
          "text": [
            "\u001b[36m(ClientAppActor pid=4609)\u001b[0m Client eval in 1.92 seconds.\n",
            "\u001b[36m(ClientAppActor pid=4609)\u001b[0m precision 0.5, recall 1.0, f1 0.6666666666666666\n",
            "\u001b[36m(ClientAppActor pid=4609)\u001b[0m Epoch: 1/2, train loss 0.6831, accuracy 0.5638, precision 0.5638, recall 1.0000, f1-score 0.7211, epoch time: 20.1062 s, GPU Memory: Allocated: 420.12 MB, Reserved: 2076.00 MB\n",
            "\u001b[36m(ClientAppActor pid=4609)\u001b[0m Epoch: 2/2, train loss 0.6797, accuracy 0.5886, precision 0.5877, recall 0.9055, f1-score 0.7128, epoch time: 18.9322 s, GPU Memory: Allocated: 420.12 MB, Reserved: 2076.00 MB\n",
            "\u001b[36m(ClientAppActor pid=4609)\u001b[0m Total Training Time: 39.0391 seconds\n",
            "\u001b[36m(ClientAppActor pid=4609)\u001b[0m Client fit in 39.04 seconds.\n",
            "\u001b[36m(ClientAppActor pid=4609)\u001b[0m Epoch: 1/2, train loss 0.6896, accuracy 0.5539, precision 0.5539, recall 1.0000, f1-score 0.7129, epoch time: 20.1273 s, GPU Memory: Allocated: 420.12 MB, Reserved: 2076.00 MB\n",
            "\u001b[36m(ClientAppActor pid=4609)\u001b[0m Epoch: 2/2, train loss 0.6915, accuracy 0.5551, precision 0.5553, recall 0.9888, f1-score 0.7112, epoch time: 18.8488 s, GPU Memory: Allocated: 420.12 MB, Reserved: 2076.00 MB\n",
            "\u001b[36m(ClientAppActor pid=4609)\u001b[0m Total Training Time: 38.9768 seconds\n",
            "\u001b[36m(ClientAppActor pid=4609)\u001b[0m Client fit in 38.98 seconds.\n",
            "\u001b[36m(ClientAppActor pid=4609)\u001b[0m Epoch: 1/2, train loss 0.6873, accuracy 0.5465, precision 0.5460, recall 0.9192, f1-score 0.6850, epoch time: 19.8604 s, GPU Memory: Allocated: 420.12 MB, Reserved: 2076.00 MB\n",
            "\u001b[36m(ClientAppActor pid=4609)\u001b[0m Epoch: 2/2, train loss 0.6735, accuracy 0.5861, precision 0.5780, recall 0.8476, f1-score 0.6873, epoch time: 18.8992 s, GPU Memory: Allocated: 420.12 MB, Reserved: 2076.00 MB\n",
            "\u001b[36m(ClientAppActor pid=4609)\u001b[0m Total Training Time: 38.7604 seconds\n",
            "\u001b[36m(ClientAppActor pid=4609)\u001b[0m Client fit in 38.76 seconds.\n",
            "\u001b[36m(ClientAppActor pid=4609)\u001b[0m Epoch: 1/2, train loss 0.6871, accuracy 0.5539, precision 0.5503, recall 0.9120, f1-score 0.6864, epoch time: 19.9216 s, GPU Memory: Allocated: 420.12 MB, Reserved: 2076.00 MB\n",
            "\u001b[36m(ClientAppActor pid=4609)\u001b[0m Epoch: 2/2, train loss 0.6695, accuracy 0.6084, precision 0.5963, recall 0.8310, f1-score 0.6944, epoch time: 18.8683 s, GPU Memory: Allocated: 420.12 MB, Reserved: 2076.00 MB\n",
            "\u001b[36m(ClientAppActor pid=4609)\u001b[0m Total Training Time: 38.7907 seconds\n",
            "\u001b[36m(ClientAppActor pid=4609)\u001b[0m Client fit in 38.79 seconds.\n",
            "\u001b[36m(ClientAppActor pid=4609)\u001b[0m Epoch: 1/2, train loss 0.6902, accuracy 0.5506, precision 0.5520, recall 0.9955, f1-score 0.7102, epoch time: 19.7198 s, GPU Memory: Allocated: 422.00 MB, Reserved: 2076.00 MB\n",
            "\u001b[36m(ClientAppActor pid=4609)\u001b[0m Epoch: 2/2, train loss 0.6864, accuracy 0.5642, precision 0.5616, recall 0.9665, f1-score 0.7104, epoch time: 18.9776 s, GPU Memory: Allocated: 422.00 MB, Reserved: 2076.00 MB\n",
            "\u001b[36m(ClientAppActor pid=4609)\u001b[0m Total Training Time: 38.6982 seconds\n",
            "\u001b[36m(ClientAppActor pid=4609)\u001b[0m Client fit in 38.70 seconds.\n"
          ]
        },
        {
          "output_type": "stream",
          "name": "stderr",
          "text": [
            "\u001b[92mINFO \u001b[0m:      aggregate_fit: received 5 results and 0 failures\n"
          ]
        },
        {
          "output_type": "stream",
          "name": "stdout",
          "text": [
            "FedProx - Saving round 2 aggregated_ndarrays...\n"
          ]
        },
        {
          "output_type": "stream",
          "name": "stderr",
          "text": [
            "\u001b[92mINFO \u001b[0m:      configure_evaluate: strategy sampled 5 clients (out of 5)\n"
          ]
        },
        {
          "output_type": "stream",
          "name": "stdout",
          "text": [
            "\u001b[36m(ClientAppActor pid=4609)\u001b[0m Client eval in 2.14 seconds.\n",
            "\u001b[36m(ClientAppActor pid=4609)\u001b[0m precision 0.6136363636363636, recall 1.0, f1 0.7605633802816901\n",
            "\u001b[36m(ClientAppActor pid=4609)\u001b[0m Client eval in 1.84 seconds.\n",
            "\u001b[36m(ClientAppActor pid=4609)\u001b[0m precision 0.5714285714285714, recall 0.96, f1 0.7164179104477612\n",
            "\u001b[36m(ClientAppActor pid=4609)\u001b[0m Client eval in 1.82 seconds.\n",
            "\u001b[36m(ClientAppActor pid=4609)\u001b[0m precision 0.5357142857142857, recall 0.9574468085106383, f1 0.6870229007633588\n",
            "\u001b[36m(ClientAppActor pid=4609)\u001b[0m Client eval in 1.79 seconds.\n",
            "\u001b[36m(ClientAppActor pid=4609)\u001b[0m precision 0.5714285714285714, recall 0.9795918367346939, f1 0.7218045112781954\n"
          ]
        },
        {
          "output_type": "stream",
          "name": "stderr",
          "text": [
            "\u001b[92mINFO \u001b[0m:      aggregate_evaluate: received 5 results and 0 failures\n",
            "\u001b[92mINFO \u001b[0m:      \n",
            "\u001b[92mINFO \u001b[0m:      [ROUND 3]\n",
            "\u001b[92mINFO \u001b[0m:      configure_fit: strategy sampled 5 clients (out of 5)\n"
          ]
        },
        {
          "output_type": "stream",
          "name": "stdout",
          "text": [
            "\u001b[36m(ClientAppActor pid=4609)\u001b[0m Client eval in 2.17 seconds.\n",
            "\u001b[36m(ClientAppActor pid=4609)\u001b[0m precision 0.5116279069767442, recall 0.9777777777777777, f1 0.6717557251908397\n",
            "\u001b[36m(ClientAppActor pid=4609)\u001b[0m Epoch: 1/2, train loss 0.6746, accuracy 0.5849, precision 0.5904, recall 0.8615, f1-score 0.7006, epoch time: 19.2957 s, GPU Memory: Allocated: 420.12 MB, Reserved: 2076.00 MB\n",
            "\u001b[36m(ClientAppActor pid=4609)\u001b[0m Epoch: 2/2, train loss 0.6655, accuracy 0.5960, precision 0.5859, recall 0.9670, f1-score 0.7297, epoch time: 19.2405 s, GPU Memory: Allocated: 420.12 MB, Reserved: 2076.00 MB\n",
            "\u001b[36m(ClientAppActor pid=4609)\u001b[0m Total Training Time: 38.5370 seconds\n",
            "\u001b[36m(ClientAppActor pid=4609)\u001b[0m Client fit in 38.54 seconds.\n",
            "\u001b[36m(ClientAppActor pid=4609)\u001b[0m Epoch: 1/2, train loss 0.6826, accuracy 0.5477, precision 0.5520, recall 0.9732, f1-score 0.7045, epoch time: 18.9497 s, GPU Memory: Allocated: 420.12 MB, Reserved: 2076.00 MB\n",
            "\u001b[36m(ClientAppActor pid=4609)\u001b[0m Epoch: 2/2, train loss 0.6711, accuracy 0.5651, precision 0.5680, recall 0.8971, f1-score 0.6956, epoch time: 19.2703 s, GPU Memory: Allocated: 420.12 MB, Reserved: 2076.00 MB\n",
            "\u001b[36m(ClientAppActor pid=4609)\u001b[0m Total Training Time: 38.2209 seconds\n",
            "\u001b[36m(ClientAppActor pid=4609)\u001b[0m Client fit in 38.22 seconds.\n",
            "\u001b[36m(ClientAppActor pid=4609)\u001b[0m Epoch: 1/2, train loss 0.6682, accuracy 0.5688, precision 0.5669, recall 0.8314, f1-score 0.6742, epoch time: 19.2604 s, GPU Memory: Allocated: 420.12 MB, Reserved: 2076.00 MB\n",
            "\u001b[36m(ClientAppActor pid=4609)\u001b[0m Epoch: 2/2, train loss 0.6737, accuracy 0.6146, precision 0.6078, recall 0.7945, f1-score 0.6887, epoch time: 19.4440 s, GPU Memory: Allocated: 420.12 MB, Reserved: 2076.00 MB\n",
            "\u001b[36m(ClientAppActor pid=4609)\u001b[0m Total Training Time: 38.7053 seconds\n",
            "\u001b[36m(ClientAppActor pid=4609)\u001b[0m Client fit in 38.71 seconds.\n",
            "\u001b[36m(ClientAppActor pid=4609)\u001b[0m Epoch: 1/2, train loss 0.6645, accuracy 0.5923, precision 0.5752, recall 0.9120, f1-score 0.7055, epoch time: 19.0098 s, GPU Memory: Allocated: 420.12 MB, Reserved: 2076.00 MB\n",
            "\u001b[36m(ClientAppActor pid=4609)\u001b[0m Epoch: 2/2, train loss 0.6614, accuracy 0.6146, precision 0.6075, recall 0.7917, f1-score 0.6874, epoch time: 19.4153 s, GPU Memory: Allocated: 420.12 MB, Reserved: 2076.00 MB\n",
            "\u001b[36m(ClientAppActor pid=4609)\u001b[0m Total Training Time: 38.4260 seconds\n",
            "\u001b[36m(ClientAppActor pid=4609)\u001b[0m Client fit in 38.43 seconds.\n",
            "\u001b[36m(ClientAppActor pid=4609)\u001b[0m Epoch: 1/2, train loss 0.6837, accuracy 0.5617, precision 0.5631, recall 0.9263, f1-score 0.7004, epoch time: 18.9038 s, GPU Memory: Allocated: 422.00 MB, Reserved: 2076.00 MB\n",
            "\u001b[36m(ClientAppActor pid=4609)\u001b[0m Epoch: 2/2, train loss 0.6686, accuracy 0.5802, precision 0.5754, recall 0.9196, f1-score 0.7079, epoch time: 19.4959 s, GPU Memory: Allocated: 422.00 MB, Reserved: 2076.00 MB\n",
            "\u001b[36m(ClientAppActor pid=4609)\u001b[0m Total Training Time: 38.4006 seconds\n",
            "\u001b[36m(ClientAppActor pid=4609)\u001b[0m Client fit in 38.40 seconds.\n"
          ]
        },
        {
          "output_type": "stream",
          "name": "stderr",
          "text": [
            "\u001b[92mINFO \u001b[0m:      aggregate_fit: received 5 results and 0 failures\n"
          ]
        },
        {
          "output_type": "stream",
          "name": "stdout",
          "text": [
            "FedProx - Saving round 3 aggregated_ndarrays...\n"
          ]
        },
        {
          "output_type": "stream",
          "name": "stderr",
          "text": [
            "\u001b[92mINFO \u001b[0m:      configure_evaluate: strategy sampled 5 clients (out of 5)\n"
          ]
        },
        {
          "output_type": "stream",
          "name": "stdout",
          "text": [
            "\u001b[36m(ClientAppActor pid=4609)\u001b[0m Client eval in 1.90 seconds.\n",
            "\u001b[36m(ClientAppActor pid=4609)\u001b[0m precision 0.625, recall 0.8333333333333334, f1 0.7142857142857143\n",
            "\u001b[36m(ClientAppActor pid=4609)\u001b[0m Client eval in 1.85 seconds.\n",
            "\u001b[36m(ClientAppActor pid=4609)\u001b[0m precision 0.5507246376811594, recall 0.76, f1 0.6386554621848739\n",
            "\u001b[36m(ClientAppActor pid=4609)\u001b[0m Client eval in 1.86 seconds.\n",
            "\u001b[36m(ClientAppActor pid=4609)\u001b[0m precision 0.6111111111111112, recall 0.9361702127659575, f1 0.7394957983193278\n",
            "\u001b[36m(ClientAppActor pid=4609)\u001b[0m Client eval in 1.81 seconds.\n",
            "\u001b[36m(ClientAppActor pid=4609)\u001b[0m precision 0.6307692307692307, recall 0.8367346938775511, f1 0.7192982456140351\n"
          ]
        },
        {
          "output_type": "stream",
          "name": "stderr",
          "text": [
            "\u001b[92mINFO \u001b[0m:      aggregate_evaluate: received 5 results and 0 failures\n",
            "\u001b[92mINFO \u001b[0m:      \n",
            "\u001b[92mINFO \u001b[0m:      [ROUND 4]\n",
            "\u001b[92mINFO \u001b[0m:      configure_fit: strategy sampled 5 clients (out of 5)\n"
          ]
        },
        {
          "output_type": "stream",
          "name": "stdout",
          "text": [
            "\u001b[36m(ClientAppActor pid=4609)\u001b[0m Client eval in 2.66 seconds.\n",
            "\u001b[36m(ClientAppActor pid=4609)\u001b[0m precision 0.5970149253731343, recall 0.8888888888888888, f1 0.7142857142857143\n",
            "\u001b[36m(ClientAppActor pid=4609)\u001b[0m Epoch: 1/2, train loss 0.6715, accuracy 0.6022, precision 0.5980, recall 0.8989, f1-score 0.7182, epoch time: 19.0191 s, GPU Memory: Allocated: 420.12 MB, Reserved: 2076.00 MB\n",
            "\u001b[36m(ClientAppActor pid=4609)\u001b[0m Epoch: 2/2, train loss 0.6560, accuracy 0.6245, precision 0.6176, recall 0.8769, f1-score 0.7248, epoch time: 19.9305 s, GPU Memory: Allocated: 420.12 MB, Reserved: 2076.00 MB\n",
            "\u001b[36m(ClientAppActor pid=4609)\u001b[0m Total Training Time: 38.9504 seconds\n",
            "\u001b[36m(ClientAppActor pid=4609)\u001b[0m Client fit in 38.95 seconds.\n",
            "\u001b[36m(ClientAppActor pid=4609)\u001b[0m Epoch: 1/2, train loss 0.6771, accuracy 0.5799, precision 0.5752, recall 0.9239, f1-score 0.7090, epoch time: 18.8331 s, GPU Memory: Allocated: 420.12 MB, Reserved: 2076.00 MB\n",
            "\u001b[36m(ClientAppActor pid=4609)\u001b[0m Epoch: 2/2, train loss 0.6665, accuracy 0.5836, precision 0.5837, recall 0.8658, f1-score 0.6973, epoch time: 19.7519 s, GPU Memory: Allocated: 420.12 MB, Reserved: 2076.00 MB\n",
            "\u001b[36m(ClientAppActor pid=4609)\u001b[0m Total Training Time: 38.5860 seconds\n",
            "\u001b[36m(ClientAppActor pid=4609)\u001b[0m Client fit in 38.59 seconds.\n",
            "\u001b[36m(ClientAppActor pid=4609)\u001b[0m Epoch: 1/2, train loss 0.6700, accuracy 0.5936, precision 0.5837, recall 0.8453, f1-score 0.6906, epoch time: 18.8518 s, GPU Memory: Allocated: 420.12 MB, Reserved: 2076.00 MB\n",
            "\u001b[36m(ClientAppActor pid=4609)\u001b[0m Epoch: 2/2, train loss 0.6592, accuracy 0.6010, precision 0.5897, recall 0.8430, f1-score 0.6939, epoch time: 19.8277 s, GPU Memory: Allocated: 420.12 MB, Reserved: 2076.00 MB\n",
            "\u001b[36m(ClientAppActor pid=4609)\u001b[0m Total Training Time: 38.6802 seconds\n",
            "\u001b[36m(ClientAppActor pid=4609)\u001b[0m Client fit in 38.68 seconds.\n",
            "\u001b[36m(ClientAppActor pid=4609)\u001b[0m Epoch: 1/2, train loss 0.6629, accuracy 0.6072, precision 0.5997, recall 0.8009, f1-score 0.6858, epoch time: 19.0113 s, GPU Memory: Allocated: 420.12 MB, Reserved: 2076.00 MB\n",
            "\u001b[36m(ClientAppActor pid=4609)\u001b[0m Epoch: 2/2, train loss 0.6521, accuracy 0.6171, precision 0.6020, recall 0.8403, f1-score 0.7014, epoch time: 19.7285 s, GPU Memory: Allocated: 420.12 MB, Reserved: 2076.00 MB\n",
            "\u001b[36m(ClientAppActor pid=4609)\u001b[0m Total Training Time: 38.7406 seconds\n",
            "\u001b[36m(ClientAppActor pid=4609)\u001b[0m Client fit in 38.74 seconds.\n",
            "\u001b[36m(ClientAppActor pid=4609)\u001b[0m Epoch: 1/2, train loss 0.6824, accuracy 0.5864, precision 0.5811, recall 0.9040, f1-score 0.7074, epoch time: 18.8289 s, GPU Memory: Allocated: 422.00 MB, Reserved: 2076.00 MB\n",
            "\u001b[36m(ClientAppActor pid=4609)\u001b[0m Epoch: 2/2, train loss 0.6621, accuracy 0.5926, precision 0.5843, recall 0.9129, f1-score 0.7125, epoch time: 19.9444 s, GPU Memory: Allocated: 422.00 MB, Reserved: 2076.00 MB\n",
            "\u001b[36m(ClientAppActor pid=4609)\u001b[0m Total Training Time: 38.7743 seconds\n",
            "\u001b[36m(ClientAppActor pid=4609)\u001b[0m Client fit in 38.77 seconds.\n"
          ]
        },
        {
          "output_type": "stream",
          "name": "stderr",
          "text": [
            "\u001b[92mINFO \u001b[0m:      aggregate_fit: received 5 results and 0 failures\n"
          ]
        },
        {
          "output_type": "stream",
          "name": "stdout",
          "text": [
            "FedProx - Saving round 4 aggregated_ndarrays...\n"
          ]
        },
        {
          "output_type": "stream",
          "name": "stderr",
          "text": [
            "\u001b[92mINFO \u001b[0m:      configure_evaluate: strategy sampled 5 clients (out of 5)\n"
          ]
        },
        {
          "output_type": "stream",
          "name": "stdout",
          "text": [
            "\u001b[36m(ClientAppActor pid=4609)\u001b[0m Client eval in 1.88 seconds.\n",
            "\u001b[36m(ClientAppActor pid=4609)\u001b[0m precision 0.6461538461538462, recall 0.7777777777777778, f1 0.7058823529411765\n",
            "\u001b[36m(ClientAppActor pid=4609)\u001b[0m Client eval in 1.83 seconds.\n",
            "\u001b[36m(ClientAppActor pid=4609)\u001b[0m precision 0.5555555555555556, recall 0.7, f1 0.6194690265486725\n",
            "\u001b[36m(ClientAppActor pid=4609)\u001b[0m Client eval in 1.84 seconds.\n",
            "\u001b[36m(ClientAppActor pid=4609)\u001b[0m precision 0.6307692307692307, recall 0.8723404255319149, f1 0.7321428571428571\n",
            "\u001b[36m(ClientAppActor pid=4609)\u001b[0m Client eval in 2.66 seconds.\n",
            "\u001b[36m(ClientAppActor pid=4609)\u001b[0m precision 0.6290322580645161, recall 0.7959183673469388, f1 0.7027027027027027\n"
          ]
        },
        {
          "output_type": "stream",
          "name": "stderr",
          "text": [
            "\u001b[92mINFO \u001b[0m:      aggregate_evaluate: received 5 results and 0 failures\n",
            "\u001b[92mINFO \u001b[0m:      \n",
            "\u001b[92mINFO \u001b[0m:      [ROUND 5]\n",
            "\u001b[92mINFO \u001b[0m:      configure_fit: strategy sampled 5 clients (out of 5)\n"
          ]
        },
        {
          "output_type": "stream",
          "name": "stdout",
          "text": [
            "\u001b[36m(ClientAppActor pid=4609)\u001b[0m Client eval in 1.86 seconds.\n",
            "\u001b[36m(ClientAppActor pid=4609)\u001b[0m precision 0.6290322580645161, recall 0.8666666666666667, f1 0.7289719626168224\n",
            "\u001b[36m(ClientAppActor pid=4609)\u001b[0m Epoch: 1/2, train loss 0.6667, accuracy 0.5998, precision 0.6038, recall 0.8440, f1-score 0.7039, epoch time: 18.8349 s, GPU Memory: Allocated: 420.12 MB, Reserved: 2076.00 MB\n",
            "\u001b[36m(ClientAppActor pid=4609)\u001b[0m Epoch: 2/2, train loss 0.6573, accuracy 0.6072, precision 0.5991, recall 0.9165, f1-score 0.7246, epoch time: 19.7980 s, GPU Memory: Allocated: 420.12 MB, Reserved: 2076.00 MB\n",
            "\u001b[36m(ClientAppActor pid=4609)\u001b[0m Total Training Time: 38.6336 seconds\n",
            "\u001b[36m(ClientAppActor pid=4609)\u001b[0m Client fit in 38.63 seconds.\n",
            "\u001b[36m(ClientAppActor pid=4609)\u001b[0m Epoch: 1/2, train loss 0.6635, accuracy 0.5737, precision 0.5801, recall 0.8345, f1-score 0.6844, epoch time: 18.7606 s, GPU Memory: Allocated: 420.12 MB, Reserved: 2076.00 MB\n",
            "\u001b[36m(ClientAppActor pid=4609)\u001b[0m Epoch: 2/2, train loss 0.6501, accuracy 0.6121, precision 0.6074, recall 0.8479, f1-score 0.7077, epoch time: 19.6421 s, GPU Memory: Allocated: 420.12 MB, Reserved: 2076.00 MB\n",
            "\u001b[36m(ClientAppActor pid=4609)\u001b[0m Total Training Time: 38.4036 seconds\n",
            "\u001b[36m(ClientAppActor pid=4609)\u001b[0m Client fit in 38.40 seconds.\n",
            "\u001b[36m(ClientAppActor pid=4609)\u001b[0m Epoch: 1/2, train loss 0.6607, accuracy 0.5936, precision 0.5827, recall 0.8545, f1-score 0.6929, epoch time: 18.7349 s, GPU Memory: Allocated: 420.12 MB, Reserved: 2076.00 MB\n",
            "\u001b[36m(ClientAppActor pid=4609)\u001b[0m Epoch: 2/2, train loss 0.6509, accuracy 0.6283, precision 0.6257, recall 0.7644, f1-score 0.6881, epoch time: 19.7571 s, GPU Memory: Allocated: 420.12 MB, Reserved: 2076.00 MB\n",
            "\u001b[36m(ClientAppActor pid=4609)\u001b[0m Total Training Time: 38.4927 seconds\n",
            "\u001b[36m(ClientAppActor pid=4609)\u001b[0m Client fit in 38.49 seconds.\n",
            "\u001b[36m(ClientAppActor pid=4609)\u001b[0m Epoch: 1/2, train loss 0.6564, accuracy 0.6059, precision 0.5976, recall 0.8079, f1-score 0.6870, epoch time: 18.6800 s, GPU Memory: Allocated: 420.12 MB, Reserved: 2076.00 MB\n",
            "\u001b[36m(ClientAppActor pid=4609)\u001b[0m Epoch: 2/2, train loss 0.6662, accuracy 0.6109, precision 0.6077, recall 0.7708, f1-score 0.6796, epoch time: 19.8010 s, GPU Memory: Allocated: 420.12 MB, Reserved: 2076.00 MB\n",
            "\u001b[36m(ClientAppActor pid=4609)\u001b[0m Total Training Time: 38.4819 seconds\n",
            "\u001b[36m(ClientAppActor pid=4609)\u001b[0m Client fit in 38.48 seconds.\n",
            "\u001b[36m(ClientAppActor pid=4609)\u001b[0m Epoch: 1/2, train loss 0.6627, accuracy 0.6000, precision 0.5925, recall 0.8862, f1-score 0.7102, epoch time: 24.6023 s, GPU Memory: Allocated: 422.00 MB, Reserved: 2076.00 MB\n",
            "\u001b[36m(ClientAppActor pid=4609)\u001b[0m Epoch: 2/2, train loss 0.6444, accuracy 0.6333, precision 0.6193, recall 0.8750, f1-score 0.7253, epoch time: 24.3261 s, GPU Memory: Allocated: 422.00 MB, Reserved: 2076.00 MB\n",
            "\u001b[36m(ClientAppActor pid=4609)\u001b[0m Total Training Time: 48.9293 seconds\n",
            "\u001b[36m(ClientAppActor pid=4609)\u001b[0m Client fit in 48.93 seconds.\n"
          ]
        },
        {
          "output_type": "stream",
          "name": "stderr",
          "text": [
            "\u001b[92mINFO \u001b[0m:      aggregate_fit: received 5 results and 0 failures\n"
          ]
        },
        {
          "output_type": "stream",
          "name": "stdout",
          "text": [
            "FedProx - Saving round 5 aggregated_ndarrays...\n"
          ]
        },
        {
          "output_type": "stream",
          "name": "stderr",
          "text": [
            "\u001b[92mINFO \u001b[0m:      configure_evaluate: strategy sampled 5 clients (out of 5)\n"
          ]
        },
        {
          "output_type": "stream",
          "name": "stdout",
          "text": [
            "\u001b[36m(ClientAppActor pid=4609)\u001b[0m Client eval in 1.91 seconds.\n",
            "\u001b[36m(ClientAppActor pid=4609)\u001b[0m precision 0.7169811320754716, recall 0.7037037037037037, f1 0.7102803738317757\n",
            "\u001b[36m(ClientAppActor pid=4609)\u001b[0m Client eval in 1.84 seconds.\n",
            "\u001b[36m(ClientAppActor pid=4609)\u001b[0m precision 0.576271186440678, recall 0.68, f1 0.6238532110091743\n",
            "\u001b[36m(ClientAppActor pid=4609)\u001b[0m Client eval in 1.82 seconds.\n",
            "\u001b[36m(ClientAppActor pid=4609)\u001b[0m precision 0.6896551724137931, recall 0.851063829787234, f1 0.7619047619047619\n",
            "\u001b[36m(ClientAppActor pid=4609)\u001b[0m Client eval in 2.27 seconds.\n",
            "\u001b[36m(ClientAppActor pid=4609)\u001b[0m precision 0.6727272727272727, recall 0.7551020408163265, f1 0.7115384615384616\n"
          ]
        },
        {
          "output_type": "stream",
          "name": "stderr",
          "text": [
            "\u001b[92mINFO \u001b[0m:      aggregate_evaluate: received 5 results and 0 failures\n",
            "\u001b[92mINFO \u001b[0m:      \n",
            "\u001b[92mINFO \u001b[0m:      [SUMMARY]\n",
            "\u001b[92mINFO \u001b[0m:      Run finished 5 round(s) in 1078.70s\n",
            "\u001b[92mINFO \u001b[0m:      \tHistory (loss, distributed):\n",
            "\u001b[92mINFO \u001b[0m:      \t\tround 1: 0.6917115371980322\n",
            "\u001b[92mINFO \u001b[0m:      \t\tround 2: 0.6845397539144747\n",
            "\u001b[92mINFO \u001b[0m:      \t\tround 3: 0.6684342028853599\n",
            "\u001b[92mINFO \u001b[0m:      \t\tround 4: 0.6580016122566775\n",
            "\u001b[92mINFO \u001b[0m:      \t\tround 5: 0.6565461494860131\n",
            "\u001b[92mINFO \u001b[0m:      \tHistory (metrics, distributed, evaluate):\n",
            "\u001b[92mINFO \u001b[0m:      \t{'accuracy': [(1, 0.5494382022471911),\n",
            "\u001b[92mINFO \u001b[0m:      \t              (2, 0.5673657927590512),\n",
            "\u001b[92mINFO \u001b[0m:      \t              (3, 0.6097877652933833),\n",
            "\u001b[92mINFO \u001b[0m:      \t              (4, 0.618701622971286),\n",
            "\u001b[92mINFO \u001b[0m:      \t              (5, 0.6457178526841448)]}\n",
            "\u001b[92mINFO \u001b[0m:      \n"
          ]
        },
        {
          "output_type": "stream",
          "name": "stdout",
          "text": [
            "\u001b[36m(ClientAppActor pid=4609)\u001b[0m Client eval in 2.14 seconds.\n",
            "\u001b[36m(ClientAppActor pid=4609)\u001b[0m precision 0.625, recall 0.7777777777777778, f1 0.693069306930693\n"
          ]
        }
      ]
    },
    {
      "cell_type": "code",
      "source": [
        "#Estimates the size of a PyTorch model in bytes\n",
        "def estimate_model_size(model):\n",
        "    param_size = 0\n",
        "    for param in model.parameters():\n",
        "        param_size += param.numel() * param.element_size()\n",
        "    buffer_size = 0\n",
        "    for buffer in model.buffers():\n",
        "        buffer_size += buffer.numel() * buffer.element_size()\n",
        "    return param_size + buffer_size\n",
        "\n",
        "binary_model = NetNIH().to(DEVICE)\n",
        "model_size_bytes = estimate_model_size(binary_model)\n",
        "model_size_mb = model_size_bytes / (1024 * 1024)\n",
        "num_rounds = 5\n",
        "num_clients = NUM_CLIENTS\n",
        "\n",
        "uplink_per_round_bytes = num_clients * model_size_bytes\n",
        "downlink_per_round_bytes = num_clients * model_size_bytes\n",
        "total_uplink_bytes = num_rounds * uplink_per_round_bytes\n",
        "total_downlink_bytes = num_rounds * downlink_per_round_bytes\n",
        "total_communication_bytes = total_uplink_bytes + total_downlink_bytes\n",
        "\n",
        "uplink_mb = total_uplink_bytes / (1024 * 1024)\n",
        "downlink_mb = total_downlink_bytes / (1024 * 1024)\n",
        "total_mb = total_communication_bytes / (1024 * 1024)\n",
        "\n",
        "print(\"\\n--- Federated Learning Communication Overhead Estimation ---\")\n",
        "print(f\"Estimated model size: {model_size_mb:.2f} MB\")\n",
        "print(f\"Number of clients: {num_clients}\")\n",
        "print(f\"Number of rounds: {num_rounds}\")\n",
        "print(f\"Estimated uplink communication (total): {uplink_mb:.2f} MB\")\n",
        "print(f\"Estimated downlink communication (total): {downlink_mb:.2f} MB\")\n",
        "print(f\"Estimated total communication: {total_mb:.2f} MB\")"
      ],
      "metadata": {
        "colab": {
          "base_uri": "https://localhost:8080/"
        },
        "id": "bVNiTuo6dT8E",
        "outputId": "c5316243-01aa-4e79-dd1f-b2ac5551045b"
      },
      "execution_count": null,
      "outputs": [
        {
          "output_type": "stream",
          "name": "stdout",
          "text": [
            "\n",
            "--- Federated Learning Communication Overhead Estimation ---\n",
            "Estimated model size: 99.73 MB\n",
            "Number of clients: 5\n",
            "Number of rounds: 5\n",
            "Estimated uplink communication (total): 2493.37 MB\n",
            "Estimated downlink communication (total): 2493.37 MB\n",
            "Estimated total communication: 4986.73 MB\n"
          ]
        }
      ]
    },
    {
      "cell_type": "code",
      "source": [
        "from torch.utils.data import DataLoader\n",
        "from torchvision import transforms\n",
        "\n",
        "transform = transforms.Compose([\n",
        "    transforms.Resize((224, 224)),\n",
        "    transforms.ToTensor(),\n",
        "    transforms.Normalize(mean=[0.485, 0.456, 0.406], std=[0.229, 0.224, 0.225])\n",
        "])\n",
        "\n",
        "# Create the full centralized train dataset\n",
        "central_trainset = CXRDataset(train_df, \"./nih_images/train/\", transform=transform)\n",
        "\n",
        "# Create the full test dataset\n",
        "central_testset = CXRDataset(test_df, \"./nih_images/test/\", transform=transform)\n",
        "\n",
        "# Now, DataLoaders\n",
        "central_train_loader = DataLoader(central_trainset, batch_size=BATCH_SIZE, shuffle=False)\n",
        "test_loader = DataLoader(central_testset, batch_size=BATCH_SIZE, shuffle=False)\n",
        "\n",
        "# Step 1: Rebuild model\n",
        "global_model = NetNIH().to(DEVICE)\n",
        "\n",
        "# Step 2: Load saved weights\n",
        "global_model_fp = load_weights_into_model(global_model, \"/content/FedProx - round-5-weights.npz\")\n",
        "\n",
        "# Step 3: Run MIA\n",
        "mia_auc = run_membership_inference_attack(global_model_fp, central_train_loader, test_loader)\n",
        "print(f\"Membership Inference Attack AUC: {mia_auc:.4f}\")"
      ],
      "metadata": {
        "colab": {
          "base_uri": "https://localhost:8080/"
        },
        "id": "nEYRCVHwqQKq",
        "outputId": "c1d25881-e3fb-4db5-92be-11eaa94f89d9"
      },
      "execution_count": null,
      "outputs": [
        {
          "output_type": "stream",
          "name": "stdout",
          "text": [
            "Loaded weights from /content/FedProx - round-5-weights.npz into model successfully.\n",
            "[Privacy Risk] Membership Inference Attack AUC: 0.5504\n",
            "Membership Inference Attack AUC: 0.5504\n"
          ]
        }
      ]
    },
    {
      "cell_type": "markdown",
      "source": [
        "## 2. FedProx-DP"
      ],
      "metadata": {
        "id": "_XsOGrUHGF2D"
      }
    },
    {
      "cell_type": "code",
      "source": [
        "#Functions to get parameters and set parameters\n",
        "def set_parameters(net, parameters: List[np.ndarray]):\n",
        "    params_dict = zip(net.state_dict().keys(), parameters)\n",
        "    state_dict = OrderedDict({k: torch.Tensor(v) for k, v in params_dict})\n",
        "    net.load_state_dict(state_dict, strict=True)\n",
        "\n",
        "def get_parameters(net) -> List[np.ndarray]:\n",
        "    return [val.cpu().numpy() for _, val in net.state_dict().items()]"
      ],
      "metadata": {
        "id": "Gp_GP6VPGF2F"
      },
      "execution_count": 22,
      "outputs": []
    },
    {
      "cell_type": "code",
      "source": [
        "#Define Client class for FedProx\n",
        "class FPClient(NumPyClient):\n",
        "    def __init__(self, net, trainloader, valloader):\n",
        "        self.net = net\n",
        "        self.trainloader = trainloader\n",
        "        self.valloader = valloader\n",
        "        self.global_params = None\n",
        "\n",
        "    def get_parameters(self, config):\n",
        "        return get_parameters(self.net)\n",
        "\n",
        "    def fit(self, parameters, config):\n",
        "        set_parameters(self.net, parameters)\n",
        "        self.global_params = copy.deepcopy(self.net).parameters()\n",
        "        fit_start_time = time.time()\n",
        "        train(self.net, self.trainloader, epochs=2, strategy=\"fed_prox\", global_params=self.global_params, config=config)\n",
        "        fit_end_time = time.time()\n",
        "        fit_duration = fit_end_time - fit_start_time\n",
        "        print(f\"Client fit in {fit_duration:.2f} seconds.\")\n",
        "        return get_parameters(self.net), len(self.trainloader), {}\n",
        "\n",
        "    def evaluate(self, parameters, config):\n",
        "        set_parameters(self.net, parameters)\n",
        "        eval_start_time = time.time()\n",
        "        loss, accuracy, precision, recall, f1  = test(self.net, self.valloader)\n",
        "        eval_end_time = time.time()\n",
        "        eval_duration = eval_end_time - eval_start_time\n",
        "        print(f\"Client eval in {eval_duration:.2f} seconds.\")\n",
        "        print(f\"precision {precision}, recall {recall}, f1 {f1}\")\n",
        "        return float(loss), len(self.valloader), {\"accuracy\": float(accuracy)}"
      ],
      "metadata": {
        "id": "F5tCbe8cGF2F"
      },
      "execution_count": 23,
      "outputs": []
    },
    {
      "cell_type": "code",
      "source": [
        "#Create a Flower client representing a single organization\n",
        "def client_fn(context: Context) -> Client:\n",
        "    net = NetNIH().to(DEVICE)\n",
        "    partition_id = context.node_config[\"partition-id\"]\n",
        "    trainloader, valloader, _ = load_datasets(partition_id=partition_id)\n",
        "    return FPClient(net, trainloader, valloader).to_client()\n",
        "\n",
        "\n",
        "FPclient = ClientApp(client_fn=client_fn)"
      ],
      "metadata": {
        "id": "g2fU0mxuGF2F"
      },
      "execution_count": 24,
      "outputs": []
    },
    {
      "cell_type": "code",
      "source": [
        "def weighted_average(metrics: List[Tuple[int, Metrics]]) -> Metrics:\n",
        "    accuracies = [num_examples * m[\"accuracy\"] for num_examples, m in metrics]\n",
        "    examples = [num_examples for num_examples, _ in metrics]\n",
        "\n",
        "    return {\"accuracy\": sum(accuracies) / sum(examples)}"
      ],
      "metadata": {
        "id": "o5GbWUieGF2G"
      },
      "execution_count": 25,
      "outputs": []
    },
    {
      "cell_type": "code",
      "source": [
        "#Saves the final model and retrieves model parameters\n",
        "class SaveModelStrategy(flwr.server.strategy.FedProx):\n",
        "    def aggregate_fit(\n",
        "        self,\n",
        "        server_round,\n",
        "        results,\n",
        "        failures,\n",
        "    ):\n",
        "\n",
        "        # Call aggregate_fit from base class (FedProx) to aggregate parameters and metrics\n",
        "        aggregated_parameters, aggregated_metrics = super().aggregate_fit(\n",
        "            server_round, results, failures\n",
        "        )\n",
        "\n",
        "        if aggregated_parameters is not None:\n",
        "            aggregated_ndarrays: list[np.ndarray] = flwr.common.parameters_to_ndarrays(\n",
        "                aggregated_parameters\n",
        "            )\n",
        "\n",
        "            print(f\"FedProx-DP - Saving round {server_round} aggregated_ndarrays...\")\n",
        "            np.savez(f\"FedProx-DP - round-{server_round}-weights.npz\", *aggregated_ndarrays)\n",
        "\n",
        "        return aggregated_parameters, aggregated_metrics\n",
        "\n",
        "\n",
        "# Create strategy and pass into ServerApp\n",
        "def server_fn(context):\n",
        "    FPstrategy = SaveModelStrategy(\n",
        "        fraction_fit=1.0,  # Sample 100% of available clients for training\n",
        "        fraction_evaluate=1.0,  # Sample 50% of available clients for evaluation\n",
        "        min_fit_clients=5,  # Never sample less than 5 clients for training\n",
        "        min_evaluate_clients=5,  # Never sample less than 5 clients for evaluation\n",
        "        min_available_clients=5,  # Wait until all 5 clients are available\n",
        "        evaluate_metrics_aggregation_fn=weighted_average, # metric aggregation function\n",
        "        proximal_mu=0.3,\n",
        "    )\n",
        "     # === Wrap in client-side DP fixed clipping ===\n",
        "    dp_strategy = DifferentialPrivacyClientSideFixedClipping(\n",
        "        FPstrategy,\n",
        "        noise_multiplier=1.0,    # σ (tune as needed)\n",
        "        clipping_norm=1.0,       # C (tune as needed)\n",
        "        num_sampled_clients=5,   # number of clients per round\n",
        "    )\n",
        "\n",
        "    config = ServerConfig(num_rounds=5)\n",
        "    return ServerAppComponents(strategy=dp_strategy, config=config)\n",
        "\n",
        "\n",
        "FPserver = ServerApp(server_fn=server_fn)"
      ],
      "metadata": {
        "id": "Q9Xth3aDGF2G"
      },
      "execution_count": 25,
      "outputs": []
    },
    {
      "cell_type": "code",
      "source": [
        "backend_config = {\"client_resources\": {\"num_cpus\": 1, \"num_gpus\": 0.0}}\n",
        "if DEVICE == \"cuda\":\n",
        "    backend_config = {\"client_resources\": {\"num_cpus\": 1, \"num_gpus\": 1.0}}"
      ],
      "metadata": {
        "id": "BrpqcQI6GF2G"
      },
      "execution_count": 26,
      "outputs": []
    },
    {
      "cell_type": "code",
      "source": [
        "# Run FL simulation\n",
        "run_simulation(\n",
        "    server_app=FPserver,\n",
        "    client_app=FPclient,\n",
        "    num_supernodes=NUM_CLIENTS,\n",
        "    backend_config=backend_config,\n",
        ")"
      ],
      "metadata": {
        "colab": {
          "base_uri": "https://localhost:8080/"
        },
        "outputId": "7b9543ab-c0c9-4a02-c65a-1259506a848c",
        "id": "-4s6cElTGF2G"
      },
      "execution_count": 27,
      "outputs": [
        {
          "output_type": "stream",
          "name": "stderr",
          "text": [
            "DEBUG:flwr:Asyncio event loop already running.\n",
            "\u001b[92mINFO \u001b[0m:      Starting Flower ServerApp, config: num_rounds=5, no round_timeout\n",
            "\u001b[92mINFO \u001b[0m:      \n",
            "\u001b[92mINFO \u001b[0m:      [INIT]\n",
            "\u001b[92mINFO \u001b[0m:      Requesting initial parameters from one random client\n",
            "\u001b[36m(pid=40913)\u001b[0m 2025-04-26 03:26:55.674782: E external/local_xla/xla/stream_executor/cuda/cuda_fft.cc:477] Unable to register cuFFT factory: Attempting to register factory for plugin cuFFT when one has already been registered\n",
            "\u001b[36m(pid=40913)\u001b[0m WARNING: All log messages before absl::InitializeLog() is called are written to STDERR\n",
            "\u001b[36m(pid=40913)\u001b[0m E0000 00:00:1745638015.708294   40913 cuda_dnn.cc:8310] Unable to register cuDNN factory: Attempting to register factory for plugin cuDNN when one has already been registered\n",
            "\u001b[36m(pid=40913)\u001b[0m E0000 00:00:1745638015.719181   40913 cuda_blas.cc:1418] Unable to register cuBLAS factory: Attempting to register factory for plugin cuBLAS when one has already been registered\n",
            "\u001b[92mINFO \u001b[0m:      Received initial parameters from one random client\n",
            "\u001b[92mINFO \u001b[0m:      Starting evaluation of initial global parameters\n",
            "\u001b[92mINFO \u001b[0m:      Evaluation returned no results (`None`)\n",
            "\u001b[92mINFO \u001b[0m:      \n",
            "\u001b[92mINFO \u001b[0m:      [ROUND 1]\n",
            "\u001b[92mINFO \u001b[0m:      configure_fit: strategy sampled 5 clients (out of 5)\n"
          ]
        },
        {
          "output_type": "stream",
          "name": "stdout",
          "text": [
            "\u001b[36m(ClientAppActor pid=40913)\u001b[0m Epoch: 1/2, train loss 0.6873, accuracy 0.5613, precision 0.5645, recall 0.9714, f1-score 0.7141, epoch time: 21.7497 s, GPU Memory: Allocated: 420.12 MB, Reserved: 2076.00 MB\n",
            "\u001b[36m(ClientAppActor pid=40913)\u001b[0m Epoch: 2/2, train loss 0.6913, accuracy 0.5638, precision 0.5638, recall 1.0000, f1-score 0.7211, epoch time: 20.4369 s, GPU Memory: Allocated: 420.12 MB, Reserved: 2076.00 MB\n",
            "\u001b[36m(ClientAppActor pid=40913)\u001b[0m Total Training Time: 42.1873 seconds\n",
            "\u001b[36m(ClientAppActor pid=40913)\u001b[0m Client fit in 42.19 seconds.\n",
            "\u001b[36m(ClientAppActor pid=40913)\u001b[0m Epoch: 1/2, train loss 0.6930, accuracy 0.5527, precision 0.5536, recall 0.9933, f1-score 0.7110, epoch time: 19.9572 s, GPU Memory: Allocated: 420.12 MB, Reserved: 2076.00 MB\n",
            "\u001b[36m(ClientAppActor pid=40913)\u001b[0m Epoch: 2/2, train loss 0.6854, accuracy 0.5440, precision 0.5518, recall 0.9418, f1-score 0.6959, epoch time: 20.3936 s, GPU Memory: Allocated: 420.12 MB, Reserved: 2076.00 MB\n",
            "\u001b[36m(ClientAppActor pid=40913)\u001b[0m Total Training Time: 40.3517 seconds\n",
            "\u001b[36m(ClientAppActor pid=40913)\u001b[0m Client fit in 40.35 seconds.\n",
            "\u001b[36m(ClientAppActor pid=40913)\u001b[0m Epoch: 1/2, train loss 0.7037, accuracy 0.5489, precision 0.5516, recall 0.8522, f1-score 0.6697, epoch time: 20.4543 s, GPU Memory: Allocated: 420.12 MB, Reserved: 2076.00 MB\n",
            "\u001b[36m(ClientAppActor pid=40913)\u001b[0m Epoch: 2/2, train loss 0.6812, accuracy 0.5663, precision 0.5556, recall 0.9584, f1-score 0.7034, epoch time: 20.0360 s, GPU Memory: Allocated: 420.12 MB, Reserved: 2076.00 MB\n",
            "\u001b[36m(ClientAppActor pid=40913)\u001b[0m Total Training Time: 40.4913 seconds\n",
            "\u001b[36m(ClientAppActor pid=40913)\u001b[0m Client fit in 40.49 seconds.\n",
            "\u001b[36m(ClientAppActor pid=40913)\u001b[0m Epoch: 1/2, train loss 0.6927, accuracy 0.5514, precision 0.5516, recall 0.8657, f1-score 0.6739, epoch time: 21.1266 s, GPU Memory: Allocated: 420.12 MB, Reserved: 2076.00 MB\n",
            "\u001b[36m(ClientAppActor pid=40913)\u001b[0m Epoch: 2/2, train loss 0.6752, accuracy 0.5762, precision 0.5643, recall 0.9144, f1-score 0.6979, epoch time: 19.1420 s, GPU Memory: Allocated: 420.12 MB, Reserved: 2076.00 MB\n",
            "\u001b[36m(ClientAppActor pid=40913)\u001b[0m Total Training Time: 40.2694 seconds\n",
            "\u001b[36m(ClientAppActor pid=40913)\u001b[0m Client fit in 40.27 seconds.\n",
            "\u001b[36m(ClientAppActor pid=40913)\u001b[0m Epoch: 1/2, train loss 0.6985, accuracy 0.5506, precision 0.5533, recall 0.9732, f1-score 0.7055, epoch time: 21.0496 s, GPU Memory: Allocated: 422.00 MB, Reserved: 2076.00 MB\n",
            "\u001b[36m(ClientAppActor pid=40913)\u001b[0m Epoch: 2/2, train loss 0.6891, accuracy 0.5531, precision 0.5531, recall 1.0000, f1-score 0.7122, epoch time: 19.1957 s, GPU Memory: Allocated: 422.00 MB, Reserved: 2076.00 MB\n",
            "\u001b[36m(ClientAppActor pid=40913)\u001b[0m Total Training Time: 40.2461 seconds\n",
            "\u001b[36m(ClientAppActor pid=40913)\u001b[0m Client fit in 40.25 seconds.\n"
          ]
        },
        {
          "output_type": "stream",
          "name": "stderr",
          "text": [
            "\u001b[92mINFO \u001b[0m:      aggregate_fit: received 5 results and 0 failures\n",
            "\u001b[93mWARNING \u001b[0m:   No fit_metrics_aggregation_fn provided\n"
          ]
        },
        {
          "output_type": "stream",
          "name": "stdout",
          "text": [
            "FedProx-DP - Saving round 1 aggregated_ndarrays...\n"
          ]
        },
        {
          "output_type": "stream",
          "name": "stderr",
          "text": [
            "\u001b[92mINFO \u001b[0m:      aggregate_fit: central DP noise with 0.2000 stdev added\n",
            "\u001b[92mINFO \u001b[0m:      configure_evaluate: strategy sampled 5 clients (out of 5)\n"
          ]
        },
        {
          "output_type": "stream",
          "name": "stdout",
          "text": [
            "\u001b[36m(ClientAppActor pid=40913)\u001b[0m Client eval in 2.51 seconds.\n",
            "\u001b[36m(ClientAppActor pid=40913)\u001b[0m precision 1.0, recall 0.1111111111111111, f1 0.2\n",
            "\u001b[36m(ClientAppActor pid=40913)\u001b[0m Client eval in 1.97 seconds.\n",
            "\u001b[36m(ClientAppActor pid=40913)\u001b[0m precision 0.25, recall 0.02, f1 0.037037037037037035\n",
            "\u001b[36m(ClientAppActor pid=40913)\u001b[0m Client eval in 1.97 seconds.\n",
            "\u001b[36m(ClientAppActor pid=40913)\u001b[0m precision 0.75, recall 0.06382978723404255, f1 0.11764705882352941\n",
            "\u001b[36m(ClientAppActor pid=40913)\u001b[0m Client eval in 1.94 seconds.\n",
            "\u001b[36m(ClientAppActor pid=40913)\u001b[0m precision 0.5, recall 0.02040816326530612, f1 0.0392156862745098\n"
          ]
        },
        {
          "output_type": "stream",
          "name": "stderr",
          "text": [
            "\u001b[92mINFO \u001b[0m:      aggregate_evaluate: received 5 results and 0 failures\n",
            "\u001b[92mINFO \u001b[0m:      \n",
            "\u001b[92mINFO \u001b[0m:      [ROUND 2]\n",
            "\u001b[92mINFO \u001b[0m:      configure_fit: strategy sampled 5 clients (out of 5)\n"
          ]
        },
        {
          "output_type": "stream",
          "name": "stdout",
          "text": [
            "\u001b[36m(ClientAppActor pid=40913)\u001b[0m Client eval in 2.29 seconds.\n",
            "\u001b[36m(ClientAppActor pid=40913)\u001b[0m precision 0.25, recall 0.044444444444444446, f1 0.07547169811320754\n",
            "\u001b[36m(ClientAppActor pid=40913)\u001b[0m Epoch: 1/2, train loss 56.2188, accuracy 0.4374, precision 0.5200, recall 0.0286, f1-score 0.0542, epoch time: 19.6633 s, GPU Memory: Allocated: 420.12 MB, Reserved: 2076.00 MB\n",
            "\u001b[36m(ClientAppActor pid=40913)\u001b[0m Epoch: 2/2, train loss 56.1338, accuracy 0.4387, precision 0.5833, recall 0.0154, f1-score 0.0300, epoch time: 19.6611 s, GPU Memory: Allocated: 420.12 MB, Reserved: 2076.00 MB\n",
            "\u001b[36m(ClientAppActor pid=40913)\u001b[0m Total Training Time: 39.3254 seconds\n",
            "\u001b[36m(ClientAppActor pid=40913)\u001b[0m Client fit in 39.33 seconds.\n",
            "\u001b[36m(ClientAppActor pid=40913)\u001b[0m Epoch: 1/2, train loss 55.6382, accuracy 0.4436, precision 0.4925, recall 0.1477, f1-score 0.2272, epoch time: 19.2117 s, GPU Memory: Allocated: 420.12 MB, Reserved: 2076.00 MB\n",
            "\u001b[36m(ClientAppActor pid=40913)\u001b[0m Epoch: 2/2, train loss 55.3903, accuracy 0.4461, precision 0.5000, recall 0.0157, f1-score 0.0304, epoch time: 19.7870 s, GPU Memory: Allocated: 420.12 MB, Reserved: 2076.00 MB\n",
            "\u001b[36m(ClientAppActor pid=40913)\u001b[0m Total Training Time: 38.9994 seconds\n",
            "\u001b[36m(ClientAppActor pid=40913)\u001b[0m Client fit in 39.00 seconds.\n",
            "\u001b[36m(ClientAppActor pid=40913)\u001b[0m Epoch: 1/2, train loss 52.1245, accuracy 0.4771, precision 0.5161, recall 0.4065, f1-score 0.4548, epoch time: 19.2166 s, GPU Memory: Allocated: 420.12 MB, Reserved: 2076.00 MB\n",
            "\u001b[36m(ClientAppActor pid=40913)\u001b[0m Epoch: 2/2, train loss 48.5750, accuracy 0.5143, precision 0.5267, recall 0.9330, f1-score 0.6733, epoch time: 19.9488 s, GPU Memory: Allocated: 420.12 MB, Reserved: 2076.00 MB\n",
            "\u001b[36m(ClientAppActor pid=40913)\u001b[0m Total Training Time: 39.1663 seconds\n",
            "\u001b[36m(ClientAppActor pid=40913)\u001b[0m Client fit in 39.17 seconds.\n",
            "\u001b[36m(ClientAppActor pid=40913)\u001b[0m Epoch: 1/2, train loss 47.7843, accuracy 0.5204, precision 0.5316, recall 0.8750, f1-score 0.6614, epoch time: 19.3844 s, GPU Memory: Allocated: 420.12 MB, Reserved: 2076.00 MB\n",
            "\u001b[36m(ClientAppActor pid=40913)\u001b[0m Epoch: 2/2, train loss 46.7162, accuracy 0.5328, precision 0.5347, recall 0.9815, f1-score 0.6922, epoch time: 20.4186 s, GPU Memory: Allocated: 420.12 MB, Reserved: 2076.00 MB\n",
            "\u001b[36m(ClientAppActor pid=40913)\u001b[0m Total Training Time: 39.8039 seconds\n",
            "\u001b[36m(ClientAppActor pid=40913)\u001b[0m Client fit in 39.80 seconds.\n",
            "\u001b[36m(ClientAppActor pid=40913)\u001b[0m Epoch: 1/2, train loss 50.4818, accuracy 0.4926, precision 0.5615, recall 0.3772, f1-score 0.4513, epoch time: 19.1871 s, GPU Memory: Allocated: 422.00 MB, Reserved: 2076.00 MB\n",
            "\u001b[36m(ClientAppActor pid=40913)\u001b[0m Epoch: 2/2, train loss 55.1852, accuracy 0.4481, precision 0.5046, recall 0.1228, f1-score 0.1975, epoch time: 20.2274 s, GPU Memory: Allocated: 422.00 MB, Reserved: 2076.00 MB\n",
            "\u001b[36m(ClientAppActor pid=40913)\u001b[0m Total Training Time: 39.4154 seconds\n",
            "\u001b[36m(ClientAppActor pid=40913)\u001b[0m Client fit in 39.42 seconds.\n"
          ]
        },
        {
          "output_type": "stream",
          "name": "stderr",
          "text": [
            "\u001b[92mINFO \u001b[0m:      aggregate_fit: received 5 results and 0 failures\n"
          ]
        },
        {
          "output_type": "stream",
          "name": "stdout",
          "text": [
            "FedProx-DP - Saving round 2 aggregated_ndarrays...\n"
          ]
        },
        {
          "output_type": "stream",
          "name": "stderr",
          "text": [
            "\u001b[92mINFO \u001b[0m:      aggregate_fit: central DP noise with 0.2000 stdev added\n",
            "\u001b[92mINFO \u001b[0m:      configure_evaluate: strategy sampled 5 clients (out of 5)\n"
          ]
        },
        {
          "output_type": "stream",
          "name": "stdout",
          "text": [
            "\u001b[36m(ClientAppActor pid=40913)\u001b[0m Client eval in 1.90 seconds.\n",
            "\u001b[36m(ClientAppActor pid=40913)\u001b[0m precision 0.3333333333333333, recall 0.018518518518518517, f1 0.03508771929824561\n",
            "\u001b[36m(ClientAppActor pid=40913)\u001b[0m Client eval in 1.87 seconds.\n",
            "\u001b[36m(ClientAppActor pid=40913)\u001b[0m precision 0.0, recall 0.0, f1 0.0\n",
            "\u001b[36m(ClientAppActor pid=40913)\u001b[0m Client eval in 2.45 seconds.\n",
            "\u001b[36m(ClientAppActor pid=40913)\u001b[0m precision 0.6, recall 0.06382978723404255, f1 0.11538461538461539\n",
            "\u001b[36m(ClientAppActor pid=40913)\u001b[0m Client eval in 2.13 seconds.\n",
            "\u001b[36m(ClientAppActor pid=40913)\u001b[0m precision 1.0, recall 0.02040816326530612, f1 0.04\n"
          ]
        },
        {
          "output_type": "stream",
          "name": "stderr",
          "text": [
            "\u001b[92mINFO \u001b[0m:      aggregate_evaluate: received 5 results and 0 failures\n",
            "\u001b[92mINFO \u001b[0m:      \n",
            "\u001b[92mINFO \u001b[0m:      [ROUND 3]\n",
            "\u001b[92mINFO \u001b[0m:      configure_fit: strategy sampled 5 clients (out of 5)\n"
          ]
        },
        {
          "output_type": "stream",
          "name": "stdout",
          "text": [
            "\u001b[36m(ClientAppActor pid=40913)\u001b[0m Client eval in 1.87 seconds.\n",
            "\u001b[36m(ClientAppActor pid=40913)\u001b[0m precision 0.5, recall 0.022222222222222223, f1 0.0425531914893617\n",
            "\u001b[36m(ClientAppActor pid=40913)\u001b[0m Epoch: 1/2, train loss 53.6555, accuracy 0.4634, precision 0.5539, recall 0.2484, f1-score 0.3429, epoch time: 19.3889 s, GPU Memory: Allocated: 420.12 MB, Reserved: 2076.00 MB\n",
            "\u001b[36m(ClientAppActor pid=40913)\u001b[0m Epoch: 2/2, train loss 53.9033, accuracy 0.4610, precision 0.5439, recall 0.2725, f1-score 0.3631, epoch time: 20.0095 s, GPU Memory: Allocated: 420.12 MB, Reserved: 2076.00 MB\n",
            "\u001b[36m(ClientAppActor pid=40913)\u001b[0m Total Training Time: 39.3995 seconds\n",
            "\u001b[36m(ClientAppActor pid=40913)\u001b[0m Client fit in 39.40 seconds.\n",
            "\u001b[36m(ClientAppActor pid=40913)\u001b[0m Epoch: 1/2, train loss 52.1685, accuracy 0.4783, precision 0.5650, recall 0.2528, f1-score 0.3493, epoch time: 19.6491 s, GPU Memory: Allocated: 420.12 MB, Reserved: 2076.00 MB\n",
            "\u001b[36m(ClientAppActor pid=40913)\u001b[0m Epoch: 2/2, train loss 53.5316, accuracy 0.4647, precision 0.5349, recall 0.2573, f1-score 0.3474, epoch time: 19.6349 s, GPU Memory: Allocated: 420.12 MB, Reserved: 2076.00 MB\n",
            "\u001b[36m(ClientAppActor pid=40913)\u001b[0m Total Training Time: 39.2850 seconds\n",
            "\u001b[36m(ClientAppActor pid=40913)\u001b[0m Client fit in 39.29 seconds.\n",
            "\u001b[36m(ClientAppActor pid=40913)\u001b[0m Epoch: 1/2, train loss 55.6382, accuracy 0.4436, precision 0.4630, recall 0.2309, f1-score 0.3082, epoch time: 19.9239 s, GPU Memory: Allocated: 420.12 MB, Reserved: 2076.00 MB\n",
            "\u001b[36m(ClientAppActor pid=40913)\u001b[0m Epoch: 2/2, train loss 53.1599, accuracy 0.4684, precision 0.5088, recall 0.2656, f1-score 0.3490, epoch time: 19.4468 s, GPU Memory: Allocated: 420.12 MB, Reserved: 2076.00 MB\n",
            "\u001b[36m(ClientAppActor pid=40913)\u001b[0m Total Training Time: 39.3717 seconds\n",
            "\u001b[36m(ClientAppActor pid=40913)\u001b[0m Client fit in 39.37 seconds.\n",
            "\u001b[36m(ClientAppActor pid=40913)\u001b[0m Epoch: 1/2, train loss 53.7794, accuracy 0.4622, precision 0.4958, recall 0.2731, f1-score 0.3522, epoch time: 20.2295 s, GPU Memory: Allocated: 420.12 MB, Reserved: 2076.00 MB\n",
            "\u001b[36m(ClientAppActor pid=40913)\u001b[0m Epoch: 2/2, train loss 50.3098, accuracy 0.4969, precision 0.5637, recall 0.2662, f1-score 0.3616, epoch time: 19.0757 s, GPU Memory: Allocated: 420.12 MB, Reserved: 2076.00 MB\n",
            "\u001b[36m(ClientAppActor pid=40913)\u001b[0m Total Training Time: 39.3060 seconds\n",
            "\u001b[36m(ClientAppActor pid=40913)\u001b[0m Client fit in 39.31 seconds.\n",
            "\u001b[36m(ClientAppActor pid=40913)\u001b[0m Epoch: 1/2, train loss 51.4815, accuracy 0.4852, precision 0.5529, recall 0.3616, f1-score 0.4372, epoch time: 20.1855 s, GPU Memory: Allocated: 422.00 MB, Reserved: 2076.00 MB\n",
            "\u001b[36m(ClientAppActor pid=40913)\u001b[0m Epoch: 2/2, train loss 47.2840, accuracy 0.5272, precision 0.5557, recall 0.7232, f1-score 0.6285, epoch time: 19.2059 s, GPU Memory: Allocated: 422.00 MB, Reserved: 2076.00 MB\n",
            "\u001b[36m(ClientAppActor pid=40913)\u001b[0m Total Training Time: 39.3922 seconds\n",
            "\u001b[36m(ClientAppActor pid=40913)\u001b[0m Client fit in 39.39 seconds.\n"
          ]
        },
        {
          "output_type": "stream",
          "name": "stderr",
          "text": [
            "\u001b[92mINFO \u001b[0m:      aggregate_fit: received 5 results and 0 failures\n"
          ]
        },
        {
          "output_type": "stream",
          "name": "stdout",
          "text": [
            "FedProx-DP - Saving round 3 aggregated_ndarrays...\n"
          ]
        },
        {
          "output_type": "stream",
          "name": "stderr",
          "text": [
            "\u001b[92mINFO \u001b[0m:      aggregate_fit: central DP noise with 0.2000 stdev added\n",
            "\u001b[92mINFO \u001b[0m:      configure_evaluate: strategy sampled 5 clients (out of 5)\n"
          ]
        },
        {
          "output_type": "stream",
          "name": "stdout",
          "text": [
            "\u001b[36m(ClientAppActor pid=40913)\u001b[0m Client eval in 2.50 seconds.\n",
            "\u001b[36m(ClientAppActor pid=40913)\u001b[0m precision 0.6, recall 0.05555555555555555, f1 0.1016949152542373\n",
            "\u001b[36m(ClientAppActor pid=40913)\u001b[0m Client eval in 2.10 seconds.\n",
            "\u001b[36m(ClientAppActor pid=40913)\u001b[0m precision 0.4, recall 0.08, f1 0.13333333333333333\n",
            "\u001b[36m(ClientAppActor pid=40913)\u001b[0m Client eval in 1.86 seconds.\n",
            "\u001b[36m(ClientAppActor pid=40913)\u001b[0m precision 0.8333333333333334, recall 0.10638297872340426, f1 0.18867924528301888\n",
            "\u001b[36m(ClientAppActor pid=40913)\u001b[0m Client eval in 1.84 seconds.\n",
            "\u001b[36m(ClientAppActor pid=40913)\u001b[0m precision 0.7142857142857143, recall 0.10204081632653061, f1 0.17857142857142858\n"
          ]
        },
        {
          "output_type": "stream",
          "name": "stderr",
          "text": [
            "\u001b[92mINFO \u001b[0m:      aggregate_evaluate: received 5 results and 0 failures\n",
            "\u001b[92mINFO \u001b[0m:      \n",
            "\u001b[92mINFO \u001b[0m:      [ROUND 4]\n",
            "\u001b[92mINFO \u001b[0m:      configure_fit: strategy sampled 5 clients (out of 5)\n"
          ]
        },
        {
          "output_type": "stream",
          "name": "stdout",
          "text": [
            "\u001b[36m(ClientAppActor pid=40913)\u001b[0m Client eval in 1.88 seconds.\n",
            "\u001b[36m(ClientAppActor pid=40913)\u001b[0m precision 0.7, recall 0.15555555555555556, f1 0.2545454545454545\n",
            "\u001b[36m(ClientAppActor pid=40913)\u001b[0m Epoch: 1/2, train loss 52.1685, accuracy 0.4783, precision 0.5702, recall 0.3033, f1-score 0.3960, epoch time: 20.5215 s, GPU Memory: Allocated: 420.12 MB, Reserved: 2076.00 MB\n",
            "\u001b[36m(ClientAppActor pid=40913)\u001b[0m Epoch: 2/2, train loss 53.2838, accuracy 0.4672, precision 0.5527, recall 0.2879, f1-score 0.3786, epoch time: 19.5381 s, GPU Memory: Allocated: 420.12 MB, Reserved: 2076.00 MB\n",
            "\u001b[36m(ClientAppActor pid=40913)\u001b[0m Total Training Time: 40.0605 seconds\n",
            "\u001b[36m(ClientAppActor pid=40913)\u001b[0m Client fit in 40.06 seconds.\n",
            "\u001b[36m(ClientAppActor pid=40913)\u001b[0m Epoch: 1/2, train loss 52.4164, accuracy 0.4758, precision 0.5588, recall 0.2550, f1-score 0.3502, epoch time: 20.1291 s, GPU Memory: Allocated: 420.12 MB, Reserved: 2076.00 MB\n",
            "\u001b[36m(ClientAppActor pid=40913)\u001b[0m Epoch: 2/2, train loss 50.5576, accuracy 0.4944, precision 0.5783, recall 0.3221, f1-score 0.4138, epoch time: 19.1464 s, GPU Memory: Allocated: 420.12 MB, Reserved: 2076.00 MB\n",
            "\u001b[36m(ClientAppActor pid=40913)\u001b[0m Total Training Time: 39.2763 seconds\n",
            "\u001b[36m(ClientAppActor pid=40913)\u001b[0m Client fit in 39.28 seconds.\n",
            "\u001b[36m(ClientAppActor pid=40913)\u001b[0m Epoch: 1/2, train loss 48.9467, accuracy 0.5105, precision 0.5805, recall 0.3164, f1-score 0.4096, epoch time: 20.3876 s, GPU Memory: Allocated: 420.12 MB, Reserved: 2076.00 MB\n",
            "\u001b[36m(ClientAppActor pid=40913)\u001b[0m Epoch: 2/2, train loss 51.1772, accuracy 0.4882, precision 0.5424, recall 0.2956, f1-score 0.3827, epoch time: 20.1329 s, GPU Memory: Allocated: 420.12 MB, Reserved: 2076.00 MB\n",
            "\u001b[36m(ClientAppActor pid=40913)\u001b[0m Total Training Time: 40.5215 seconds\n",
            "\u001b[36m(ClientAppActor pid=40913)\u001b[0m Client fit in 40.52 seconds.\n",
            "\u001b[36m(ClientAppActor pid=40913)\u001b[0m Epoch: 1/2, train loss 49.0706, accuracy 0.5093, precision 0.5726, recall 0.3287, f1-score 0.4176, epoch time: 19.7714 s, GPU Memory: Allocated: 420.12 MB, Reserved: 2076.00 MB\n",
            "\u001b[36m(ClientAppActor pid=40913)\u001b[0m Epoch: 2/2, train loss 48.6989, accuracy 0.5130, precision 0.5816, recall 0.3218, f1-score 0.4143, epoch time: 20.5736 s, GPU Memory: Allocated: 420.12 MB, Reserved: 2076.00 MB\n",
            "\u001b[36m(ClientAppActor pid=40913)\u001b[0m Total Training Time: 40.3460 seconds\n",
            "\u001b[36m(ClientAppActor pid=40913)\u001b[0m Client fit in 40.35 seconds.\n",
            "\u001b[36m(ClientAppActor pid=40913)\u001b[0m Epoch: 1/2, train loss 51.3580, accuracy 0.4864, precision 0.5640, recall 0.3147, f1-score 0.4040, epoch time: 19.5548 s, GPU Memory: Allocated: 422.00 MB, Reserved: 2076.00 MB\n",
            "\u001b[36m(ClientAppActor pid=40913)\u001b[0m Epoch: 2/2, train loss 50.0000, accuracy 0.5000, precision 0.5837, recall 0.3348, f1-score 0.4255, epoch time: 20.7014 s, GPU Memory: Allocated: 422.00 MB, Reserved: 2076.00 MB\n",
            "\u001b[36m(ClientAppActor pid=40913)\u001b[0m Total Training Time: 40.2571 seconds\n",
            "\u001b[36m(ClientAppActor pid=40913)\u001b[0m Client fit in 40.26 seconds.\n"
          ]
        },
        {
          "output_type": "stream",
          "name": "stderr",
          "text": [
            "\u001b[92mINFO \u001b[0m:      aggregate_fit: received 5 results and 0 failures\n"
          ]
        },
        {
          "output_type": "stream",
          "name": "stdout",
          "text": [
            "FedProx-DP - Saving round 4 aggregated_ndarrays...\n"
          ]
        },
        {
          "output_type": "stream",
          "name": "stderr",
          "text": [
            "\u001b[92mINFO \u001b[0m:      aggregate_fit: central DP noise with 0.2000 stdev added\n",
            "\u001b[92mINFO \u001b[0m:      configure_evaluate: strategy sampled 5 clients (out of 5)\n"
          ]
        },
        {
          "output_type": "stream",
          "name": "stdout",
          "text": [
            "\u001b[36m(ClientAppActor pid=40913)\u001b[0m Client eval in 1.95 seconds.\n",
            "\u001b[36m(ClientAppActor pid=40913)\u001b[0m precision 1.0, recall 0.0, f1 0.0\n",
            "\u001b[36m(ClientAppActor pid=40913)\u001b[0m Client eval in 1.91 seconds.\n",
            "\u001b[36m(ClientAppActor pid=40913)\u001b[0m precision 1.0, recall 0.0, f1 0.0\n",
            "\u001b[36m(ClientAppActor pid=40913)\u001b[0m Client eval in 2.64 seconds.\n",
            "\u001b[36m(ClientAppActor pid=40913)\u001b[0m precision 1.0, recall 0.0, f1 0.0\n",
            "\u001b[36m(ClientAppActor pid=40913)\u001b[0m Client eval in 2.02 seconds.\n",
            "\u001b[36m(ClientAppActor pid=40913)\u001b[0m precision 1.0, recall 0.0, f1 0.0\n"
          ]
        },
        {
          "output_type": "stream",
          "name": "stderr",
          "text": [
            "\u001b[92mINFO \u001b[0m:      aggregate_evaluate: received 5 results and 0 failures\n",
            "\u001b[92mINFO \u001b[0m:      \n",
            "\u001b[92mINFO \u001b[0m:      [ROUND 5]\n",
            "\u001b[92mINFO \u001b[0m:      configure_fit: strategy sampled 5 clients (out of 5)\n"
          ]
        },
        {
          "output_type": "stream",
          "name": "stdout",
          "text": [
            "\u001b[36m(ClientAppActor pid=40913)\u001b[0m Client eval in 1.90 seconds.\n",
            "\u001b[36m(ClientAppActor pid=40913)\u001b[0m precision 1.0, recall 0.0, f1 0.0\n",
            "\u001b[36m(ClientAppActor pid=40913)\u001b[0m Epoch: 1/2, train loss 54.6468, accuracy 0.4535, precision 0.5412, recall 0.2022, f1-score 0.2944, epoch time: 20.0980 s, GPU Memory: Allocated: 420.12 MB, Reserved: 2076.00 MB\n",
            "\u001b[36m(ClientAppActor pid=40913)\u001b[0m Epoch: 2/2, train loss 51.4250, accuracy 0.4857, precision 0.5990, recall 0.2659, f1-score 0.3683, epoch time: 20.0308 s, GPU Memory: Allocated: 420.12 MB, Reserved: 2076.00 MB\n",
            "\u001b[36m(ClientAppActor pid=40913)\u001b[0m Total Training Time: 40.1298 seconds\n",
            "\u001b[36m(ClientAppActor pid=40913)\u001b[0m Client fit in 40.13 seconds.\n",
            "\u001b[36m(ClientAppActor pid=40913)\u001b[0m Epoch: 1/2, train loss 52.4164, accuracy 0.4758, precision 0.5606, recall 0.2483, f1-score 0.3442, epoch time: 20.6010 s, GPU Memory: Allocated: 420.12 MB, Reserved: 2076.00 MB\n",
            "\u001b[36m(ClientAppActor pid=40913)\u001b[0m Epoch: 2/2, train loss 53.0359, accuracy 0.4696, precision 0.5450, recall 0.2573, f1-score 0.3495, epoch time: 19.5326 s, GPU Memory: Allocated: 420.12 MB, Reserved: 2076.00 MB\n",
            "\u001b[36m(ClientAppActor pid=40913)\u001b[0m Total Training Time: 40.1344 seconds\n",
            "\u001b[36m(ClientAppActor pid=40913)\u001b[0m Client fit in 40.13 seconds.\n",
            "\u001b[36m(ClientAppActor pid=40913)\u001b[0m Epoch: 1/2, train loss 51.7968, accuracy 0.4820, precision 0.5381, recall 0.2448, f1-score 0.3365, epoch time: 20.6064 s, GPU Memory: Allocated: 420.12 MB, Reserved: 2076.00 MB\n",
            "\u001b[36m(ClientAppActor pid=40913)\u001b[0m Epoch: 2/2, train loss 53.7794, accuracy 0.4622, precision 0.4972, recall 0.2055, f1-score 0.2908, epoch time: 19.5584 s, GPU Memory: Allocated: 420.12 MB, Reserved: 2076.00 MB\n",
            "\u001b[36m(ClientAppActor pid=40913)\u001b[0m Total Training Time: 40.1658 seconds\n",
            "\u001b[36m(ClientAppActor pid=40913)\u001b[0m Client fit in 40.17 seconds.\n",
            "\u001b[36m(ClientAppActor pid=40913)\u001b[0m Epoch: 1/2, train loss 52.5403, accuracy 0.4746, precision 0.5194, recall 0.2477, f1-score 0.3354, epoch time: 20.5320 s, GPU Memory: Allocated: 420.12 MB, Reserved: 2076.00 MB\n",
            "\u001b[36m(ClientAppActor pid=40913)\u001b[0m Epoch: 2/2, train loss 53.2838, accuracy 0.4672, precision 0.5053, recall 0.2199, f1-score 0.3065, epoch time: 19.3888 s, GPU Memory: Allocated: 420.12 MB, Reserved: 2076.00 MB\n",
            "\u001b[36m(ClientAppActor pid=40913)\u001b[0m Total Training Time: 39.9216 seconds\n",
            "\u001b[36m(ClientAppActor pid=40913)\u001b[0m Client fit in 39.92 seconds.\n",
            "\u001b[36m(ClientAppActor pid=40913)\u001b[0m Epoch: 1/2, train loss 53.0864, accuracy 0.4691, precision 0.5500, recall 0.2210, f1-score 0.3153, epoch time: 20.2996 s, GPU Memory: Allocated: 422.00 MB, Reserved: 2076.00 MB\n",
            "\u001b[36m(ClientAppActor pid=40913)\u001b[0m Epoch: 2/2, train loss 51.9753, accuracy 0.4802, precision 0.5763, recall 0.2277, f1-score 0.3264, epoch time: 19.4002 s, GPU Memory: Allocated: 422.00 MB, Reserved: 2076.00 MB\n",
            "\u001b[36m(ClientAppActor pid=40913)\u001b[0m Total Training Time: 39.7008 seconds\n",
            "\u001b[36m(ClientAppActor pid=40913)\u001b[0m Client fit in 39.70 seconds.\n"
          ]
        },
        {
          "output_type": "stream",
          "name": "stderr",
          "text": [
            "\u001b[92mINFO \u001b[0m:      aggregate_fit: received 5 results and 0 failures\n"
          ]
        },
        {
          "output_type": "stream",
          "name": "stdout",
          "text": [
            "FedProx-DP - Saving round 5 aggregated_ndarrays...\n"
          ]
        },
        {
          "output_type": "stream",
          "name": "stderr",
          "text": [
            "\u001b[92mINFO \u001b[0m:      aggregate_fit: central DP noise with 0.2000 stdev added\n",
            "\u001b[92mINFO \u001b[0m:      configure_evaluate: strategy sampled 5 clients (out of 5)\n"
          ]
        },
        {
          "output_type": "stream",
          "name": "stdout",
          "text": [
            "\u001b[36m(ClientAppActor pid=40913)\u001b[0m Client eval in 1.87 seconds.\n",
            "\u001b[36m(ClientAppActor pid=40913)\u001b[0m precision 1.0, recall 0.0, f1 0.0\n",
            "\u001b[36m(ClientAppActor pid=40913)\u001b[0m Client eval in 1.90 seconds.\n",
            "\u001b[36m(ClientAppActor pid=40913)\u001b[0m precision 1.0, recall 0.04, f1 0.07692307692307693\n",
            "\u001b[36m(ClientAppActor pid=40913)\u001b[0m Client eval in 1.84 seconds.\n",
            "\u001b[36m(ClientAppActor pid=40913)\u001b[0m precision 0.0, recall 0.0, f1 0.0\n",
            "\u001b[36m(ClientAppActor pid=40913)\u001b[0m Client eval in 1.84 seconds.\n",
            "\u001b[36m(ClientAppActor pid=40913)\u001b[0m precision 0.3333333333333333, recall 0.02040816326530612, f1 0.038461538461538464\n"
          ]
        },
        {
          "output_type": "stream",
          "name": "stderr",
          "text": [
            "\u001b[92mINFO \u001b[0m:      aggregate_evaluate: received 5 results and 0 failures\n",
            "\u001b[92mINFO \u001b[0m:      \n",
            "\u001b[92mINFO \u001b[0m:      [SUMMARY]\n",
            "\u001b[92mINFO \u001b[0m:      Run finished 5 round(s) in 1099.74s\n",
            "\u001b[92mINFO \u001b[0m:      \tHistory (loss, distributed):\n",
            "\u001b[92mINFO \u001b[0m:      \t\tround 1: 54.436308164370345\n",
            "\u001b[92mINFO \u001b[0m:      \t\tround 2: 55.168539512339\n",
            "\u001b[92mINFO \u001b[0m:      \t\tround 3: 52.70661676299706\n",
            "\u001b[92mINFO \u001b[0m:      \t\tround 4: 54.943820411215405\n",
            "\u001b[92mINFO \u001b[0m:      \t\tround 5: 54.94382041121541\n",
            "\u001b[92mINFO \u001b[0m:      \tHistory (metrics, distributed, evaluate):\n",
            "\u001b[92mINFO \u001b[0m:      \t{'accuracy': [(1, 0.4551560549313358),\n",
            "\u001b[92mINFO \u001b[0m:      \t              (2, 0.44831460674157303),\n",
            "\u001b[92mINFO \u001b[0m:      \t              (3, 0.4729338327091136),\n",
            "\u001b[92mINFO \u001b[0m:      \t              (4, 0.450561797752809),\n",
            "\u001b[92mINFO \u001b[0m:      \t              (5, 0.45056179775280897)]}\n",
            "\u001b[92mINFO \u001b[0m:      \n"
          ]
        },
        {
          "output_type": "stream",
          "name": "stdout",
          "text": [
            "\u001b[36m(ClientAppActor pid=40913)\u001b[0m Client eval in 2.61 seconds.\n",
            "\u001b[36m(ClientAppActor pid=40913)\u001b[0m precision 1.0, recall 0.0, f1 0.0\n"
          ]
        }
      ]
    },
    {
      "cell_type": "code",
      "source": [
        "#Estimates the size of a PyTorch model in bytes\n",
        "def estimate_model_size(model):\n",
        "    param_size = 0\n",
        "    for param in model.parameters():\n",
        "        param_size += param.numel() * param.element_size()\n",
        "    buffer_size = 0\n",
        "    for buffer in model.buffers():\n",
        "        buffer_size += buffer.numel() * buffer.element_size()\n",
        "    return param_size + buffer_size\n",
        "\n",
        "binary_model = NetNIH().to(DEVICE)\n",
        "model_size_bytes = estimate_model_size(binary_model)\n",
        "model_size_mb = model_size_bytes / (1024 * 1024)\n",
        "num_rounds = 5\n",
        "num_clients = NUM_CLIENTS\n",
        "\n",
        "uplink_per_round_bytes = num_clients * model_size_bytes\n",
        "downlink_per_round_bytes = num_clients * model_size_bytes\n",
        "total_uplink_bytes = num_rounds * uplink_per_round_bytes\n",
        "total_downlink_bytes = num_rounds * downlink_per_round_bytes\n",
        "total_communication_bytes = total_uplink_bytes + total_downlink_bytes\n",
        "\n",
        "uplink_mb = total_uplink_bytes / (1024 * 1024)\n",
        "downlink_mb = total_downlink_bytes / (1024 * 1024)\n",
        "total_mb = total_communication_bytes / (1024 * 1024)\n",
        "\n",
        "print(\"\\n--- Federated Learning Communication Overhead Estimation ---\")\n",
        "print(f\"Estimated model size: {model_size_mb:.2f} MB\")\n",
        "print(f\"Number of clients: {num_clients}\")\n",
        "print(f\"Number of rounds: {num_rounds}\")\n",
        "print(f\"Estimated uplink communication (total): {uplink_mb:.2f} MB\")\n",
        "print(f\"Estimated downlink communication (total): {downlink_mb:.2f} MB\")\n",
        "print(f\"Estimated total communication: {total_mb:.2f} MB\")"
      ],
      "metadata": {
        "colab": {
          "base_uri": "https://localhost:8080/"
        },
        "outputId": "7d9d291b-0ee5-440d-890e-b173df9c8d18",
        "id": "5xplBde6GF2G"
      },
      "execution_count": 28,
      "outputs": [
        {
          "output_type": "stream",
          "name": "stdout",
          "text": [
            "\n",
            "--- Federated Learning Communication Overhead Estimation ---\n",
            "Estimated model size: 99.73 MB\n",
            "Number of clients: 5\n",
            "Number of rounds: 5\n",
            "Estimated uplink communication (total): 2493.37 MB\n",
            "Estimated downlink communication (total): 2493.37 MB\n",
            "Estimated total communication: 4986.73 MB\n"
          ]
        }
      ]
    },
    {
      "cell_type": "code",
      "source": [
        "from torch.utils.data import DataLoader\n",
        "from torchvision import transforms\n",
        "\n",
        "transform = transforms.Compose([\n",
        "    transforms.Resize((224, 224)),\n",
        "    transforms.ToTensor(),\n",
        "    transforms.Normalize(mean=[0.485, 0.456, 0.406], std=[0.229, 0.224, 0.225])\n",
        "])\n",
        "\n",
        "# Create the full centralized train dataset\n",
        "central_trainset = CXRDataset(train_df, \"./nih_images/train/\", transform=transform)\n",
        "\n",
        "# Create the full test dataset\n",
        "central_testset = CXRDataset(test_df, \"./nih_images/test/\", transform=transform)\n",
        "\n",
        "# Now, DataLoaders\n",
        "central_train_loader = DataLoader(central_trainset, batch_size=BATCH_SIZE, shuffle=False)\n",
        "test_loader = DataLoader(central_testset, batch_size=BATCH_SIZE, shuffle=False)\n",
        "\n",
        "# Step 1: Rebuild model\n",
        "global_model = NetNIH().to(DEVICE)\n",
        "\n",
        "# Step 2: Load saved weights\n",
        "global_model_fp = load_weights_into_model(global_model, \"/content/FedProx-DP - round-5-weights.npz\")\n",
        "\n",
        "# Step 3: Run MIA\n",
        "mia_auc = run_membership_inference_attack(global_model_fp, central_train_loader, test_loader)\n",
        "print(f\"Membership Inference Attack AUC: {mia_auc:.4f}\")"
      ],
      "metadata": {
        "colab": {
          "base_uri": "https://localhost:8080/"
        },
        "outputId": "48049f79-4279-4faa-d980-97261b9f71e2",
        "id": "roeRTmbJGF2G"
      },
      "execution_count": 29,
      "outputs": [
        {
          "output_type": "stream",
          "name": "stdout",
          "text": [
            "Loaded weights from /content/FedProx-DP - round-5-weights.npz into model successfully.\n",
            "[Privacy Risk] Membership Inference Attack AUC: 0.4994\n",
            "Membership Inference Attack AUC: 0.4994\n"
          ]
        }
      ]
    },
    {
      "cell_type": "markdown",
      "source": [
        "## 3. Fed Adam"
      ],
      "metadata": {
        "id": "jR8fxEdFnaKb"
      }
    },
    {
      "cell_type": "code",
      "source": [
        "#Functions to get parameters and set parameters\n",
        "def set_parameters(net, parameters: List[np.ndarray]):\n",
        "    params_dict = zip(net.state_dict().keys(), parameters)\n",
        "    state_dict = OrderedDict({k: torch.Tensor(v) for k, v in params_dict})\n",
        "    net.load_state_dict(state_dict, strict=True)\n",
        "\n",
        "def get_parameters(net) -> List[np.ndarray]:\n",
        "    return [val.cpu().numpy() for _, val in net.state_dict().items()]"
      ],
      "metadata": {
        "id": "j4M9zQ_RYTx4"
      },
      "execution_count": null,
      "outputs": []
    },
    {
      "cell_type": "code",
      "source": [
        "#Define Client class for FedAdams\n",
        "class FDClient(NumPyClient):\n",
        "    def __init__(self, net, trainloader, valloader):\n",
        "        self.net = net\n",
        "        self.trainloader = trainloader\n",
        "        self.valloader = valloader\n",
        "        self.global_params = None\n",
        "\n",
        "    def get_parameters(self, config):\n",
        "        return get_parameters(self.net)\n",
        "\n",
        "    def fit(self, parameters, config):\n",
        "        set_parameters(self.net, parameters)\n",
        "        self.global_params = copy.deepcopy(self.net).parameters()\n",
        "        fit_start_time = time.time()\n",
        "        train(self.net, self.trainloader, epochs=2, strategy=\"fed\", global_params=self.global_params) #train\n",
        "        fit_end_time = time.time()\n",
        "        fit_duration = fit_end_time - fit_start_time\n",
        "        print(f\"Client fit in {fit_duration:.2f} seconds.\")\n",
        "        return get_parameters(self.net), len(self.trainloader), {}\n",
        "\n",
        "    def evaluate(self, parameters, config):\n",
        "        set_parameters(self.net, parameters)\n",
        "        eval_start_time = time.time()\n",
        "        loss, accuracy, precision, recall, f1  = test(self.net, self.valloader)\n",
        "        eval_end_time = time.time()\n",
        "        eval_duration = eval_end_time - eval_start_time\n",
        "        print(f\"Client eval in {eval_duration:.2f} seconds.\")\n",
        "        print(f\"precision {precision}, recall {recall}, f1 {f1}\")\n",
        "        return float(loss), len(self.valloader), {\"accuracy\": float(accuracy)}"
      ],
      "metadata": {
        "id": "aldcT8vsnsGN"
      },
      "execution_count": null,
      "outputs": []
    },
    {
      "cell_type": "code",
      "source": [
        "#Create a Flower client representing a single organization\n",
        "def client_fn(context: Context) -> Client:\n",
        "    net = NetNIH().to(DEVICE)\n",
        "    partition_id = context.node_config[\"partition-id\"]\n",
        "    trainloader, valloader, _ = load_datasets(partition_id=partition_id)\n",
        "    return FDClient(net, trainloader, valloader).to_client()\n",
        "\n",
        "\n",
        "FDclient = ClientApp(client_fn=client_fn)"
      ],
      "metadata": {
        "id": "HRUVqSwhnvi3"
      },
      "execution_count": null,
      "outputs": []
    },
    {
      "cell_type": "code",
      "source": [
        "def weighted_average(metrics: List[Tuple[int, Metrics]]) -> Metrics:\n",
        "    accuracies = [num_examples * m[\"accuracy\"] for num_examples, m in metrics]\n",
        "    examples = [num_examples for num_examples, _ in metrics]\n",
        "\n",
        "    return {\"accuracy\": sum(accuracies) / sum(examples)}"
      ],
      "metadata": {
        "id": "2wibqOkUnyBP"
      },
      "execution_count": null,
      "outputs": []
    },
    {
      "cell_type": "code",
      "source": [
        "#Saves the final model and retrieves model parameters\n",
        "class SaveModelStrategy(flwr.server.strategy.FedAdam):\n",
        "    def aggregate_fit(\n",
        "        self,\n",
        "        server_round,\n",
        "        results,\n",
        "        failures,\n",
        "    ):\n",
        "\n",
        "        # Call aggregate_fit from base class (FedAdam) to aggregate parameters and metrics\n",
        "        aggregated_parameters, aggregated_metrics = super().aggregate_fit(\n",
        "            server_round, results, failures\n",
        "        )\n",
        "\n",
        "        if aggregated_parameters is not None:\n",
        "            aggregated_ndarrays: list[np.ndarray] = flwr.common.parameters_to_ndarrays(\n",
        "                aggregated_parameters\n",
        "            )\n",
        "\n",
        "            print(f\"FedAdam - Saving round {server_round} aggregated_ndarrays...\")\n",
        "            np.savez(f\"FedAdam - round-{server_round}-weights.npz\", *aggregated_ndarrays)\n",
        "\n",
        "        return aggregated_parameters, aggregated_metrics\n",
        "\n",
        "\n",
        "# Create strategy and pass into ServerApp\n",
        "def server_fn(context):\n",
        "    config = ServerConfig(num_rounds=5)\n",
        "    initial_net = NetNIH().to(DEVICE)\n",
        "    initial_params = get_parameters(initial_net)\n",
        "    tensors_as_bytes = [ndarray_to_bytes(ndarray) for ndarray in initial_params]\n",
        "    initial_parameters = Parameters(tensors=tensors_as_bytes, tensor_type=\"numpy.ndarray\")\n",
        "\n",
        "    FDstrategy = SaveModelStrategy(\n",
        "        fraction_fit=1.0,  # Sample 100% of available clients for training\n",
        "        fraction_evaluate=1.0,  # Sample 50% of available clients for evaluation\n",
        "        min_fit_clients=5,  # Never sample less than 5 clients for training\n",
        "        min_evaluate_clients=5,  # Never sample less than 5 clients for evaluation\n",
        "        min_available_clients=5,  # Wait until all 5 clients are available\n",
        "        evaluate_metrics_aggregation_fn=weighted_average, # metric aggregation function\n",
        "        initial_parameters=initial_parameters\n",
        "    )\n",
        "\n",
        "    return ServerAppComponents(strategy=FDstrategy, config=config)\n",
        "\n",
        "\n",
        "FDserver = ServerApp(server_fn=server_fn)"
      ],
      "metadata": {
        "id": "fo9aZQpPeP8A"
      },
      "execution_count": null,
      "outputs": []
    },
    {
      "cell_type": "code",
      "source": [
        "backend_config = {\"client_resources\": {\"num_cpus\": 1, \"num_gpus\": 0.0}}\n",
        "if DEVICE == \"cuda\":\n",
        "    backend_config = {\"client_resources\": {\"num_cpus\": 1, \"num_gpus\": 1.0}}"
      ],
      "metadata": {
        "id": "z0PxTI3wn4Se"
      },
      "execution_count": null,
      "outputs": []
    },
    {
      "cell_type": "code",
      "source": [
        "# Run FL simulation\n",
        "run_simulation(\n",
        "    server_app=FDserver,\n",
        "    client_app=FDclient,\n",
        "    num_supernodes=NUM_CLIENTS,\n",
        "    backend_config=backend_config,\n",
        ")"
      ],
      "metadata": {
        "id": "b4o0QTb1n84G",
        "colab": {
          "base_uri": "https://localhost:8080/"
        },
        "outputId": "3080759d-7057-47c6-e097-bbc7b30532ed"
      },
      "execution_count": null,
      "outputs": [
        {
          "output_type": "stream",
          "name": "stderr",
          "text": [
            "\u001b[92mINFO \u001b[0m:      Starting Flower ServerApp, config: num_rounds=5, no round_timeout\n",
            "\u001b[92mINFO \u001b[0m:      \n",
            "\u001b[92mINFO \u001b[0m:      [INIT]\n",
            "\u001b[92mINFO \u001b[0m:      Using initial global parameters provided by strategy\n",
            "\u001b[92mINFO \u001b[0m:      Starting evaluation of initial global parameters\n",
            "\u001b[92mINFO \u001b[0m:      Evaluation returned no results (`None`)\n",
            "\u001b[92mINFO \u001b[0m:      \n",
            "\u001b[92mINFO \u001b[0m:      [ROUND 1]\n",
            "\u001b[92mINFO \u001b[0m:      configure_fit: strategy sampled 5 clients (out of 5)\n",
            "\u001b[36m(pid=10247)\u001b[0m 2025-04-26 01:36:14.401692: E external/local_xla/xla/stream_executor/cuda/cuda_fft.cc:477] Unable to register cuFFT factory: Attempting to register factory for plugin cuFFT when one has already been registered\n",
            "\u001b[36m(pid=10247)\u001b[0m WARNING: All log messages before absl::InitializeLog() is called are written to STDERR\n",
            "\u001b[36m(pid=10247)\u001b[0m E0000 00:00:1745631374.422219   10247 cuda_dnn.cc:8310] Unable to register cuDNN factory: Attempting to register factory for plugin cuDNN when one has already been registered\n",
            "\u001b[36m(pid=10247)\u001b[0m E0000 00:00:1745631374.428279   10247 cuda_blas.cc:1418] Unable to register cuBLAS factory: Attempting to register factory for plugin cuBLAS when one has already been registered\n"
          ]
        },
        {
          "output_type": "stream",
          "name": "stdout",
          "text": [
            "\u001b[36m(ClientAppActor pid=10247)\u001b[0m Epoch: 1/2, train loss 0.7016, accuracy 0.5564, precision 0.5609, recall 0.9824, f1-score 0.7141, epoch time: 19.4108 s, GPU Memory: Allocated: 519.50 MB, Reserved: 2250.00 MB\n",
            "\u001b[36m(ClientAppActor pid=10247)\u001b[0m Epoch: 2/2, train loss 0.6827, accuracy 0.5663, precision 0.5659, recall 0.9912, f1-score 0.7204, epoch time: 19.8339 s, GPU Memory: Allocated: 519.50 MB, Reserved: 2250.00 MB\n",
            "\u001b[36m(ClientAppActor pid=10247)\u001b[0m Total Training Time: 39.2455 seconds\n",
            "\u001b[36m(ClientAppActor pid=10247)\u001b[0m Client fit in 39.25 seconds.\n",
            "\u001b[36m(ClientAppActor pid=10247)\u001b[0m Epoch: 1/2, train loss 0.6981, accuracy 0.5527, precision 0.5599, recall 0.8993, f1-score 0.6901, epoch time: 18.6875 s, GPU Memory: Allocated: 520.09 MB, Reserved: 2250.00 MB\n",
            "\u001b[36m(ClientAppActor pid=10247)\u001b[0m Epoch: 2/2, train loss 0.7002, accuracy 0.5527, precision 0.5535, recall 0.9955, f1-score 0.7114, epoch time: 19.7489 s, GPU Memory: Allocated: 520.09 MB, Reserved: 2250.00 MB\n",
            "\u001b[36m(ClientAppActor pid=10247)\u001b[0m Total Training Time: 38.4372 seconds\n",
            "\u001b[36m(ClientAppActor pid=10247)\u001b[0m Client fit in 38.44 seconds.\n",
            "\u001b[36m(ClientAppActor pid=10247)\u001b[0m Epoch: 1/2, train loss 0.7039, accuracy 0.5242, precision 0.5359, recall 0.8453, f1-score 0.6559, epoch time: 18.8959 s, GPU Memory: Allocated: 520.09 MB, Reserved: 2250.00 MB\n",
            "\u001b[36m(ClientAppActor pid=10247)\u001b[0m Epoch: 2/2, train loss 0.6980, accuracy 0.5291, precision 0.5355, recall 0.9238, f1-score 0.6780, epoch time: 19.7018 s, GPU Memory: Allocated: 520.09 MB, Reserved: 2250.00 MB\n",
            "\u001b[36m(ClientAppActor pid=10247)\u001b[0m Total Training Time: 38.5985 seconds\n",
            "\u001b[36m(ClientAppActor pid=10247)\u001b[0m Client fit in 38.60 seconds.\n",
            "\u001b[36m(ClientAppActor pid=10247)\u001b[0m Epoch: 1/2, train loss 0.6996, accuracy 0.5279, precision 0.5352, recall 0.8981, f1-score 0.6707, epoch time: 18.8988 s, GPU Memory: Allocated: 520.09 MB, Reserved: 2250.00 MB\n",
            "\u001b[36m(ClientAppActor pid=10247)\u001b[0m Epoch: 2/2, train loss 0.6923, accuracy 0.5613, precision 0.5663, recall 0.7708, f1-score 0.6529, epoch time: 19.8969 s, GPU Memory: Allocated: 520.09 MB, Reserved: 2250.00 MB\n",
            "\u001b[36m(ClientAppActor pid=10247)\u001b[0m Total Training Time: 38.7965 seconds\n",
            "\u001b[36m(ClientAppActor pid=10247)\u001b[0m Client fit in 38.80 seconds.\n",
            "\u001b[36m(ClientAppActor pid=10247)\u001b[0m Epoch: 1/2, train loss 0.7119, accuracy 0.5494, precision 0.5566, recall 0.9107, f1-score 0.6909, epoch time: 18.7681 s, GPU Memory: Allocated: 521.17 MB, Reserved: 2250.00 MB\n",
            "\u001b[36m(ClientAppActor pid=10247)\u001b[0m Epoch: 2/2, train loss 0.6942, accuracy 0.5531, precision 0.5531, recall 1.0000, f1-score 0.7122, epoch time: 19.8356 s, GPU Memory: Allocated: 521.17 MB, Reserved: 2250.00 MB\n",
            "\u001b[36m(ClientAppActor pid=10247)\u001b[0m Total Training Time: 38.6044 seconds\n",
            "\u001b[36m(ClientAppActor pid=10247)\u001b[0m Client fit in 38.60 seconds.\n"
          ]
        },
        {
          "output_type": "stream",
          "name": "stderr",
          "text": [
            "\u001b[92mINFO \u001b[0m:      aggregate_fit: received 5 results and 0 failures\n",
            "\u001b[93mWARNING \u001b[0m:   No fit_metrics_aggregation_fn provided\n"
          ]
        },
        {
          "output_type": "stream",
          "name": "stdout",
          "text": [
            "FedAdam - Saving round 1 aggregated_ndarrays...\n"
          ]
        },
        {
          "output_type": "stream",
          "name": "stderr",
          "text": [
            "\u001b[92mINFO \u001b[0m:      configure_evaluate: strategy sampled 5 clients (out of 5)\n"
          ]
        },
        {
          "output_type": "stream",
          "name": "stdout",
          "text": [
            "\u001b[36m(ClientAppActor pid=10247)\u001b[0m Client eval in 1.84 seconds.\n",
            "\u001b[36m(ClientAppActor pid=10247)\u001b[0m precision 1.0, recall 0.0, f1 0.0\n",
            "\u001b[36m(ClientAppActor pid=10247)\u001b[0m Client eval in 2.50 seconds.\n",
            "\u001b[36m(ClientAppActor pid=10247)\u001b[0m precision 1.0, recall 0.0, f1 0.0\n",
            "\u001b[36m(ClientAppActor pid=10247)\u001b[0m Client eval in 1.82 seconds.\n",
            "\u001b[36m(ClientAppActor pid=10247)\u001b[0m precision 1.0, recall 0.0, f1 0.0\n",
            "\u001b[36m(ClientAppActor pid=10247)\u001b[0m Client eval in 1.81 seconds.\n",
            "\u001b[36m(ClientAppActor pid=10247)\u001b[0m precision 1.0, recall 0.0, f1 0.0\n"
          ]
        },
        {
          "output_type": "stream",
          "name": "stderr",
          "text": [
            "\u001b[92mINFO \u001b[0m:      aggregate_evaluate: received 5 results and 0 failures\n",
            "\u001b[92mINFO \u001b[0m:      \n",
            "\u001b[92mINFO \u001b[0m:      [ROUND 2]\n",
            "\u001b[92mINFO \u001b[0m:      configure_fit: strategy sampled 5 clients (out of 5)\n"
          ]
        },
        {
          "output_type": "stream",
          "name": "stdout",
          "text": [
            "\u001b[36m(ClientAppActor pid=10247)\u001b[0m Client eval in 1.82 seconds.\n",
            "\u001b[36m(ClientAppActor pid=10247)\u001b[0m precision 1.0, recall 0.0, f1 0.0\n",
            "\u001b[36m(ClientAppActor pid=10247)\u001b[0m Epoch: 1/2, train loss 56.1338, accuracy 0.4387, precision 0.5714, recall 0.0176, f1-score 0.0341, epoch time: 19.9286 s, GPU Memory: Allocated: 520.09 MB, Reserved: 2250.00 MB\n",
            "\u001b[36m(ClientAppActor pid=10247)\u001b[0m Epoch: 2/2, train loss 55.8860, accuracy 0.4411, precision 0.7000, recall 0.0154, f1-score 0.0301, epoch time: 18.8687 s, GPU Memory: Allocated: 520.09 MB, Reserved: 2250.00 MB\n",
            "\u001b[36m(ClientAppActor pid=10247)\u001b[0m Total Training Time: 38.7980 seconds\n",
            "\u001b[36m(ClientAppActor pid=10247)\u001b[0m Client fit in 38.80 seconds.\n",
            "\u001b[36m(ClientAppActor pid=10247)\u001b[0m Epoch: 1/2, train loss 54.5229, accuracy 0.4548, precision 0.5574, recall 0.0761, f1-score 0.1339, epoch time: 19.8614 s, GPU Memory: Allocated: 520.09 MB, Reserved: 2250.00 MB\n",
            "\u001b[36m(ClientAppActor pid=10247)\u001b[0m Epoch: 2/2, train loss 55.1425, accuracy 0.4486, precision 0.5192, recall 0.0604, f1-score 0.1082, epoch time: 18.8764 s, GPU Memory: Allocated: 520.09 MB, Reserved: 2250.00 MB\n",
            "\u001b[36m(ClientAppActor pid=10247)\u001b[0m Total Training Time: 38.7386 seconds\n",
            "\u001b[36m(ClientAppActor pid=10247)\u001b[0m Client fit in 38.74 seconds.\n",
            "\u001b[36m(ClientAppActor pid=10247)\u001b[0m Epoch: 1/2, train loss 53.4077, accuracy 0.4659, precision 0.5200, recall 0.0600, f1-score 0.1077, epoch time: 19.8524 s, GPU Memory: Allocated: 520.09 MB, Reserved: 2250.00 MB\n",
            "\u001b[36m(ClientAppActor pid=10247)\u001b[0m Epoch: 2/2, train loss 52.1685, accuracy 0.4783, precision 0.6034, recall 0.0808, f1-score 0.1426, epoch time: 18.8627 s, GPU Memory: Allocated: 520.09 MB, Reserved: 2250.00 MB\n",
            "\u001b[36m(ClientAppActor pid=10247)\u001b[0m Total Training Time: 38.7158 seconds\n",
            "\u001b[36m(ClientAppActor pid=10247)\u001b[0m Client fit in 38.72 seconds.\n",
            "\u001b[36m(ClientAppActor pid=10247)\u001b[0m Epoch: 1/2, train loss 54.6745, accuracy 0.4523, precision 0.4342, recall 0.0764, f1-score 0.1299, epoch time: 19.8486 s, GPU Memory: Allocated: 520.09 MB, Reserved: 2250.00 MB\n",
            "\u001b[36m(ClientAppActor pid=10247)\u001b[0m Epoch: 2/2, train loss 53.1599, accuracy 0.4684, precision 0.5070, recall 0.2523, f1-score 0.3369, epoch time: 18.9180 s, GPU Memory: Allocated: 520.09 MB, Reserved: 2250.00 MB\n",
            "\u001b[36m(ClientAppActor pid=10247)\u001b[0m Total Training Time: 38.7674 seconds\n",
            "\u001b[36m(ClientAppActor pid=10247)\u001b[0m Client fit in 38.77 seconds.\n",
            "\u001b[36m(ClientAppActor pid=10247)\u001b[0m Epoch: 1/2, train loss 52.5926, accuracy 0.4741, precision 0.6897, recall 0.0893, f1-score 0.1581, epoch time: 19.8751 s, GPU Memory: Allocated: 521.17 MB, Reserved: 2250.00 MB\n",
            "\u001b[36m(ClientAppActor pid=10247)\u001b[0m Epoch: 2/2, train loss 54.3029, accuracy 0.4568, precision 0.5714, recall 0.0714, f1-score 0.1270, epoch time: 18.8069 s, GPU Memory: Allocated: 521.17 MB, Reserved: 2250.00 MB\n",
            "\u001b[36m(ClientAppActor pid=10247)\u001b[0m Total Training Time: 38.6828 seconds\n",
            "\u001b[36m(ClientAppActor pid=10247)\u001b[0m Client fit in 38.68 seconds.\n"
          ]
        },
        {
          "output_type": "stream",
          "name": "stderr",
          "text": [
            "\u001b[92mINFO \u001b[0m:      aggregate_fit: received 5 results and 0 failures\n"
          ]
        },
        {
          "output_type": "stream",
          "name": "stdout",
          "text": [
            "FedAdam - Saving round 2 aggregated_ndarrays...\n"
          ]
        },
        {
          "output_type": "stream",
          "name": "stderr",
          "text": [
            "\u001b[92mINFO \u001b[0m:      configure_evaluate: strategy sampled 5 clients (out of 5)\n"
          ]
        },
        {
          "output_type": "stream",
          "name": "stdout",
          "text": [
            "\u001b[36m(ClientAppActor pid=10247)\u001b[0m Client eval in 1.83 seconds.\n",
            "\u001b[36m(ClientAppActor pid=10247)\u001b[0m precision 1.0, recall 0.0, f1 0.0\n",
            "\u001b[36m(ClientAppActor pid=10247)\u001b[0m Client eval in 1.85 seconds.\n",
            "\u001b[36m(ClientAppActor pid=10247)\u001b[0m precision 1.0, recall 0.0, f1 0.0\n",
            "\u001b[36m(ClientAppActor pid=10247)\u001b[0m Client eval in 1.82 seconds.\n",
            "\u001b[36m(ClientAppActor pid=10247)\u001b[0m precision 1.0, recall 0.0, f1 0.0\n",
            "\u001b[36m(ClientAppActor pid=10247)\u001b[0m Client eval in 1.99 seconds.\n",
            "\u001b[36m(ClientAppActor pid=10247)\u001b[0m precision 1.0, recall 0.0, f1 0.0\n"
          ]
        },
        {
          "output_type": "stream",
          "name": "stderr",
          "text": [
            "\u001b[92mINFO \u001b[0m:      aggregate_evaluate: received 5 results and 0 failures\n",
            "\u001b[92mINFO \u001b[0m:      \n",
            "\u001b[92mINFO \u001b[0m:      [ROUND 3]\n",
            "\u001b[92mINFO \u001b[0m:      configure_fit: strategy sampled 5 clients (out of 5)\n"
          ]
        },
        {
          "output_type": "stream",
          "name": "stdout",
          "text": [
            "\u001b[36m(ClientAppActor pid=10247)\u001b[0m Client eval in 2.27 seconds.\n",
            "\u001b[36m(ClientAppActor pid=10247)\u001b[0m precision 1.0, recall 0.0, f1 0.0\n",
            "\u001b[36m(ClientAppActor pid=10247)\u001b[0m Epoch: 1/2, train loss 55.7621, accuracy 0.4424, precision 0.5714, recall 0.0440, f1-score 0.0816, epoch time: 18.8150 s, GPU Memory: Allocated: 520.09 MB, Reserved: 2250.00 MB\n",
            "\u001b[36m(ClientAppActor pid=10247)\u001b[0m Epoch: 2/2, train loss 55.1425, accuracy 0.4486, precision 0.6562, recall 0.0462, f1-score 0.0862, epoch time: 19.9716 s, GPU Memory: Allocated: 520.09 MB, Reserved: 2250.00 MB\n",
            "\u001b[36m(ClientAppActor pid=10247)\u001b[0m Total Training Time: 38.7873 seconds\n",
            "\u001b[36m(ClientAppActor pid=10247)\u001b[0m Client fit in 38.79 seconds.\n",
            "\u001b[36m(ClientAppActor pid=10247)\u001b[0m Epoch: 1/2, train loss 55.3903, accuracy 0.4461, precision 0.5000, recall 0.0380, f1-score 0.0707, epoch time: 18.9908 s, GPU Memory: Allocated: 520.09 MB, Reserved: 2250.00 MB\n",
            "\u001b[36m(ClientAppActor pid=10247)\u001b[0m Epoch: 2/2, train loss 54.5229, accuracy 0.4548, precision 0.5897, recall 0.0515, f1-score 0.0947, epoch time: 19.8545 s, GPU Memory: Allocated: 520.09 MB, Reserved: 2250.00 MB\n",
            "\u001b[36m(ClientAppActor pid=10247)\u001b[0m Total Training Time: 38.8460 seconds\n",
            "\u001b[36m(ClientAppActor pid=10247)\u001b[0m Client fit in 38.85 seconds.\n",
            "\u001b[36m(ClientAppActor pid=10247)\u001b[0m Epoch: 1/2, train loss 52.1685, accuracy 0.4783, precision 0.6667, recall 0.0554, f1-score 0.1023, epoch time: 18.9230 s, GPU Memory: Allocated: 520.09 MB, Reserved: 2250.00 MB\n",
            "\u001b[36m(ClientAppActor pid=10247)\u001b[0m Epoch: 2/2, train loss 54.1512, accuracy 0.4585, precision 0.4231, recall 0.0254, f1-score 0.0479, epoch time: 19.7988 s, GPU Memory: Allocated: 520.09 MB, Reserved: 2250.00 MB\n",
            "\u001b[36m(ClientAppActor pid=10247)\u001b[0m Total Training Time: 38.7226 seconds\n",
            "\u001b[36m(ClientAppActor pid=10247)\u001b[0m Client fit in 38.72 seconds.\n",
            "\u001b[36m(ClientAppActor pid=10247)\u001b[0m Epoch: 1/2, train loss 52.5403, accuracy 0.4746, precision 0.5952, recall 0.0579, f1-score 0.1055, epoch time: 18.8297 s, GPU Memory: Allocated: 520.09 MB, Reserved: 2250.00 MB\n",
            "\u001b[36m(ClientAppActor pid=10247)\u001b[0m Epoch: 2/2, train loss 51.6729, accuracy 0.4833, precision 0.6923, recall 0.0625, f1-score 0.1146, epoch time: 19.8503 s, GPU Memory: Allocated: 520.09 MB, Reserved: 2250.00 MB\n",
            "\u001b[36m(ClientAppActor pid=10247)\u001b[0m Total Training Time: 38.6807 seconds\n",
            "\u001b[36m(ClientAppActor pid=10247)\u001b[0m Client fit in 38.68 seconds.\n",
            "\u001b[36m(ClientAppActor pid=10247)\u001b[0m Epoch: 1/2, train loss 54.6914, accuracy 0.4531, precision 0.5676, recall 0.0469, f1-score 0.0866, epoch time: 18.8445 s, GPU Memory: Allocated: 521.17 MB, Reserved: 2250.00 MB\n",
            "\u001b[36m(ClientAppActor pid=10247)\u001b[0m Epoch: 2/2, train loss 53.8272, accuracy 0.4617, precision 0.6667, recall 0.0536, f1-score 0.0992, epoch time: 19.8101 s, GPU Memory: Allocated: 521.17 MB, Reserved: 2250.00 MB\n",
            "\u001b[36m(ClientAppActor pid=10247)\u001b[0m Total Training Time: 38.6555 seconds\n",
            "\u001b[36m(ClientAppActor pid=10247)\u001b[0m Client fit in 38.66 seconds.\n"
          ]
        },
        {
          "output_type": "stream",
          "name": "stderr",
          "text": [
            "\u001b[92mINFO \u001b[0m:      aggregate_fit: received 5 results and 0 failures\n"
          ]
        },
        {
          "output_type": "stream",
          "name": "stdout",
          "text": [
            "FedAdam - Saving round 3 aggregated_ndarrays...\n"
          ]
        },
        {
          "output_type": "stream",
          "name": "stderr",
          "text": [
            "\u001b[92mINFO \u001b[0m:      configure_evaluate: strategy sampled 5 clients (out of 5)\n"
          ]
        },
        {
          "output_type": "stream",
          "name": "stdout",
          "text": [
            "\u001b[36m(ClientAppActor pid=10247)\u001b[0m Client eval in 1.84 seconds.\n",
            "\u001b[36m(ClientAppActor pid=10247)\u001b[0m precision 1.0, recall 0.0, f1 0.0\n",
            "\u001b[36m(ClientAppActor pid=10247)\u001b[0m Client eval in 2.77 seconds.\n",
            "\u001b[36m(ClientAppActor pid=10247)\u001b[0m precision 1.0, recall 0.0, f1 0.0\n",
            "\u001b[36m(ClientAppActor pid=10247)\u001b[0m Client eval in 1.83 seconds.\n",
            "\u001b[36m(ClientAppActor pid=10247)\u001b[0m precision 1.0, recall 0.0, f1 0.0\n",
            "\u001b[36m(ClientAppActor pid=10247)\u001b[0m Client eval in 1.80 seconds.\n",
            "\u001b[36m(ClientAppActor pid=10247)\u001b[0m precision 1.0, recall 0.0, f1 0.0\n"
          ]
        },
        {
          "output_type": "stream",
          "name": "stderr",
          "text": [
            "\u001b[92mINFO \u001b[0m:      aggregate_evaluate: received 5 results and 0 failures\n",
            "\u001b[92mINFO \u001b[0m:      \n",
            "\u001b[92mINFO \u001b[0m:      [ROUND 4]\n",
            "\u001b[92mINFO \u001b[0m:      configure_fit: strategy sampled 5 clients (out of 5)\n"
          ]
        },
        {
          "output_type": "stream",
          "name": "stdout",
          "text": [
            "\u001b[36m(ClientAppActor pid=10247)\u001b[0m Client eval in 1.84 seconds.\n",
            "\u001b[36m(ClientAppActor pid=10247)\u001b[0m precision 1.0, recall 0.0, f1 0.0\n",
            "\u001b[36m(ClientAppActor pid=10247)\u001b[0m Epoch: 1/2, train loss 56.2577, accuracy 0.4374, precision 0.5152, recall 0.0374, f1-score 0.0697, epoch time: 19.9779 s, GPU Memory: Allocated: 520.09 MB, Reserved: 2250.00 MB\n",
            "\u001b[36m(ClientAppActor pid=10247)\u001b[0m Epoch: 2/2, train loss 56.0099, accuracy 0.4399, precision 0.5484, recall 0.0374, f1-score 0.0700, epoch time: 19.0004 s, GPU Memory: Allocated: 520.09 MB, Reserved: 2250.00 MB\n",
            "\u001b[36m(ClientAppActor pid=10247)\u001b[0m Total Training Time: 38.9793 seconds\n",
            "\u001b[36m(ClientAppActor pid=10247)\u001b[0m Client fit in 38.98 seconds.\n",
            "\u001b[36m(ClientAppActor pid=10247)\u001b[0m Epoch: 1/2, train loss 54.7708, accuracy 0.4523, precision 0.5758, recall 0.0425, f1-score 0.0792, epoch time: 19.8743 s, GPU Memory: Allocated: 520.09 MB, Reserved: 2250.00 MB\n",
            "\u001b[36m(ClientAppActor pid=10247)\u001b[0m Epoch: 2/2, train loss 55.3903, accuracy 0.4461, precision 0.5000, recall 0.0358, f1-score 0.0668, epoch time: 18.8559 s, GPU Memory: Allocated: 520.09 MB, Reserved: 2250.00 MB\n",
            "\u001b[36m(ClientAppActor pid=10247)\u001b[0m Total Training Time: 38.7311 seconds\n",
            "\u001b[36m(ClientAppActor pid=10247)\u001b[0m Client fit in 38.73 seconds.\n",
            "\u001b[36m(ClientAppActor pid=10247)\u001b[0m Epoch: 1/2, train loss 53.6555, accuracy 0.4634, precision 0.5000, recall 0.0439, f1-score 0.0807, epoch time: 20.0854 s, GPU Memory: Allocated: 520.09 MB, Reserved: 2250.00 MB\n",
            "\u001b[36m(ClientAppActor pid=10247)\u001b[0m Epoch: 2/2, train loss 54.0273, accuracy 0.4597, precision 0.4444, recall 0.0277, f1-score 0.0522, epoch time: 19.2262 s, GPU Memory: Allocated: 520.09 MB, Reserved: 2250.00 MB\n",
            "\u001b[36m(ClientAppActor pid=10247)\u001b[0m Total Training Time: 39.3123 seconds\n",
            "\u001b[36m(ClientAppActor pid=10247)\u001b[0m Client fit in 39.31 seconds.\n",
            "\u001b[36m(ClientAppActor pid=10247)\u001b[0m Epoch: 1/2, train loss 54.6468, accuracy 0.4535, precision 0.3333, recall 0.0208, f1-score 0.0392, epoch time: 19.7064 s, GPU Memory: Allocated: 520.09 MB, Reserved: 2250.00 MB\n",
            "\u001b[36m(ClientAppActor pid=10247)\u001b[0m Epoch: 2/2, train loss 52.9120, accuracy 0.4709, precision 0.5862, recall 0.0394, f1-score 0.0738, epoch time: 18.9885 s, GPU Memory: Allocated: 520.09 MB, Reserved: 2250.00 MB\n",
            "\u001b[36m(ClientAppActor pid=10247)\u001b[0m Total Training Time: 38.6958 seconds\n",
            "\u001b[36m(ClientAppActor pid=10247)\u001b[0m Client fit in 38.70 seconds.\n",
            "\u001b[36m(ClientAppActor pid=10247)\u001b[0m Epoch: 1/2, train loss 53.7037, accuracy 0.4630, precision 0.6857, recall 0.0536, f1-score 0.0994, epoch time: 19.2985 s, GPU Memory: Allocated: 521.17 MB, Reserved: 2250.00 MB\n",
            "\u001b[36m(ClientAppActor pid=10247)\u001b[0m Epoch: 2/2, train loss 55.3086, accuracy 0.4469, precision 0.5000, recall 0.0335, f1-score 0.0628, epoch time: 19.0421 s, GPU Memory: Allocated: 521.17 MB, Reserved: 2250.00 MB\n",
            "\u001b[36m(ClientAppActor pid=10247)\u001b[0m Total Training Time: 38.3416 seconds\n",
            "\u001b[36m(ClientAppActor pid=10247)\u001b[0m Client fit in 38.34 seconds.\n"
          ]
        },
        {
          "output_type": "stream",
          "name": "stderr",
          "text": [
            "\u001b[92mINFO \u001b[0m:      aggregate_fit: received 5 results and 0 failures\n"
          ]
        },
        {
          "output_type": "stream",
          "name": "stdout",
          "text": [
            "FedAdam - Saving round 4 aggregated_ndarrays...\n"
          ]
        },
        {
          "output_type": "stream",
          "name": "stderr",
          "text": [
            "\u001b[92mINFO \u001b[0m:      configure_evaluate: strategy sampled 5 clients (out of 5)\n"
          ]
        },
        {
          "output_type": "stream",
          "name": "stdout",
          "text": [
            "\u001b[36m(ClientAppActor pid=10247)\u001b[0m Client eval in 1.83 seconds.\n",
            "\u001b[36m(ClientAppActor pid=10247)\u001b[0m precision 1.0, recall 0.0, f1 0.0\n",
            "\u001b[36m(ClientAppActor pid=10247)\u001b[0m Client eval in 1.82 seconds.\n",
            "\u001b[36m(ClientAppActor pid=10247)\u001b[0m precision 1.0, recall 0.0, f1 0.0\n",
            "\u001b[36m(ClientAppActor pid=10247)\u001b[0m Client eval in 1.83 seconds.\n",
            "\u001b[36m(ClientAppActor pid=10247)\u001b[0m precision 1.0, recall 0.0, f1 0.0\n",
            "\u001b[36m(ClientAppActor pid=10247)\u001b[0m Client eval in 2.78 seconds.\n",
            "\u001b[36m(ClientAppActor pid=10247)\u001b[0m precision 1.0, recall 0.0, f1 0.0\n"
          ]
        },
        {
          "output_type": "stream",
          "name": "stderr",
          "text": [
            "\u001b[92mINFO \u001b[0m:      aggregate_evaluate: received 5 results and 0 failures\n",
            "\u001b[92mINFO \u001b[0m:      \n",
            "\u001b[92mINFO \u001b[0m:      [ROUND 5]\n",
            "\u001b[92mINFO \u001b[0m:      configure_fit: strategy sampled 5 clients (out of 5)\n"
          ]
        },
        {
          "output_type": "stream",
          "name": "stdout",
          "text": [
            "\u001b[36m(ClientAppActor pid=10247)\u001b[0m Client eval in 1.83 seconds.\n",
            "\u001b[36m(ClientAppActor pid=10247)\u001b[0m precision 1.0, recall 0.0, f1 0.0\n",
            "\u001b[36m(ClientAppActor pid=10247)\u001b[0m Epoch: 1/2, train loss 55.8860, accuracy 0.4411, precision 0.5714, recall 0.0352, f1-score 0.0663, epoch time: 18.8270 s, GPU Memory: Allocated: 520.09 MB, Reserved: 2250.00 MB\n",
            "\u001b[36m(ClientAppActor pid=10247)\u001b[0m Epoch: 2/2, train loss 56.2577, accuracy 0.4374, precision 0.5152, recall 0.0374, f1-score 0.0697, epoch time: 19.7923 s, GPU Memory: Allocated: 520.09 MB, Reserved: 2250.00 MB\n",
            "\u001b[36m(ClientAppActor pid=10247)\u001b[0m Total Training Time: 38.6200 seconds\n",
            "\u001b[36m(ClientAppActor pid=10247)\u001b[0m Client fit in 38.62 seconds.\n",
            "\u001b[36m(ClientAppActor pid=10247)\u001b[0m Epoch: 1/2, train loss 55.1425, accuracy 0.4486, precision 0.5312, recall 0.0380, f1-score 0.0710, epoch time: 18.7535 s, GPU Memory: Allocated: 520.09 MB, Reserved: 2250.00 MB\n",
            "\u001b[36m(ClientAppActor pid=10247)\u001b[0m Epoch: 2/2, train loss 54.7708, accuracy 0.4523, precision 0.6000, recall 0.0336, f1-score 0.0636, epoch time: 20.1430 s, GPU Memory: Allocated: 520.09 MB, Reserved: 2250.00 MB\n",
            "\u001b[36m(ClientAppActor pid=10247)\u001b[0m Total Training Time: 38.8973 seconds\n",
            "\u001b[36m(ClientAppActor pid=10247)\u001b[0m Client fit in 38.90 seconds.\n",
            "\u001b[36m(ClientAppActor pid=10247)\u001b[0m Epoch: 1/2, train loss 52.6642, accuracy 0.4734, precision 0.6053, recall 0.0531, f1-score 0.0977, epoch time: 21.5890 s, GPU Memory: Allocated: 520.09 MB, Reserved: 2250.00 MB\n",
            "\u001b[36m(ClientAppActor pid=10247)\u001b[0m Epoch: 2/2, train loss 52.9120, accuracy 0.4709, precision 0.5750, recall 0.0531, f1-score 0.0973, epoch time: 18.8638 s, GPU Memory: Allocated: 520.09 MB, Reserved: 2250.00 MB\n",
            "\u001b[36m(ClientAppActor pid=10247)\u001b[0m Total Training Time: 40.4537 seconds\n",
            "\u001b[36m(ClientAppActor pid=10247)\u001b[0m Client fit in 40.45 seconds.\n",
            "\u001b[36m(ClientAppActor pid=10247)\u001b[0m Epoch: 1/2, train loss 53.1599, accuracy 0.4684, precision 0.5714, recall 0.0278, f1-score 0.0530, epoch time: 19.7354 s, GPU Memory: Allocated: 520.09 MB, Reserved: 2250.00 MB\n",
            "\u001b[36m(ClientAppActor pid=10247)\u001b[0m Epoch: 2/2, train loss 52.9120, accuracy 0.4709, precision 0.5926, recall 0.0370, f1-score 0.0697, epoch time: 20.6491 s, GPU Memory: Allocated: 520.09 MB, Reserved: 2250.00 MB\n",
            "\u001b[36m(ClientAppActor pid=10247)\u001b[0m Total Training Time: 40.3853 seconds\n",
            "\u001b[36m(ClientAppActor pid=10247)\u001b[0m Client fit in 40.39 seconds.\n",
            "\u001b[36m(ClientAppActor pid=10247)\u001b[0m Epoch: 1/2, train loss 54.5679, accuracy 0.4543, precision 0.5833, recall 0.0469, f1-score 0.0868, epoch time: 22.0721 s, GPU Memory: Allocated: 521.17 MB, Reserved: 2250.00 MB\n",
            "\u001b[36m(ClientAppActor pid=10247)\u001b[0m Epoch: 2/2, train loss 55.3086, accuracy 0.4469, precision 0.5000, recall 0.0379, f1-score 0.0705, epoch time: 19.6467 s, GPU Memory: Allocated: 521.17 MB, Reserved: 2250.00 MB\n",
            "\u001b[36m(ClientAppActor pid=10247)\u001b[0m Total Training Time: 41.7198 seconds\n",
            "\u001b[36m(ClientAppActor pid=10247)\u001b[0m Client fit in 41.72 seconds.\n"
          ]
        },
        {
          "output_type": "stream",
          "name": "stderr",
          "text": [
            "\u001b[92mINFO \u001b[0m:      aggregate_fit: received 5 results and 0 failures\n"
          ]
        },
        {
          "output_type": "stream",
          "name": "stdout",
          "text": [
            "FedAdam - Saving round 5 aggregated_ndarrays...\n"
          ]
        },
        {
          "output_type": "stream",
          "name": "stderr",
          "text": [
            "\u001b[92mINFO \u001b[0m:      configure_evaluate: strategy sampled 5 clients (out of 5)\n"
          ]
        },
        {
          "output_type": "stream",
          "name": "stdout",
          "text": [
            "\u001b[36m(ClientAppActor pid=10247)\u001b[0m Client eval in 1.89 seconds.\n",
            "\u001b[36m(ClientAppActor pid=10247)\u001b[0m precision 1.0, recall 0.0, f1 0.0\n",
            "\u001b[36m(ClientAppActor pid=10247)\u001b[0m Client eval in 1.83 seconds.\n",
            "\u001b[36m(ClientAppActor pid=10247)\u001b[0m precision 1.0, recall 0.0, f1 0.0\n",
            "\u001b[36m(ClientAppActor pid=10247)\u001b[0m Client eval in 1.82 seconds.\n",
            "\u001b[36m(ClientAppActor pid=10247)\u001b[0m precision 1.0, recall 0.0, f1 0.0\n",
            "\u001b[36m(ClientAppActor pid=10247)\u001b[0m Client eval in 2.70 seconds.\n",
            "\u001b[36m(ClientAppActor pid=10247)\u001b[0m precision 1.0, recall 0.0, f1 0.0\n"
          ]
        },
        {
          "output_type": "stream",
          "name": "stderr",
          "text": [
            "\u001b[92mINFO \u001b[0m:      aggregate_evaluate: received 5 results and 0 failures\n",
            "\u001b[92mINFO \u001b[0m:      \n",
            "\u001b[92mINFO \u001b[0m:      [SUMMARY]\n",
            "\u001b[92mINFO \u001b[0m:      Run finished 5 round(s) in 1103.97s\n",
            "\u001b[92mINFO \u001b[0m:      \tHistory (loss, distributed):\n",
            "\u001b[92mINFO \u001b[0m:      \t\tround 1: 54.94382041121541\n",
            "\u001b[92mINFO \u001b[0m:      \t\tround 2: 54.94382041121541\n",
            "\u001b[92mINFO \u001b[0m:      \t\tround 3: 54.94382041121541\n",
            "\u001b[92mINFO \u001b[0m:      \t\tround 4: 54.943820411215405\n",
            "\u001b[92mINFO \u001b[0m:      \t\tround 5: 54.943820411215405\n",
            "\u001b[92mINFO \u001b[0m:      \tHistory (metrics, distributed, evaluate):\n",
            "\u001b[92mINFO \u001b[0m:      \t{'accuracy': [(1, 0.45056179775280897),\n",
            "\u001b[92mINFO \u001b[0m:      \t              (2, 0.45056179775280897),\n",
            "\u001b[92mINFO \u001b[0m:      \t              (3, 0.45056179775280897),\n",
            "\u001b[92mINFO \u001b[0m:      \t              (4, 0.45056179775280897),\n",
            "\u001b[92mINFO \u001b[0m:      \t              (5, 0.45056179775280897)]}\n",
            "\u001b[92mINFO \u001b[0m:      \n"
          ]
        },
        {
          "output_type": "stream",
          "name": "stdout",
          "text": [
            "\u001b[36m(ClientAppActor pid=10247)\u001b[0m Client eval in 1.84 seconds.\n",
            "\u001b[36m(ClientAppActor pid=10247)\u001b[0m precision 1.0, recall 0.0, f1 0.0\n"
          ]
        }
      ]
    },
    {
      "cell_type": "code",
      "source": [
        "#Estimates the size of a PyTorch model in bytes\n",
        "def estimate_model_size(model):\n",
        "    \"\"\"Estimates the size of a PyTorch model in bytes.\"\"\"\n",
        "    param_size = 0\n",
        "    for param in model.parameters():\n",
        "        param_size += param.numel() * param.element_size()\n",
        "    buffer_size = 0\n",
        "    for buffer in model.buffers():\n",
        "        buffer_size += buffer.numel() * buffer.element_size()\n",
        "    return param_size + buffer_size\n",
        "\n",
        "binary_model = NetNIH().to(DEVICE)\n",
        "model_size_bytes = estimate_model_size(binary_model)\n",
        "model_size_mb = model_size_bytes / (1024 * 1024)\n",
        "num_rounds = 5\n",
        "num_clients = NUM_CLIENTS\n",
        "\n",
        "uplink_per_round_bytes = num_clients * model_size_bytes\n",
        "downlink_per_round_bytes = num_clients * model_size_bytes\n",
        "total_uplink_bytes = num_rounds * uplink_per_round_bytes\n",
        "total_downlink_bytes = num_rounds * downlink_per_round_bytes\n",
        "total_communication_bytes = total_uplink_bytes + total_downlink_bytes\n",
        "\n",
        "uplink_mb = total_uplink_bytes / (1024 * 1024)\n",
        "downlink_mb = total_downlink_bytes / (1024 * 1024)\n",
        "total_mb = total_communication_bytes / (1024 * 1024)\n",
        "\n",
        "print(\"\\n--- Federated Learning Communication Overhead Estimation ---\")\n",
        "print(f\"Estimated model size: {model_size_mb:.2f} MB\")\n",
        "print(f\"Number of clients: {num_clients}\")\n",
        "print(f\"Number of rounds: {num_rounds}\")\n",
        "print(f\"Estimated uplink communication (total): {uplink_mb:.2f} MB\")\n",
        "print(f\"Estimated downlink communication (total): {downlink_mb:.2f} MB\")\n",
        "print(f\"Estimated total communication: {total_mb:.2f} MB\")"
      ],
      "metadata": {
        "colab": {
          "base_uri": "https://localhost:8080/"
        },
        "id": "7BgdPH-NeIoq",
        "outputId": "3ebfcf4a-b2d0-4464-d020-5bc137b88597"
      },
      "execution_count": null,
      "outputs": [
        {
          "output_type": "stream",
          "name": "stdout",
          "text": [
            "\n",
            "--- Federated Learning Communication Overhead Estimation ---\n",
            "Estimated model size: 99.73 MB\n",
            "Number of clients: 5\n",
            "Number of rounds: 5\n",
            "Estimated uplink communication (total): 2493.37 MB\n",
            "Estimated downlink communication (total): 2493.37 MB\n",
            "Estimated total communication: 4986.73 MB\n"
          ]
        }
      ]
    },
    {
      "cell_type": "code",
      "source": [
        "from torch.utils.data import DataLoader\n",
        "from torchvision import transforms\n",
        "\n",
        "transform = transforms.Compose([\n",
        "    transforms.Resize((224, 224)),\n",
        "    transforms.ToTensor(),\n",
        "    transforms.Normalize(mean=[0.485, 0.456, 0.406], std=[0.229, 0.224, 0.225])\n",
        "])\n",
        "\n",
        "# Create the full centralized train dataset\n",
        "central_trainset = CXRDataset(train_df, \"./nih_images/train/\", transform=transform)\n",
        "\n",
        "# Create the full test dataset\n",
        "central_testset = CXRDataset(test_df, \"./nih_images/test/\", transform=transform)\n",
        "\n",
        "# Now, DataLoaders\n",
        "central_train_loader = DataLoader(central_trainset, batch_size=BATCH_SIZE, shuffle=False)\n",
        "test_loader = DataLoader(central_testset, batch_size=BATCH_SIZE, shuffle=False)\n",
        "\n",
        "# Step 1: Rebuild model\n",
        "global_model = NetNIH().to(DEVICE)\n",
        "\n",
        "# Step 2: Load saved weights\n",
        "global_model_fp = load_weights_into_model(global_model, \"/content/FedAdam - round-5-weights.npz\")\n",
        "\n",
        "# Step 3: Run MIA\n",
        "mia_auc = run_membership_inference_attack(global_model_fp, central_train_loader, test_loader)\n",
        "print(f\"Membership Inference Attack AUC: {mia_auc:.4f}\")"
      ],
      "metadata": {
        "id": "1_DRmj6z4d42",
        "colab": {
          "base_uri": "https://localhost:8080/"
        },
        "outputId": "5e92a661-1090-4840-920c-d8955be889ba"
      },
      "execution_count": null,
      "outputs": [
        {
          "output_type": "stream",
          "name": "stdout",
          "text": [
            "Loaded weights from /content/FedAdam - round-5-weights.npz into model successfully.\n",
            "[Privacy Risk] Membership Inference Attack AUC: 0.5000\n",
            "Membership Inference Attack AUC: 0.5000\n"
          ]
        }
      ]
    },
    {
      "cell_type": "code",
      "source": [],
      "metadata": {
        "id": "IVIdCiUyzeKN"
      },
      "execution_count": null,
      "outputs": []
    },
    {
      "cell_type": "markdown",
      "source": [
        "## 3. Fed Adam-DP"
      ],
      "metadata": {
        "id": "UDgaiiSqNA10"
      }
    },
    {
      "cell_type": "code",
      "source": [
        "#Functions to get parameters and set parameters\n",
        "def set_parameters(net, parameters: List[np.ndarray]):\n",
        "    params_dict = zip(net.state_dict().keys(), parameters)\n",
        "    state_dict = OrderedDict({k: torch.Tensor(v) for k, v in params_dict})\n",
        "    net.load_state_dict(state_dict, strict=True)\n",
        "\n",
        "def get_parameters(net) -> List[np.ndarray]:\n",
        "    return [val.cpu().numpy() for _, val in net.state_dict().items()]"
      ],
      "metadata": {
        "id": "I7l8JjvyNA11"
      },
      "execution_count": 26,
      "outputs": []
    },
    {
      "cell_type": "code",
      "source": [
        "#Define Client class for FedAdams\n",
        "class FDClient(NumPyClient):\n",
        "    def __init__(self, net, trainloader, valloader):\n",
        "        self.net = net\n",
        "        self.trainloader = trainloader\n",
        "        self.valloader = valloader\n",
        "        self.global_params = None\n",
        "\n",
        "    def get_parameters(self, config):\n",
        "        return get_parameters(self.net)\n",
        "\n",
        "    def fit(self, parameters, config):\n",
        "        set_parameters(self.net, parameters)\n",
        "        self.global_params = copy.deepcopy(self.net).parameters()\n",
        "        fit_start_time = time.time()\n",
        "        train(self.net, self.trainloader, epochs=2, strategy=\"fed\", global_params=self.global_params) #train\n",
        "        fit_end_time = time.time()\n",
        "        fit_duration = fit_end_time - fit_start_time\n",
        "        print(f\"Client fit in {fit_duration:.2f} seconds.\")\n",
        "        return get_parameters(self.net), len(self.trainloader), {}\n",
        "\n",
        "    def evaluate(self, parameters, config):\n",
        "        set_parameters(self.net, parameters)\n",
        "        eval_start_time = time.time()\n",
        "        loss, accuracy, precision, recall, f1  = test(self.net, self.valloader)\n",
        "        eval_end_time = time.time()\n",
        "        eval_duration = eval_end_time - eval_start_time\n",
        "        print(f\"Client eval in {eval_duration:.2f} seconds.\")\n",
        "        print(f\"precision {precision}, recall {recall}, f1 {f1}\")\n",
        "        return float(loss), len(self.valloader), {\"accuracy\": float(accuracy)}"
      ],
      "metadata": {
        "id": "TPeYPv24NA11"
      },
      "execution_count": 27,
      "outputs": []
    },
    {
      "cell_type": "code",
      "source": [
        "#Create a Flower client representing a single organization\n",
        "def client_fn(context: Context) -> Client:\n",
        "    net = NetNIH().to(DEVICE)\n",
        "    partition_id = context.node_config[\"partition-id\"]\n",
        "    trainloader, valloader, _ = load_datasets(partition_id=partition_id)\n",
        "    return FDClient(net, trainloader, valloader).to_client()\n",
        "\n",
        "\n",
        "FDclient = ClientApp(client_fn=client_fn)"
      ],
      "metadata": {
        "id": "KES4_mX3NA11"
      },
      "execution_count": 28,
      "outputs": []
    },
    {
      "cell_type": "code",
      "source": [
        "def weighted_average(metrics: List[Tuple[int, Metrics]]) -> Metrics:\n",
        "    accuracies = [num_examples * m[\"accuracy\"] for num_examples, m in metrics]\n",
        "    examples = [num_examples for num_examples, _ in metrics]\n",
        "\n",
        "    return {\"accuracy\": sum(accuracies) / sum(examples)}"
      ],
      "metadata": {
        "id": "hqb5ZcEwNA11"
      },
      "execution_count": 29,
      "outputs": []
    },
    {
      "cell_type": "code",
      "source": [
        "#Saves the final model and retrieves model parameters\n",
        "class SaveModelStrategy(flwr.server.strategy.FedAdam):\n",
        "    def aggregate_fit(\n",
        "        self,\n",
        "        server_round,\n",
        "        results,\n",
        "        failures,\n",
        "    ):\n",
        "\n",
        "        # Call aggregate_fit from base class (FedAdam) to aggregate parameters and metrics\n",
        "        aggregated_parameters, aggregated_metrics = super().aggregate_fit(\n",
        "            server_round, results, failures\n",
        "        )\n",
        "\n",
        "        if aggregated_parameters is not None:\n",
        "            aggregated_ndarrays: list[np.ndarray] = flwr.common.parameters_to_ndarrays(\n",
        "                aggregated_parameters\n",
        "            )\n",
        "\n",
        "            print(f\"FedAdam-DP - Saving round {server_round} aggregated_ndarrays...\")\n",
        "            np.savez(f\"FedAdam-DP - round-{server_round}-weights.npz\", *aggregated_ndarrays)\n",
        "\n",
        "        return aggregated_parameters, aggregated_metrics\n",
        "\n",
        "\n",
        "# Create strategy and pass into ServerApp\n",
        "def server_fn(context):\n",
        "    config = ServerConfig(num_rounds=5)\n",
        "    initial_net = NetNIH().to(DEVICE)\n",
        "    initial_params = get_parameters(initial_net)\n",
        "    tensors_as_bytes = [ndarray_to_bytes(ndarray) for ndarray in initial_params]\n",
        "    initial_parameters = Parameters(tensors=tensors_as_bytes, tensor_type=\"numpy.ndarray\")\n",
        "\n",
        "    FDstrategy = SaveModelStrategy(\n",
        "        fraction_fit=1.0,  # Sample 100% of available clients for training\n",
        "        fraction_evaluate=1.0,  # Sample 50% of available clients for evaluation\n",
        "        min_fit_clients=5,  # Never sample less than 5 clients for training\n",
        "        min_evaluate_clients=5,  # Never sample less than 5 clients for evaluation\n",
        "        min_available_clients=5,  # Wait until all 5 clients are available\n",
        "        evaluate_metrics_aggregation_fn=weighted_average, # metric aggregation function\n",
        "        initial_parameters=initial_parameters\n",
        "    )\n",
        "    # === Wrap in client-side DP fixed clipping ===\n",
        "    dp_strategy = DifferentialPrivacyClientSideFixedClipping(\n",
        "        FDstrategy,\n",
        "        noise_multiplier=1.0,    # σ (tune as needed)\n",
        "        clipping_norm=1.0,       # C (tune as needed)\n",
        "        num_sampled_clients=5,   # number of clients per round\n",
        "    )\n",
        "\n",
        "    return ServerAppComponents(strategy=dp_strategy, config=config)\n",
        "\n",
        "\n",
        "FDserver = ServerApp(server_fn=server_fn)"
      ],
      "metadata": {
        "id": "Nn2Bj31PNA11"
      },
      "execution_count": 30,
      "outputs": []
    },
    {
      "cell_type": "code",
      "source": [
        "backend_config = {\"client_resources\": {\"num_cpus\": 1, \"num_gpus\": 0.0}}\n",
        "if DEVICE == \"cuda\":\n",
        "    backend_config = {\"client_resources\": {\"num_cpus\": 1, \"num_gpus\": 1.0}}"
      ],
      "metadata": {
        "id": "ismNMjgzNA11"
      },
      "execution_count": 31,
      "outputs": []
    },
    {
      "cell_type": "code",
      "source": [
        "# Run FL simulation\n",
        "run_simulation(\n",
        "    server_app=FDserver,\n",
        "    client_app=FDclient,\n",
        "    num_supernodes=NUM_CLIENTS,\n",
        "    backend_config=backend_config,\n",
        ")"
      ],
      "metadata": {
        "colab": {
          "base_uri": "https://localhost:8080/"
        },
        "outputId": "0200db53-8b79-45c1-d1ac-9d444a93b573",
        "id": "IXofT1EnNA11"
      },
      "execution_count": 32,
      "outputs": [
        {
          "output_type": "stream",
          "name": "stderr",
          "text": [
            "DEBUG:flwr:Asyncio event loop already running.\n",
            "\u001b[92mINFO \u001b[0m:      Starting Flower ServerApp, config: num_rounds=5, no round_timeout\n",
            "\u001b[92mINFO \u001b[0m:      \n",
            "\u001b[92mINFO \u001b[0m:      [INIT]\n",
            "\u001b[92mINFO \u001b[0m:      Using initial global parameters provided by strategy\n",
            "\u001b[92mINFO \u001b[0m:      Starting evaluation of initial global parameters\n",
            "\u001b[92mINFO \u001b[0m:      Evaluation returned no results (`None`)\n",
            "\u001b[92mINFO \u001b[0m:      \n",
            "\u001b[92mINFO \u001b[0m:      [ROUND 1]\n",
            "\u001b[92mINFO \u001b[0m:      configure_fit: strategy sampled 5 clients (out of 5)\n",
            "\u001b[36m(pid=50061)\u001b[0m 2025-04-26 03:59:35.334373: E external/local_xla/xla/stream_executor/cuda/cuda_fft.cc:477] Unable to register cuFFT factory: Attempting to register factory for plugin cuFFT when one has already been registered\n",
            "\u001b[36m(pid=50061)\u001b[0m WARNING: All log messages before absl::InitializeLog() is called are written to STDERR\n",
            "\u001b[36m(pid=50061)\u001b[0m E0000 00:00:1745639975.356389   50061 cuda_dnn.cc:8310] Unable to register cuDNN factory: Attempting to register factory for plugin cuDNN when one has already been registered\n",
            "\u001b[36m(pid=50061)\u001b[0m E0000 00:00:1745639975.362616   50061 cuda_blas.cc:1418] Unable to register cuBLAS factory: Attempting to register factory for plugin cuBLAS when one has already been registered\n"
          ]
        },
        {
          "output_type": "stream",
          "name": "stdout",
          "text": [
            "\u001b[36m(ClientAppActor pid=50061)\u001b[0m Epoch: 1/2, train loss 0.7045, accuracy 0.5601, precision 0.5643, recall 0.9648, f1-score 0.7121, epoch time: 21.6118 s, GPU Memory: Allocated: 519.50 MB, Reserved: 2250.00 MB\n",
            "\u001b[36m(ClientAppActor pid=50061)\u001b[0m Epoch: 2/2, train loss 0.6950, accuracy 0.5651, precision 0.5645, recall 1.0000, f1-score 0.7216, epoch time: 19.5627 s, GPU Memory: Allocated: 519.50 MB, Reserved: 2250.00 MB\n",
            "\u001b[36m(ClientAppActor pid=50061)\u001b[0m Total Training Time: 41.1753 seconds\n",
            "\u001b[36m(ClientAppActor pid=50061)\u001b[0m Client fit in 41.18 seconds.\n",
            "\u001b[36m(ClientAppActor pid=50061)\u001b[0m Epoch: 1/2, train loss 0.6970, accuracy 0.5502, precision 0.5548, recall 0.9508, f1-score 0.7007, epoch time: 21.0954 s, GPU Memory: Allocated: 520.09 MB, Reserved: 2250.00 MB\n",
            "\u001b[36m(ClientAppActor pid=50061)\u001b[0m Epoch: 2/2, train loss 0.6898, accuracy 0.5527, precision 0.5550, recall 0.9709, f1-score 0.7063, epoch time: 19.1182 s, GPU Memory: Allocated: 520.09 MB, Reserved: 2250.00 MB\n",
            "\u001b[36m(ClientAppActor pid=50061)\u001b[0m Total Training Time: 40.2144 seconds\n",
            "\u001b[36m(ClientAppActor pid=50061)\u001b[0m Client fit in 40.22 seconds.\n",
            "\u001b[36m(ClientAppActor pid=50061)\u001b[0m Epoch: 1/2, train loss 0.7097, accuracy 0.5242, precision 0.5319, recall 0.9423, f1-score 0.6800, epoch time: 21.1969 s, GPU Memory: Allocated: 520.09 MB, Reserved: 2250.00 MB\n",
            "\u001b[36m(ClientAppActor pid=50061)\u001b[0m Epoch: 2/2, train loss 0.6862, accuracy 0.5366, precision 0.5366, recall 1.0000, f1-score 0.6984, epoch time: 19.7492 s, GPU Memory: Allocated: 520.09 MB, Reserved: 2250.00 MB\n",
            "\u001b[36m(ClientAppActor pid=50061)\u001b[0m Total Training Time: 40.9470 seconds\n",
            "\u001b[36m(ClientAppActor pid=50061)\u001b[0m Client fit in 40.95 seconds.\n",
            "\u001b[36m(ClientAppActor pid=50061)\u001b[0m Epoch: 1/2, train loss 0.6941, accuracy 0.5440, precision 0.5430, recall 0.9352, f1-score 0.6871, epoch time: 20.5108 s, GPU Memory: Allocated: 520.09 MB, Reserved: 2250.00 MB\n",
            "\u001b[36m(ClientAppActor pid=50061)\u001b[0m Epoch: 2/2, train loss 0.6831, accuracy 0.5799, precision 0.5784, recall 0.7940, f1-score 0.6693, epoch time: 20.5886 s, GPU Memory: Allocated: 520.09 MB, Reserved: 2250.00 MB\n",
            "\u001b[36m(ClientAppActor pid=50061)\u001b[0m Total Training Time: 41.1003 seconds\n",
            "\u001b[36m(ClientAppActor pid=50061)\u001b[0m Client fit in 41.10 seconds.\n",
            "\u001b[36m(ClientAppActor pid=50061)\u001b[0m Epoch: 1/2, train loss 0.7107, accuracy 0.5432, precision 0.5503, recall 0.9531, f1-score 0.6977, epoch time: 20.3471 s, GPU Memory: Allocated: 521.17 MB, Reserved: 2250.00 MB\n",
            "\u001b[36m(ClientAppActor pid=50061)\u001b[0m Epoch: 2/2, train loss 0.6886, accuracy 0.5543, precision 0.5538, recall 1.0000, f1-score 0.7128, epoch time: 20.4109 s, GPU Memory: Allocated: 521.17 MB, Reserved: 2250.00 MB\n",
            "\u001b[36m(ClientAppActor pid=50061)\u001b[0m Total Training Time: 40.7588 seconds\n",
            "\u001b[36m(ClientAppActor pid=50061)\u001b[0m Client fit in 40.76 seconds.\n"
          ]
        },
        {
          "output_type": "stream",
          "name": "stderr",
          "text": [
            "\u001b[92mINFO \u001b[0m:      aggregate_fit: received 5 results and 0 failures\n",
            "\u001b[93mWARNING \u001b[0m:   No fit_metrics_aggregation_fn provided\n"
          ]
        },
        {
          "output_type": "stream",
          "name": "stdout",
          "text": [
            "FedAdam-DP - Saving round 1 aggregated_ndarrays...\n"
          ]
        },
        {
          "output_type": "stream",
          "name": "stderr",
          "text": [
            "\u001b[92mINFO \u001b[0m:      aggregate_fit: central DP noise with 0.2000 stdev added\n",
            "\u001b[92mINFO \u001b[0m:      configure_evaluate: strategy sampled 5 clients (out of 5)\n"
          ]
        },
        {
          "output_type": "stream",
          "name": "stdout",
          "text": [
            "\u001b[36m(ClientAppActor pid=50061)\u001b[0m Client eval in 2.00 seconds.\n",
            "\u001b[36m(ClientAppActor pid=50061)\u001b[0m precision 1.0, recall 0.0, f1 0.0\n",
            "\u001b[36m(ClientAppActor pid=50061)\u001b[0m Client eval in 2.82 seconds.\n",
            "\u001b[36m(ClientAppActor pid=50061)\u001b[0m precision 1.0, recall 0.0, f1 0.0\n",
            "\u001b[36m(ClientAppActor pid=50061)\u001b[0m Client eval in 1.96 seconds.\n",
            "\u001b[36m(ClientAppActor pid=50061)\u001b[0m precision 1.0, recall 0.0, f1 0.0\n",
            "\u001b[36m(ClientAppActor pid=50061)\u001b[0m Client eval in 1.97 seconds.\n",
            "\u001b[36m(ClientAppActor pid=50061)\u001b[0m precision 1.0, recall 0.0, f1 0.0\n"
          ]
        },
        {
          "output_type": "stream",
          "name": "stderr",
          "text": [
            "\u001b[92mINFO \u001b[0m:      aggregate_evaluate: received 5 results and 0 failures\n",
            "\u001b[92mINFO \u001b[0m:      \n",
            "\u001b[92mINFO \u001b[0m:      [ROUND 2]\n",
            "\u001b[92mINFO \u001b[0m:      configure_fit: strategy sampled 5 clients (out of 5)\n"
          ]
        },
        {
          "output_type": "stream",
          "name": "stdout",
          "text": [
            "\u001b[36m(ClientAppActor pid=50061)\u001b[0m Client eval in 1.96 seconds.\n",
            "\u001b[36m(ClientAppActor pid=50061)\u001b[0m precision 1.0, recall 0.0, f1 0.0\n",
            "\u001b[36m(ClientAppActor pid=50061)\u001b[0m Epoch: 1/2, train loss 52.4014, accuracy 0.4758, precision 0.5473, recall 0.4066, f1-score 0.4666, epoch time: 20.2130 s, GPU Memory: Allocated: 520.09 MB, Reserved: 2250.00 MB\n",
            "\u001b[36m(ClientAppActor pid=50061)\u001b[0m Epoch: 2/2, train loss 51.3972, accuracy 0.4857, precision 0.5592, recall 0.4154, f1-score 0.4767, epoch time: 19.2083 s, GPU Memory: Allocated: 520.09 MB, Reserved: 2250.00 MB\n",
            "\u001b[36m(ClientAppActor pid=50061)\u001b[0m Total Training Time: 39.4221 seconds\n",
            "\u001b[36m(ClientAppActor pid=50061)\u001b[0m Client fit in 39.42 seconds.\n",
            "\u001b[36m(ClientAppActor pid=50061)\u001b[0m Epoch: 1/2, train loss 48.9467, accuracy 0.5105, precision 0.5726, recall 0.4586, f1-score 0.5093, epoch time: 20.1289 s, GPU Memory: Allocated: 520.09 MB, Reserved: 2250.00 MB\n",
            "\u001b[36m(ClientAppActor pid=50061)\u001b[0m Epoch: 2/2, train loss 51.6729, accuracy 0.4833, precision 0.5431, recall 0.4228, f1-score 0.4755, epoch time: 19.3767 s, GPU Memory: Allocated: 520.09 MB, Reserved: 2250.00 MB\n",
            "\u001b[36m(ClientAppActor pid=50061)\u001b[0m Total Training Time: 39.5066 seconds\n",
            "\u001b[36m(ClientAppActor pid=50061)\u001b[0m Client fit in 39.51 seconds.\n",
            "\u001b[36m(ClientAppActor pid=50061)\u001b[0m Epoch: 1/2, train loss 47.3358, accuracy 0.5266, precision 0.5710, recall 0.4734, f1-score 0.5177, epoch time: 19.5117 s, GPU Memory: Allocated: 520.09 MB, Reserved: 2250.00 MB\n",
            "\u001b[36m(ClientAppActor pid=50061)\u001b[0m Epoch: 2/2, train loss 49.4788, accuracy 0.5043, precision 0.5390, recall 0.5266, f1-score 0.5327, epoch time: 19.7950 s, GPU Memory: Allocated: 520.09 MB, Reserved: 2250.00 MB\n",
            "\u001b[36m(ClientAppActor pid=50061)\u001b[0m Total Training Time: 39.3076 seconds\n",
            "\u001b[36m(ClientAppActor pid=50061)\u001b[0m Client fit in 39.31 seconds.\n",
            "\u001b[36m(ClientAppActor pid=50061)\u001b[0m Epoch: 1/2, train loss 51.9207, accuracy 0.4808, precision 0.5187, recall 0.4167, f1-score 0.4621, epoch time: 19.1632 s, GPU Memory: Allocated: 520.09 MB, Reserved: 2250.00 MB\n",
            "\u001b[36m(ClientAppActor pid=50061)\u001b[0m Epoch: 2/2, train loss 48.6989, accuracy 0.5130, precision 0.5517, recall 0.4815, f1-score 0.5142, epoch time: 20.1378 s, GPU Memory: Allocated: 520.09 MB, Reserved: 2250.00 MB\n",
            "\u001b[36m(ClientAppActor pid=50061)\u001b[0m Total Training Time: 39.3021 seconds\n",
            "\u001b[36m(ClientAppActor pid=50061)\u001b[0m Client fit in 39.30 seconds.\n",
            "\u001b[36m(ClientAppActor pid=50061)\u001b[0m Epoch: 1/2, train loss 50.4938, accuracy 0.4951, precision 0.5552, recall 0.4375, f1-score 0.4894, epoch time: 19.2068 s, GPU Memory: Allocated: 521.17 MB, Reserved: 2250.00 MB\n",
            "\u001b[36m(ClientAppActor pid=50061)\u001b[0m Epoch: 2/2, train loss 47.1605, accuracy 0.5284, precision 0.5917, recall 0.4754, f1-score 0.5272, epoch time: 20.2230 s, GPU Memory: Allocated: 521.17 MB, Reserved: 2250.00 MB\n",
            "\u001b[36m(ClientAppActor pid=50061)\u001b[0m Total Training Time: 39.4306 seconds\n",
            "\u001b[36m(ClientAppActor pid=50061)\u001b[0m Client fit in 39.43 seconds.\n"
          ]
        },
        {
          "output_type": "stream",
          "name": "stderr",
          "text": [
            "\u001b[92mINFO \u001b[0m:      aggregate_fit: received 5 results and 0 failures\n"
          ]
        },
        {
          "output_type": "stream",
          "name": "stdout",
          "text": [
            "FedAdam-DP - Saving round 2 aggregated_ndarrays...\n"
          ]
        },
        {
          "output_type": "stream",
          "name": "stderr",
          "text": [
            "\u001b[92mINFO \u001b[0m:      aggregate_fit: central DP noise with 0.2000 stdev added\n",
            "\u001b[92mINFO \u001b[0m:      configure_evaluate: strategy sampled 5 clients (out of 5)\n"
          ]
        },
        {
          "output_type": "stream",
          "name": "stdout",
          "text": [
            "\u001b[36m(ClientAppActor pid=50061)\u001b[0m Client eval in 1.88 seconds.\n",
            "\u001b[36m(ClientAppActor pid=50061)\u001b[0m precision 1.0, recall 0.0, f1 0.0\n",
            "\u001b[36m(ClientAppActor pid=50061)\u001b[0m Client eval in 2.32 seconds.\n",
            "\u001b[36m(ClientAppActor pid=50061)\u001b[0m precision 1.0, recall 0.0, f1 0.0\n",
            "\u001b[36m(ClientAppActor pid=50061)\u001b[0m Client eval in 2.12 seconds.\n",
            "\u001b[36m(ClientAppActor pid=50061)\u001b[0m precision 1.0, recall 0.0, f1 0.0\n",
            "\u001b[36m(ClientAppActor pid=50061)\u001b[0m Client eval in 1.83 seconds.\n",
            "\u001b[36m(ClientAppActor pid=50061)\u001b[0m precision 1.0, recall 0.0, f1 0.0\n"
          ]
        },
        {
          "output_type": "stream",
          "name": "stderr",
          "text": [
            "\u001b[92mINFO \u001b[0m:      aggregate_evaluate: received 5 results and 0 failures\n",
            "\u001b[92mINFO \u001b[0m:      \n",
            "\u001b[92mINFO \u001b[0m:      [ROUND 3]\n",
            "\u001b[92mINFO \u001b[0m:      configure_fit: strategy sampled 5 clients (out of 5)\n"
          ]
        },
        {
          "output_type": "stream",
          "name": "stdout",
          "text": [
            "\u001b[36m(ClientAppActor pid=50061)\u001b[0m Client eval in 1.89 seconds.\n",
            "\u001b[36m(ClientAppActor pid=50061)\u001b[0m precision 1.0, recall 0.0, f1 0.0\n",
            "\u001b[36m(ClientAppActor pid=50061)\u001b[0m Epoch: 1/2, train loss 48.3271, accuracy 0.5167, precision 0.5937, recall 0.4527, f1-score 0.5137, epoch time: 20.3232 s, GPU Memory: Allocated: 520.09 MB, Reserved: 2250.00 MB\n",
            "\u001b[36m(ClientAppActor pid=50061)\u001b[0m Epoch: 2/2, train loss 54.7708, accuracy 0.4523, precision 0.5187, recall 0.3956, f1-score 0.4489, epoch time: 19.2149 s, GPU Memory: Allocated: 520.09 MB, Reserved: 2250.00 MB\n",
            "\u001b[36m(ClientAppActor pid=50061)\u001b[0m Total Training Time: 39.5388 seconds\n",
            "\u001b[36m(ClientAppActor pid=50061)\u001b[0m Client fit in 39.54 seconds.\n",
            "\u001b[36m(ClientAppActor pid=50061)\u001b[0m Epoch: 1/2, train loss 50.4337, accuracy 0.4957, precision 0.5595, recall 0.4206, f1-score 0.4802, epoch time: 20.0663 s, GPU Memory: Allocated: 520.09 MB, Reserved: 2250.00 MB\n",
            "\u001b[36m(ClientAppActor pid=50061)\u001b[0m Epoch: 2/2, train loss 49.9380, accuracy 0.5006, precision 0.5595, recall 0.4631, f1-score 0.5067, epoch time: 19.1425 s, GPU Memory: Allocated: 520.09 MB, Reserved: 2250.00 MB\n",
            "\u001b[36m(ClientAppActor pid=50061)\u001b[0m Total Training Time: 39.2097 seconds\n",
            "\u001b[36m(ClientAppActor pid=50061)\u001b[0m Client fit in 39.21 seconds.\n",
            "\u001b[36m(ClientAppActor pid=50061)\u001b[0m Epoch: 1/2, train loss 51.1772, accuracy 0.4882, precision 0.5287, recall 0.4249, f1-score 0.4712, epoch time: 20.1991 s, GPU Memory: Allocated: 520.09 MB, Reserved: 2250.00 MB\n",
            "\u001b[36m(ClientAppActor pid=50061)\u001b[0m Epoch: 2/2, train loss 50.0620, accuracy 0.4994, precision 0.5406, recall 0.4457, f1-score 0.4886, epoch time: 19.1822 s, GPU Memory: Allocated: 520.09 MB, Reserved: 2250.00 MB\n",
            "\u001b[36m(ClientAppActor pid=50061)\u001b[0m Total Training Time: 39.3821 seconds\n",
            "\u001b[36m(ClientAppActor pid=50061)\u001b[0m Client fit in 39.38 seconds.\n",
            "\u001b[36m(ClientAppActor pid=50061)\u001b[0m Epoch: 1/2, train loss 48.0848, accuracy 0.5180, precision 0.5516, recall 0.5324, f1-score 0.5418, epoch time: 20.2726 s, GPU Memory: Allocated: 520.09 MB, Reserved: 2250.00 MB\n",
            "\u001b[36m(ClientAppActor pid=50061)\u001b[0m Epoch: 2/2, train loss 50.4139, accuracy 0.4957, precision 0.5233, recall 0.6505, f1-score 0.5800, epoch time: 19.1093 s, GPU Memory: Allocated: 520.09 MB, Reserved: 2250.00 MB\n",
            "\u001b[36m(ClientAppActor pid=50061)\u001b[0m Total Training Time: 39.3827 seconds\n",
            "\u001b[36m(ClientAppActor pid=50061)\u001b[0m Client fit in 39.38 seconds.\n",
            "\u001b[36m(ClientAppActor pid=50061)\u001b[0m Epoch: 1/2, train loss 52.5926, accuracy 0.4741, precision 0.5312, recall 0.4174, f1-score 0.4675, epoch time: 19.7106 s, GPU Memory: Allocated: 521.17 MB, Reserved: 2250.00 MB\n",
            "\u001b[36m(ClientAppActor pid=50061)\u001b[0m Epoch: 2/2, train loss 51.4382, accuracy 0.4852, precision 0.5427, recall 0.4397, f1-score 0.4858, epoch time: 19.4262 s, GPU Memory: Allocated: 521.17 MB, Reserved: 2250.00 MB\n",
            "\u001b[36m(ClientAppActor pid=50061)\u001b[0m Total Training Time: 39.1378 seconds\n",
            "\u001b[36m(ClientAppActor pid=50061)\u001b[0m Client fit in 39.14 seconds.\n"
          ]
        },
        {
          "output_type": "stream",
          "name": "stderr",
          "text": [
            "\u001b[92mINFO \u001b[0m:      aggregate_fit: received 5 results and 0 failures\n"
          ]
        },
        {
          "output_type": "stream",
          "name": "stdout",
          "text": [
            "FedAdam-DP - Saving round 3 aggregated_ndarrays...\n"
          ]
        },
        {
          "output_type": "stream",
          "name": "stderr",
          "text": [
            "\u001b[92mINFO \u001b[0m:      aggregate_fit: central DP noise with 0.2000 stdev added\n",
            "\u001b[92mINFO \u001b[0m:      configure_evaluate: strategy sampled 5 clients (out of 5)\n"
          ]
        },
        {
          "output_type": "stream",
          "name": "stdout",
          "text": [
            "\u001b[36m(ClientAppActor pid=50061)\u001b[0m Client eval in 1.87 seconds.\n",
            "\u001b[36m(ClientAppActor pid=50061)\u001b[0m precision 0.6067415730337079, recall 1.0, f1 0.7552447552447552\n",
            "\u001b[36m(ClientAppActor pid=50061)\u001b[0m Client eval in 1.88 seconds.\n",
            "\u001b[36m(ClientAppActor pid=50061)\u001b[0m precision 0.5617977528089888, recall 1.0, f1 0.7194244604316546\n",
            "\u001b[36m(ClientAppActor pid=50061)\u001b[0m Client eval in 2.43 seconds.\n",
            "\u001b[36m(ClientAppActor pid=50061)\u001b[0m precision 0.5280898876404494, recall 1.0, f1 0.6911764705882353\n",
            "\u001b[36m(ClientAppActor pid=50061)\u001b[0m Client eval in 1.98 seconds.\n",
            "\u001b[36m(ClientAppActor pid=50061)\u001b[0m precision 0.550561797752809, recall 1.0, f1 0.7101449275362319\n"
          ]
        },
        {
          "output_type": "stream",
          "name": "stderr",
          "text": [
            "\u001b[92mINFO \u001b[0m:      aggregate_evaluate: received 5 results and 0 failures\n",
            "\u001b[92mINFO \u001b[0m:      \n",
            "\u001b[92mINFO \u001b[0m:      [ROUND 4]\n",
            "\u001b[92mINFO \u001b[0m:      configure_fit: strategy sampled 5 clients (out of 5)\n"
          ]
        },
        {
          "output_type": "stream",
          "name": "stdout",
          "text": [
            "\u001b[36m(ClientAppActor pid=50061)\u001b[0m Client eval in 1.87 seconds.\n",
            "\u001b[36m(ClientAppActor pid=50061)\u001b[0m precision 0.5, recall 1.0, f1 0.6666666666666666\n",
            "\u001b[36m(ClientAppActor pid=50061)\u001b[0m Epoch: 1/2, train loss 48.8228, accuracy 0.5118, precision 0.5521, recall 0.7099, f1-score 0.6212, epoch time: 19.6343 s, GPU Memory: Allocated: 520.09 MB, Reserved: 2250.00 MB\n",
            "\u001b[36m(ClientAppActor pid=50061)\u001b[0m Epoch: 2/2, train loss 47.3358, accuracy 0.5266, precision 0.5641, recall 0.7055, f1-score 0.6270, epoch time: 19.8026 s, GPU Memory: Allocated: 520.09 MB, Reserved: 2250.00 MB\n",
            "\u001b[36m(ClientAppActor pid=50061)\u001b[0m Total Training Time: 39.4379 seconds\n",
            "\u001b[36m(ClientAppActor pid=50061)\u001b[0m Client fit in 39.44 seconds.\n",
            "\u001b[36m(ClientAppActor pid=50061)\u001b[0m Epoch: 1/2, train loss 48.6989, accuracy 0.5130, precision 0.5470, recall 0.7025, f1-score 0.6151, epoch time: 19.9915 s, GPU Memory: Allocated: 520.09 MB, Reserved: 2250.00 MB\n",
            "\u001b[36m(ClientAppActor pid=50061)\u001b[0m Epoch: 2/2, train loss 48.9467, accuracy 0.5105, precision 0.5445, recall 0.7114, f1-score 0.6169, epoch time: 19.2842 s, GPU Memory: Allocated: 520.09 MB, Reserved: 2250.00 MB\n",
            "\u001b[36m(ClientAppActor pid=50061)\u001b[0m Total Training Time: 39.2767 seconds\n",
            "\u001b[36m(ClientAppActor pid=50061)\u001b[0m Client fit in 39.28 seconds.\n",
            "\u001b[36m(ClientAppActor pid=50061)\u001b[0m Epoch: 1/2, train loss 48.8228, accuracy 0.5118, precision 0.5334, recall 0.7182, f1-score 0.6122, epoch time: 20.2066 s, GPU Memory: Allocated: 520.09 MB, Reserved: 2250.00 MB\n",
            "\u001b[36m(ClientAppActor pid=50061)\u001b[0m Epoch: 2/2, train loss 47.5836, accuracy 0.5242, precision 0.5434, recall 0.7090, f1-score 0.6152, epoch time: 19.0921 s, GPU Memory: Allocated: 520.09 MB, Reserved: 2250.00 MB\n",
            "\u001b[36m(ClientAppActor pid=50061)\u001b[0m Total Training Time: 39.2995 seconds\n",
            "\u001b[36m(ClientAppActor pid=50061)\u001b[0m Client fit in 39.30 seconds.\n",
            "\u001b[36m(ClientAppActor pid=50061)\u001b[0m Epoch: 1/2, train loss 49.4424, accuracy 0.5056, precision 0.5271, recall 0.7431, f1-score 0.6167, epoch time: 20.2032 s, GPU Memory: Allocated: 520.09 MB, Reserved: 2250.00 MB\n",
            "\u001b[36m(ClientAppActor pid=50061)\u001b[0m Epoch: 2/2, train loss 48.0793, accuracy 0.5192, precision 0.5378, recall 0.7245, f1-score 0.6174, epoch time: 19.1562 s, GPU Memory: Allocated: 520.09 MB, Reserved: 2250.00 MB\n",
            "\u001b[36m(ClientAppActor pid=50061)\u001b[0m Total Training Time: 39.3602 seconds\n",
            "\u001b[36m(ClientAppActor pid=50061)\u001b[0m Client fit in 39.36 seconds.\n",
            "\u001b[36m(ClientAppActor pid=50061)\u001b[0m Epoch: 1/2, train loss 46.9136, accuracy 0.5309, precision 0.5586, recall 0.7232, f1-score 0.6304, epoch time: 20.1715 s, GPU Memory: Allocated: 521.17 MB, Reserved: 2250.00 MB\n",
            "\u001b[36m(ClientAppActor pid=50061)\u001b[0m Epoch: 2/2, train loss 46.2963, accuracy 0.5370, precision 0.5622, recall 0.7366, f1-score 0.6377, epoch time: 19.3818 s, GPU Memory: Allocated: 521.17 MB, Reserved: 2250.00 MB\n",
            "\u001b[36m(ClientAppActor pid=50061)\u001b[0m Total Training Time: 39.5542 seconds\n",
            "\u001b[36m(ClientAppActor pid=50061)\u001b[0m Client fit in 39.55 seconds.\n"
          ]
        },
        {
          "output_type": "stream",
          "name": "stderr",
          "text": [
            "\u001b[92mINFO \u001b[0m:      aggregate_fit: received 5 results and 0 failures\n"
          ]
        },
        {
          "output_type": "stream",
          "name": "stdout",
          "text": [
            "FedAdam-DP - Saving round 4 aggregated_ndarrays...\n"
          ]
        },
        {
          "output_type": "stream",
          "name": "stderr",
          "text": [
            "\u001b[92mINFO \u001b[0m:      aggregate_fit: central DP noise with 0.2000 stdev added\n",
            "\u001b[92mINFO \u001b[0m:      configure_evaluate: strategy sampled 5 clients (out of 5)\n"
          ]
        },
        {
          "output_type": "stream",
          "name": "stdout",
          "text": [
            "\u001b[36m(ClientAppActor pid=50061)\u001b[0m Client eval in 1.89 seconds.\n",
            "\u001b[36m(ClientAppActor pid=50061)\u001b[0m precision 0.6067415730337079, recall 1.0, f1 0.7552447552447552\n",
            "\u001b[36m(ClientAppActor pid=50061)\u001b[0m Client eval in 1.91 seconds.\n",
            "\u001b[36m(ClientAppActor pid=50061)\u001b[0m precision 0.5617977528089888, recall 1.0, f1 0.7194244604316546\n",
            "\u001b[36m(ClientAppActor pid=50061)\u001b[0m Client eval in 1.89 seconds.\n",
            "\u001b[36m(ClientAppActor pid=50061)\u001b[0m precision 0.5280898876404494, recall 1.0, f1 0.6911764705882353\n",
            "\u001b[36m(ClientAppActor pid=50061)\u001b[0m Client eval in 2.54 seconds.\n",
            "\u001b[36m(ClientAppActor pid=50061)\u001b[0m precision 0.550561797752809, recall 1.0, f1 0.7101449275362319\n"
          ]
        },
        {
          "output_type": "stream",
          "name": "stderr",
          "text": [
            "\u001b[92mINFO \u001b[0m:      aggregate_evaluate: received 5 results and 0 failures\n",
            "\u001b[92mINFO \u001b[0m:      \n",
            "\u001b[92mINFO \u001b[0m:      [ROUND 5]\n",
            "\u001b[92mINFO \u001b[0m:      configure_fit: strategy sampled 5 clients (out of 5)\n"
          ]
        },
        {
          "output_type": "stream",
          "name": "stdout",
          "text": [
            "\u001b[36m(ClientAppActor pid=50061)\u001b[0m Client eval in 1.92 seconds.\n",
            "\u001b[36m(ClientAppActor pid=50061)\u001b[0m precision 0.5, recall 1.0, f1 0.6666666666666666\n",
            "\u001b[36m(ClientAppActor pid=50061)\u001b[0m Epoch: 1/2, train loss 47.9554, accuracy 0.5204, precision 0.5518, recall 0.7956, f1-score 0.6517, epoch time: 19.5053 s, GPU Memory: Allocated: 520.09 MB, Reserved: 2250.00 MB\n",
            "\u001b[36m(ClientAppActor pid=50061)\u001b[0m Epoch: 2/2, train loss 44.9814, accuracy 0.5502, precision 0.5697, recall 0.8264, f1-score 0.6744, epoch time: 20.4829 s, GPU Memory: Allocated: 520.09 MB, Reserved: 2250.00 MB\n",
            "\u001b[36m(ClientAppActor pid=50061)\u001b[0m Total Training Time: 39.9889 seconds\n",
            "\u001b[36m(ClientAppActor pid=50061)\u001b[0m Client fit in 39.99 seconds.\n",
            "\u001b[36m(ClientAppActor pid=50061)\u001b[0m Epoch: 1/2, train loss 46.0618, accuracy 0.5390, precision 0.5573, recall 0.8166, f1-score 0.6624, epoch time: 19.5461 s, GPU Memory: Allocated: 520.09 MB, Reserved: 2250.00 MB\n",
            "\u001b[36m(ClientAppActor pid=50061)\u001b[0m Epoch: 2/2, train loss 46.2206, accuracy 0.5378, precision 0.5564, recall 0.8166, f1-score 0.6618, epoch time: 20.2317 s, GPU Memory: Allocated: 520.09 MB, Reserved: 2250.00 MB\n",
            "\u001b[36m(ClientAppActor pid=50061)\u001b[0m Total Training Time: 39.7787 seconds\n",
            "\u001b[36m(ClientAppActor pid=50061)\u001b[0m Client fit in 39.78 seconds.\n",
            "\u001b[36m(ClientAppActor pid=50061)\u001b[0m Epoch: 1/2, train loss 46.7162, accuracy 0.5328, precision 0.5433, recall 0.8106, f1-score 0.6506, epoch time: 20.2099 s, GPU Memory: Allocated: 520.09 MB, Reserved: 2250.00 MB\n",
            "\u001b[36m(ClientAppActor pid=50061)\u001b[0m Epoch: 2/2, train loss 47.7076, accuracy 0.5229, precision 0.5368, recall 0.8083, f1-score 0.6452, epoch time: 19.7671 s, GPU Memory: Allocated: 520.09 MB, Reserved: 2250.00 MB\n",
            "\u001b[36m(ClientAppActor pid=50061)\u001b[0m Total Training Time: 39.9780 seconds\n",
            "\u001b[36m(ClientAppActor pid=50061)\u001b[0m Client fit in 39.98 seconds.\n",
            "\u001b[36m(ClientAppActor pid=50061)\u001b[0m Epoch: 1/2, train loss 48.0793, accuracy 0.5192, precision 0.5330, recall 0.8218, f1-score 0.6466, epoch time: 20.4490 s, GPU Memory: Allocated: 520.09 MB, Reserved: 2250.00 MB\n",
            "\u001b[36m(ClientAppActor pid=50061)\u001b[0m Epoch: 2/2, train loss 46.9641, accuracy 0.5304, precision 0.5412, recall 0.8056, f1-score 0.6474, epoch time: 19.3675 s, GPU Memory: Allocated: 520.09 MB, Reserved: 2250.00 MB\n",
            "\u001b[36m(ClientAppActor pid=50061)\u001b[0m Total Training Time: 39.8172 seconds\n",
            "\u001b[36m(ClientAppActor pid=50061)\u001b[0m Client fit in 39.82 seconds.\n",
            "\u001b[36m(ClientAppActor pid=50061)\u001b[0m Epoch: 1/2, train loss 47.1605, accuracy 0.5284, precision 0.5494, recall 0.8192, f1-score 0.6577, epoch time: 20.3014 s, GPU Memory: Allocated: 521.17 MB, Reserved: 2250.00 MB\n",
            "\u001b[36m(ClientAppActor pid=50061)\u001b[0m Epoch: 2/2, train loss 45.8025, accuracy 0.5420, precision 0.5601, recall 0.8013, f1-score 0.6593, epoch time: 19.2716 s, GPU Memory: Allocated: 521.17 MB, Reserved: 2250.00 MB\n",
            "\u001b[36m(ClientAppActor pid=50061)\u001b[0m Total Training Time: 39.5738 seconds\n",
            "\u001b[36m(ClientAppActor pid=50061)\u001b[0m Client fit in 39.57 seconds.\n"
          ]
        },
        {
          "output_type": "stream",
          "name": "stderr",
          "text": [
            "\u001b[92mINFO \u001b[0m:      aggregate_fit: received 5 results and 0 failures\n"
          ]
        },
        {
          "output_type": "stream",
          "name": "stdout",
          "text": [
            "FedAdam-DP - Saving round 5 aggregated_ndarrays...\n"
          ]
        },
        {
          "output_type": "stream",
          "name": "stderr",
          "text": [
            "\u001b[92mINFO \u001b[0m:      aggregate_fit: central DP noise with 0.2000 stdev added\n",
            "\u001b[92mINFO \u001b[0m:      configure_evaluate: strategy sampled 5 clients (out of 5)\n"
          ]
        },
        {
          "output_type": "stream",
          "name": "stdout",
          "text": [
            "\u001b[36m(ClientAppActor pid=50061)\u001b[0m Client eval in 1.92 seconds.\n",
            "\u001b[36m(ClientAppActor pid=50061)\u001b[0m precision 0.6067415730337079, recall 1.0, f1 0.7552447552447552\n",
            "\u001b[36m(ClientAppActor pid=50061)\u001b[0m Client eval in 1.87 seconds.\n",
            "\u001b[36m(ClientAppActor pid=50061)\u001b[0m precision 0.5617977528089888, recall 1.0, f1 0.7194244604316546\n",
            "\u001b[36m(ClientAppActor pid=50061)\u001b[0m Client eval in 1.89 seconds.\n",
            "\u001b[36m(ClientAppActor pid=50061)\u001b[0m precision 0.5280898876404494, recall 1.0, f1 0.6911764705882353\n",
            "\u001b[36m(ClientAppActor pid=50061)\u001b[0m Client eval in 2.34 seconds.\n",
            "\u001b[36m(ClientAppActor pid=50061)\u001b[0m precision 0.550561797752809, recall 1.0, f1 0.7101449275362319\n"
          ]
        },
        {
          "output_type": "stream",
          "name": "stderr",
          "text": [
            "\u001b[92mINFO \u001b[0m:      aggregate_evaluate: received 5 results and 0 failures\n",
            "\u001b[92mINFO \u001b[0m:      \n",
            "\u001b[92mINFO \u001b[0m:      [SUMMARY]\n",
            "\u001b[92mINFO \u001b[0m:      Run finished 5 round(s) in 1136.36s\n",
            "\u001b[92mINFO \u001b[0m:      \tHistory (loss, distributed):\n",
            "\u001b[92mINFO \u001b[0m:      \t\tround 1: 54.94382041121541\n",
            "\u001b[92mINFO \u001b[0m:      \t\tround 2: 54.94382041121541\n",
            "\u001b[92mINFO \u001b[0m:      \t\tround 3: 45.056179809189324\n",
            "\u001b[92mINFO \u001b[0m:      \t\tround 4: 45.056179809189324\n",
            "\u001b[92mINFO \u001b[0m:      \t\tround 5: 45.056179809189324\n",
            "\u001b[92mINFO \u001b[0m:      \tHistory (metrics, distributed, evaluate):\n",
            "\u001b[92mINFO \u001b[0m:      \t{'accuracy': [(1, 0.45056179775280897),\n",
            "\u001b[92mINFO \u001b[0m:      \t              (2, 0.45056179775280897),\n",
            "\u001b[92mINFO \u001b[0m:      \t              (3, 0.5494382022471911),\n",
            "\u001b[92mINFO \u001b[0m:      \t              (4, 0.5494382022471911),\n",
            "\u001b[92mINFO \u001b[0m:      \t              (5, 0.5494382022471911)]}\n",
            "\u001b[92mINFO \u001b[0m:      \n"
          ]
        },
        {
          "output_type": "stream",
          "name": "stdout",
          "text": [
            "\u001b[36m(ClientAppActor pid=50061)\u001b[0m Client eval in 2.10 seconds.\n",
            "\u001b[36m(ClientAppActor pid=50061)\u001b[0m precision 0.5, recall 1.0, f1 0.6666666666666666\n"
          ]
        }
      ]
    },
    {
      "cell_type": "code",
      "source": [
        "#Estimates the size of a PyTorch model in bytes\n",
        "def estimate_model_size(model):\n",
        "    \"\"\"Estimates the size of a PyTorch model in bytes.\"\"\"\n",
        "    param_size = 0\n",
        "    for param in model.parameters():\n",
        "        param_size += param.numel() * param.element_size()\n",
        "    buffer_size = 0\n",
        "    for buffer in model.buffers():\n",
        "        buffer_size += buffer.numel() * buffer.element_size()\n",
        "    return param_size + buffer_size\n",
        "\n",
        "binary_model = NetNIH().to(DEVICE)\n",
        "model_size_bytes = estimate_model_size(binary_model)\n",
        "model_size_mb = model_size_bytes / (1024 * 1024)\n",
        "num_rounds = 5\n",
        "num_clients = NUM_CLIENTS\n",
        "\n",
        "uplink_per_round_bytes = num_clients * model_size_bytes\n",
        "downlink_per_round_bytes = num_clients * model_size_bytes\n",
        "total_uplink_bytes = num_rounds * uplink_per_round_bytes\n",
        "total_downlink_bytes = num_rounds * downlink_per_round_bytes\n",
        "total_communication_bytes = total_uplink_bytes + total_downlink_bytes\n",
        "\n",
        "uplink_mb = total_uplink_bytes / (1024 * 1024)\n",
        "downlink_mb = total_downlink_bytes / (1024 * 1024)\n",
        "total_mb = total_communication_bytes / (1024 * 1024)\n",
        "\n",
        "print(\"\\n--- Federated Learning Communication Overhead Estimation ---\")\n",
        "print(f\"Estimated model size: {model_size_mb:.2f} MB\")\n",
        "print(f\"Number of clients: {num_clients}\")\n",
        "print(f\"Number of rounds: {num_rounds}\")\n",
        "print(f\"Estimated uplink communication (total): {uplink_mb:.2f} MB\")\n",
        "print(f\"Estimated downlink communication (total): {downlink_mb:.2f} MB\")\n",
        "print(f\"Estimated total communication: {total_mb:.2f} MB\")"
      ],
      "metadata": {
        "colab": {
          "base_uri": "https://localhost:8080/"
        },
        "outputId": "f5533795-aff7-4b1e-a9cc-d1b1a813e33d",
        "id": "to9AIlL-NA12"
      },
      "execution_count": 33,
      "outputs": [
        {
          "output_type": "stream",
          "name": "stdout",
          "text": [
            "\n",
            "--- Federated Learning Communication Overhead Estimation ---\n",
            "Estimated model size: 99.73 MB\n",
            "Number of clients: 5\n",
            "Number of rounds: 5\n",
            "Estimated uplink communication (total): 2493.37 MB\n",
            "Estimated downlink communication (total): 2493.37 MB\n",
            "Estimated total communication: 4986.73 MB\n"
          ]
        }
      ]
    },
    {
      "cell_type": "code",
      "source": [
        "from torch.utils.data import DataLoader\n",
        "from torchvision import transforms\n",
        "\n",
        "transform = transforms.Compose([\n",
        "    transforms.Resize((224, 224)),\n",
        "    transforms.ToTensor(),\n",
        "    transforms.Normalize(mean=[0.485, 0.456, 0.406], std=[0.229, 0.224, 0.225])\n",
        "])\n",
        "\n",
        "# Create the full centralized train dataset\n",
        "central_trainset = CXRDataset(train_df, \"./nih_images/train/\", transform=transform)\n",
        "\n",
        "# Create the full test dataset\n",
        "central_testset = CXRDataset(test_df, \"./nih_images/test/\", transform=transform)\n",
        "\n",
        "# Now, DataLoaders\n",
        "central_train_loader = DataLoader(central_trainset, batch_size=BATCH_SIZE, shuffle=False)\n",
        "test_loader = DataLoader(central_testset, batch_size=BATCH_SIZE, shuffle=False)\n",
        "\n",
        "# Step 1: Rebuild model\n",
        "global_model = NetNIH().to(DEVICE)\n",
        "\n",
        "# Step 2: Load saved weights\n",
        "global_model_fp = load_weights_into_model(global_model, \"/content/FedAdam-DP - round-5-weights.npz\")\n",
        "\n",
        "# Step 3: Run MIA\n",
        "mia_auc = run_membership_inference_attack(global_model_fp, central_train_loader, test_loader)\n",
        "print(f\"Membership Inference Attack AUC: {mia_auc:.4f}\")"
      ],
      "metadata": {
        "colab": {
          "base_uri": "https://localhost:8080/"
        },
        "outputId": "6a91143b-162c-47d5-f37e-7b6413d20d15",
        "id": "sV6E69W8NA12"
      },
      "execution_count": 37,
      "outputs": [
        {
          "output_type": "stream",
          "name": "stdout",
          "text": [
            "Loaded weights from /content/FedAdam-DP - round-5-weights.npz into model successfully.\n",
            "[Privacy Risk] Membership Inference Attack AUC: 0.5000\n",
            "Membership Inference Attack AUC: 0.5000\n"
          ]
        }
      ]
    },
    {
      "cell_type": "code",
      "source": [],
      "metadata": {
        "id": "Yja9BHpcNA12"
      },
      "execution_count": null,
      "outputs": []
    }
  ]
}