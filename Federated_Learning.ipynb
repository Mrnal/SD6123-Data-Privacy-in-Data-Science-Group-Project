{
  "cells": [
    {
      "cell_type": "markdown",
      "metadata": {
        "id": "FD-pK6tXlRbe"
      },
      "source": [
        "# Sensitive Data and Description\n",
        "\n",
        "some candidate sensitive datasets:\n",
        "note that many FL algorithms that we learn work better with DNNs models, as such, image data receive the best performance.\n",
        "\n",
        "https://www.kaggle.com/datasets/nih-chest-xrays/sample"
      ]
    },
    {
      "cell_type": "code",
      "execution_count": 2,
      "metadata": {
        "colab": {
          "base_uri": "https://localhost:8080/"
        },
        "id": "9pmHq2LgzzYg",
        "outputId": "a71b3097-03d9-49fa-8df9-a6ace14098ac"
      },
      "outputs": [
        {
          "name": "stdout",
          "output_type": "stream",
          "text": [
            "Path to dataset files: /Users/admin/.cache/kagglehub/datasets/nih-chest-xrays/sample/versions/4\n",
            "Label distribution:\n",
            " Finding Labels\n",
            "No Finding                                                3044\n",
            "Infiltration                                               503\n",
            "Effusion                                                   203\n",
            "Atelectasis                                                192\n",
            "Nodule                                                     144\n",
            "                                                          ... \n",
            "Atelectasis|Edema|Effusion|Infiltration|Pneumonia            1\n",
            "Atelectasis|Consolidation|Edema|Infiltration|Pneumonia       1\n",
            "Atelectasis|Effusion|Hernia                                  1\n",
            "Atelectasis|Hernia|Pneumothorax                              1\n",
            "Cardiomegaly|Effusion|Emphysema                              1\n",
            "Name: count, Length: 244, dtype: int64\n",
            "Data sample:\n",
            "         Image Index                                     Finding Labels  \\\n",
            "0  00000013_005.png  Emphysema|Infiltration|Pleural_Thickening|Pneu...   \n",
            "1  00000013_026.png                             Cardiomegaly|Emphysema   \n",
            "2  00000017_001.png                                         No Finding   \n",
            "3  00000030_001.png                                        Atelectasis   \n",
            "4  00000032_001.png                        Cardiomegaly|Edema|Effusion   \n",
            "\n",
            "   Follow-up #  Patient ID Patient Age Patient Gender View Position  \\\n",
            "0            5          13        060Y              M            AP   \n",
            "1           26          13        057Y              M            AP   \n",
            "2            1          17        077Y              M            AP   \n",
            "3            1          30        079Y              M            PA   \n",
            "4            1          32        055Y              F            AP   \n",
            "\n",
            "   OriginalImageWidth  OriginalImageHeight  OriginalImagePixelSpacing_x  \\\n",
            "0                3056                 2544                        0.139   \n",
            "1                2500                 2048                        0.168   \n",
            "2                2500                 2048                        0.168   \n",
            "3                2992                 2991                        0.143   \n",
            "4                2500                 2048                        0.168   \n",
            "\n",
            "   OriginalImagePixelSpacing_y  \\\n",
            "0                        0.139   \n",
            "1                        0.168   \n",
            "2                        0.168   \n",
            "3                        0.143   \n",
            "4                        0.168   \n",
            "\n",
            "                                           file_path  \n",
            "0  /Users/admin/.cache/kagglehub/datasets/nih-che...  \n",
            "1  /Users/admin/.cache/kagglehub/datasets/nih-che...  \n",
            "2  /Users/admin/.cache/kagglehub/datasets/nih-che...  \n",
            "3  /Users/admin/.cache/kagglehub/datasets/nih-che...  \n",
            "4  /Users/admin/.cache/kagglehub/datasets/nih-che...  \n"
          ]
        }
      ],
      "source": [
        "import os\n",
        "import pandas as pd\n",
        "import kagglehub\n",
        "from zipfile import ZipFile\n",
        "\n",
        "# Download dataset via kagglehub\n",
        "path = kagglehub.dataset_download(\"nih-chest-xrays/sample\")\n",
        "#path = '/root/.cache/kagglehub/datasets/nih-chest-xrays/sample/versions/4'\n",
        "print(\"Path to dataset files:\", path)\n",
        "\n",
        "# Define paths to CSV and images\n",
        "csv_path = os.path.join(path, 'sample_labels.csv')\n",
        "images_dir = os.path.join(path, 'sample', 'images')\n",
        "\n",
        "# Load CSV\n",
        "df = pd.read_csv(csv_path)\n",
        "\n",
        "# Add full image path\n",
        "df['file_path'] = df['Image Index'].apply(lambda x: os.path.join(images_dir, x))\n",
        "\n",
        "# Preview\n",
        "print(\"Label distribution:\\n\", df['Finding Labels'].value_counts())\n",
        "print(\"Data sample:\\n\", df.head())"
      ]
    },
    {
      "cell_type": "code",
      "execution_count": 3,
      "metadata": {
        "colab": {
          "base_uri": "https://localhost:8080/",
          "height": 330
        },
        "id": "s24dhNTwgKbj",
        "outputId": "888f3a18-7c36-4457-b70d-8a12b5a76253"
      },
      "outputs": [
        {
          "data": {
            "text/html": [
              "<div>\n",
              "<style scoped>\n",
              "    .dataframe tbody tr th:only-of-type {\n",
              "        vertical-align: middle;\n",
              "    }\n",
              "\n",
              "    .dataframe tbody tr th {\n",
              "        vertical-align: top;\n",
              "    }\n",
              "\n",
              "    .dataframe thead th {\n",
              "        text-align: right;\n",
              "    }\n",
              "</style>\n",
              "<table border=\"1\" class=\"dataframe\">\n",
              "  <thead>\n",
              "    <tr style=\"text-align: right;\">\n",
              "      <th></th>\n",
              "      <th>Image Index</th>\n",
              "      <th>Finding Labels</th>\n",
              "      <th>Follow-up #</th>\n",
              "      <th>Patient ID</th>\n",
              "      <th>Patient Age</th>\n",
              "      <th>Patient Gender</th>\n",
              "      <th>View Position</th>\n",
              "      <th>OriginalImageWidth</th>\n",
              "      <th>OriginalImageHeight</th>\n",
              "      <th>OriginalImagePixelSpacing_x</th>\n",
              "      <th>OriginalImagePixelSpacing_y</th>\n",
              "      <th>file_path</th>\n",
              "    </tr>\n",
              "  </thead>\n",
              "  <tbody>\n",
              "    <tr>\n",
              "      <th>0</th>\n",
              "      <td>00000013_005.png</td>\n",
              "      <td>Emphysema|Infiltration|Pleural_Thickening|Pneu...</td>\n",
              "      <td>5</td>\n",
              "      <td>13</td>\n",
              "      <td>060Y</td>\n",
              "      <td>M</td>\n",
              "      <td>AP</td>\n",
              "      <td>3056</td>\n",
              "      <td>2544</td>\n",
              "      <td>0.139</td>\n",
              "      <td>0.139</td>\n",
              "      <td>/Users/admin/.cache/kagglehub/datasets/nih-che...</td>\n",
              "    </tr>\n",
              "    <tr>\n",
              "      <th>1</th>\n",
              "      <td>00000013_026.png</td>\n",
              "      <td>Cardiomegaly|Emphysema</td>\n",
              "      <td>26</td>\n",
              "      <td>13</td>\n",
              "      <td>057Y</td>\n",
              "      <td>M</td>\n",
              "      <td>AP</td>\n",
              "      <td>2500</td>\n",
              "      <td>2048</td>\n",
              "      <td>0.168</td>\n",
              "      <td>0.168</td>\n",
              "      <td>/Users/admin/.cache/kagglehub/datasets/nih-che...</td>\n",
              "    </tr>\n",
              "    <tr>\n",
              "      <th>2</th>\n",
              "      <td>00000017_001.png</td>\n",
              "      <td>No Finding</td>\n",
              "      <td>1</td>\n",
              "      <td>17</td>\n",
              "      <td>077Y</td>\n",
              "      <td>M</td>\n",
              "      <td>AP</td>\n",
              "      <td>2500</td>\n",
              "      <td>2048</td>\n",
              "      <td>0.168</td>\n",
              "      <td>0.168</td>\n",
              "      <td>/Users/admin/.cache/kagglehub/datasets/nih-che...</td>\n",
              "    </tr>\n",
              "    <tr>\n",
              "      <th>3</th>\n",
              "      <td>00000030_001.png</td>\n",
              "      <td>Atelectasis</td>\n",
              "      <td>1</td>\n",
              "      <td>30</td>\n",
              "      <td>079Y</td>\n",
              "      <td>M</td>\n",
              "      <td>PA</td>\n",
              "      <td>2992</td>\n",
              "      <td>2991</td>\n",
              "      <td>0.143</td>\n",
              "      <td>0.143</td>\n",
              "      <td>/Users/admin/.cache/kagglehub/datasets/nih-che...</td>\n",
              "    </tr>\n",
              "    <tr>\n",
              "      <th>4</th>\n",
              "      <td>00000032_001.png</td>\n",
              "      <td>Cardiomegaly|Edema|Effusion</td>\n",
              "      <td>1</td>\n",
              "      <td>32</td>\n",
              "      <td>055Y</td>\n",
              "      <td>F</td>\n",
              "      <td>AP</td>\n",
              "      <td>2500</td>\n",
              "      <td>2048</td>\n",
              "      <td>0.168</td>\n",
              "      <td>0.168</td>\n",
              "      <td>/Users/admin/.cache/kagglehub/datasets/nih-che...</td>\n",
              "    </tr>\n",
              "  </tbody>\n",
              "</table>\n",
              "</div>"
            ],
            "text/plain": [
              "        Image Index                                     Finding Labels  \\\n",
              "0  00000013_005.png  Emphysema|Infiltration|Pleural_Thickening|Pneu...   \n",
              "1  00000013_026.png                             Cardiomegaly|Emphysema   \n",
              "2  00000017_001.png                                         No Finding   \n",
              "3  00000030_001.png                                        Atelectasis   \n",
              "4  00000032_001.png                        Cardiomegaly|Edema|Effusion   \n",
              "\n",
              "   Follow-up #  Patient ID Patient Age Patient Gender View Position  \\\n",
              "0            5          13        060Y              M            AP   \n",
              "1           26          13        057Y              M            AP   \n",
              "2            1          17        077Y              M            AP   \n",
              "3            1          30        079Y              M            PA   \n",
              "4            1          32        055Y              F            AP   \n",
              "\n",
              "   OriginalImageWidth  OriginalImageHeight  OriginalImagePixelSpacing_x  \\\n",
              "0                3056                 2544                        0.139   \n",
              "1                2500                 2048                        0.168   \n",
              "2                2500                 2048                        0.168   \n",
              "3                2992                 2991                        0.143   \n",
              "4                2500                 2048                        0.168   \n",
              "\n",
              "   OriginalImagePixelSpacing_y  \\\n",
              "0                        0.139   \n",
              "1                        0.168   \n",
              "2                        0.168   \n",
              "3                        0.143   \n",
              "4                        0.168   \n",
              "\n",
              "                                           file_path  \n",
              "0  /Users/admin/.cache/kagglehub/datasets/nih-che...  \n",
              "1  /Users/admin/.cache/kagglehub/datasets/nih-che...  \n",
              "2  /Users/admin/.cache/kagglehub/datasets/nih-che...  \n",
              "3  /Users/admin/.cache/kagglehub/datasets/nih-che...  \n",
              "4  /Users/admin/.cache/kagglehub/datasets/nih-che...  "
            ]
          },
          "execution_count": 3,
          "metadata": {},
          "output_type": "execute_result"
        }
      ],
      "source": [
        "df.head()"
      ]
    },
    {
      "cell_type": "code",
      "execution_count": 3,
      "metadata": {
        "colab": {
          "base_uri": "https://localhost:8080/",
          "height": 178
        },
        "id": "HVAKDuNzxb5n",
        "outputId": "60c2cfa5-50e7-4754-d570-350a1114b2b5"
      },
      "outputs": [
        {
          "data": {
            "text/plain": [
              "View Position\n",
              "PA    3393\n",
              "AP    2213\n",
              "Name: count, dtype: int64"
            ]
          },
          "execution_count": 3,
          "metadata": {},
          "output_type": "execute_result"
        }
      ],
      "source": [
        "df['View Position'].value_counts()"
      ]
    },
    {
      "cell_type": "markdown",
      "metadata": {
        "id": "0qk2LDdDgmqj"
      },
      "source": [
        "note on images per patient:\n",
        "- in the full dataset and already available splitting of datasets, there are are imbalances in x-ray images for each sample 'Several concerns have been observed with the official split technique, in which the training and test datasets had different characteristics. This could be either due to a tremendous inconsistency in the label or the test set having an average of 3 times more photos per patient compared to the training set. Because of that, instead of using an official split, a custom split was used with random seed 2137. The new split was better balanced, had lower divergence, and did not use some images from single patients significantly more often than others.'\n",
        "- multiple findings per sample --> these are multiple annotations for each x ray image, not necessary the conditions we want to diagnose. There is already a pre-existing list to reference which is the main condition to predict"
      ]
    },
    {
      "cell_type": "code",
      "execution_count": 4,
      "metadata": {
        "id": "xQyjCS-Yh2xE"
      },
      "outputs": [],
      "source": [
        "# Function to process 'Patient Age'\n",
        "def process_age(age):\n",
        "    # Extract the numeric part and convert to int\n",
        "    numeric_age = ''.join(filter(str.isdigit, age))\n",
        "\n",
        "    # Check if the age is in months ('M') or days ('D') and convert accordingly\n",
        "    if 'M' in age:\n",
        "        return int(numeric_age) / 12  # Convert months to years\n",
        "    elif 'D' in age:\n",
        "        return int(numeric_age) / 365  # Convert days to years\n",
        "    return int(numeric_age)  # If 'Y' is in age, keep it as years\n",
        "\n",
        "# Apply the function to process 'Patient Age'\n",
        "df['Patient Age'] = df['Patient Age'].apply(process_age)\n",
        "df['Patient Age'] = df['Patient Age'].astype(int)"
      ]
    },
    {
      "cell_type": "code",
      "execution_count": 14,
      "metadata": {
        "id": "POJX80AeNyrw"
      },
      "outputs": [],
      "source": [
        "pathology_list = ['Hernia', #13\n",
        "               'Pneumonia', # 62\n",
        "               'Fibrosis', # 84\n",
        "               'Edema', #118\n",
        "               'Emphysema', #127 images\n",
        "                'Cardiomegaly', #141 images\n",
        "                'Pleural_Thickening', #176 images\n",
        "                'Consolidation', #226 images\n",
        "                'Pneumothorax', #271 images\n",
        "                'Mass' #284 images\n",
        "                'Nodule', #313 images\n",
        "                'Atelectasis', #508 images\n",
        "               'Effusion', #644 images\n",
        "                'Infiltration', #967 images\n",
        "                'No Finding'#3044 --> highly imbalanced towards No finding\n",
        "]"
      ]
    },
    {
      "cell_type": "code",
      "execution_count": 5,
      "metadata": {
        "colab": {
          "base_uri": "https://localhost:8080/"
        },
        "id": "jPzKmP2Ez3ao",
        "outputId": "1661a6da-6e63-4d04-c0f8-3ebe5f4793e2"
      },
      "outputs": [
        {
          "ename": "NameError",
          "evalue": "name 'pathology_list' is not defined",
          "output_type": "error",
          "traceback": [
            "\u001b[0;31m---------------------------------------------------------------------------\u001b[0m",
            "\u001b[0;31mNameError\u001b[0m                                 Traceback (most recent call last)",
            "Cell \u001b[0;32mIn[5], line 14\u001b[0m\n\u001b[1;32m      2\u001b[0m df \u001b[38;5;241m=\u001b[39m df[[\u001b[38;5;124m'\u001b[39m\u001b[38;5;124mImage Index\u001b[39m\u001b[38;5;124m'\u001b[39m,\n\u001b[1;32m      3\u001b[0m          \u001b[38;5;124m'\u001b[39m\u001b[38;5;124mFinding Labels\u001b[39m\u001b[38;5;124m'\u001b[39m,\n\u001b[1;32m      4\u001b[0m          \u001b[38;5;124m'\u001b[39m\u001b[38;5;124mFollow-up #\u001b[39m\u001b[38;5;124m'\u001b[39m,\n\u001b[0;32m   (...)\u001b[0m\n\u001b[1;32m      9\u001b[0m          \u001b[38;5;124m'\u001b[39m\u001b[38;5;124mView Position\u001b[39m\u001b[38;5;124m'\u001b[39m\n\u001b[1;32m     10\u001b[0m          ]]\n\u001b[1;32m     12\u001b[0m class_names \u001b[38;5;241m=\u001b[39m \u001b[38;5;28msorted\u001b[39m(\u001b[38;5;28mset\u001b[39m(\u001b[38;5;124m'\u001b[39m\u001b[38;5;124m|\u001b[39m\u001b[38;5;124m'\u001b[39m\u001b[38;5;241m.\u001b[39mjoin(df[\u001b[38;5;124m'\u001b[39m\u001b[38;5;124mFinding Labels\u001b[39m\u001b[38;5;124m'\u001b[39m])\u001b[38;5;241m.\u001b[39msplit(\u001b[38;5;124m'\u001b[39m\u001b[38;5;124m|\u001b[39m\u001b[38;5;124m'\u001b[39m)))\n\u001b[0;32m---> 14\u001b[0m \u001b[38;5;28;01mfor\u001b[39;00m pathology \u001b[38;5;129;01min\u001b[39;00m \u001b[43mpathology_list\u001b[49m :\n\u001b[1;32m     15\u001b[0m     df[pathology] \u001b[38;5;241m=\u001b[39m df[\u001b[38;5;124m'\u001b[39m\u001b[38;5;124mFinding Labels\u001b[39m\u001b[38;5;124m'\u001b[39m]\u001b[38;5;241m.\u001b[39mapply(\u001b[38;5;28;01mlambda\u001b[39;00m x: \u001b[38;5;241m1\u001b[39m \u001b[38;5;28;01mif\u001b[39;00m pathology \u001b[38;5;129;01min\u001b[39;00m x \u001b[38;5;28;01melse\u001b[39;00m \u001b[38;5;241m0\u001b[39m)\n",
            "\u001b[0;31mNameError\u001b[0m: name 'pathology_list' is not defined"
          ]
        }
      ],
      "source": [
        "# Drop unused labels:\n",
        "df = df[['Image Index',\n",
        "         'Finding Labels',\n",
        "         'Follow-up #',\n",
        "         'Patient ID',\n",
        "         'Patient Age',\n",
        "         'Patient Gender',\n",
        "         'file_path',\n",
        "         'View Position'\n",
        "         ]]\n",
        "\n",
        "class_names = sorted(set('|'.join(df['Finding Labels']).split('|')))\n",
        "\n",
        "for pathology in pathology_list :\n",
        "    df[pathology] = df['Finding Labels'].apply(lambda x: 1 if pathology in x else 0)"
      ]
    },
    {
      "cell_type": "code",
      "execution_count": null,
      "metadata": {
        "colab": {
          "base_uri": "https://localhost:8080/",
          "height": 774
        },
        "id": "na0GhfDy8oBl",
        "outputId": "54010f40-c923-4193-84b8-6c74f8d78623"
      },
      "outputs": [
        {
          "data": {
            "text/html": [
              "<div>\n",
              "<style scoped>\n",
              "    .dataframe tbody tr th:only-of-type {\n",
              "        vertical-align: middle;\n",
              "    }\n",
              "\n",
              "    .dataframe tbody tr th {\n",
              "        vertical-align: top;\n",
              "    }\n",
              "\n",
              "    .dataframe thead th {\n",
              "        text-align: right;\n",
              "    }\n",
              "</style>\n",
              "<table border=\"1\" class=\"dataframe\">\n",
              "  <thead>\n",
              "    <tr style=\"text-align: right;\">\n",
              "      <th></th>\n",
              "      <th>1</th>\n",
              "    </tr>\n",
              "  </thead>\n",
              "  <tbody>\n",
              "    <tr>\n",
              "      <th>Image Index</th>\n",
              "      <td>00000013_026.png</td>\n",
              "    </tr>\n",
              "    <tr>\n",
              "      <th>Finding Labels</th>\n",
              "      <td>Cardiomegaly|Emphysema</td>\n",
              "    </tr>\n",
              "    <tr>\n",
              "      <th>Follow-up #</th>\n",
              "      <td>26</td>\n",
              "    </tr>\n",
              "    <tr>\n",
              "      <th>Patient ID</th>\n",
              "      <td>13</td>\n",
              "    </tr>\n",
              "    <tr>\n",
              "      <th>Patient Age</th>\n",
              "      <td>57</td>\n",
              "    </tr>\n",
              "    <tr>\n",
              "      <th>Patient Gender</th>\n",
              "      <td>M</td>\n",
              "    </tr>\n",
              "    <tr>\n",
              "      <th>file_path</th>\n",
              "      <td>/kaggle/input/sample/sample/images/00000013_02...</td>\n",
              "    </tr>\n",
              "    <tr>\n",
              "      <th>View Position</th>\n",
              "      <td>AP</td>\n",
              "    </tr>\n",
              "    <tr>\n",
              "      <th>Hernia</th>\n",
              "      <td>0</td>\n",
              "    </tr>\n",
              "    <tr>\n",
              "      <th>Pneumonia</th>\n",
              "      <td>0</td>\n",
              "    </tr>\n",
              "    <tr>\n",
              "      <th>Fibrosis</th>\n",
              "      <td>0</td>\n",
              "    </tr>\n",
              "    <tr>\n",
              "      <th>Edema</th>\n",
              "      <td>0</td>\n",
              "    </tr>\n",
              "    <tr>\n",
              "      <th>Emphysema</th>\n",
              "      <td>1</td>\n",
              "    </tr>\n",
              "    <tr>\n",
              "      <th>Cardiomegaly</th>\n",
              "      <td>1</td>\n",
              "    </tr>\n",
              "    <tr>\n",
              "      <th>Pleural_Thickening</th>\n",
              "      <td>0</td>\n",
              "    </tr>\n",
              "    <tr>\n",
              "      <th>Consolidation</th>\n",
              "      <td>0</td>\n",
              "    </tr>\n",
              "    <tr>\n",
              "      <th>Pneumothorax</th>\n",
              "      <td>0</td>\n",
              "    </tr>\n",
              "    <tr>\n",
              "      <th>MassNodule</th>\n",
              "      <td>0</td>\n",
              "    </tr>\n",
              "    <tr>\n",
              "      <th>Atelectasis</th>\n",
              "      <td>0</td>\n",
              "    </tr>\n",
              "    <tr>\n",
              "      <th>Effusion</th>\n",
              "      <td>0</td>\n",
              "    </tr>\n",
              "    <tr>\n",
              "      <th>Infiltration</th>\n",
              "      <td>0</td>\n",
              "    </tr>\n",
              "    <tr>\n",
              "      <th>No Finding</th>\n",
              "      <td>0</td>\n",
              "    </tr>\n",
              "  </tbody>\n",
              "</table>\n",
              "</div><br><label><b>dtype:</b> object</label>"
            ],
            "text/plain": [
              "Image Index                                            00000013_026.png\n",
              "Finding Labels                                   Cardiomegaly|Emphysema\n",
              "Follow-up #                                                          26\n",
              "Patient ID                                                           13\n",
              "Patient Age                                                          57\n",
              "Patient Gender                                                        M\n",
              "file_path             /kaggle/input/sample/sample/images/00000013_02...\n",
              "View Position                                                        AP\n",
              "Hernia                                                                0\n",
              "Pneumonia                                                             0\n",
              "Fibrosis                                                              0\n",
              "Edema                                                                 0\n",
              "Emphysema                                                             1\n",
              "Cardiomegaly                                                          1\n",
              "Pleural_Thickening                                                    0\n",
              "Consolidation                                                         0\n",
              "Pneumothorax                                                          0\n",
              "MassNodule                                                            0\n",
              "Atelectasis                                                           0\n",
              "Effusion                                                              0\n",
              "Infiltration                                                          0\n",
              "No Finding                                                            0\n",
              "Name: 1, dtype: object"
            ]
          },
          "execution_count": 13,
          "metadata": {},
          "output_type": "execute_result"
        }
      ],
      "source": [
        "# checking one row:\n",
        "df.iloc[1]"
      ]
    },
    {
      "cell_type": "code",
      "execution_count": null,
      "metadata": {
        "colab": {
          "base_uri": "https://localhost:8080/",
          "height": 870
        },
        "id": "D1KU2A8T2Xtz",
        "outputId": "44020ad7-e3c7-4644-aa0a-424925266ac4"
      },
      "outputs": [
        {
          "data": {
            "image/png": "[encoded data removed]",
            "text/plain": [
              "<Figure size 1500x1000 with 2 Axes>"
            ]
          },
          "metadata": {},
          "output_type": "display_data"
        }
      ],
      "source": [
        "import matplotlib.pyplot as plt\n",
        "import seaborn as sns\n",
        "import matplotlib.gridspec as gridspec\n",
        "import numpy as np\n",
        "\n",
        "plt.figure(figsize=(15,10))\n",
        "gs = gridspec.GridSpec(8,1)\n",
        "ax1 = plt.subplot(gs[:7, :])\n",
        "ax2 = plt.subplot(gs[7, :])\n",
        "\n",
        "data1 = pd.melt(df,\n",
        "             id_vars=['Patient Gender'],\n",
        "             value_vars = list(pathology_list),\n",
        "             var_name = 'Category',\n",
        "             value_name = 'Count')\n",
        "data1 = data1.loc[data1.Count>0]\n",
        "\n",
        "g=sns.countplot(y='Category',hue='Patient Gender',\n",
        "                data=data1, ax=ax1,\n",
        "                order = data1['Category'].value_counts().index)\n",
        "ax1.set( ylabel=\"\",xlabel=\"\")\n",
        "ax1.legend(fontsize=20)\n",
        "ax1.set_title('X Ray partition',fontsize=18);\n",
        "\n",
        "df['Nothing']=df['Finding Labels'].apply(lambda x: 1 if 'No Finding' in x else 0)\n",
        "\n",
        "data2 = pd.melt(df,\n",
        "             id_vars=['Patient Gender'],\n",
        "             value_vars = list(['Nothing']),\n",
        "             var_name = 'Category',\n",
        "             value_name = 'Count')\n",
        "\n",
        "data2 = data2.loc[data2.Count>0]\n",
        "\n",
        "g=sns.countplot(y='Category',hue='Patient Gender',data=data2,ax=ax2)\n",
        "ax2.set( ylabel=\"\",xlabel=\"Number of decease\")\n",
        "ax2.legend('')\n",
        "plt.subplots_adjust(hspace=.5)"
      ]
    },
    {
      "cell_type": "code",
      "execution_count": null,
      "metadata": {
        "colab": {
          "base_uri": "https://localhost:8080/",
          "height": 873
        },
        "id": "m219L8rF3FYM",
        "outputId": "515ed956-f32c-45b1-a4ad-dae544f5d035"
      },
      "outputs": [
        {
          "data": {
            "image/png": "[encoded data removed]",
            "text/plain": [
              "<Figure size 1500x1000 with 1 Axes>"
            ]
          },
          "metadata": {},
          "output_type": "display_data"
        }
      ],
      "source": [
        "data=df.groupby('Finding Labels').count().sort_values('Patient ID',ascending=False)\n",
        "df1=data[['|' in index for index in data.index]].copy()\n",
        "df2=data[['|' not in index for index in data.index]]\n",
        "df2=df2[['No Finding' not in index for index in df2.index]]\n",
        "df2['Finding Labels']=df2.index.values\n",
        "df1['Finding Labels']=df1.index.values\n",
        "\n",
        "f, ax = plt.subplots(sharex=True,figsize=(15, 10))\n",
        "g=sns.countplot(y='Category',data=data1, ax=ax, order = data1['Category'].value_counts().index,color='b',label=\"Multiple Pathologies\")\n",
        "sns.set_color_codes(\"muted\")\n",
        "g=sns.barplot(x='Patient ID',y='Finding Labels',data=df2, ax=ax, color=\"r\",label=\"Single Pathology\")\n",
        "ax.legend(ncol=2, loc=\"center right\", frameon=True,fontsize=20)\n",
        "ax.set( ylabel=\"\",xlabel=\"Number of Patients\")\n",
        "ax.set_title(\"Comparaison between Single or Multiple Pathologies\",fontsize=20)\n",
        "sns.despine(left=True)"
      ]
    },
    {
      "cell_type": "markdown",
      "metadata": {
        "id": "BhbaHIufBIHC"
      },
      "source": [
        "Multiple Prediction Labels:\n",
        "- multi-label medical image classification task, where each chest X-ray can be associated with zero, one, or more diseases\n",
        "- Imbalanced label distribution, especially skewed towards 'No Finding'\n",
        "\n",
        "Approaches to handling class imbalance:\n",
        "- convert to binary classification, 'Pathological' vs 'Non-Pathological'\n",
        "- downsample 'No Finding' to be similar to 'Infiltration'. Though, there is still class imbalance issue. Further, this reduce the total data set size to ~3300, and can be too little when split across clients in federated learning (about 5-20 clients)"
      ]
    },
    {
      "cell_type": "code",
      "execution_count": 5,
      "metadata": {
        "colab": {
          "base_uri": "https://localhost:8080/"
        },
        "id": "hCbqZALC9X_d",
        "outputId": "91135a2d-4c3f-443d-b03d-e7cb1ae90f7b"
      },
      "outputs": [
        {
          "name": "stdout",
          "output_type": "stream",
          "text": [
            "label\n",
            "0    3044\n",
            "1    2562\n",
            "Name: count, dtype: int64\n"
          ]
        }
      ],
      "source": [
        "# convert to binary classification:\n",
        "df['label'] = df['Finding Labels'].apply(lambda x: 0 if x == 'No Finding' else 1)\n",
        "print(df['label'].value_counts())"
      ]
    },
    {
      "cell_type": "code",
      "execution_count": 17,
      "metadata": {
        "colab": {
          "base_uri": "https://localhost:8080/"
        },
        "id": "SvTfKVDvvqbL",
        "outputId": "3e61c93e-2891-4359-a64f-c8273faf99c9"
      },
      "outputs": [
        {
          "name": "stdout",
          "output_type": "stream",
          "text": [
            "<class 'pandas.core.frame.DataFrame'>\n",
            "RangeIndex: 5606 entries, 0 to 5605\n",
            "Data columns (total 23 columns):\n",
            " #   Column              Non-Null Count  Dtype \n",
            "---  ------              --------------  ----- \n",
            " 0   Image Index         5606 non-null   object\n",
            " 1   Finding Labels      5606 non-null   object\n",
            " 2   Follow-up #         5606 non-null   int64 \n",
            " 3   Patient ID          5606 non-null   int64 \n",
            " 4   Patient Age         5606 non-null   int64 \n",
            " 5   Patient Gender      5606 non-null   object\n",
            " 6   file_path           5606 non-null   object\n",
            " 7   View Position       5606 non-null   object\n",
            " 8   Hernia              5606 non-null   int64 \n",
            " 9   Pneumonia           5606 non-null   int64 \n",
            " 10  Fibrosis            5606 non-null   int64 \n",
            " 11  Edema               5606 non-null   int64 \n",
            " 12  Emphysema           5606 non-null   int64 \n",
            " 13  Cardiomegaly        5606 non-null   int64 \n",
            " 14  Pleural_Thickening  5606 non-null   int64 \n",
            " 15  Consolidation       5606 non-null   int64 \n",
            " 16  Pneumothorax        5606 non-null   int64 \n",
            " 17  MassNodule          5606 non-null   int64 \n",
            " 18  Atelectasis         5606 non-null   int64 \n",
            " 19  Effusion            5606 non-null   int64 \n",
            " 20  Infiltration        5606 non-null   int64 \n",
            " 21  No Finding          5606 non-null   int64 \n",
            " 22  label               5606 non-null   int64 \n",
            "dtypes: int64(18), object(5)\n",
            "memory usage: 1007.5+ KB\n"
          ]
        }
      ],
      "source": [
        "df.info()"
      ]
    },
    {
      "cell_type": "code",
      "execution_count": 8,
      "metadata": {
        "id": "9TxlErHF2LYo"
      },
      "outputs": [],
      "source": [
        "from sklearn.preprocessing import StandardScaler, LabelEncoder\n",
        "\n",
        "# Copy relevant columns\n",
        "df['age'] = pd.to_numeric(df['Patient Age'], errors='coerce')\n",
        "df['gender'] = df['Patient Gender'].map({'M': 1, 'F': 0})\n",
        "df['view'] = LabelEncoder().fit_transform(df['View Position'])\n",
        "\n",
        "# Normalize age\n",
        "scaler = StandardScaler()\n",
        "df['age'] = scaler.fit_transform(df[['age']])"
      ]
    },
    {
      "cell_type": "markdown",
      "metadata": {
        "id": "bSKrwy39l0Ry"
      },
      "source": [
        "# Evaluation and baseline functions\n",
        "\n",
        "Privacy\n",
        "\n",
        "Performance\n",
        "\n",
        "computational efficiency\n",
        "\n",
        " communication overhead of the different methods"
      ]
    },
    {
      "cell_type": "code",
      "execution_count": 9,
      "metadata": {
        "colab": {
          "base_uri": "https://localhost:8080/"
        },
        "id": "2jPuCwyK0jNP",
        "outputId": "b253fb27-99ae-4d64-f804-df5ebfac4ca3"
      },
      "outputs": [
        {
          "name": "stdout",
          "output_type": "stream",
          "text": [
            "binary_label\n",
            "0    3044\n",
            "1    2562\n",
            "Name: count, dtype: int64\n",
            "                                           file_path  binary_label       age  \\\n",
            "0  /Users/admin/.cache/kagglehub/datasets/nih-che...             1  0.759983   \n",
            "1  /Users/admin/.cache/kagglehub/datasets/nih-che...             1  0.587681   \n",
            "2  /Users/admin/.cache/kagglehub/datasets/nih-che...             0  1.736363   \n",
            "3  /Users/admin/.cache/kagglehub/datasets/nih-che...             1  1.851232   \n",
            "4  /Users/admin/.cache/kagglehub/datasets/nih-che...             1  0.472812   \n",
            "\n",
            "   gender  view  \n",
            "0       1     0  \n",
            "1       1     0  \n",
            "2       1     0  \n",
            "3       1     1  \n",
            "4       0     0  \n"
          ]
        }
      ],
      "source": [
        "df = df[['file_path', 'label','age','gender','view']].copy()\n",
        "df.rename(columns={'label': 'binary_label'}, inplace=True)\n",
        "print(df['binary_label'].value_counts())\n",
        "print(df.head())"
      ]
    },
    {
      "cell_type": "markdown",
      "metadata": {
        "id": "L6xfl_Knks6R"
      },
      "source": [
        "# Baseline centralized Model\n",
        "- Resnet\n",
        "- obtain accuracy and loss on training and validation sets\n",
        "- calculate time (computational efficiency)\n",
        "- calculate privacy risks?"
      ]
    },
    {
      "cell_type": "code",
      "execution_count": null,
      "metadata": {
        "id": "bQEUsbFE20g8"
      },
      "outputs": [],
      "source": [
        "import os\n",
        "import random\n",
        "import csv\n",
        "import numpy as np\n",
        "import pandas as pd\n",
        "from PIL import Image\n",
        "from tqdm import tqdm\n",
        "\n",
        "import torch\n",
        "from torch import nn, optim\n",
        "from torch.utils.data import Dataset, DataLoader, random_split\n",
        "import torchvision.transforms as transforms\n",
        "from torchvision.models import resnet50, ResNet50_Weights\n"
      ]
    },
    {
      "cell_type": "code",
      "execution_count": null,
      "metadata": {
        "colab": {
          "base_uri": "https://localhost:8080/"
        },
        "id": "VcvrMKlWvU9v",
        "outputId": "5b94981b-4f23-4e5b-c439-203506d9ec1c"
      },
      "outputs": [
        {
          "name": "stderr",
          "output_type": "stream",
          "text": [
            "/usr/local/lib/python3.11/dist-packages/torchvision/models/_utils.py:208: UserWarning: The parameter 'pretrained' is deprecated since 0.13 and may be removed in the future, please use 'weights' instead.\n",
            "  warnings.warn(\n",
            "/usr/local/lib/python3.11/dist-packages/torchvision/models/_utils.py:223: UserWarning: Arguments other than a weight enum or `None` for 'weights' are deprecated since 0.13 and may be removed in the future. The current behavior is equivalent to passing `weights=ResNet50_Weights.IMAGENET1K_V1`. You can also use `weights=ResNet50_Weights.DEFAULT` to get the most up-to-date weights.\n",
            "  warnings.warn(msg)\n",
            "Downloading: \"https://download.pytorch.org/models/resnet50-0676ba61.pth\" to /root/.cache/torch/hub/checkpoints/resnet50-0676ba61.pth\n",
            "100%|██████████| 97.8M/97.8M [00:00<00:00, 208MB/s]\n"
          ]
        },
        {
          "name": "stdout",
          "output_type": "stream",
          "text": [
            "\n",
            "Epoch 1/30\n"
          ]
        },
        {
          "name": "stderr",
          "output_type": "stream",
          "text": []
        },
        {
          "name": "stdout",
          "output_type": "stream",
          "text": [
            "Train Loss: 0.6828, Acc: 0.5487\n",
            "Val   Loss: 0.6709, Acc: 0.6107\n",
            "\n",
            "Epoch 2/30\n"
          ]
        },
        {
          "name": "stderr",
          "output_type": "stream",
          "text": []
        },
        {
          "name": "stdout",
          "output_type": "stream",
          "text": [
            "Train Loss: 0.6699, Acc: 0.5958\n",
            "Val   Loss: 0.6595, Acc: 0.6262\n",
            "\n",
            "Epoch 3/30\n"
          ]
        },
        {
          "name": "stderr",
          "output_type": "stream",
          "text": []
        },
        {
          "name": "stdout",
          "output_type": "stream",
          "text": [
            "Train Loss: 0.6607, Acc: 0.6119\n",
            "Val   Loss: 0.6496, Acc: 0.6476\n",
            "\n",
            "Epoch 4/30\n"
          ]
        },
        {
          "name": "stderr",
          "output_type": "stream",
          "text": []
        },
        {
          "name": "stdout",
          "output_type": "stream",
          "text": [
            "Train Loss: 0.6529, Acc: 0.6361\n",
            "Val   Loss: 0.6428, Acc: 0.6464\n",
            "\n",
            "Epoch 5/30\n"
          ]
        },
        {
          "name": "stderr",
          "output_type": "stream",
          "text": []
        },
        {
          "name": "stdout",
          "output_type": "stream",
          "text": [
            "Train Loss: 0.6480, Acc: 0.6318\n",
            "Val   Loss: 0.6379, Acc: 0.6429\n",
            "\n",
            "Epoch 6/30\n"
          ]
        },
        {
          "name": "stderr",
          "output_type": "stream",
          "text": []
        },
        {
          "name": "stdout",
          "output_type": "stream",
          "text": [
            "Train Loss: 0.6468, Acc: 0.6430\n",
            "Val   Loss: 0.6377, Acc: 0.6548\n",
            "\n",
            "Epoch 7/30\n"
          ]
        },
        {
          "name": "stderr",
          "output_type": "stream",
          "text": []
        },
        {
          "name": "stdout",
          "output_type": "stream",
          "text": [
            "Train Loss: 0.6429, Acc: 0.6478\n",
            "Val   Loss: 0.6327, Acc: 0.6500\n",
            "\n",
            "Epoch 8/30\n"
          ]
        },
        {
          "name": "stderr",
          "output_type": "stream",
          "text": []
        },
        {
          "name": "stdout",
          "output_type": "stream",
          "text": [
            "Train Loss: 0.6390, Acc: 0.6448\n",
            "Val   Loss: 0.6310, Acc: 0.6583\n",
            "\n",
            "Epoch 9/30\n"
          ]
        },
        {
          "name": "stderr",
          "output_type": "stream",
          "text": []
        },
        {
          "name": "stdout",
          "output_type": "stream",
          "text": [
            "Train Loss: 0.6369, Acc: 0.6476\n",
            "Val   Loss: 0.6285, Acc: 0.6655\n",
            "\n",
            "Epoch 10/30\n"
          ]
        },
        {
          "name": "stderr",
          "output_type": "stream",
          "text": []
        },
        {
          "name": "stdout",
          "output_type": "stream",
          "text": [
            "Train Loss: 0.6324, Acc: 0.6521\n",
            "Val   Loss: 0.6276, Acc: 0.6631\n",
            "\n",
            "Epoch 11/30\n"
          ]
        },
        {
          "name": "stderr",
          "output_type": "stream",
          "text": []
        },
        {
          "name": "stdout",
          "output_type": "stream",
          "text": [
            "Train Loss: 0.6367, Acc: 0.6478\n",
            "Val   Loss: 0.6261, Acc: 0.6524\n",
            "\n",
            "Epoch 12/30\n"
          ]
        },
        {
          "name": "stderr",
          "output_type": "stream",
          "text": []
        },
        {
          "name": "stdout",
          "output_type": "stream",
          "text": [
            "Train Loss: 0.6316, Acc: 0.6537\n",
            "Val   Loss: 0.6257, Acc: 0.6536\n",
            "\n",
            "Epoch 13/30\n"
          ]
        },
        {
          "name": "stderr",
          "output_type": "stream",
          "text": []
        },
        {
          "name": "stdout",
          "output_type": "stream",
          "text": [
            "Train Loss: 0.6312, Acc: 0.6514\n",
            "Val   Loss: 0.6248, Acc: 0.6512\n",
            "\n",
            "Epoch 14/30\n"
          ]
        },
        {
          "name": "stderr",
          "output_type": "stream",
          "text": []
        },
        {
          "name": "stdout",
          "output_type": "stream",
          "text": [
            "Train Loss: 0.6326, Acc: 0.6570\n",
            "Val   Loss: 0.6240, Acc: 0.6548\n",
            "\n",
            "Epoch 15/30\n"
          ]
        },
        {
          "name": "stderr",
          "output_type": "stream",
          "text": []
        },
        {
          "name": "stdout",
          "output_type": "stream",
          "text": [
            "Train Loss: 0.6296, Acc: 0.6552\n",
            "Val   Loss: 0.6270, Acc: 0.6595\n",
            "\n",
            "Epoch 16/30\n"
          ]
        },
        {
          "name": "stderr",
          "output_type": "stream",
          "text": []
        },
        {
          "name": "stdout",
          "output_type": "stream",
          "text": [
            "Train Loss: 0.6275, Acc: 0.6514\n",
            "Val   Loss: 0.6231, Acc: 0.6560\n",
            "\n",
            "Epoch 17/30\n"
          ]
        },
        {
          "name": "stderr",
          "output_type": "stream",
          "text": []
        },
        {
          "name": "stdout",
          "output_type": "stream",
          "text": [
            "Train Loss: 0.6308, Acc: 0.6544\n",
            "Val   Loss: 0.6249, Acc: 0.6643\n",
            "\n",
            "Epoch 18/30\n"
          ]
        },
        {
          "name": "stderr",
          "output_type": "stream",
          "text": []
        },
        {
          "name": "stdout",
          "output_type": "stream",
          "text": [
            "Train Loss: 0.6343, Acc: 0.6465\n",
            "Val   Loss: 0.6217, Acc: 0.6500\n",
            "\n",
            "Epoch 19/30\n"
          ]
        },
        {
          "name": "stderr",
          "output_type": "stream",
          "text": []
        },
        {
          "name": "stdout",
          "output_type": "stream",
          "text": [
            "Train Loss: 0.6256, Acc: 0.6588\n",
            "Val   Loss: 0.6230, Acc: 0.6655\n",
            "\n",
            "Epoch 20/30\n"
          ]
        },
        {
          "name": "stderr",
          "output_type": "stream",
          "text": []
        },
        {
          "name": "stdout",
          "output_type": "stream",
          "text": [
            "Train Loss: 0.6299, Acc: 0.6504\n",
            "Val   Loss: 0.6209, Acc: 0.6583\n",
            "\n",
            "Epoch 21/30\n"
          ]
        },
        {
          "name": "stderr",
          "output_type": "stream",
          "text": []
        },
        {
          "name": "stdout",
          "output_type": "stream",
          "text": [
            "Train Loss: 0.6280, Acc: 0.6521\n",
            "Val   Loss: 0.6210, Acc: 0.6524\n",
            "\n",
            "Epoch 22/30\n"
          ]
        },
        {
          "name": "stderr",
          "output_type": "stream",
          "text": []
        },
        {
          "name": "stdout",
          "output_type": "stream",
          "text": [
            "Train Loss: 0.6264, Acc: 0.6537\n",
            "Val   Loss: 0.6216, Acc: 0.6631\n",
            "\n",
            "Epoch 23/30\n"
          ]
        },
        {
          "name": "stderr",
          "output_type": "stream",
          "text": []
        },
        {
          "name": "stdout",
          "output_type": "stream",
          "text": [
            "Train Loss: 0.6310, Acc: 0.6514\n",
            "Val   Loss: 0.6206, Acc: 0.6607\n",
            "\n",
            "Epoch 24/30\n"
          ]
        },
        {
          "name": "stderr",
          "output_type": "stream",
          "text": []
        },
        {
          "name": "stdout",
          "output_type": "stream",
          "text": [
            "Train Loss: 0.6264, Acc: 0.6565\n",
            "Val   Loss: 0.6210, Acc: 0.6560\n",
            "\n",
            "Epoch 25/30\n"
          ]
        },
        {
          "name": "stderr",
          "output_type": "stream",
          "text": []
        },
        {
          "name": "stdout",
          "output_type": "stream",
          "text": [
            "Train Loss: 0.6283, Acc: 0.6595\n",
            "Val   Loss: 0.6191, Acc: 0.6583\n",
            "\n",
            "Epoch 26/30\n"
          ]
        },
        {
          "name": "stderr",
          "output_type": "stream",
          "text": []
        },
        {
          "name": "stdout",
          "output_type": "stream",
          "text": [
            "Train Loss: 0.6281, Acc: 0.6527\n",
            "Val   Loss: 0.6200, Acc: 0.6583\n",
            "\n",
            "Epoch 27/30\n"
          ]
        },
        {
          "name": "stderr",
          "output_type": "stream",
          "text": []
        },
        {
          "name": "stdout",
          "output_type": "stream",
          "text": [
            "Train Loss: 0.6229, Acc: 0.6697\n",
            "Val   Loss: 0.6191, Acc: 0.6631\n",
            "\n",
            "Epoch 28/30\n"
          ]
        },
        {
          "name": "stderr",
          "output_type": "stream",
          "text": []
        },
        {
          "name": "stdout",
          "output_type": "stream",
          "text": [
            "Train Loss: 0.6216, Acc: 0.6692\n",
            "Val   Loss: 0.6191, Acc: 0.6560\n",
            "\n",
            "Epoch 29/30\n"
          ]
        },
        {
          "name": "stderr",
          "output_type": "stream",
          "text": []
        },
        {
          "name": "stdout",
          "output_type": "stream",
          "text": [
            "Train Loss: 0.6278, Acc: 0.6532\n",
            "Val   Loss: 0.6190, Acc: 0.6595\n",
            "\n",
            "Epoch 30/30\n"
          ]
        },
        {
          "name": "stderr",
          "output_type": "stream",
          "text": []
        },
        {
          "name": "stdout",
          "output_type": "stream",
          "text": [
            "Train Loss: 0.6274, Acc: 0.6442\n",
            "Val   Loss: 0.6180, Acc: 0.6595\n",
            "\n",
            "Loading best model for final test evaluation...\n"
          ]
        },
        {
          "name": "stderr",
          "output_type": "stream",
          "text": [
            "                                                           "
          ]
        },
        {
          "name": "stdout",
          "output_type": "stream",
          "text": [
            "\n",
            "✅ Test Loss: 0.6285, Test Accuracy: 0.6413\n"
          ]
        },
        {
          "name": "stderr",
          "output_type": "stream",
          "text": [
            "\r"
          ]
        }
      ],
      "source": [
        "# --- 1. Seed ---\n",
        "def set_seed(seed):\n",
        "    torch.manual_seed(seed)\n",
        "    np.random.seed(seed)\n",
        "    torch.cuda.manual_seed(seed)\n",
        "\n",
        "# --- 2. Dataset ---\n",
        "class ChestXrayMultimodalDataset(Dataset):\n",
        "    def __init__(self, df, transform=None):\n",
        "        self.df = df.reset_index(drop=True)\n",
        "        self.transform = transform\n",
        "\n",
        "    def __len__(self):\n",
        "        return len(self.df)\n",
        "\n",
        "    def __getitem__(self, idx):\n",
        "        row = self.df.loc[idx]\n",
        "        image = Image.open(row['file_path']).convert('RGB')\n",
        "        label = row['binary_label']\n",
        "\n",
        "        tabular = np.array([row['age'], row['gender'], row['view']], dtype=np.float32)\n",
        "        if self.transform:\n",
        "            image = self.transform(image)\n",
        "\n",
        "        return image, torch.tensor(tabular), torch.tensor(label, dtype=torch.float32)\n",
        "\n",
        "# --- 3. Transforms ---\n",
        "def get_transforms(train=True):\n",
        "    if train:\n",
        "        return transforms.Compose([\n",
        "            transforms.Resize((224, 224)),\n",
        "            transforms.RandomHorizontalFlip(),\n",
        "            transforms.RandomRotation(10),\n",
        "            transforms.ColorJitter(brightness=0.1, contrast=0.1),\n",
        "            transforms.ToTensor(),\n",
        "            transforms.Normalize([0.485, 0.456, 0.406],\n",
        "                                 [0.229, 0.224, 0.225])\n",
        "        ])\n",
        "    else:\n",
        "        return transforms.Compose([\n",
        "            transforms.Resize((224, 224)),\n",
        "            transforms.ToTensor(),\n",
        "            transforms.Normalize([0.485, 0.456, 0.406],\n",
        "                                 [0.229, 0.224, 0.225])\n",
        "        ])\n",
        "\n",
        "# --- 4. Train/Eval Functions ---\n",
        "def train_one_epoch(model, loader, optimizer, criterion, device):\n",
        "    model.train()\n",
        "    total_loss, correct, total = 0, 0, 0\n",
        "    for images, tabular, labels in tqdm(loader, desc=\"Training\", leave=False):\n",
        "        images = images.to(device)\n",
        "        tabular = tabular.to(device)\n",
        "        labels = labels.to(device).unsqueeze(1)\n",
        "\n",
        "        optimizer.zero_grad()\n",
        "        outputs = model(images, tabular)\n",
        "        loss = criterion(outputs, labels)\n",
        "        loss.backward()\n",
        "        optimizer.step()\n",
        "\n",
        "        total_loss += loss.item() * labels.size(0)\n",
        "        preds = torch.sigmoid(outputs) > 0.5\n",
        "        correct += (preds == labels).sum().item()\n",
        "        total += labels.size(0)\n",
        "\n",
        "    return total_loss / total, correct / total\n",
        "\n",
        "\n",
        "def evaluate(model, loader, criterion, device):\n",
        "    model.eval()\n",
        "    total_loss, correct, total = 0, 0, 0\n",
        "    with torch.no_grad():\n",
        "        for images, tabular, labels in tqdm(loader, desc=\"Evaluating\", leave=False):\n",
        "            images = images.to(device)\n",
        "            tabular = tabular.to(device)\n",
        "            labels = labels.to(device).unsqueeze(1)\n",
        "\n",
        "            outputs = model(images, tabular)\n",
        "            loss = criterion(outputs, labels)\n",
        "\n",
        "            total_loss += loss.item() * labels.size(0)\n",
        "            preds = torch.sigmoid(outputs) > 0.5\n",
        "            correct += (preds == labels).sum().item()\n",
        "            total += labels.size(0)\n",
        "\n",
        "    return total_loss / total, correct / total\n",
        "\n",
        "\n",
        "\n",
        "class MultimodalResNet50(nn.Module):\n",
        "    def __init__(self, tabular_input_dim=3):\n",
        "        super().__init__()\n",
        "        self.cnn = resnet50(pretrained=True)\n",
        "        for param in self.cnn.parameters():\n",
        "            param.requires_grad = False  # Freeze all layers\n",
        "        self.cnn.fc = nn.Identity()  # Remove final FC layer\n",
        "\n",
        "        # Tabular branch\n",
        "        self.tabular_mlp = nn.Sequential(\n",
        "            nn.Linear(tabular_input_dim, 16),\n",
        "            nn.ReLU(),\n",
        "            nn.Linear(16, 8)\n",
        "        )\n",
        "\n",
        "        # Combined head\n",
        "        self.classifier = nn.Sequential(\n",
        "            nn.Linear(2048 + 8, 1)  # 2048 from ResNet50\n",
        "        )\n",
        "\n",
        "    def forward(self, image, tabular):\n",
        "        image_feat = self.cnn(image)  # (B, 2048)\n",
        "        tab_feat = self.tabular_mlp(tabular)  # (B, 8)\n",
        "        combined = torch.cat((image_feat, tab_feat), dim=1)\n",
        "        return self.classifier(combined)\n",
        "\n",
        "\n",
        "# --- 5. Main ---\n",
        "\n",
        "def main(df, output_csv='centralized_multimodal_resnet50.csv', max_epochs=30, patience=5):\n",
        "    set_seed(42)\n",
        "    device = torch.device(\"cuda\" if torch.cuda.is_available() else \"cpu\")\n",
        "\n",
        "    # --- Split the data ---\n",
        "    train_frac, val_frac = 0.7, 0.15\n",
        "    train_size = int(train_frac * len(df))\n",
        "    val_size = int(val_frac * len(df))\n",
        "    test_size = len(df) - train_size - val_size\n",
        "\n",
        "    train_df, val_df, test_df = random_split(df, [train_size, val_size, test_size],\n",
        "                                             generator=torch.Generator().manual_seed(42))\n",
        "    train_df = df.iloc[train_df.indices]\n",
        "    val_df = df.iloc[val_df.indices]\n",
        "    test_df = df.iloc[test_df.indices]\n",
        "\n",
        "    # --- Dataloaders ---\n",
        "\n",
        "\n",
        "    train_loader = DataLoader(ChestXrayMultimodalDataset(train_df, get_transforms(train=True)), batch_size=32, shuffle=True)\n",
        "    val_loader = DataLoader(ChestXrayMultimodalDataset(val_df, get_transforms(train=False)), batch_size=32)\n",
        "    test_loader = DataLoader(ChestXrayMultimodalDataset(test_df, get_transforms(train=False)), batch_size=32)\n",
        "\n",
        "    # --- Multimodal Model ---\n",
        "    model = MultimodalResNet50(tabular_input_dim=3).to(device)\n",
        "\n",
        "    # --- Loss & Optimizer ---\n",
        "    criterion = nn.BCEWithLogitsLoss()\n",
        "    optimizer = optim.Adam(model.parameters(), lr=1e-4, weight_decay=1e-4)\n",
        "\n",
        "    # --- CSV logging ---\n",
        "    with open(output_csv, 'w', newline='') as f:\n",
        "        writer = csv.writer(f)\n",
        "        writer.writerow(['Epoch', 'Train Loss', 'Train Acc', 'Val Loss', 'Val Acc'])\n",
        "\n",
        "    best_val_loss = float('inf')\n",
        "    patience_counter = 0\n",
        "\n",
        "    # --- Training Loop ---\n",
        "    for epoch in range(1, max_epochs + 1):\n",
        "        print(f\"\\nEpoch {epoch}/{max_epochs}\")\n",
        "        train_loss, train_acc = train_one_epoch(model, train_loader, optimizer, criterion, device)\n",
        "        val_loss, val_acc = evaluate(model, val_loader, criterion, device)\n",
        "\n",
        "        print(f\"Train Loss: {train_loss:.4f}, Acc: {train_acc:.4f}\")\n",
        "        print(f\"Val   Loss: {val_loss:.4f}, Acc: {val_acc:.4f}\")\n",
        "\n",
        "        with open(output_csv, 'a', newline='') as f:\n",
        "            writer = csv.writer(f)\n",
        "            writer.writerow([epoch, train_loss, train_acc, val_loss, val_acc])\n",
        "\n",
        "        if val_loss < best_val_loss:\n",
        "            best_val_loss = val_loss\n",
        "            patience_counter = 0\n",
        "            torch.save(model.state_dict(), 'best_multimodal_model.pt')\n",
        "        else:\n",
        "            patience_counter += 1\n",
        "            if patience_counter >= patience:\n",
        "                print(\"Early stopping triggered.\")\n",
        "                break\n",
        "\n",
        "    # --- Final Evaluation ---\n",
        "    print(\"\\nLoading best model for final test evaluation...\")\n",
        "    model.load_state_dict(torch.load('best_multimodal_model.pt'))\n",
        "    test_loss, test_acc = evaluate(model, test_loader, criterion, device)\n",
        "    print(f\"\\n✅ Test Loss: {test_loss:.4f}, Test Accuracy: {test_acc:.4f}\")\n",
        "\n",
        "\n",
        "main(df)"
      ]
    },
    {
      "cell_type": "code",
      "execution_count": null,
      "metadata": {
        "colab": {
          "base_uri": "https://localhost:8080/",
          "height": 507
        },
        "id": "U9Zn5qXZF7Lr",
        "outputId": "467552d3-ceaf-4ccd-8dc2-aef8c3bf5653"
      },
      "outputs": [
        {
          "data": {
            "image/png": "[encoded data removed]",
            "text/plain": [
              "<Figure size 1200x500 with 2 Axes>"
            ]
          },
          "metadata": {},
          "output_type": "display_data"
        }
      ],
      "source": [
        "# plotting loss and accuracy:\n",
        "import matplotlib.pyplot as plt\n",
        "\n",
        "df_metrics = pd.read_csv('/content/centralized_multimodal_resnet50.csv')\n",
        "\n",
        "# Plot style\n",
        "plt.figure(figsize=(12, 5))\n",
        "\n",
        "# --- Accuracy Plot ---\n",
        "plt.subplot(1, 2, 1)\n",
        "plt.plot(df_metrics['Epoch'], df_metrics['Train Acc'], color='blue', label='Train Acc', linewidth=2)\n",
        "plt.plot(df_metrics['Epoch'], df_metrics['Val Acc'], color='blue', linestyle='--', label='Val Acc', linewidth=2)\n",
        "plt.xlabel('Epoch')\n",
        "plt.ylabel('Accuracy')\n",
        "plt.title('Accuracy over Epochs')\n",
        "plt.legend()\n",
        "plt.grid(True)\n",
        "\n",
        "# --- Loss Plot ---\n",
        "plt.subplot(1, 2, 2)\n",
        "plt.plot(df_metrics['Epoch'], df_metrics['Train Loss'], color='red', label='Train Loss', linewidth=2)\n",
        "plt.plot(df_metrics['Epoch'], df_metrics['Val Loss'], color='red', linestyle='--', label='Val Loss', linewidth=2)\n",
        "plt.xlabel('Epoch')\n",
        "plt.ylabel('Loss')\n",
        "plt.title('Loss over Epochs')\n",
        "plt.legend()\n",
        "plt.grid(True)\n",
        "\n",
        "plt.tight_layout()\n",
        "plt.show()\n"
      ]
    },
    {
      "cell_type": "markdown",
      "metadata": {
        "id": "6fhcSJS8kwVj"
      },
      "source": [
        "# Decentralized:\n",
        "- fedavg\n",
        "- fedprox\n",
        "- fedAdam\n",
        "https://medium.com/@entrepreneurbilal10/federated-learning-95d7a6435f08"
      ]
    },
    {
      "cell_type": "code",
      "execution_count": 10,
      "metadata": {
        "colab": {
          "base_uri": "https://localhost:8080/"
        },
        "id": "iQhy2_Cb36At",
        "outputId": "5b7ab7dc-1d59-4b7b-9ccf-17f6f3e666c9"
      },
      "outputs": [
        {
          "name": "stderr",
          "output_type": "stream",
          "text": [
            "2025-04-25 17:18:43,110\tINFO util.py:154 -- Missing packages: ['ipywidgets']. Run `pip install -U ipywidgets`, then restart the notebook server for rich notebook output.\n"
          ]
        },
        {
          "name": "stdout",
          "output_type": "stream",
          "text": [
            "Your Flower version: 1.18.0\n"
          ]
        }
      ],
      "source": [
        "import flwr\n",
        "print(\"Your Flower version:\", flwr.__version__)"
      ]
    },
    {
      "cell_type": "code",
      "execution_count": 11,
      "metadata": {
        "id": "s98wEF5Q8pCx"
      },
      "outputs": [
        {
          "ename": "ModuleNotFoundError",
          "evalue": "No module named '_lzma'",
          "output_type": "error",
          "traceback": [
            "\u001b[0;31m---------------------------------------------------------------------------\u001b[0m",
            "\u001b[0;31mModuleNotFoundError\u001b[0m                       Traceback (most recent call last)",
            "Cell \u001b[0;32mIn[11], line 13\u001b[0m\n\u001b[1;32m     11\u001b[0m \u001b[38;5;28;01mimport\u001b[39;00m\u001b[38;5;250m \u001b[39m\u001b[38;5;21;01mtorch\u001b[39;00m\u001b[38;5;21;01m.\u001b[39;00m\u001b[38;5;21;01mnn\u001b[39;00m\u001b[38;5;250m \u001b[39m\u001b[38;5;28;01mas\u001b[39;00m\u001b[38;5;250m \u001b[39m\u001b[38;5;21;01mnn\u001b[39;00m\n\u001b[1;32m     12\u001b[0m \u001b[38;5;28;01mimport\u001b[39;00m\u001b[38;5;250m \u001b[39m\u001b[38;5;21;01mtorch\u001b[39;00m\u001b[38;5;21;01m.\u001b[39;00m\u001b[38;5;21;01mnn\u001b[39;00m\u001b[38;5;21;01m.\u001b[39;00m\u001b[38;5;21;01mfunctional\u001b[39;00m\u001b[38;5;250m \u001b[39m\u001b[38;5;28;01mas\u001b[39;00m\u001b[38;5;250m \u001b[39m\u001b[38;5;21;01mF\u001b[39;00m\n\u001b[0;32m---> 13\u001b[0m \u001b[38;5;28;01mimport\u001b[39;00m\u001b[38;5;250m \u001b[39m\u001b[38;5;21;01mtorchvision\u001b[39;00m\u001b[38;5;21;01m.\u001b[39;00m\u001b[38;5;21;01mtransforms\u001b[39;00m\u001b[38;5;250m \u001b[39m\u001b[38;5;28;01mas\u001b[39;00m\u001b[38;5;250m \u001b[39m\u001b[38;5;21;01mtransforms\u001b[39;00m\n\u001b[1;32m     14\u001b[0m \u001b[38;5;28;01mfrom\u001b[39;00m\u001b[38;5;250m \u001b[39m\u001b[38;5;21;01mtorch\u001b[39;00m\u001b[38;5;21;01m.\u001b[39;00m\u001b[38;5;21;01mutils\u001b[39;00m\u001b[38;5;21;01m.\u001b[39;00m\u001b[38;5;21;01mdata\u001b[39;00m\u001b[38;5;250m \u001b[39m\u001b[38;5;28;01mimport\u001b[39;00m Dataset, DataLoader, random_split\n\u001b[1;32m     17\u001b[0m \u001b[38;5;28;01mimport\u001b[39;00m\u001b[38;5;250m \u001b[39m\u001b[38;5;21;01mflwr\u001b[39;00m\n",
            "File \u001b[0;32m~/Desktop/fl/fl_env/lib/python3.10/site-packages/torchvision/__init__.py:10\u001b[0m\n\u001b[1;32m      7\u001b[0m \u001b[38;5;66;03m# Don't re-order these, we need to load the _C extension (done when importing\u001b[39;00m\n\u001b[1;32m      8\u001b[0m \u001b[38;5;66;03m# .extensions) before entering _meta_registrations.\u001b[39;00m\n\u001b[1;32m      9\u001b[0m \u001b[38;5;28;01mfrom\u001b[39;00m\u001b[38;5;250m \u001b[39m\u001b[38;5;21;01m.\u001b[39;00m\u001b[38;5;21;01mextension\u001b[39;00m\u001b[38;5;250m \u001b[39m\u001b[38;5;28;01mimport\u001b[39;00m _HAS_OPS  \u001b[38;5;66;03m# usort:skip\u001b[39;00m\n\u001b[0;32m---> 10\u001b[0m \u001b[38;5;28;01mfrom\u001b[39;00m\u001b[38;5;250m \u001b[39m\u001b[38;5;21;01mtorchvision\u001b[39;00m\u001b[38;5;250m \u001b[39m\u001b[38;5;28;01mimport\u001b[39;00m _meta_registrations, datasets, io, models, ops, transforms, utils  \u001b[38;5;66;03m# usort:skip\u001b[39;00m\n\u001b[1;32m     12\u001b[0m \u001b[38;5;28;01mtry\u001b[39;00m:\n\u001b[1;32m     13\u001b[0m     \u001b[38;5;28;01mfrom\u001b[39;00m\u001b[38;5;250m \u001b[39m\u001b[38;5;21;01m.\u001b[39;00m\u001b[38;5;21;01mversion\u001b[39;00m\u001b[38;5;250m \u001b[39m\u001b[38;5;28;01mimport\u001b[39;00m __version__  \u001b[38;5;66;03m# noqa: F401\u001b[39;00m\n",
            "File \u001b[0;32m~/Desktop/fl/fl_env/lib/python3.10/site-packages/torchvision/datasets/__init__.py:1\u001b[0m\n\u001b[0;32m----> 1\u001b[0m \u001b[38;5;28;01mfrom\u001b[39;00m\u001b[38;5;250m \u001b[39m\u001b[38;5;21;01m.\u001b[39;00m\u001b[38;5;21;01m_optical_flow\u001b[39;00m\u001b[38;5;250m \u001b[39m\u001b[38;5;28;01mimport\u001b[39;00m FlyingChairs, FlyingThings3D, HD1K, KittiFlow, Sintel\n\u001b[1;32m      2\u001b[0m \u001b[38;5;28;01mfrom\u001b[39;00m\u001b[38;5;250m \u001b[39m\u001b[38;5;21;01m.\u001b[39;00m\u001b[38;5;21;01m_stereo_matching\u001b[39;00m\u001b[38;5;250m \u001b[39m\u001b[38;5;28;01mimport\u001b[39;00m (\n\u001b[1;32m      3\u001b[0m     CarlaStereo,\n\u001b[1;32m      4\u001b[0m     CREStereo,\n\u001b[0;32m   (...)\u001b[0m\n\u001b[1;32m     12\u001b[0m     SintelStereo,\n\u001b[1;32m     13\u001b[0m )\n\u001b[1;32m     14\u001b[0m \u001b[38;5;28;01mfrom\u001b[39;00m\u001b[38;5;250m \u001b[39m\u001b[38;5;21;01m.\u001b[39;00m\u001b[38;5;21;01mcaltech\u001b[39;00m\u001b[38;5;250m \u001b[39m\u001b[38;5;28;01mimport\u001b[39;00m Caltech101, Caltech256\n",
            "File \u001b[0;32m~/Desktop/fl/fl_env/lib/python3.10/site-packages/torchvision/datasets/_optical_flow.py:14\u001b[0m\n\u001b[1;32m     12\u001b[0m \u001b[38;5;28;01mfrom\u001b[39;00m\u001b[38;5;250m \u001b[39m\u001b[38;5;21;01m.\u001b[39;00m\u001b[38;5;21;01m.\u001b[39;00m\u001b[38;5;21;01mio\u001b[39;00m\u001b[38;5;21;01m.\u001b[39;00m\u001b[38;5;21;01mimage\u001b[39;00m\u001b[38;5;250m \u001b[39m\u001b[38;5;28;01mimport\u001b[39;00m decode_png, read_file\n\u001b[1;32m     13\u001b[0m \u001b[38;5;28;01mfrom\u001b[39;00m\u001b[38;5;250m \u001b[39m\u001b[38;5;21;01m.\u001b[39;00m\u001b[38;5;21;01mfolder\u001b[39;00m\u001b[38;5;250m \u001b[39m\u001b[38;5;28;01mimport\u001b[39;00m default_loader\n\u001b[0;32m---> 14\u001b[0m \u001b[38;5;28;01mfrom\u001b[39;00m\u001b[38;5;250m \u001b[39m\u001b[38;5;21;01m.\u001b[39;00m\u001b[38;5;21;01mutils\u001b[39;00m\u001b[38;5;250m \u001b[39m\u001b[38;5;28;01mimport\u001b[39;00m _read_pfm, verify_str_arg\n\u001b[1;32m     15\u001b[0m \u001b[38;5;28;01mfrom\u001b[39;00m\u001b[38;5;250m \u001b[39m\u001b[38;5;21;01m.\u001b[39;00m\u001b[38;5;21;01mvision\u001b[39;00m\u001b[38;5;250m \u001b[39m\u001b[38;5;28;01mimport\u001b[39;00m VisionDataset\n\u001b[1;32m     17\u001b[0m T1 \u001b[38;5;241m=\u001b[39m Tuple[Image\u001b[38;5;241m.\u001b[39mImage, Image\u001b[38;5;241m.\u001b[39mImage, Optional[np\u001b[38;5;241m.\u001b[39mndarray], Optional[np\u001b[38;5;241m.\u001b[39mndarray]]\n",
            "File \u001b[0;32m~/Desktop/fl/fl_env/lib/python3.10/site-packages/torchvision/datasets/utils.py:4\u001b[0m\n\u001b[1;32m      2\u001b[0m \u001b[38;5;28;01mimport\u001b[39;00m\u001b[38;5;250m \u001b[39m\u001b[38;5;21;01mgzip\u001b[39;00m\n\u001b[1;32m      3\u001b[0m \u001b[38;5;28;01mimport\u001b[39;00m\u001b[38;5;250m \u001b[39m\u001b[38;5;21;01mhashlib\u001b[39;00m\n\u001b[0;32m----> 4\u001b[0m \u001b[38;5;28;01mimport\u001b[39;00m\u001b[38;5;250m \u001b[39m\u001b[38;5;21;01mlzma\u001b[39;00m\n\u001b[1;32m      5\u001b[0m \u001b[38;5;28;01mimport\u001b[39;00m\u001b[38;5;250m \u001b[39m\u001b[38;5;21;01mos\u001b[39;00m\n\u001b[1;32m      6\u001b[0m \u001b[38;5;28;01mimport\u001b[39;00m\u001b[38;5;250m \u001b[39m\u001b[38;5;21;01mos\u001b[39;00m\u001b[38;5;21;01m.\u001b[39;00m\u001b[38;5;21;01mpath\u001b[39;00m\n",
            "File \u001b[0;32m~/.pyenv/versions/3.10.0/lib/python3.10/lzma.py:27\u001b[0m\n\u001b[1;32m     25\u001b[0m \u001b[38;5;28;01mimport\u001b[39;00m\u001b[38;5;250m \u001b[39m\u001b[38;5;21;01mio\u001b[39;00m\n\u001b[1;32m     26\u001b[0m \u001b[38;5;28;01mimport\u001b[39;00m\u001b[38;5;250m \u001b[39m\u001b[38;5;21;01mos\u001b[39;00m\n\u001b[0;32m---> 27\u001b[0m \u001b[38;5;28;01mfrom\u001b[39;00m\u001b[38;5;250m \u001b[39m\u001b[38;5;21;01m_lzma\u001b[39;00m\u001b[38;5;250m \u001b[39m\u001b[38;5;28;01mimport\u001b[39;00m \u001b[38;5;241m*\u001b[39m\n\u001b[1;32m     28\u001b[0m \u001b[38;5;28;01mfrom\u001b[39;00m\u001b[38;5;250m \u001b[39m\u001b[38;5;21;01m_lzma\u001b[39;00m\u001b[38;5;250m \u001b[39m\u001b[38;5;28;01mimport\u001b[39;00m _encode_filter_properties, _decode_filter_properties\n\u001b[1;32m     29\u001b[0m \u001b[38;5;28;01mimport\u001b[39;00m\u001b[38;5;250m \u001b[39m\u001b[38;5;21;01m_compression\u001b[39;00m\n",
            "\u001b[0;31mModuleNotFoundError\u001b[0m: No module named '_lzma'"
          ]
        }
      ],
      "source": [
        "from collections import OrderedDict\n",
        "from typing import List, Tuple\n",
        "import time\n",
        "import csv\n",
        "from pathlib import Path\n",
        "\n",
        "\n",
        "import matplotlib.pyplot as plt\n",
        "import numpy as np\n",
        "import torch\n",
        "import torch.nn as nn\n",
        "import torch.nn.functional as F\n",
        "import torchvision.transforms as transforms\n",
        "from torch.utils.data import Dataset, DataLoader, random_split\n",
        "\n",
        "\n",
        "import flwr\n",
        "from flwr.client import Client, ClientApp, NumPyClient\n",
        "from flwr.common import Metrics, Context\n",
        "from flwr.server import ServerConfig, ServerAppComponents, ServerApp\n",
        "from flwr.server.strategy import FedAvg, FedProx, fedadam\n",
        "from flwr.server.strategy.fedopt import FedOpt\n",
        "from flwr.simulation import run_simulation"
      ]
    },
    {
      "cell_type": "code",
      "execution_count": 12,
      "metadata": {
        "id": "4irnY1t5lQnX"
      },
      "outputs": [],
      "source": [
        "# === CONFIG ===\n",
        "DEVICE = torch.device(\"cuda\" if torch.cuda.is_available() else \"cpu\")\n",
        "NUM_CLIENTS = 5\n",
        "BATCH_SIZE = 32\n",
        "NUM_ROUNDS = 20"
      ]
    },
    {
      "cell_type": "code",
      "execution_count": 13,
      "metadata": {
        "id": "wbWnUfRUKj3a"
      },
      "outputs": [],
      "source": [
        "#  -------------------------- Helper: Data Partition ----------------------------------------\n",
        "# === DATASET AND MODEL ===\n",
        "from torchvision import datasets, transforms\n",
        "import torch\n",
        "\n",
        "# === DATASET ===\n",
        "class ChestXrayMultimodalDataset(Dataset):\n",
        "    def __init__(self, df, transform=None):\n",
        "        self.df = df.reset_index(drop=True)\n",
        "        self.transform = transform\n",
        "\n",
        "    def __len__(self):\n",
        "        return len(self.df)\n",
        "\n",
        "    def __getitem__(self, idx):\n",
        "        row = self.df.loc[idx]\n",
        "        image = Image.open(row['file_path']).convert('RGB')\n",
        "        label = row['binary_label']\n",
        "        tabular = np.array([row['age'], row['gender'], row['view']], dtype=np.float32)\n",
        "        if self.transform:\n",
        "            image = self.transform(image)\n",
        "        return image, torch.tensor(tabular), torch.tensor(label, dtype=torch.float32)\n",
        "\n",
        "def load_datasets(partition_id): # with data partition\n",
        "    transform = transforms.Compose([\n",
        "      transforms.Resize((224, 224)),\n",
        "      transforms.ToTensor(),\n",
        "      transforms.Normalize(mean=[0.485, 0.456, 0.406], std=[0.229, 0.224, 0.225])\n",
        "    ])\n",
        "\n",
        "    trainset = CXRDataset(train_df, \"./nih_images/train/\", transform=transform)\n",
        "    testset = CXRDataset(test_df, \"./nih_images/test/\", transform=transform)\n",
        "\n",
        "    partition_size = len(trainset) // NUM_CLIENTS\n",
        "    diff = len(trainset) - partition_size * NUM_CLIENTS\n",
        "\n",
        "    if diff  == 0:\n",
        "      lengths = [partition_size] * NUM_CLIENTS\n",
        "    else:\n",
        "      lengths = [partition_size] * (NUM_CLIENTS - 1)\n",
        "      lengths.append(partition_size + diff)\n",
        "\n",
        "    datasets = random_split(trainset, lengths, torch.Generator().manual_seed(42))\n",
        "\n",
        "    trainloader = []\n",
        "    valloader = []\n",
        "\n",
        "    for ds in datasets:\n",
        "      val_len = len(ds) // 10\n",
        "      train_len = len(ds) - val_len\n",
        "      lens = [train_len, val_len]\n",
        "\n",
        "      ds_train, ds_val =  random_split(ds, lens, torch.Generator().manual_seed(42))\n",
        "      trainloader.append(DataLoader(ds_train, batch_size=BATCH_SIZE, shuffle=True))\n",
        "      valloader.append(DataLoader(ds_val, batch_size=BATCH_SIZE))\n",
        "    testloader = DataLoader(testset, batch_size=BATCH_SIZE)\n",
        "\n",
        "    if partition_id == -1: # for whole dataset (no clients - centralized model)\n",
        "      trainloader = DataLoader(trainset, batch_size=BATCH_SIZE, shuffle=True)\n",
        "      testloader = DataLoader(testset, batch_size=BATCH_SIZE)\n",
        "\n",
        "      return trainloader, testloader\n",
        "\n",
        "    return trainloader[partition_id], valloader[partition_id], testloader"
      ]
    },
    {
      "cell_type": "code",
      "execution_count": 14,
      "metadata": {
        "id": "JAy_kGLbMziy"
      },
      "outputs": [],
      "source": [
        "#---------------------- Helper Function: Model Builder ------------------------------#\n",
        "import torch\n",
        "import torch.nn as nn\n",
        "import torch.nn.functional as F\n",
        "\n",
        "class MultimodalNetNIH(nn.Module):\n",
        "    def __init__(self, tabular_input_dim=3):\n",
        "        super(MultimodalNetNIH, self).__init__()\n",
        "        self.cnn = nn.Sequential(\n",
        "            nn.Conv2d(3, 32, 3, padding=1), nn.ReLU(), nn.MaxPool2d(2),\n",
        "            nn.Conv2d(32, 64, 3, padding=1), nn.ReLU(), nn.MaxPool2d(2),\n",
        "            nn.Conv2d(64, 128, 3, padding=1), nn.ReLU(), nn.MaxPool2d(2),\n",
        "            nn.Conv2d(128, 256, 3, padding=1), nn.ReLU(), nn.MaxPool2d(2)\n",
        "        )\n",
        "        self.image_fc = nn.Sequential(\n",
        "            nn.Linear(256 * 14 * 14, 512), nn.ReLU(), nn.Dropout(0.5),\n",
        "            nn.Linear(512, 128), nn.ReLU(), nn.Dropout(0.5)\n",
        "        )\n",
        "        self.tabular_fc = nn.Sequential(\n",
        "            nn.Linear(tabular_input_dim, 16), nn.ReLU(),\n",
        "            nn.Linear(16, 8), nn.ReLU()\n",
        "        )\n",
        "        self.final_fc = nn.Sequential(\n",
        "            nn.Linear(128 + 8, 1)\n",
        "        )\n",
        "\n",
        "    def forward(self, image, tabular):\n",
        "        x_img = self.cnn(image)\n",
        "        x_img = x_img.view(x_img.size(0), -1)\n",
        "        x_img = self.image_fc(x_img)\n",
        "        x_tab = self.tabular_fc(tabular)\n",
        "        x = torch.cat((x_img, x_tab), dim=1)\n",
        "        return torch.sigmoid(self.final_fc(x))\n"
      ]
    },
    {
      "cell_type": "code",
      "execution_count": 15,
      "metadata": {
        "id": "hJaXmeLEOm1U"
      },
      "outputs": [],
      "source": [
        "# === FL Utilities ===\n",
        "\n",
        "def train(model, loader, epochs=1, fedprox_mu=0.0, global_params=None):\n",
        "    model.train()\n",
        "    optimizer = torch.optim.Adam(model.parameters(), lr=0.001)\n",
        "    criterion = nn.BCELoss()\n",
        "    for _ in range(epochs):\n",
        "        for img, tabular, labels in loader:\n",
        "            img, tabular, labels = img.to(DEVICE), tabular.to(DEVICE), labels.to(DEVICE).unsqueeze(1)\n",
        "            optimizer.zero_grad()\n",
        "            outputs = model(img, tabular)\n",
        "            loss = criterion(outputs, labels)\n",
        "            if fedprox_mu > 0 and global_params is not None:\n",
        "                prox_term = 0.0\n",
        "                for p1, p2 in zip(model.parameters(), global_params):\n",
        "                    prox_term += (p1 - p2).norm(2)\n",
        "                loss += (fedprox_mu / 2) * prox_term\n",
        "            loss.backward()\n",
        "            optimizer.step()\n",
        "\n",
        "def evaluate(model, loader):\n",
        "    model.eval()\n",
        "    criterion = nn.BCELoss()\n",
        "    y_true, y_pred, y_prob = [], [], []\n",
        "    loss = 0.0\n",
        "    with torch.no_grad():\n",
        "        for img, tabular, labels in loader:\n",
        "            img, tabular, labels = img.to(DEVICE), tabular.to(DEVICE), labels.to(DEVICE).unsqueeze(1)\n",
        "            outputs = model(img, tabular)\n",
        "            probs = outputs\n",
        "            preds = (probs > 0.5).float()\n",
        "            loss += criterion(probs, labels).item() * labels.size(0)\n",
        "            y_true.extend(labels.cpu().numpy())\n",
        "            y_pred.extend(preds.cpu().numpy())\n",
        "            y_prob.extend(probs.cpu().numpy())\n",
        "    loss /= len(loader.dataset)\n",
        "    return loss, y_true, y_pred, y_prob"
      ]
    },
    {
      "cell_type": "code",
      "execution_count": 16,
      "metadata": {
        "id": "Kxv9FbJvOVCy"
      },
      "outputs": [],
      "source": [
        "# ---------------------- ClientClass -----------------------------------------------\n",
        "import flwr as fl\n",
        "from flwr.common import NDArray\n",
        "\n",
        "# helper functions to update the local model with parameters received from the server and to get the updated model parameters:\n",
        "def set_parameters(model, parameters):\n",
        "    state_dict = OrderedDict({k: torch.tensor(v) for k, v in zip(model.state_dict().keys(), parameters)})\n",
        "    model.load_state_dict(state_dict, strict=True)\n",
        "\n",
        "def get_parameters(model):\n",
        "    return [val.cpu().numpy() for _, val in model.state_dict().items()]\n",
        "\n",
        "class FlowerClient(fl.client.NumPyClient):\n",
        "    def __init__(self, model, trainloader, valloader, strategy=\"fedavg\", config=None):\n",
        "        self.model = model\n",
        "        self.trainloader = trainloader\n",
        "        self.valloader = valloader\n",
        "        self.strategy = strategy\n",
        "        self.config = config or {}\n",
        "\n",
        "    def get_parameters(self, config):\n",
        "        return get_parameters(self.model)\n",
        "\n",
        "    def fit(self, parameters, config):\n",
        "        set_parameters(self.model, parameters)\n",
        "        global_params = [p.clone().detach() for p in self.model.parameters()]\n",
        "        mu = self.config.get(\"proximal_mu\", 0.0) if self.strategy == \"fedprox\" else 0.0\n",
        "        train(self.model, self.trainloader, epochs=1, fedprox_mu=mu, global_params=global_params)\n",
        "        return get_parameters(self.model), len(self.trainloader.dataset), {}\n",
        "\n",
        "    def evaluate(self, parameters, config):\n",
        "        set_parameters(self.model, parameters)\n",
        "        loss, y_true, y_pred, y_prob = evaluate(self.model, self.valloader)\n",
        "        return float(loss), len(self.valloader.dataset), {\n",
        "            \"accuracy\": accuracy_score(y_true, y_pred),\n",
        "            \"auc\": roc_auc_score(y_true, y_prob),\n",
        "            \"precision\": precision_score(y_true, y_pred),\n",
        "            \"recall\": recall_score(y_true, y_pred)\n",
        "        }"
      ]
    },
    {
      "cell_type": "code",
      "execution_count": 28,
      "metadata": {
        "id": "CwYU6mVApJEr"
      },
      "outputs": [],
      "source": [
        "# === ClientApp ===:\n",
        "def client_fn(cid):\n",
        "    model = MultimodalNetNIH().to(DEVICE)\n",
        "    trainloader, valloader, _ = load_datasets(partition_id=int(cid))\n",
        "    return FlowerClient(model, trainloader, valloader)\n",
        "\n",
        "def client_fn(context: Context) -> Client:\n",
        "    \"\"\"Create a Flower client representing a single organization.\"\"\"\n",
        "\n",
        "    # Use custom multimodal model\n",
        "    net = MultimodalNetNIH().to(DEVICE)\n",
        "\n",
        "    # Read partition ID assigned to this client\n",
        "    partition_id = context.node_config[\"partition-id\"]\n",
        "\n",
        "    # Load the corresponding partitioned data\n",
        "    trainloader, valloader, _ = load_datasets(partition_id=partition_id)\n",
        "\n",
        "    # Wrap in custom FlowerClient implementation\n",
        "    return FlowerClient(net, trainloader, valloader).to_client()\n",
        "\n",
        "# Instantiate ClientApp\n",
        "client = ClientApp(client_fn=client_fn)"
      ]
    },
    {
      "cell_type": "markdown",
      "metadata": {},
      "source": [
        "# FedAvg"
      ]
    },
    {
      "cell_type": "code",
      "execution_count": 30,
      "metadata": {
        "colab": {
          "base_uri": "https://localhost:8080/",
          "height": 385
        },
        "id": "cNKMw2eo0R8r",
        "outputId": "e6558f5f-cf3c-4f4d-8414-5e981578b959"
      },
      "outputs": [
        {
          "name": "stderr",
          "output_type": "stream",
          "text": [
            "\u001b[92mINFO \u001b[0m:      Starting Flower ServerApp, config: num_rounds=5, no round_timeout\n",
            "\u001b[92mINFO \u001b[0m:      \n",
            "\u001b[92mINFO \u001b[0m:      [INIT]\n",
            "\u001b[92mINFO \u001b[0m:      Requesting initial parameters from one random client\n"
          ]
        },
        {
          "name": "stderr",
          "output_type": "stream",
          "text": [
            "\u001b[91mERROR \u001b[0m:     Backend `ray`, is not supported. Use any of [] or add support for a new backend.\n",
            "\u001b[91mERROR \u001b[0m:     Unable to import module `ray`.\n",
            "\n",
            "    To install the necessary dependencies, install `flwr` with the `simulation` extra:\n",
            "\n",
            "        pip install -U \"flwr[simulation]\"\n",
            "    \n",
            "\u001b[91mERROR \u001b[0m:     An exception occurred !! 'ray'\n",
            "\u001b[91mERROR \u001b[0m:     Traceback (most recent call last):\n",
            "  File \"/Users/admin/myenv/lib/python3.13/site-packages/flwr/simulation/run_simulation.py\", line 370, in _main_loop\n",
            "    vce.start_vce(\n",
            "    ~~~~~~~~~~~~~^\n",
            "        num_supernodes=num_supernodes,\n",
            "        ^^^^^^^^^^^^^^^^^^^^^^^^^^^^^^\n",
            "    ...<9 lines>...\n",
            "        flwr_dir=flwr_dir,\n",
            "        ^^^^^^^^^^^^^^^^^^\n",
            "    )\n",
            "    ^\n",
            "  File \"/Users/admin/myenv/lib/python3.13/site-packages/flwr/server/superlink/fleet/vce/vce_api.py\", line 331, in start_vce\n",
            "    raise ex\n",
            "  File \"/Users/admin/myenv/lib/python3.13/site-packages/flwr/server/superlink/fleet/vce/vce_api.py\", line 319, in start_vce\n",
            "    backend_type = supported_backends[backend_name]\n",
            "                   ~~~~~~~~~~~~~~~~~~^^^^^^^^^^^^^^\n",
            "KeyError: 'ray'\n",
            "\n"
          ]
        },
        {
          "ename": "KeyboardInterrupt",
          "evalue": "",
          "output_type": "error",
          "traceback": [
            "\u001b[0;31m---------------------------------------------------------------------------\u001b[0m",
            "\u001b[0;31mKeyError\u001b[0m                                  Traceback (most recent call last)",
            "File \u001b[0;32m~/myenv/lib/python3.13/site-packages/flwr/simulation/run_simulation.py:370\u001b[0m, in \u001b[0;36m_main_loop\u001b[0;34m(num_supernodes, backend_name, backend_config_stream, app_dir, is_app, enable_tf_gpu_growth, run, exit_event, flwr_dir, client_app, client_app_attr, server_app, server_app_attr, server_app_run_config)\u001b[0m\n\u001b[1;32m    369\u001b[0m \u001b[38;5;66;03m# Start Simulation Engine\u001b[39;00m\n\u001b[0;32m--> 370\u001b[0m \u001b[43mvce\u001b[49m\u001b[38;5;241;43m.\u001b[39;49m\u001b[43mstart_vce\u001b[49m\u001b[43m(\u001b[49m\n\u001b[1;32m    371\u001b[0m \u001b[43m    \u001b[49m\u001b[43mnum_supernodes\u001b[49m\u001b[38;5;241;43m=\u001b[39;49m\u001b[43mnum_supernodes\u001b[49m\u001b[43m,\u001b[49m\n\u001b[1;32m    372\u001b[0m \u001b[43m    \u001b[49m\u001b[43mclient_app_attr\u001b[49m\u001b[38;5;241;43m=\u001b[39;49m\u001b[43mclient_app_attr\u001b[49m\u001b[43m,\u001b[49m\n\u001b[1;32m    373\u001b[0m \u001b[43m    \u001b[49m\u001b[43mclient_app\u001b[49m\u001b[38;5;241;43m=\u001b[39;49m\u001b[43mclient_app\u001b[49m\u001b[43m,\u001b[49m\n\u001b[1;32m    374\u001b[0m \u001b[43m    \u001b[49m\u001b[43mbackend_name\u001b[49m\u001b[38;5;241;43m=\u001b[39;49m\u001b[43mbackend_name\u001b[49m\u001b[43m,\u001b[49m\n\u001b[1;32m    375\u001b[0m \u001b[43m    \u001b[49m\u001b[43mbackend_config_json_stream\u001b[49m\u001b[38;5;241;43m=\u001b[39;49m\u001b[43mbackend_config_stream\u001b[49m\u001b[43m,\u001b[49m\n\u001b[1;32m    376\u001b[0m \u001b[43m    \u001b[49m\u001b[43mapp_dir\u001b[49m\u001b[38;5;241;43m=\u001b[39;49m\u001b[43mapp_dir\u001b[49m\u001b[43m,\u001b[49m\n\u001b[1;32m    377\u001b[0m \u001b[43m    \u001b[49m\u001b[43mis_app\u001b[49m\u001b[38;5;241;43m=\u001b[39;49m\u001b[43mis_app\u001b[49m\u001b[43m,\u001b[49m\n\u001b[1;32m    378\u001b[0m \u001b[43m    \u001b[49m\u001b[43mstate_factory\u001b[49m\u001b[38;5;241;43m=\u001b[39;49m\u001b[43mstate_factory\u001b[49m\u001b[43m,\u001b[49m\n\u001b[1;32m    379\u001b[0m \u001b[43m    \u001b[49m\u001b[43mf_stop\u001b[49m\u001b[38;5;241;43m=\u001b[39;49m\u001b[43mf_stop\u001b[49m\u001b[43m,\u001b[49m\n\u001b[1;32m    380\u001b[0m \u001b[43m    \u001b[49m\u001b[43mrun\u001b[49m\u001b[38;5;241;43m=\u001b[39;49m\u001b[43mrun\u001b[49m\u001b[43m,\u001b[49m\n\u001b[1;32m    381\u001b[0m \u001b[43m    \u001b[49m\u001b[43mflwr_dir\u001b[49m\u001b[38;5;241;43m=\u001b[39;49m\u001b[43mflwr_dir\u001b[49m\u001b[43m,\u001b[49m\n\u001b[1;32m    382\u001b[0m \u001b[43m\u001b[49m\u001b[43m)\u001b[49m\n\u001b[1;32m    384\u001b[0m updated_context \u001b[38;5;241m=\u001b[39m output_context_queue\u001b[38;5;241m.\u001b[39mget(timeout\u001b[38;5;241m=\u001b[39m\u001b[38;5;241m3\u001b[39m)\n",
            "File \u001b[0;32m~/myenv/lib/python3.13/site-packages/flwr/server/superlink/fleet/vce/vce_api.py:331\u001b[0m, in \u001b[0;36mstart_vce\u001b[0;34m(backend_name, backend_config_json_stream, app_dir, is_app, f_stop, run, flwr_dir, client_app, client_app_attr, num_supernodes, state_factory, existing_nodes_mapping)\u001b[0m\n\u001b[1;32m    329\u001b[0m         log(ERROR, error_messages_backends[backend_name])\n\u001b[0;32m--> 331\u001b[0m     \u001b[38;5;28;01mraise\u001b[39;00m ex\n\u001b[1;32m    333\u001b[0m \u001b[38;5;28;01mdef\u001b[39;00m \u001b[38;5;21mbackend_fn\u001b[39m() \u001b[38;5;241m-\u001b[39m\u001b[38;5;241m>\u001b[39m Backend:\n",
            "File \u001b[0;32m~/myenv/lib/python3.13/site-packages/flwr/server/superlink/fleet/vce/vce_api.py:319\u001b[0m, in \u001b[0;36mstart_vce\u001b[0;34m(backend_name, backend_config_json_stream, app_dir, is_app, f_stop, run, flwr_dir, client_app, client_app_attr, num_supernodes, state_factory, existing_nodes_mapping)\u001b[0m\n\u001b[1;32m    318\u001b[0m \u001b[38;5;28;01mtry\u001b[39;00m:\n\u001b[0;32m--> 319\u001b[0m     backend_type \u001b[38;5;241m=\u001b[39m \u001b[43msupported_backends\u001b[49m\u001b[43m[\u001b[49m\u001b[43mbackend_name\u001b[49m\u001b[43m]\u001b[49m\n\u001b[1;32m    320\u001b[0m \u001b[38;5;28;01mexcept\u001b[39;00m \u001b[38;5;167;01mKeyError\u001b[39;00m \u001b[38;5;28;01mas\u001b[39;00m ex:\n",
            "\u001b[0;31mKeyError\u001b[0m: 'ray'",
            "\nThe above exception was the direct cause of the following exception:\n",
            "\u001b[0;31mRuntimeError\u001b[0m                              Traceback (most recent call last)",
            "File \u001b[0;32m~/myenv/lib/python3.13/site-packages/flwr/simulation/run_simulation.py:393\u001b[0m, in \u001b[0;36m_main_loop\u001b[0;34m(num_supernodes, backend_name, backend_config_stream, app_dir, is_app, enable_tf_gpu_growth, run, exit_event, flwr_dir, client_app, client_app_attr, server_app, server_app_attr, server_app_run_config)\u001b[0m\n\u001b[1;32m    392\u001b[0m     success \u001b[38;5;241m=\u001b[39m \u001b[38;5;28;01mFalse\u001b[39;00m\n\u001b[0;32m--> 393\u001b[0m     \u001b[38;5;28;01mraise\u001b[39;00m \u001b[38;5;167;01mRuntimeError\u001b[39;00m(\u001b[38;5;124m\"\u001b[39m\u001b[38;5;124mAn error was encountered. Ending simulation.\u001b[39m\u001b[38;5;124m\"\u001b[39m) \u001b[38;5;28;01mfrom\u001b[39;00m \u001b[38;5;21;01mex\u001b[39;00m\n\u001b[1;32m    395\u001b[0m \u001b[38;5;28;01mfinally\u001b[39;00m:\n\u001b[1;32m    396\u001b[0m     \u001b[38;5;66;03m# Trigger stop event\u001b[39;00m\n",
            "\u001b[0;31mRuntimeError\u001b[0m: An error was encountered. Ending simulation.",
            "\nDuring handling of the above exception, another exception occurred:\n",
            "\u001b[0;31mKeyboardInterrupt\u001b[0m                         Traceback (most recent call last)",
            "Cell \u001b[0;32mIn[30], line 59\u001b[0m\n\u001b[1;32m     57\u001b[0m \u001b[38;5;66;03m# === Run simulation with timing ===\u001b[39;00m\n\u001b[1;32m     58\u001b[0m start \u001b[38;5;241m=\u001b[39m time\u001b[38;5;241m.\u001b[39mtime()\n\u001b[0;32m---> 59\u001b[0m \u001b[43mrun_simulation\u001b[49m\u001b[43m(\u001b[49m\n\u001b[1;32m     60\u001b[0m \u001b[43m    \u001b[49m\u001b[43mserver_app\u001b[49m\u001b[38;5;241;43m=\u001b[39;49m\u001b[43mserver\u001b[49m\u001b[43m,\u001b[49m\n\u001b[1;32m     61\u001b[0m \u001b[43m    \u001b[49m\u001b[43mclient_app\u001b[49m\u001b[38;5;241;43m=\u001b[39;49m\u001b[43mclient\u001b[49m\u001b[43m,\u001b[49m\n\u001b[1;32m     62\u001b[0m \u001b[43m    \u001b[49m\u001b[43mnum_supernodes\u001b[49m\u001b[38;5;241;43m=\u001b[39;49m\u001b[43mNUM_CLIENTS\u001b[49m\u001b[43m,\u001b[49m\n\u001b[1;32m     63\u001b[0m \u001b[43m    \u001b[49m\u001b[43mbackend_config\u001b[49m\u001b[38;5;241;43m=\u001b[39;49m\u001b[43mbackend_config\u001b[49m\u001b[43m,\u001b[49m\n\u001b[1;32m     64\u001b[0m \u001b[43m)\u001b[49m\n\u001b[1;32m     65\u001b[0m duration \u001b[38;5;241m=\u001b[39m time\u001b[38;5;241m.\u001b[39mtime() \u001b[38;5;241m-\u001b[39m start\n\u001b[1;32m     66\u001b[0m \u001b[38;5;28mprint\u001b[39m(\u001b[38;5;124mf\u001b[39m\u001b[38;5;124m\"\u001b[39m\u001b[38;5;124m✅ Simulation completed in \u001b[39m\u001b[38;5;132;01m{\u001b[39;00mduration\u001b[38;5;132;01m:\u001b[39;00m\u001b[38;5;124m.2f\u001b[39m\u001b[38;5;132;01m}\u001b[39;00m\u001b[38;5;124m seconds\u001b[39m\u001b[38;5;124m\"\u001b[39m)\n",
            "File \u001b[0;32m~/myenv/lib/python3.13/site-packages/flwr/simulation/run_simulation.py:211\u001b[0m, in \u001b[0;36mrun_simulation\u001b[0;34m(server_app, client_app, num_supernodes, backend_name, backend_config, enable_tf_gpu_growth, verbose_logging)\u001b[0m\n\u001b[1;32m    202\u001b[0m \u001b[38;5;28;01mif\u001b[39;00m enable_tf_gpu_growth:\n\u001b[1;32m    203\u001b[0m     warn_deprecated_feature_with_example(\n\u001b[1;32m    204\u001b[0m         \u001b[38;5;124m\"\u001b[39m\u001b[38;5;124mPassing `enable_tf_gpu_growth=True` is deprecated.\u001b[39m\u001b[38;5;124m\"\u001b[39m,\n\u001b[1;32m    205\u001b[0m         example_message\u001b[38;5;241m=\u001b[39m\u001b[38;5;124m\"\u001b[39m\u001b[38;5;124mInstead, set the `TF_FORCE_GPU_ALLOW_GROWTH` environment \u001b[39m\u001b[38;5;124m\"\u001b[39m\n\u001b[0;32m   (...)\u001b[0m\n\u001b[1;32m    208\u001b[0m         \u001b[38;5;124m\"\u001b[39m\u001b[38;5;130;01m\\n\u001b[39;00m\u001b[38;5;130;01m\\t\u001b[39;00m\u001b[38;5;124mflwr.simulation.run_simulationt(...)\u001b[39m\u001b[38;5;124m\"\u001b[39m,\n\u001b[1;32m    209\u001b[0m     )\n\u001b[0;32m--> 211\u001b[0m _ \u001b[38;5;241m=\u001b[39m \u001b[43m_run_simulation\u001b[49m\u001b[43m(\u001b[49m\n\u001b[1;32m    212\u001b[0m \u001b[43m    \u001b[49m\u001b[43mnum_supernodes\u001b[49m\u001b[38;5;241;43m=\u001b[39;49m\u001b[43mnum_supernodes\u001b[49m\u001b[43m,\u001b[49m\n\u001b[1;32m    213\u001b[0m \u001b[43m    \u001b[49m\u001b[43mclient_app\u001b[49m\u001b[38;5;241;43m=\u001b[39;49m\u001b[43mclient_app\u001b[49m\u001b[43m,\u001b[49m\n\u001b[1;32m    214\u001b[0m \u001b[43m    \u001b[49m\u001b[43mserver_app\u001b[49m\u001b[38;5;241;43m=\u001b[39;49m\u001b[43mserver_app\u001b[49m\u001b[43m,\u001b[49m\n\u001b[1;32m    215\u001b[0m \u001b[43m    \u001b[49m\u001b[43mbackend_name\u001b[49m\u001b[38;5;241;43m=\u001b[39;49m\u001b[43mbackend_name\u001b[49m\u001b[43m,\u001b[49m\n\u001b[1;32m    216\u001b[0m \u001b[43m    \u001b[49m\u001b[43mbackend_config\u001b[49m\u001b[38;5;241;43m=\u001b[39;49m\u001b[43mbackend_config\u001b[49m\u001b[43m,\u001b[49m\n\u001b[1;32m    217\u001b[0m \u001b[43m    \u001b[49m\u001b[43menable_tf_gpu_growth\u001b[49m\u001b[38;5;241;43m=\u001b[39;49m\u001b[43menable_tf_gpu_growth\u001b[49m\u001b[43m,\u001b[49m\n\u001b[1;32m    218\u001b[0m \u001b[43m    \u001b[49m\u001b[43mverbose_logging\u001b[49m\u001b[38;5;241;43m=\u001b[39;49m\u001b[43mverbose_logging\u001b[49m\u001b[43m,\u001b[49m\n\u001b[1;32m    219\u001b[0m \u001b[43m    \u001b[49m\u001b[43mexit_event\u001b[49m\u001b[38;5;241;43m=\u001b[39;49m\u001b[43mEventType\u001b[49m\u001b[38;5;241;43m.\u001b[39;49m\u001b[43mPYTHON_API_RUN_SIMULATION_LEAVE\u001b[49m\u001b[43m,\u001b[49m\n\u001b[1;32m    220\u001b[0m \u001b[43m\u001b[49m\u001b[43m)\u001b[49m\n",
            "File \u001b[0;32m~/myenv/lib/python3.13/site-packages/flwr/simulation/run_simulation.py:510\u001b[0m, in \u001b[0;36m_run_simulation\u001b[0;34m(num_supernodes, exit_event, client_app, server_app, backend_name, backend_config, client_app_attr, server_app_attr, server_app_run_config, app_dir, flwr_dir, run, enable_tf_gpu_growth, verbose_logging, is_app)\u001b[0m\n\u001b[1;32m    506\u001b[0m     \u001b[38;5;28;01mif\u001b[39;00m asyncio_loop_running:\n\u001b[1;32m    507\u001b[0m         \u001b[38;5;66;03m# Set logger propagation to False to prevent duplicated log output in Colab.\u001b[39;00m\n\u001b[1;32m    508\u001b[0m         logger \u001b[38;5;241m=\u001b[39m set_logger_propagation(logger, \u001b[38;5;28;01mFalse\u001b[39;00m)\n\u001b[0;32m--> 510\u001b[0m     updated_context \u001b[38;5;241m=\u001b[39m \u001b[43m_main_loop\u001b[49m\u001b[43m(\u001b[49m\u001b[38;5;241;43m*\u001b[39;49m\u001b[43margs\u001b[49m\u001b[43m)\u001b[49m\n\u001b[1;32m    511\u001b[0m \u001b[38;5;28;01mreturn\u001b[39;00m updated_context\n",
            "File \u001b[0;32m~/myenv/lib/python3.13/site-packages/flwr/simulation/run_simulation.py:406\u001b[0m, in \u001b[0;36m_main_loop\u001b[0;34m(num_supernodes, backend_name, backend_config_stream, app_dir, is_app, enable_tf_gpu_growth, run, exit_event, flwr_dir, client_app, client_app_attr, server_app, server_app_attr, server_app_run_config)\u001b[0m\n\u001b[1;32m    398\u001b[0m event(\n\u001b[1;32m    399\u001b[0m     exit_event,\n\u001b[1;32m    400\u001b[0m     event_details\u001b[38;5;241m=\u001b[39m{\n\u001b[0;32m   (...)\u001b[0m\n\u001b[1;32m    403\u001b[0m     },\n\u001b[1;32m    404\u001b[0m )\n\u001b[1;32m    405\u001b[0m \u001b[38;5;28;01mif\u001b[39;00m serverapp_th:\n\u001b[0;32m--> 406\u001b[0m     \u001b[43mserverapp_th\u001b[49m\u001b[38;5;241;43m.\u001b[39;49m\u001b[43mjoin\u001b[49m\u001b[43m(\u001b[49m\u001b[43m)\u001b[49m\n\u001b[1;32m    407\u001b[0m     \u001b[38;5;28;01mif\u001b[39;00m server_app_thread_has_exception\u001b[38;5;241m.\u001b[39mis_set():\n\u001b[1;32m    408\u001b[0m         \u001b[38;5;28;01mraise\u001b[39;00m \u001b[38;5;167;01mRuntimeError\u001b[39;00m(\u001b[38;5;124m\"\u001b[39m\u001b[38;5;124mException in ServerApp thread\u001b[39m\u001b[38;5;124m\"\u001b[39m)\n",
            "File \u001b[0;32m/Library/Frameworks/Python.framework/Versions/3.13/lib/python3.13/threading.py:1092\u001b[0m, in \u001b[0;36mThread.join\u001b[0;34m(self, timeout)\u001b[0m\n\u001b[1;32m   1089\u001b[0m \u001b[38;5;28;01mif\u001b[39;00m timeout \u001b[38;5;129;01mis\u001b[39;00m \u001b[38;5;129;01mnot\u001b[39;00m \u001b[38;5;28;01mNone\u001b[39;00m:\n\u001b[1;32m   1090\u001b[0m     timeout \u001b[38;5;241m=\u001b[39m \u001b[38;5;28mmax\u001b[39m(timeout, \u001b[38;5;241m0\u001b[39m)\n\u001b[0;32m-> 1092\u001b[0m \u001b[38;5;28;43mself\u001b[39;49m\u001b[38;5;241;43m.\u001b[39;49m\u001b[43m_handle\u001b[49m\u001b[38;5;241;43m.\u001b[39;49m\u001b[43mjoin\u001b[49m\u001b[43m(\u001b[49m\u001b[43mtimeout\u001b[49m\u001b[43m)\u001b[49m\n",
            "\u001b[0;31mKeyboardInterrupt\u001b[0m: "
          ]
        }
      ],
      "source": [
        "# == define strategy ==\n",
        "# Create FedAvg strategy\n",
        "strategy = FedAvg(\n",
        "    fraction_fit=1.0,  # Sample 100% of available clients for training\n",
        "    fraction_evaluate=0.5,  # Sample 50% of available clients for evaluation\n",
        "    min_fit_clients=10,  # Never sample less than 10 clients for training\n",
        "    min_evaluate_clients=5,  # Never sample less than 5 clients for evaluation\n",
        "    min_available_clients=10,  # Wait until all 10 clients are available\n",
        ")\n",
        "\n",
        "# === GLOBAL METRIC LOG ===\n",
        "results_log = []\n",
        "metric_log_path = Path(\"fl_server_results.csv\")\n",
        "\n",
        "# === Custom weighted average function with logging ===\n",
        "def weighted_average(metrics: List[Tuple[int, Metrics]]) -> Metrics:\n",
        "    total_examples = sum(num_examples for num_examples, _ in metrics)\n",
        "\n",
        "    # Support multiple metrics\n",
        "    keys = metrics[0][1].keys()\n",
        "    aggregated = {\n",
        "        k: sum(num_examples * m[k] for num_examples, m in metrics) / total_examples\n",
        "        for k in keys\n",
        "    }\n",
        "\n",
        "    results_log.append(aggregated)\n",
        "    return aggregated\n",
        "\n",
        "# === Server factory function ===\n",
        "def server_fn(context: Context) -> ServerAppComponents:\n",
        "    \"\"\"Construct server behaviour with strategy + logging.\"\"\"\n",
        "\n",
        "    strategy = FedAvg(\n",
        "        fraction_fit=1.0,\n",
        "        fraction_evaluate=0.5,\n",
        "        min_fit_clients=10,\n",
        "        min_evaluate_clients=5,\n",
        "        min_available_clients=10,\n",
        "        evaluate_metrics_aggregation_fn=weighted_average,  # log & aggregate\n",
        "    )\n",
        "\n",
        "    config = ServerConfig(num_rounds=5)\n",
        "    return ServerAppComponents(strategy=strategy, config=config)\n",
        "\n",
        "# === Instantiate server ===\n",
        "server = ServerApp(server_fn=server_fn)\n",
        "\n",
        "\n",
        "# == configuration ==\n",
        "backend_config = {\"client_resources\": {\"num_cpus\": 1, \"num_gpus\": 0.0}}\n",
        "\n",
        "# When running on GPU, assign an entire GPU for each client\n",
        "if DEVICE == \"cuda\":\n",
        "    backend_config = {\"client_resources\": {\"num_cpus\": 1, \"num_gpus\": 1.0}}\n",
        "\n",
        "\n",
        "# === Run simulation with timing ===\n",
        "start = time.time()\n",
        "run_simulation(\n",
        "    server_app=server,\n",
        "    client_app=client,\n",
        "    num_supernodes=NUM_CLIENTS,\n",
        "    backend_config=backend_config,\n",
        ")\n",
        "duration = time.time() - start\n",
        "print(f\"✅ Simulation completed in {duration:.2f} seconds\")\n",
        "\n",
        "# === Save global results to CSV ===\n",
        "if results_log:\n",
        "    fieldnames = results_log[0].keys()\n",
        "    with open(metric_log_path, \"w\", newline=\"\") as f:\n",
        "        writer = csv.DictWriter(f, fieldnames=fieldnames)\n",
        "        writer.writeheader()\n",
        "        for row in results_log:\n",
        "            writer.writerow(row)\n",
        "    print(f\"✅ Server metrics saved to: {metric_log_path}\")"
      ]
    },
    {
      "cell_type": "markdown",
      "metadata": {},
      "source": [
        "# FedProx"
      ]
    },
    {
      "cell_type": "code",
      "execution_count": null,
      "metadata": {},
      "outputs": [],
      "source": [
        "# == define strategy ==\n",
        "# Create FedAvg strategy\n",
        "strategy = FedAvg(\n",
        "    fraction_fit=1.0,  # Sample 100% of available clients for training\n",
        "    fraction_evaluate=0.5,  # Sample 50% of available clients for evaluation\n",
        "    min_fit_clients=10,  # Never sample less than 10 clients for training\n",
        "    min_evaluate_clients=5,  # Never sample less than 5 clients for evaluation\n",
        "    min_available_clients=10,  # Wait until all 10 clients are available\n",
        ")\n",
        "\n",
        "# === GLOBAL METRIC LOG ===\n",
        "results_log = []\n",
        "metric_log_path = Path(\"fl_server_results.csv\")\n",
        "\n",
        "# === Custom weighted average function with logging ===\n",
        "def weighted_average(metrics: List[Tuple[int, Metrics]]) -> Metrics:\n",
        "    total_examples = sum(num_examples for num_examples, _ in metrics)\n",
        "\n",
        "    # Support multiple metrics\n",
        "    keys = metrics[0][1].keys()\n",
        "    aggregated = {\n",
        "        k: sum(num_examples * m[k] for num_examples, m in metrics) / total_examples\n",
        "        for k in keys\n",
        "    }\n",
        "\n",
        "    results_log.append(aggregated)\n",
        "    return aggregated\n",
        "\n",
        "# === Server factory function ===\n",
        "def server_fn(context: Context) -> ServerAppComponents:\n",
        "    \"\"\"Construct server behaviour with strategy + logging.\"\"\"\n",
        "\n",
        "    strategy = FedAvg(\n",
        "        fraction_fit=1.0,\n",
        "        fraction_evaluate=0.5,\n",
        "        min_fit_clients=10,\n",
        "        min_evaluate_clients=5,\n",
        "        min_available_clients=10,\n",
        "        evaluate_metrics_aggregation_fn=weighted_average,  # log & aggregate\n",
        "    )\n",
        "\n",
        "    config = ServerConfig(num_rounds=5)\n",
        "    return ServerAppComponents(strategy=strategy, config=config)\n",
        "\n",
        "# === Instantiate server ===\n",
        "server = ServerApp(server_fn=server_fn)\n",
        "\n",
        "\n",
        "# == configuration ==\n",
        "backend_config = {\"client_resources\": {\"num_cpus\": 1, \"num_gpus\": 0.0}}\n",
        "\n",
        "# When running on GPU, assign an entire GPU for each client\n",
        "if DEVICE == \"cuda\":\n",
        "    backend_config = {\"client_resources\": {\"num_cpus\": 1, \"num_gpus\": 1.0}}\n",
        "\n",
        "\n",
        "# === Run simulation with timing ===\n",
        "start = time.time()\n",
        "run_simulation(\n",
        "    server_app=server,\n",
        "    client_app=client,\n",
        "    num_supernodes=NUM_CLIENTS,\n",
        "    backend_config=backend_config,\n",
        ")\n",
        "duration = time.time() - start\n",
        "print(f\"✅ Simulation completed in {duration:.2f} seconds\")\n",
        "\n",
        "# === Save global results to CSV ===\n",
        "if results_log:\n",
        "    fieldnames = results_log[0].keys()\n",
        "    with open(metric_log_path, \"w\", newline=\"\") as f:\n",
        "        writer = csv.DictWriter(f, fieldnames=fieldnames)\n",
        "        writer.writeheader()\n",
        "        for row in results_log:\n",
        "            writer.writerow(row)\n",
        "    print(f\"✅ Server metrics saved to: {metric_log_path}\")"
      ]
    },
    {
      "cell_type": "markdown",
      "metadata": {},
      "source": [
        "# FedAdam"
      ]
    },
    {
      "cell_type": "code",
      "execution_count": null,
      "metadata": {},
      "outputs": [],
      "source": [
        "# == define strategy ==\n",
        "# Create FedAvg strategy\n",
        "strategy = FedAvg(\n",
        "    fraction_fit=1.0,  # Sample 100% of available clients for training\n",
        "    fraction_evaluate=0.5,  # Sample 50% of available clients for evaluation\n",
        "    min_fit_clients=10,  # Never sample less than 10 clients for training\n",
        "    min_evaluate_clients=5,  # Never sample less than 5 clients for evaluation\n",
        "    min_available_clients=10,  # Wait until all 10 clients are available\n",
        ")\n",
        "\n",
        "# === GLOBAL METRIC LOG ===\n",
        "results_log = []\n",
        "metric_log_path = Path(\"fl_server_results.csv\")\n",
        "\n",
        "# === Custom weighted average function with logging ===\n",
        "def weighted_average(metrics: List[Tuple[int, Metrics]]) -> Metrics:\n",
        "    total_examples = sum(num_examples for num_examples, _ in metrics)\n",
        "\n",
        "    # Support multiple metrics\n",
        "    keys = metrics[0][1].keys()\n",
        "    aggregated = {\n",
        "        k: sum(num_examples * m[k] for num_examples, m in metrics) / total_examples\n",
        "        for k in keys\n",
        "    }\n",
        "\n",
        "    results_log.append(aggregated)\n",
        "    return aggregated\n",
        "\n",
        "# === Server factory function ===\n",
        "def server_fn(context: Context) -> ServerAppComponents:\n",
        "    \"\"\"Construct server behaviour with strategy + logging.\"\"\"\n",
        "\n",
        "    strategy = FedAvg(\n",
        "        fraction_fit=1.0,\n",
        "        fraction_evaluate=0.5,\n",
        "        min_fit_clients=10,\n",
        "        min_evaluate_clients=5,\n",
        "        min_available_clients=10,\n",
        "        evaluate_metrics_aggregation_fn=weighted_average,  # log & aggregate\n",
        "    )\n",
        "\n",
        "    config = ServerConfig(num_rounds=5)\n",
        "    return ServerAppComponents(strategy=strategy, config=config)\n",
        "\n",
        "# === Instantiate server ===\n",
        "server = ServerApp(server_fn=server_fn)\n",
        "\n",
        "\n",
        "# == configuration ==\n",
        "backend_config = {\"client_resources\": {\"num_cpus\": 1, \"num_gpus\": 0.0}}\n",
        "\n",
        "# When running on GPU, assign an entire GPU for each client\n",
        "if DEVICE == \"cuda\":\n",
        "    backend_config = {\"client_resources\": {\"num_cpus\": 1, \"num_gpus\": 1.0}}\n",
        "\n",
        "\n",
        "# === Run simulation with timing ===\n",
        "start = time.time()\n",
        "run_simulation(\n",
        "    server_app=server,\n",
        "    client_app=client,\n",
        "    num_supernodes=NUM_CLIENTS,\n",
        "    backend_config=backend_config,\n",
        ")\n",
        "duration = time.time() - start\n",
        "print(f\"✅ Simulation completed in {duration:.2f} seconds\")\n",
        "\n",
        "# === Save global results to CSV ===\n",
        "if results_log:\n",
        "    fieldnames = results_log[0].keys()\n",
        "    with open(metric_log_path, \"w\", newline=\"\") as f:\n",
        "        writer = csv.DictWriter(f, fieldnames=fieldnames)\n",
        "        writer.writeheader()\n",
        "        for row in results_log:\n",
        "            writer.writerow(row)\n",
        "    print(f\"✅ Server metrics saved to: {metric_log_path}\")"
      ]
    },
    {
      "cell_type": "code",
      "execution_count": 74,
      "metadata": {
        "id": "fd9pOFjeO5zt"
      },
      "outputs": [],
      "source": [
        "# === PRIVACY ATTACK: MIA ===\n",
        "def run_membership_inference_attack(model, train_loader, test_loader):\n",
        "    model.eval()\n",
        "    train_confidences, test_confidences = [], []\n",
        "\n",
        "    with torch.no_grad():\n",
        "        for x_img, x_tab, y in train_loader:\n",
        "            x_img, x_tab = x_img.to(DEVICE), x_tab.to(DEVICE)\n",
        "            output = model(x_img, x_tab)\n",
        "            confidence = torch.sigmoid(output).squeeze().cpu().numpy()\n",
        "            train_confidences.extend(confidence)\n",
        "\n",
        "        for x_img, x_tab, y in test_loader:\n",
        "            x_img, x_tab = x_img.to(DEVICE), x_tab.to(DEVICE)\n",
        "            output = model(x_img, x_tab)\n",
        "            confidence = torch.sigmoid(output).squeeze().cpu().numpy()\n",
        "            test_confidences.extend(confidence)\n",
        "\n",
        "    labels = [1] * len(train_confidences) + [0] * len(test_confidences)\n",
        "    scores = train_confidences + test_confidences\n",
        "    auc = roc_auc_score(labels, scores)\n",
        "    print(f\"[Privacy Risk] Membership Inference Attack AUC: {auc:.4f}\")\n",
        "    return auc"
      ]
    }
  ],
  "metadata": {
    "accelerator": "GPU",
    "colab": {
      "gpuType": "T4",
      "provenance": []
    },
    "kernelspec": {
      "display_name": "Python 3",
      "name": "python3"
    },
    "language_info": {
      "codemirror_mode": {
        "name": "ipython",
        "version": 3
      },
      "file_extension": ".py",
      "mimetype": "text/x-python",
      "name": "python",
      "nbconvert_exporter": "python",
      "pygments_lexer": "ipython3",
      "version": "3.10.0"
    }
  },
  "nbformat": 4,
  "nbformat_minor": 0
}
